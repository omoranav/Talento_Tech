{
  "cells": [
    {
      "cell_type": "code",
      "execution_count": 1,
      "id": "59d50f5e-8928-41f9-a234-796f59e19aaa",
      "metadata": {
        "colab": {
          "base_uri": "https://localhost:8080/"
        },
        "id": "59d50f5e-8928-41f9-a234-796f59e19aaa",
        "outputId": "5b6b8d5c-d42b-4f34-91d8-57f5f3b225b7"
      },
      "outputs": [
        {
          "output_type": "stream",
          "name": "stdout",
          "text": [
            "Downloading data from https://storage.googleapis.com/tensorflow/tf-keras-datasets/mnist.npz\n",
            "11490434/11490434 [==============================] - 0s 0us/step\n"
          ]
        }
      ],
      "source": [
        "import keras\n",
        "mnist = keras.datasets.mnist\n",
        "#Cargue la divison de entrenamiento y prueba del conjuto de datos MNIST\n",
        "(training_images, training_labels), (test_images, test_labels) = mnist.load_data()\n"
      ]
    },
    {
      "cell_type": "code",
      "execution_count": 2,
      "id": "92619483-222d-4a7d-8341-60c0064e2cde",
      "metadata": {
        "colab": {
          "base_uri": "https://localhost:8080/",
          "height": 968
        },
        "id": "92619483-222d-4a7d-8341-60c0064e2cde",
        "outputId": "62980e98-e743-4465-9104-39004f5cad67"
      },
      "outputs": [
        {
          "output_type": "stream",
          "name": "stdout",
          "text": [
            "Label: 0\n",
            "Image:\n",
            " [[  0   0   0   0   0   0   0   0   0   0   0   0   0   0   0   0   0   0   0   0   0   0   0   0   0   0   0   0]\n",
            " [  0   0   0   0   0   0   0   0   0   0   0   0   0   0   0   0   0   0   0   0   0   0   0   0   0   0   0   0]\n",
            " [  0   0   0   0   0   0   0   0   0   0   0   0   0   0   0   0   0   0   0   0   0   0   0   0   0   0   0   0]\n",
            " [  0   0   0   0   0   0   0   0   0   0   0   0   0   0   0   0   0   0   0   0   0   0   0   0   0   0   0   0]\n",
            " [  0   0   0   0   0   0   0   0   0   0   0   0   0   0   0  51 159 253 159  50   0   0   0   0   0   0   0   0]\n",
            " [  0   0   0   0   0   0   0   0   0   0   0   0   0   0  48 238 252 252 252 237   0   0   0   0   0   0   0   0]\n",
            " [  0   0   0   0   0   0   0   0   0   0   0   0   0  54 227 253 252 239 233 252  57   6   0   0   0   0   0   0]\n",
            " [  0   0   0   0   0   0   0   0   0   0   0  10  60 224 252 253 252 202  84 252 253 122   0   0   0   0   0   0]\n",
            " [  0   0   0   0   0   0   0   0   0   0   0 163 252 252 252 253 252 252  96 189 253 167   0   0   0   0   0   0]\n",
            " [  0   0   0   0   0   0   0   0   0   0  51 238 253 253 190 114 253 228  47  79 255 168   0   0   0   0   0   0]\n",
            " [  0   0   0   0   0   0   0   0   0  48 238 252 252 179  12  75 121  21   0   0 253 243  50   0   0   0   0   0]\n",
            " [  0   0   0   0   0   0   0   0  38 165 253 233 208  84   0   0   0   0   0   0 253 252 165   0   0   0   0   0]\n",
            " [  0   0   0   0   0   0   0   7 178 252 240  71  19  28   0   0   0   0   0   0 253 252 195   0   0   0   0   0]\n",
            " [  0   0   0   0   0   0   0  57 252 252  63   0   0   0   0   0   0   0   0   0 253 252 195   0   0   0   0   0]\n",
            " [  0   0   0   0   0   0   0 198 253 190   0   0   0   0   0   0   0   0   0   0 255 253 196   0   0   0   0   0]\n",
            " [  0   0   0   0   0   0  76 246 252 112   0   0   0   0   0   0   0   0   0   0 253 252 148   0   0   0   0   0]\n",
            " [  0   0   0   0   0   0  85 252 230  25   0   0   0   0   0   0   0   0   7 135 253 186  12   0   0   0   0   0]\n",
            " [  0   0   0   0   0   0  85 252 223   0   0   0   0   0   0   0   0   7 131 252 225  71   0   0   0   0   0   0]\n",
            " [  0   0   0   0   0   0  85 252 145   0   0   0   0   0   0   0  48 165 252 173   0   0   0   0   0   0   0   0]\n",
            " [  0   0   0   0   0   0  86 253 225   0   0   0   0   0   0 114 238 253 162   0   0   0   0   0   0   0   0   0]\n",
            " [  0   0   0   0   0   0  85 252 249 146  48  29  85 178 225 253 223 167  56   0   0   0   0   0   0   0   0   0]\n",
            " [  0   0   0   0   0   0  85 252 252 252 229 215 252 252 252 196 130   0   0   0   0   0   0   0   0   0   0   0]\n",
            " [  0   0   0   0   0   0  28 199 252 252 253 252 252 233 145   0   0   0   0   0   0   0   0   0   0   0   0   0]\n",
            " [  0   0   0   0   0   0   0  25 128 252 253 252 141  37   0   0   0   0   0   0   0   0   0   0   0   0   0   0]\n",
            " [  0   0   0   0   0   0   0   0   0   0   0   0   0   0   0   0   0   0   0   0   0   0   0   0   0   0   0   0]\n",
            " [  0   0   0   0   0   0   0   0   0   0   0   0   0   0   0   0   0   0   0   0   0   0   0   0   0   0   0   0]\n",
            " [  0   0   0   0   0   0   0   0   0   0   0   0   0   0   0   0   0   0   0   0   0   0   0   0   0   0   0   0]\n",
            " [  0   0   0   0   0   0   0   0   0   0   0   0   0   0   0   0   0   0   0   0   0   0   0   0   0   0   0   0]]\n"
          ]
        },
        {
          "output_type": "execute_result",
          "data": {
            "text/plain": [
              "<matplotlib.image.AxesImage at 0x7ff18c763e20>"
            ]
          },
          "metadata": {},
          "execution_count": 2
        },
        {
          "output_type": "display_data",
          "data": {
            "text/plain": [
              "<Figure size 640x480 with 1 Axes>"
            ],
            "image/png": "[encoded data removed]"
          },
          "metadata": {}
        }
      ],
      "source": [
        "import numpy as np\n",
        "import matplotlib.pyplot as plt\n",
        "index =1\n",
        "# Imprimir las etiquetas y la imagen\n",
        "np.set_printoptions(linewidth=320)\n",
        "print(f'Label: {training_labels[index]}')\n",
        "print(f'Image:\\n {training_images[index]}')\n",
        "#Visualiza la imagen\n",
        "plt.imshow(training_images[index])"
      ]
    },
    {
      "cell_type": "code",
      "execution_count": 4,
      "id": "4eb2a2ff-aec7-481a-b00c-b06225cf0e4e",
      "metadata": {
        "id": "4eb2a2ff-aec7-481a-b00c-b06225cf0e4e"
      },
      "outputs": [],
      "source": [
        "#Normalizar los valores del tren y probar las imágenes\n",
        "training_images = training_images /255.0\n",
        "test_images =test_images/255.0\n"
      ]
    },
    {
      "cell_type": "code",
      "source": [
        "#from sklearn.model_selection import train_test_split\n",
        "#training_images, training_labels, Val_images, Val_labels = train_test_split(training_images, training_labels, test_size=0.3)"
      ],
      "metadata": {
        "id": "5amMmM2lX1QX"
      },
      "id": "5amMmM2lX1QX",
      "execution_count": 19,
      "outputs": []
    },
    {
      "cell_type": "code",
      "execution_count": 5,
      "id": "5e768744-603f-46ff-bff1-e2c3bedee564",
      "metadata": {
        "id": "5e768744-603f-46ff-bff1-e2c3bedee564"
      },
      "outputs": [],
      "source": [
        "#Construir el modelo de clasificación\n",
        "model = keras.models.Sequential([keras.layers.Flatten(input_shape=(28,28)),\n",
        "                                 keras.layers.Dense(128, activation='relu'),\n",
        "                                 keras.layers.Dense(10, activation='softmax')])"
      ]
    },
    {
      "cell_type": "code",
      "execution_count": 7,
      "id": "75b2972d-3d79-446e-adad-225a286ec2d4",
      "metadata": {
        "colab": {
          "base_uri": "https://localhost:8080/"
        },
        "id": "75b2972d-3d79-446e-adad-225a286ec2d4",
        "outputId": "f9280b1f-5bf7-4c21-f4b7-b3e4223b169e"
      },
      "outputs": [
        {
          "output_type": "stream",
          "name": "stdout",
          "text": [
            "Model: \"sequential\"\n",
            "_________________________________________________________________\n",
            " Layer (type)                Output Shape              Param #   \n",
            "=================================================================\n",
            " flatten (Flatten)           (None, 784)               0         \n",
            "                                                                 \n",
            " dense (Dense)               (None, 128)               100480    \n",
            "                                                                 \n",
            " dense_1 (Dense)             (None, 10)                1290      \n",
            "                                                                 \n",
            "=================================================================\n",
            "Total params: 101770 (397.54 KB)\n",
            "Trainable params: 101770 (397.54 KB)\n",
            "Non-trainable params: 0 (0.00 Byte)\n",
            "_________________________________________________________________\n"
          ]
        }
      ],
      "source": [
        "#Compilar el modelo\n",
        "model.compile(optimizer='adam',\n",
        "              loss='sparse_categorical_crossentropy',\n",
        "              metrics=['accuracy'])\n",
        "model.summary()"
      ]
    },
    {
      "cell_type": "code",
      "execution_count": 8,
      "id": "d1718f8e-0baf-462f-903a-5b3b68fdcb9a",
      "metadata": {
        "colab": {
          "base_uri": "https://localhost:8080/"
        },
        "id": "d1718f8e-0baf-462f-903a-5b3b68fdcb9a",
        "outputId": "7d7cab3f-3bf9-4f43-a268-807f98b2621b"
      },
      "outputs": [
        {
          "output_type": "stream",
          "name": "stdout",
          "text": [
            "Epoch 1/10\n",
            "1875/1875 [==============================] - 4s 2ms/step - loss: 1.1561 - accuracy: 0.7313\n",
            "Epoch 2/10\n",
            "1875/1875 [==============================] - 4s 2ms/step - loss: 0.4800 - accuracy: 0.8739\n",
            "Epoch 3/10\n",
            "1875/1875 [==============================] - 4s 2ms/step - loss: 0.3781 - accuracy: 0.8954\n",
            "Epoch 4/10\n",
            "1875/1875 [==============================] - 4s 2ms/step - loss: 0.3378 - accuracy: 0.9047\n",
            "Epoch 5/10\n",
            "1875/1875 [==============================] - 4s 2ms/step - loss: 0.3141 - accuracy: 0.9108\n",
            "Epoch 6/10\n",
            "1875/1875 [==============================] - 4s 2ms/step - loss: 0.2977 - accuracy: 0.9145\n",
            "Epoch 7/10\n",
            "1875/1875 [==============================] - 5s 2ms/step - loss: 0.2850 - accuracy: 0.9180\n",
            "Epoch 8/10\n",
            "1875/1875 [==============================] - 4s 2ms/step - loss: 0.2742 - accuracy: 0.9208\n",
            "Epoch 9/10\n",
            "1875/1875 [==============================] - 5s 2ms/step - loss: 0.2642 - accuracy: 0.9233\n",
            "Epoch 10/10\n",
            "1875/1875 [==============================] - 3s 2ms/step - loss: 0.2550 - accuracy: 0.9266\n"
          ]
        }
      ],
      "source": [
        "#Entrenar el modelo\n",
        "history =model.fit(training_images, training_labels, epochs=10)\n",
        "#validation_data=(X_val, Y_val))"
      ]
    },
    {
      "cell_type": "code",
      "execution_count": 9,
      "id": "6452529b-9902-498d-9a9c-2e0d24791d95",
      "metadata": {
        "colab": {
          "base_uri": "https://localhost:8080/",
          "height": 452
        },
        "id": "6452529b-9902-498d-9a9c-2e0d24791d95",
        "outputId": "ed473542-5424-4f16-f84f-122cb1337c23"
      },
      "outputs": [
        {
          "output_type": "execute_result",
          "data": {
            "text/plain": [
              "<Axes: >"
            ]
          },
          "metadata": {},
          "execution_count": 9
        },
        {
          "output_type": "display_data",
          "data": {
            "text/plain": [
              "<Figure size 640x480 with 1 Axes>"
            ],
            "image/png": "[encoded data removed]"
          },
          "metadata": {}
        }
      ],
      "source": [
        "#Graficar el historial de entrenamiento:\n",
        "import pandas as pd\n",
        "pd.DataFrame(history.history).plot(grid=True)"
      ]
    },
    {
      "cell_type": "code",
      "execution_count": 10,
      "id": "da2219ba-2dfd-43e5-bcb1-fede326b376c",
      "metadata": {
        "colab": {
          "base_uri": "https://localhost:8080/"
        },
        "id": "da2219ba-2dfd-43e5-bcb1-fede326b376c",
        "outputId": "23c200db-fb73-4cb2-edae-6571c0eb0570"
      },
      "outputs": [
        {
          "output_type": "stream",
          "name": "stdout",
          "text": [
            "1875/1875 [==============================] - 2s 1ms/step - loss: 0.2497 - accuracy: 0.9284\n",
            "Perdida en el conjunto de entrenamiento: 0.24970436096191406\n",
            "Precisión en ele conjunto de entrenamiento: 0.9284499883651733\n"
          ]
        }
      ],
      "source": [
        "#Evaluar el modelo de conjunto de entrenamiento\n",
        "loss,accuracy = model.evaluate(training_images,training_labels)\n",
        "print(\"Perdida en el conjunto de entrenamiento:\", loss)\n",
        "print(\"Precisión en ele conjunto de entrenamiento:\",accuracy)\n"
      ]
    },
    {
      "cell_type": "code",
      "execution_count": 11,
      "id": "7eb22cce-edbd-430e-af29-383096752edf",
      "metadata": {
        "colab": {
          "base_uri": "https://localhost:8080/"
        },
        "id": "7eb22cce-edbd-430e-af29-383096752edf",
        "outputId": "3f3ef9c4-ae2f-4610-cdc5-be7bd3a01ae4"
      },
      "outputs": [
        {
          "output_type": "stream",
          "name": "stdout",
          "text": [
            "313/313 [==============================] - 0s 1ms/step - loss: 0.2501 - accuracy: 0.9277\n",
            "Perdidad en el conjunto de prueba: 0.25009000301361084\n",
            "Perdidad en el conjunto de prueba: 0.9276999831199646\n"
          ]
        }
      ],
      "source": [
        "#Evaluar el modelo con datos no vistos\n",
        "loss, accuracy = model.evaluate(test_images,test_labels)\n",
        "print(\"Perdidad en el conjunto de prueba:\",loss)\n",
        "print(\"Perdidad en el conjunto de prueba:\",accuracy)\n"
      ]
    },
    {
      "cell_type": "code",
      "execution_count": null,
      "id": "298394f9-bbaf-491a-b7c0-523b7d0f74c3",
      "metadata": {
        "id": "298394f9-bbaf-491a-b7c0-523b7d0f74c3",
        "outputId": "27310118-d268-4530-bb9d-f74245857871"
      },
      "outputs": [
        {
          "name": "stdout",
          "output_type": "stream",
          "text": [
            "\u001b[1m313/313\u001b[0m \u001b[32m━━━━━━━━━━━━━━━━━━━━\u001b[0m\u001b[37m\u001b[0m \u001b[1m0s\u001b[0m 695us/step - accuracy: 0.9756 - loss: 0.0958\n",
            "Perdida en el conjunto de prueba: 0.07866596430540085\n",
            "Precisión en el conjunto de prueba: 0.9793000221252441\n"
          ]
        }
      ],
      "source": [
        "#Evaluar el modelo de datos no vistos\n",
        "loss, accuracy =model.evaluate(test_images, test_labels)\n",
        "print(\"Perdida en el conjunto de prueba:\",loss)\n",
        "print(\"Precisión en el conjunto de prueba:\", accuracy)\n"
      ]
    }
  ],
  "metadata": {
    "kernelspec": {
      "display_name": "Python 3 (ipykernel)",
      "language": "python",
      "name": "python3"
    },
    "language_info": {
      "codemirror_mode": {
        "name": "ipython",
        "version": 3
      },
      "file_extension": ".py",
      "mimetype": "text/x-python",
      "name": "python",
      "nbconvert_exporter": "python",
      "pygments_lexer": "ipython3",
      "version": "3.9.18"
    },
    "colab": {
      "provenance": []
    }
  },
  "nbformat": 4,
  "nbformat_minor": 5
}