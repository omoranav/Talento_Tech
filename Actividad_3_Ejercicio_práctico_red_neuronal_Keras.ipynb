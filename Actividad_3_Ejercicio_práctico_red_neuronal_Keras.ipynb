{
  "cells": [
    {
      "cell_type": "code",
      "execution_count": null,
      "id": "2a7ed675-287b-47e2-8e71-cef0841dd466",
      "metadata": {
        "id": "2a7ed675-287b-47e2-8e71-cef0841dd466"
      },
      "outputs": [],
      "source": [
        "import keras\n",
        "from sklearn.datasets import make_classification\n",
        "from sklearn.model_selection import train_test_split"
      ]
    },
    {
      "cell_type": "code",
      "execution_count": null,
      "id": "0f537d23-7d91-4188-9c05-3b15398e4fa5",
      "metadata": {
        "id": "0f537d23-7d91-4188-9c05-3b15398e4fa5"
      },
      "outputs": [],
      "source": [
        "#Generar un conjunto de datos de clasificación sintético\n",
        "X, y = make_classification(n_samples=100, n_features=5,\n",
        "                           n_classes=2)"
      ]
    },
    {
      "cell_type": "code",
      "execution_count": null,
      "id": "aeffe454-82f9-4883-a47a-cad1cb65cc11",
      "metadata": {
        "id": "aeffe454-82f9-4883-a47a-cad1cb65cc11"
      },
      "outputs": [],
      "source": [
        "#Dividir los datos en conjuntos de entrenamiento y prueba\n",
        "X_train, X_test, y_train, y_test = train_test_split(X, y, test_size=0.2)"
      ]
    },
    {
      "cell_type": "code",
      "execution_count": null,
      "id": "02aaed30-03fd-4bbf-b184-97d8fe9a39fe",
      "metadata": {
        "id": "02aaed30-03fd-4bbf-b184-97d8fe9a39fe"
      },
      "outputs": [],
      "source": [
        "#Convertir las etiquetas a codificación one-hot\n",
        "y_train_categorical = keras.utils.to_categorical(y_train)\n",
        "y_test_categorical = keras.utils.to_categorical(y_test)"
      ]
    },
    {
      "cell_type": "code",
      "execution_count": null,
      "id": "e2658239-f0cf-453a-933a-1a7ea90994ce",
      "metadata": {
        "id": "e2658239-f0cf-453a-933a-1a7ea90994ce"
      },
      "outputs": [],
      "source": [
        "#Crear una instancia de un modelo secuencial de Keras\n",
        "model = keras.models.Sequential()"
      ]
    },
    {
      "cell_type": "code",
      "execution_count": null,
      "id": "d96a64ef-0452-44da-9856-3e1c2ff5acf8",
      "metadata": {
        "id": "d96a64ef-0452-44da-9856-3e1c2ff5acf8"
      },
      "outputs": [],
      "source": [
        "#Añadir una capa oculta con 10 neuronas y activación ReLU\n",
        "model.add(keras.layers.Dense(10,\n",
        "          input_shape= (X_train.shape[1],), activation = 'relu'))\n",
        "#Añadir una capa de salida con 2 neuronas (una para cada clase)\n",
        "#y activación softmax\n",
        "model.add(keras.layers.Dense(2, activation='softmax'))"
      ]
    },
    {
      "cell_type": "code",
      "execution_count": null,
      "id": "a490ea96-ea6b-49dd-91d8-e21732518d7d",
      "metadata": {
        "id": "a490ea96-ea6b-49dd-91d8-e21732518d7d"
      },
      "outputs": [],
      "source": [
        "#Compilar el modelo\n",
        "model.compile(optimizer='adam',\n",
        "              loss='categorical_crossentropy', metrics=['accuracy'])\n"
      ]
    },
    {
      "cell_type": "code",
      "execution_count": null,
      "id": "16a4a0d7-18d1-421a-9db6-60344c917132",
      "metadata": {
        "colab": {
          "base_uri": "https://localhost:8080/"
        },
        "id": "16a4a0d7-18d1-421a-9db6-60344c917132",
        "outputId": "ebc9ddfe-26eb-4a7c-d6cc-450dfbe14329"
      },
      "outputs": [
        {
          "output_type": "stream",
          "name": "stdout",
          "text": [
            "Epoch 1/10\n",
            "3/3 [==============================] - 1s 99ms/step - loss: 1.1128 - accuracy: 0.4625 - val_loss: 0.9758 - val_accuracy: 0.5000\n",
            "Epoch 2/10\n",
            "3/3 [==============================] - 0s 12ms/step - loss: 1.0919 - accuracy: 0.4750 - val_loss: 0.9574 - val_accuracy: 0.5000\n",
            "Epoch 3/10\n",
            "3/3 [==============================] - 0s 13ms/step - loss: 1.0707 - accuracy: 0.4750 - val_loss: 0.9401 - val_accuracy: 0.5000\n",
            "Epoch 4/10\n",
            "3/3 [==============================] - 0s 12ms/step - loss: 1.0504 - accuracy: 0.4750 - val_loss: 0.9241 - val_accuracy: 0.5000\n",
            "Epoch 5/10\n",
            "3/3 [==============================] - 0s 12ms/step - loss: 1.0307 - accuracy: 0.4750 - val_loss: 0.9098 - val_accuracy: 0.5000\n",
            "Epoch 6/10\n",
            "3/3 [==============================] - 0s 12ms/step - loss: 1.0108 - accuracy: 0.4875 - val_loss: 0.8951 - val_accuracy: 0.5500\n",
            "Epoch 7/10\n",
            "3/3 [==============================] - 0s 15ms/step - loss: 0.9940 - accuracy: 0.5000 - val_loss: 0.8800 - val_accuracy: 0.5500\n",
            "Epoch 8/10\n",
            "3/3 [==============================] - 0s 81ms/step - loss: 0.9747 - accuracy: 0.5000 - val_loss: 0.8649 - val_accuracy: 0.5500\n",
            "Epoch 9/10\n",
            "3/3 [==============================] - 0s 32ms/step - loss: 0.9582 - accuracy: 0.5000 - val_loss: 0.8508 - val_accuracy: 0.5500\n",
            "Epoch 10/10\n",
            "3/3 [==============================] - 0s 68ms/step - loss: 0.9391 - accuracy: 0.5000 - val_loss: 0.8372 - val_accuracy: 0.5500\n"
          ]
        },
        {
          "output_type": "execute_result",
          "data": {
            "text/plain": [
              "<keras.src.callbacks.History at 0x7c89bb6d5d80>"
            ]
          },
          "metadata": {},
          "execution_count": 8
        }
      ],
      "source": [
        "#Entrenar el modelo\n",
        "model.fit(X_train, y_train_categorical, epochs=10,\n",
        "          batch_size=32, validation_data=(X_test, y_test_categorical))\n"
      ]
    },
    {
      "cell_type": "code",
      "execution_count": null,
      "id": "7c1b28eb-5323-4873-981d-bb4f284aa8f9",
      "metadata": {
        "colab": {
          "base_uri": "https://localhost:8080/"
        },
        "id": "7c1b28eb-5323-4873-981d-bb4f284aa8f9",
        "outputId": "cd0a6300-39d7-4e8f-c210-e6c0a15bc043"
      },
      "outputs": [
        {
          "output_type": "stream",
          "name": "stdout",
          "text": [
            "1/1 [==============================] - 0s 18ms/step - loss: 0.8372 - accuracy: 0.5500\n"
          ]
        }
      ],
      "source": [
        "#Evaluar el modelo en el conjunto de prueba\n",
        "loss, accuracy = model.evaluate(X_test, y_test_categorical)"
      ]
    },
    {
      "cell_type": "code",
      "execution_count": null,
      "id": "45a45cbd-a30f-42aa-9102-ecc3cbefc269",
      "metadata": {
        "colab": {
          "base_uri": "https://localhost:8080/"
        },
        "id": "45a45cbd-a30f-42aa-9102-ecc3cbefc269",
        "outputId": "9f60cd78-420c-4f2f-d472-28c9dc482d75"
      },
      "outputs": [
        {
          "output_type": "stream",
          "name": "stdout",
          "text": [
            "Perdida en el conjunto de prueba: 0.8372161984443665\n",
            "Precisión en el conjunto de prueba: 0.550000011920929\n"
          ]
        }
      ],
      "source": [
        "#Impresión de resultados\n",
        "print(\"Perdida en el conjunto de prueba:\", loss)\n",
        "print(\"Precisión en el conjunto de prueba:\", accuracy)\n"
      ]
    },
    {
      "cell_type": "code",
      "source": [
        "#Entrenar el modelo con más épocas\n",
        "model.fit(X_train, y_train_categorical, epochs=30,\n",
        "          batch_size=64, validation_data=(X_test, y_test_categorical))\n"
      ],
      "metadata": {
        "colab": {
          "base_uri": "https://localhost:8080/"
        },
        "id": "oQdghYqyU3jB",
        "outputId": "f704dc28-3fa2-4b4b-e6e9-f9fa4627275d"
      },
      "id": "oQdghYqyU3jB",
      "execution_count": null,
      "outputs": [
        {
          "output_type": "stream",
          "name": "stdout",
          "text": [
            "Epoch 1/30\n",
            "2/2 [==============================] - 0s 58ms/step - loss: 0.5824 - accuracy: 0.7625 - val_loss: 0.5516 - val_accuracy: 0.7500\n",
            "Epoch 2/30\n",
            "2/2 [==============================] - 0s 22ms/step - loss: 0.5772 - accuracy: 0.7500 - val_loss: 0.5482 - val_accuracy: 0.7500\n",
            "Epoch 3/30\n",
            "2/2 [==============================] - 0s 22ms/step - loss: 0.5726 - accuracy: 0.7625 - val_loss: 0.5450 - val_accuracy: 0.7500\n",
            "Epoch 4/30\n",
            "2/2 [==============================] - 0s 21ms/step - loss: 0.5677 - accuracy: 0.7625 - val_loss: 0.5420 - val_accuracy: 0.7500\n",
            "Epoch 5/30\n",
            "2/2 [==============================] - 0s 22ms/step - loss: 0.5632 - accuracy: 0.7750 - val_loss: 0.5388 - val_accuracy: 0.8000\n",
            "Epoch 6/30\n",
            "2/2 [==============================] - 0s 22ms/step - loss: 0.5584 - accuracy: 0.7750 - val_loss: 0.5359 - val_accuracy: 0.8000\n",
            "Epoch 7/30\n",
            "2/2 [==============================] - 0s 22ms/step - loss: 0.5537 - accuracy: 0.7875 - val_loss: 0.5330 - val_accuracy: 0.8000\n",
            "Epoch 8/30\n",
            "2/2 [==============================] - 0s 23ms/step - loss: 0.5492 - accuracy: 0.8000 - val_loss: 0.5302 - val_accuracy: 0.8000\n",
            "Epoch 9/30\n",
            "2/2 [==============================] - 0s 23ms/step - loss: 0.5446 - accuracy: 0.8125 - val_loss: 0.5276 - val_accuracy: 0.8000\n",
            "Epoch 10/30\n",
            "2/2 [==============================] - 0s 22ms/step - loss: 0.5401 - accuracy: 0.8250 - val_loss: 0.5248 - val_accuracy: 0.8000\n",
            "Epoch 11/30\n",
            "2/2 [==============================] - 0s 25ms/step - loss: 0.5353 - accuracy: 0.8250 - val_loss: 0.5220 - val_accuracy: 0.8000\n",
            "Epoch 12/30\n",
            "2/2 [==============================] - 0s 27ms/step - loss: 0.5313 - accuracy: 0.8125 - val_loss: 0.5192 - val_accuracy: 0.8000\n",
            "Epoch 13/30\n",
            "2/2 [==============================] - 0s 31ms/step - loss: 0.5270 - accuracy: 0.8125 - val_loss: 0.5165 - val_accuracy: 0.8500\n",
            "Epoch 14/30\n",
            "2/2 [==============================] - 0s 25ms/step - loss: 0.5231 - accuracy: 0.8250 - val_loss: 0.5139 - val_accuracy: 0.8500\n",
            "Epoch 15/30\n",
            "2/2 [==============================] - 0s 36ms/step - loss: 0.5188 - accuracy: 0.8250 - val_loss: 0.5114 - val_accuracy: 0.8500\n",
            "Epoch 16/30\n",
            "2/2 [==============================] - 0s 32ms/step - loss: 0.5151 - accuracy: 0.8250 - val_loss: 0.5089 - val_accuracy: 0.8500\n",
            "Epoch 17/30\n",
            "2/2 [==============================] - 0s 30ms/step - loss: 0.5114 - accuracy: 0.8500 - val_loss: 0.5065 - val_accuracy: 0.8500\n",
            "Epoch 18/30\n",
            "2/2 [==============================] - 0s 33ms/step - loss: 0.5077 - accuracy: 0.8625 - val_loss: 0.5042 - val_accuracy: 0.8500\n",
            "Epoch 19/30\n",
            "2/2 [==============================] - 0s 41ms/step - loss: 0.5040 - accuracy: 0.8625 - val_loss: 0.5021 - val_accuracy: 0.8500\n",
            "Epoch 20/30\n",
            "2/2 [==============================] - 0s 26ms/step - loss: 0.5004 - accuracy: 0.8625 - val_loss: 0.5000 - val_accuracy: 0.8500\n",
            "Epoch 21/30\n",
            "2/2 [==============================] - 0s 23ms/step - loss: 0.4969 - accuracy: 0.8500 - val_loss: 0.4980 - val_accuracy: 0.9000\n",
            "Epoch 22/30\n",
            "2/2 [==============================] - 0s 28ms/step - loss: 0.4935 - accuracy: 0.8500 - val_loss: 0.4960 - val_accuracy: 0.9000\n",
            "Epoch 23/30\n",
            "2/2 [==============================] - 0s 25ms/step - loss: 0.4900 - accuracy: 0.8500 - val_loss: 0.4941 - val_accuracy: 0.9000\n",
            "Epoch 24/30\n",
            "2/2 [==============================] - 0s 25ms/step - loss: 0.4866 - accuracy: 0.8625 - val_loss: 0.4922 - val_accuracy: 0.9000\n",
            "Epoch 25/30\n",
            "2/2 [==============================] - 0s 24ms/step - loss: 0.4834 - accuracy: 0.8625 - val_loss: 0.4905 - val_accuracy: 0.9000\n",
            "Epoch 26/30\n",
            "2/2 [==============================] - 0s 26ms/step - loss: 0.4801 - accuracy: 0.8750 - val_loss: 0.4888 - val_accuracy: 0.9000\n",
            "Epoch 27/30\n",
            "2/2 [==============================] - 0s 26ms/step - loss: 0.4768 - accuracy: 0.8750 - val_loss: 0.4871 - val_accuracy: 0.9000\n",
            "Epoch 28/30\n",
            "2/2 [==============================] - 0s 23ms/step - loss: 0.4739 - accuracy: 0.8750 - val_loss: 0.4855 - val_accuracy: 0.9000\n",
            "Epoch 29/30\n",
            "2/2 [==============================] - 0s 23ms/step - loss: 0.4708 - accuracy: 0.9000 - val_loss: 0.4839 - val_accuracy: 0.9000\n",
            "Epoch 30/30\n",
            "2/2 [==============================] - 0s 23ms/step - loss: 0.4675 - accuracy: 0.9000 - val_loss: 0.4824 - val_accuracy: 0.9000\n"
          ]
        },
        {
          "output_type": "execute_result",
          "data": {
            "text/plain": [
              "<keras.src.callbacks.History at 0x7c89babad660>"
            ]
          },
          "metadata": {},
          "execution_count": 14
        }
      ]
    },
    {
      "cell_type": "code",
      "source": [
        "#Evaluar el modelo en el conjunto de prueba\n",
        "loss, accuracy = model.evaluate(X_test, y_test_categorical)"
      ],
      "metadata": {
        "colab": {
          "base_uri": "https://localhost:8080/"
        },
        "id": "CvvxtyYVVAh9",
        "outputId": "efa48efa-f6c9-4d62-ebeb-372f38cce6ae"
      },
      "id": "CvvxtyYVVAh9",
      "execution_count": null,
      "outputs": [
        {
          "output_type": "stream",
          "name": "stdout",
          "text": [
            "1/1 [==============================] - 0s 20ms/step - loss: 0.4824 - accuracy: 0.9000\n"
          ]
        }
      ]
    },
    {
      "cell_type": "code",
      "source": [
        "#Impresión de resultados\n",
        "print(\"Perdida en el conjunto de prueba:\", loss)\n",
        "print(\"Precisión en el conjunto de prueba:\", accuracy)"
      ],
      "metadata": {
        "colab": {
          "base_uri": "https://localhost:8080/"
        },
        "id": "zTjTCh3NVEZ_",
        "outputId": "1fb55fb2-5648-40f3-e1d0-05fb9279d91d"
      },
      "id": "zTjTCh3NVEZ_",
      "execution_count": null,
      "outputs": [
        {
          "output_type": "stream",
          "name": "stdout",
          "text": [
            "Perdida en el conjunto de prueba: 0.48244810104370117\n",
            "Precisión en el conjunto de prueba: 0.8999999761581421\n"
          ]
        }
      ]
    }
  ],
  "metadata": {
    "kernelspec": {
      "display_name": "Python 3 (ipykernel)",
      "language": "python",
      "name": "python3"
    },
    "language_info": {
      "codemirror_mode": {
        "name": "ipython",
        "version": 3
      },
      "file_extension": ".py",
      "mimetype": "text/x-python",
      "name": "python",
      "nbconvert_exporter": "python",
      "pygments_lexer": "ipython3",
      "version": "3.9.18"
    },
    "colab": {
      "provenance": []
    }
  },
  "nbformat": 4,
  "nbformat_minor": 5
}