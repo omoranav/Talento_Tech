{
  "nbformat": 4,
  "nbformat_minor": 0,
  "metadata": {
    "colab": {
      "provenance": []
    },
    "kernelspec": {
      "name": "python3",
      "display_name": "Python 3"
    },
    "language_info": {
      "name": "python"
    }
  },
  "cells": [
    {
      "cell_type": "code",
      "execution_count": 1,
      "metadata": {
        "colab": {
          "base_uri": "https://localhost:8080/"
        },
        "id": "b0Ut2ZXOkjdk",
        "outputId": "a4f7dcb6-7583-48fd-851d-47dd64d51b0b"
      },
      "outputs": [
        {
          "output_type": "stream",
          "name": "stdout",
          "text": [
            "Señal de entrada: [2 1 0 1 2]\n",
            "Filtro: [ 1 -1]\n",
            "Señal de salida después de la convolución: [-1 -1  1  1]\n"
          ]
        }
      ],
      "source": [
        "#Para realizar una convolución 1D en Python\n",
        "\n",
        "import numpy as np\n",
        "from scipy.signal import convolve\n",
        "\n",
        "#Definir las señales de entrada y el filtro\n",
        "x = np.array([2, 1, 0, 1, 2]) #señal de entrada\n",
        "h = np.array([1, -1])         #Filtro\n",
        "\n",
        "#Realizar la convolución\n",
        "y = np.convolve(x, h, mode='vaid')\n",
        "\n",
        "#Imprimir los resultados\n",
        "print(\"Señal de entrada:\", x)\n",
        "print(\"Filtro:\", h)\n",
        "print(\"Señal de salida después de la convolución:\", y)"
      ]
    },
    {
      "cell_type": "code",
      "source": [
        "#Para realizar una convolución 1D en Python\n",
        "\n",
        "#Definir las señales de entrada y el filtro\n",
        "x = np.array([1, 1, 1, 1, 1]) #señal de entrada\n",
        "h = np.array([1, 1, 1, 1, 1]) #Filtro\n",
        "\n",
        "#Realizar la convolución\n",
        "y = np.convolve(x, h)\n",
        "y1 = np.convolve(x, h, mode='vaid')\n",
        "\n",
        "#Imprimir los resultados\n",
        "print(\"Señal de entrada:\", x)\n",
        "print(\"Filtro:\", h)\n",
        "print(\"Señal de salida después de la convolución:\", y)\n",
        "print(\"Señal de salida después de la convolución:\", y1)"
      ],
      "metadata": {
        "colab": {
          "base_uri": "https://localhost:8080/"
        },
        "id": "rZoST0VQmRnd",
        "outputId": "cd0fbec3-98e0-425d-ec38-de3271a1b442"
      },
      "execution_count": 3,
      "outputs": [
        {
          "output_type": "stream",
          "name": "stdout",
          "text": [
            "Señal de entrada: [1 1 1 1 1]\n",
            "Filtro: [1 1 1 1 1]\n",
            "Señal de salida después de la convolución: [1 2 3 4 5 4 3 2 1]\n",
            "Señal de salida después de la convolución: [5]\n"
          ]
        }
      ]
    },
    {
      "cell_type": "code",
      "source": [
        "#Ejemplo numérico de convolución 2D discreto\n",
        "\n",
        "import numpy as np\n",
        "from scipy.signal import convolve2d\n",
        "\n",
        "#Definir la matriz de entrada (señal) y el kernel\n",
        "input_matrix = np.array([[1, 2, 3, 3],\n",
        "                         [4, 5, 6, 6],\n",
        "                         [7, 8, 9, 9],\n",
        "                         [7, 8, 9, 9]])\n",
        "kernel = np.array([[0, 1, 0],\n",
        "                   [-1, 1, -1],\n",
        "                   [0, 1, 0]])\n",
        "\n",
        "#Realizar la convolución 2D\n",
        "output_matrix = convolve2d(input_matrix, kernel)\n",
        "output_matrix_1 = convolve2d(input_matrix, kernel, mode='valid')\n",
        "\n",
        "#Imprimir los resultados\n",
        "print(\"Matriz de entrada:\")\n",
        "print(input_matrix)\n",
        "print(\"Kernel:\")\n",
        "print(kernel)\n",
        "print(\"Matriz de salida después de la convolución:\")\n",
        "print(output_matrix)\n",
        "print(\"Matriz de salida después de la convolución con mode valid:\")\n",
        "print(output_matrix_1)"
      ],
      "metadata": {
        "colab": {
          "base_uri": "https://localhost:8080/"
        },
        "id": "rNlWSGiSlSwU",
        "outputId": "c74419e5-fec6-46af-fc28-d71bde2a2664"
      },
      "execution_count": 2,
      "outputs": [
        {
          "output_type": "stream",
          "name": "stdout",
          "text": [
            "Matriz de entrada:\n",
            "[[1 2 3 3]\n",
            " [4 5 6 6]\n",
            " [7 8 9 9]\n",
            " [7 8 9 9]]\n",
            "Kernel:\n",
            "[[ 0  1  0]\n",
            " [-1  1 -1]\n",
            " [ 0  1  0]]\n",
            "Matriz de salida después de la convolución:\n",
            "[[ 0  1  2  3  3  0]\n",
            " [-1  3  3  4  6 -3]\n",
            " [-4  7  5  7 12 -6]\n",
            " [-7 10  5  7 15 -9]\n",
            " [-7  6  0  1  9 -9]\n",
            " [ 0  7  8  9  9  0]]\n",
            "Matriz de salida después de la convolución con mode valid:\n",
            "[[5 7]\n",
            " [5 7]]\n"
          ]
        }
      ]
    }
  ]
}