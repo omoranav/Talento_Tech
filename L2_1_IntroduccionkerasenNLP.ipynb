{
  "nbformat": 4,
  "nbformat_minor": 0,
  "metadata": {
    "colab": {
      "provenance": []
    },
    "kernelspec": {
      "name": "python3",
      "display_name": "Python 3"
    },
    "language_info": {
      "name": "python"
    }
  },
  "cells": [
    {
      "cell_type": "code",
      "source": [
        "import keras\n",
        "frases = [\n",
        "    'Hola mundo',\n",
        "    'Hola a todos',\n",
        "    'Hola a todo el mundo'\n",
        "]"
      ],
      "metadata": {
        "id": "DeN2bBNInBv_"
      },
      "execution_count": 1,
      "outputs": []
    },
    {
      "cell_type": "code",
      "source": [
        "#Generare el diccionario de token\n",
        "from tensorflow.keras.preprocessing.text import Tokenizer\n",
        "\n",
        "\n",
        "tokenizer = Tokenizer(num_words=10)\n",
        "tokenizer.fit_on_texts(frases)\n",
        "word_index = tokenizer.word_index\n",
        "print('word_index', word_index)"
      ],
      "metadata": {
        "colab": {
          "base_uri": "https://localhost:8080/"
        },
        "id": "7II1O8oJUX2s",
        "outputId": "a5960ca0-f333-415e-ad6b-6fa7dec87a45"
      },
      "execution_count": 5,
      "outputs": [
        {
          "output_type": "stream",
          "name": "stdout",
          "text": [
            "word_index {'hola': 1, 'mundo': 2, 'a': 3, 'todos': 4, 'todo': 5, 'el': 6}\n"
          ]
        }
      ]
    },
    {
      "cell_type": "code",
      "source": [
        "#Generación de secuencia tokenizadas\n",
        "secuencias = tokenizer.texts_to_sequences(frases)\n",
        "print('secuencias', secuencias)"
      ],
      "metadata": {
        "colab": {
          "base_uri": "https://localhost:8080/"
        },
        "id": "IHfWr2PgVrFU",
        "outputId": "2a093190-e82d-400d-b7a6-b2bc19337808"
      },
      "execution_count": 6,
      "outputs": [
        {
          "output_type": "stream",
          "name": "stdout",
          "text": [
            "secuencias [[1, 2], [1, 3, 4], [1, 3, 5, 6, 2]]\n"
          ]
        }
      ]
    },
    {
      "cell_type": "code",
      "source": [
        "#Rellena las secuencias a un longitud uniforme\n",
        "relleno = keras.preprocessing.sequence.pad_sequences(secuencias)\n",
        "print('relleno', relleno)"
      ],
      "metadata": {
        "colab": {
          "base_uri": "https://localhost:8080/"
        },
        "id": "yim85tn8V5W7",
        "outputId": "f57ddcac-4fb5-41db-fd7a-700eeb718bf5"
      },
      "execution_count": 7,
      "outputs": [
        {
          "output_type": "stream",
          "name": "stdout",
          "text": [
            "relleno [[0 0 0 1 2]\n",
            " [0 0 1 3 4]\n",
            " [1 3 5 6 2]]\n"
          ]
        }
      ]
    },
    {
      "cell_type": "code",
      "source": [
        "#Realizando cambios al código para observar resultados obtenidos\n",
        "import keras\n",
        "\n",
        "frases = [\n",
        "    'Hola mundo',\n",
        "    'Hola a todos',\n",
        "    'Hola a todo el mundo',\n",
        "    'Buen día, ¿cómo estás hoy?'\n",
        "]\n",
        "\n",
        "#Generare el diccionario de token\n",
        "from tensorflow.keras.preprocessing.text import Tokenizer\n",
        "\n",
        "tokenizer = Tokenizer(num_words=10)\n",
        "tokenizer.fit_on_texts(frases)\n",
        "word_index = tokenizer.word_index\n",
        "print('word_index', word_index)\n",
        "\n",
        "#Generación de secuencia tokenizadas\n",
        "secuencias = tokenizer.texts_to_sequences(frases)\n",
        "print('secuencias', secuencias)\n",
        "\n",
        "#Rellena las secuencias a un longitud uniforme\n",
        "relleno = keras.preprocessing.sequence.pad_sequences(secuencias)\n",
        "print('relleno', relleno)\n"
      ],
      "metadata": {
        "colab": {
          "base_uri": "https://localhost:8080/"
        },
        "id": "tAQEOeFZWBfD",
        "outputId": "985c4fcb-969b-4d42-b364-206e7bbb2067"
      },
      "execution_count": 11,
      "outputs": [
        {
          "output_type": "stream",
          "name": "stdout",
          "text": [
            "word_index {'hola': 1, 'mundo': 2, 'a': 3, 'todos': 4, 'todo': 5, 'el': 6, 'buen': 7, 'día': 8, '¿cómo': 9, 'estás': 10, 'hoy': 11}\n",
            "secuencias [[1, 2], [1, 3, 4], [1, 3, 5, 6, 2], [7, 8, 9]]\n",
            "relleno [[0 0 0 1 2]\n",
            " [0 0 1 3 4]\n",
            " [1 3 5 6 2]\n",
            " [0 0 7 8 9]]\n"
          ]
        }
      ]
    },
    {
      "cell_type": "code",
      "source": [
        "#Realizando cambios al código para observar resultados obtenidos\n",
        "import keras\n",
        "\n",
        "frases = [\n",
        "    'Hola mundo',\n",
        "    'Hola a todos',\n",
        "    'Hola a todo el mundo',\n",
        "    'Buen día, ¿cómo estás hoy?'\n",
        "]\n",
        "\n",
        "#Generare el diccionario de token\n",
        "from tensorflow.keras.preprocessing.text import Tokenizer\n",
        "\n",
        "tokenizer = Tokenizer(num_words=10, oov_token = \"<OOV>\" )\n",
        "tokenizer.fit_on_texts(frases)\n",
        "word_index = tokenizer.word_index\n",
        "print('word_index', word_index)\n",
        "\n",
        "#Generación de secuencia tokenizadas\n",
        "secuencias = tokenizer.texts_to_sequences(frases)\n",
        "print('secuencias', secuencias)\n",
        "\n",
        "#Rellena las secuencias a un longitud uniforme\n",
        "relleno = keras.preprocessing.sequence.pad_sequences(secuencias)\n",
        "print('relleno', relleno)"
      ],
      "metadata": {
        "colab": {
          "base_uri": "https://localhost:8080/"
        },
        "id": "QnX063wOXh6l",
        "outputId": "ff84550a-3ea0-4755-c737-5f7b8cc5f357"
      },
      "execution_count": 12,
      "outputs": [
        {
          "output_type": "stream",
          "name": "stdout",
          "text": [
            "word_index {'<OOV>': 1, 'hola': 2, 'mundo': 3, 'a': 4, 'todos': 5, 'todo': 6, 'el': 7, 'buen': 8, 'día': 9, '¿cómo': 10, 'estás': 11, 'hoy': 12}\n",
            "secuencias [[2, 3], [2, 4, 5], [2, 4, 6, 7, 3], [8, 9, 1, 1, 1]]\n",
            "relleno [[0 0 0 2 3]\n",
            " [0 0 2 4 5]\n",
            " [2 4 6 7 3]\n",
            " [8 9 1 1 1]]\n"
          ]
        }
      ]
    },
    {
      "cell_type": "code",
      "source": [
        "#Realizando cambios al código para observar resultados obtenidos\n",
        "import keras\n",
        "\n",
        "frases = [\n",
        "    'Hola mundo',\n",
        "    'Hola a todos',\n",
        "    'Hola a todo el mundo',\n",
        "    'Buen día, ¿cómo estás hoy?'\n",
        "]\n",
        "\n",
        "#Generare el diccionario de token\n",
        "from tensorflow.keras.preprocessing.text import Tokenizer\n",
        "\n",
        "tokenizer = Tokenizer(num_words=10, oov_token = \"<OOV>\" )\n",
        "tokenizer.fit_on_texts(frases)\n",
        "word_index = tokenizer.word_index\n",
        "print('word_index', word_index)\n",
        "\n",
        "#Generación de secuencia tokenizadas\n",
        "secuencias = tokenizer.texts_to_sequences(frases)\n",
        "print('secuencias', secuencias)\n",
        "\n",
        "#Rellena las secuencias a un longitud uniforme\n",
        "relleno = keras.preprocessing.sequence.pad_sequences(secuencias,\n",
        "                                                     padding = 'post',\n",
        "                                                     truncating = 'post')\n",
        "print('relleno', relleno)"
      ],
      "metadata": {
        "colab": {
          "base_uri": "https://localhost:8080/"
        },
        "id": "r07GejuOYkwQ",
        "outputId": "c1807a1f-04ca-499f-d490-33a6acaefbf8"
      },
      "execution_count": 13,
      "outputs": [
        {
          "output_type": "stream",
          "name": "stdout",
          "text": [
            "word_index {'<OOV>': 1, 'hola': 2, 'mundo': 3, 'a': 4, 'todos': 5, 'todo': 6, 'el': 7, 'buen': 8, 'día': 9, '¿cómo': 10, 'estás': 11, 'hoy': 12}\n",
            "secuencias [[2, 3], [2, 4, 5], [2, 4, 6, 7, 3], [8, 9, 1, 1, 1]]\n",
            "relleno [[2 3 0 0 0]\n",
            " [2 4 5 0 0]\n",
            " [2 4 6 7 3]\n",
            " [8 9 1 1 1]]\n"
          ]
        }
      ]
    }
  ]
}