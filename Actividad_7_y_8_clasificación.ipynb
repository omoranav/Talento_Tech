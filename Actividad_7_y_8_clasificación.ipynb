{
  "cells": [
    {
      "cell_type": "code",
      "execution_count": 1,
      "metadata": {
        "id": "jDv_mk7zCm8Q"
      },
      "outputs": [],
      "source": [
        "# Si requiere instalar lo siguiente desde requirements.txt\n",
        "# También se puede quitar el signo #\n",
        "\n",
        "#!pip install -r requirements.txt\n",
        "#!pip install tensorflow\n",
        "#!pip install numpy\n",
        "#!pip install pandas\n",
        "#!pip install matplotlib\n",
        "#!pip install scikit-learn"
      ]
    },
    {
      "cell_type": "code",
      "execution_count": 2,
      "metadata": {
        "id": "wfWGPxn5Cm8T"
      },
      "outputs": [],
      "source": [
        "import tensorflow as tf\n",
        "import numpy as np\n",
        "import pandas as pd\n",
        "\n",
        "import matplotlib.pyplot as plt\n",
        "\n",
        "from sklearn.model_selection import train_test_split\n",
        "from sklearn import datasets"
      ]
    },
    {
      "cell_type": "code",
      "source": [
        "# Anemia type prediction based on CBC data\n",
        "# CBC (Complete Blood Count) is an essential comprehensive blood panel that\n",
        "# allows your doctor to evaluate each type of cell in your blood.\n",
        "#https://www.kaggle.com/datasets/ehababoelnaga/anemia-types-classification?resource=download\n",
        "\n",
        "df = pd.read_csv('diagnosed_cbc_data_v4.csv')\n",
        "df.head()"
      ],
      "metadata": {
        "colab": {
          "base_uri": "https://localhost:8080/",
          "height": 399
        },
        "id": "u_niAYdHD_RH",
        "outputId": "9a6c8af9-b2d6-446d-bd07-8cc8db2612d2"
      },
      "execution_count": 3,
      "outputs": [
        {
          "output_type": "execute_result",
          "data": {
            "text/plain": [
              "    WBC  LYMp  NEUTp  LYMn  NEUTn   RBC  HGB    HCT   MCV   MCH  MCHC    PLT  \\\n",
              "0  10.0  43.2   50.1   4.3    5.0  2.77  7.3   24.2  87.7  26.3  30.1  189.0   \n",
              "1  10.0  42.4   52.3   4.2    5.3  2.84  7.3   25.0  88.2  25.7  20.2  180.0   \n",
              "2   7.2  30.7   60.7   2.2    4.4  3.97  9.0   30.5  77.0  22.6  29.5  148.0   \n",
              "3   6.0  30.2   63.5   1.8    3.8  4.22  3.8   32.8  77.9  23.2  29.8  143.0   \n",
              "4   4.2  39.1   53.7   1.6    2.3  3.93  0.4  316.0  80.6  23.9  29.7  236.0   \n",
              "\n",
              "    PDW   PCT                      Diagnosis  \n",
              "0  12.5  0.17  Normocytic hypochromic anemia  \n",
              "1  12.5  0.16  Normocytic hypochromic anemia  \n",
              "2  14.3  0.14         Iron deficiency anemia  \n",
              "3  11.3  0.12         Iron deficiency anemia  \n",
              "4  12.8  0.22  Normocytic hypochromic anemia  "
            ],
            "text/html": [
              "\n",
              "  <div id=\"df-41fa33e5-6020-481f-bc64-c19624f2c192\" class=\"colab-df-container\">\n",
              "    <div>\n",
              "<style scoped>\n",
              "    .dataframe tbody tr th:only-of-type {\n",
              "        vertical-align: middle;\n",
              "    }\n",
              "\n",
              "    .dataframe tbody tr th {\n",
              "        vertical-align: top;\n",
              "    }\n",
              "\n",
              "    .dataframe thead th {\n",
              "        text-align: right;\n",
              "    }\n",
              "</style>\n",
              "<table border=\"1\" class=\"dataframe\">\n",
              "  <thead>\n",
              "    <tr style=\"text-align: right;\">\n",
              "      <th></th>\n",
              "      <th>WBC</th>\n",
              "      <th>LYMp</th>\n",
              "      <th>NEUTp</th>\n",
              "      <th>LYMn</th>\n",
              "      <th>NEUTn</th>\n",
              "      <th>RBC</th>\n",
              "      <th>HGB</th>\n",
              "      <th>HCT</th>\n",
              "      <th>MCV</th>\n",
              "      <th>MCH</th>\n",
              "      <th>MCHC</th>\n",
              "      <th>PLT</th>\n",
              "      <th>PDW</th>\n",
              "      <th>PCT</th>\n",
              "      <th>Diagnosis</th>\n",
              "    </tr>\n",
              "  </thead>\n",
              "  <tbody>\n",
              "    <tr>\n",
              "      <th>0</th>\n",
              "      <td>10.0</td>\n",
              "      <td>43.2</td>\n",
              "      <td>50.1</td>\n",
              "      <td>4.3</td>\n",
              "      <td>5.0</td>\n",
              "      <td>2.77</td>\n",
              "      <td>7.3</td>\n",
              "      <td>24.2</td>\n",
              "      <td>87.7</td>\n",
              "      <td>26.3</td>\n",
              "      <td>30.1</td>\n",
              "      <td>189.0</td>\n",
              "      <td>12.5</td>\n",
              "      <td>0.17</td>\n",
              "      <td>Normocytic hypochromic anemia</td>\n",
              "    </tr>\n",
              "    <tr>\n",
              "      <th>1</th>\n",
              "      <td>10.0</td>\n",
              "      <td>42.4</td>\n",
              "      <td>52.3</td>\n",
              "      <td>4.2</td>\n",
              "      <td>5.3</td>\n",
              "      <td>2.84</td>\n",
              "      <td>7.3</td>\n",
              "      <td>25.0</td>\n",
              "      <td>88.2</td>\n",
              "      <td>25.7</td>\n",
              "      <td>20.2</td>\n",
              "      <td>180.0</td>\n",
              "      <td>12.5</td>\n",
              "      <td>0.16</td>\n",
              "      <td>Normocytic hypochromic anemia</td>\n",
              "    </tr>\n",
              "    <tr>\n",
              "      <th>2</th>\n",
              "      <td>7.2</td>\n",
              "      <td>30.7</td>\n",
              "      <td>60.7</td>\n",
              "      <td>2.2</td>\n",
              "      <td>4.4</td>\n",
              "      <td>3.97</td>\n",
              "      <td>9.0</td>\n",
              "      <td>30.5</td>\n",
              "      <td>77.0</td>\n",
              "      <td>22.6</td>\n",
              "      <td>29.5</td>\n",
              "      <td>148.0</td>\n",
              "      <td>14.3</td>\n",
              "      <td>0.14</td>\n",
              "      <td>Iron deficiency anemia</td>\n",
              "    </tr>\n",
              "    <tr>\n",
              "      <th>3</th>\n",
              "      <td>6.0</td>\n",
              "      <td>30.2</td>\n",
              "      <td>63.5</td>\n",
              "      <td>1.8</td>\n",
              "      <td>3.8</td>\n",
              "      <td>4.22</td>\n",
              "      <td>3.8</td>\n",
              "      <td>32.8</td>\n",
              "      <td>77.9</td>\n",
              "      <td>23.2</td>\n",
              "      <td>29.8</td>\n",
              "      <td>143.0</td>\n",
              "      <td>11.3</td>\n",
              "      <td>0.12</td>\n",
              "      <td>Iron deficiency anemia</td>\n",
              "    </tr>\n",
              "    <tr>\n",
              "      <th>4</th>\n",
              "      <td>4.2</td>\n",
              "      <td>39.1</td>\n",
              "      <td>53.7</td>\n",
              "      <td>1.6</td>\n",
              "      <td>2.3</td>\n",
              "      <td>3.93</td>\n",
              "      <td>0.4</td>\n",
              "      <td>316.0</td>\n",
              "      <td>80.6</td>\n",
              "      <td>23.9</td>\n",
              "      <td>29.7</td>\n",
              "      <td>236.0</td>\n",
              "      <td>12.8</td>\n",
              "      <td>0.22</td>\n",
              "      <td>Normocytic hypochromic anemia</td>\n",
              "    </tr>\n",
              "  </tbody>\n",
              "</table>\n",
              "</div>\n",
              "    <div class=\"colab-df-buttons\">\n",
              "\n",
              "  <div class=\"colab-df-container\">\n",
              "    <button class=\"colab-df-convert\" onclick=\"convertToInteractive('df-41fa33e5-6020-481f-bc64-c19624f2c192')\"\n",
              "            title=\"Convert this dataframe to an interactive table.\"\n",
              "            style=\"display:none;\">\n",
              "\n",
              "  <svg xmlns=\"http://www.w3.org/2000/svg\" height=\"24px\" viewBox=\"0 -960 960 960\">\n",
              "    <path d=\"M120-120v-720h720v720H120Zm60-500h600v-160H180v160Zm220 220h160v-160H400v160Zm0 220h160v-160H400v160ZM180-400h160v-160H180v160Zm440 0h160v-160H620v160ZM180-180h160v-160H180v160Zm440 0h160v-160H620v160Z\"/>\n",
              "  </svg>\n",
              "    </button>\n",
              "\n",
              "  <style>\n",
              "    .colab-df-container {\n",
              "      display:flex;\n",
              "      gap: 12px;\n",
              "    }\n",
              "\n",
              "    .colab-df-convert {\n",
              "      background-color: #E8F0FE;\n",
              "      border: none;\n",
              "      border-radius: 50%;\n",
              "      cursor: pointer;\n",
              "      display: none;\n",
              "      fill: #1967D2;\n",
              "      height: 32px;\n",
              "      padding: 0 0 0 0;\n",
              "      width: 32px;\n",
              "    }\n",
              "\n",
              "    .colab-df-convert:hover {\n",
              "      background-color: #E2EBFA;\n",
              "      box-shadow: 0px 1px 2px rgba(60, 64, 67, 0.3), 0px 1px 3px 1px rgba(60, 64, 67, 0.15);\n",
              "      fill: #174EA6;\n",
              "    }\n",
              "\n",
              "    .colab-df-buttons div {\n",
              "      margin-bottom: 4px;\n",
              "    }\n",
              "\n",
              "    [theme=dark] .colab-df-convert {\n",
              "      background-color: #3B4455;\n",
              "      fill: #D2E3FC;\n",
              "    }\n",
              "\n",
              "    [theme=dark] .colab-df-convert:hover {\n",
              "      background-color: #434B5C;\n",
              "      box-shadow: 0px 1px 3px 1px rgba(0, 0, 0, 0.15);\n",
              "      filter: drop-shadow(0px 1px 2px rgba(0, 0, 0, 0.3));\n",
              "      fill: #FFFFFF;\n",
              "    }\n",
              "  </style>\n",
              "\n",
              "    <script>\n",
              "      const buttonEl =\n",
              "        document.querySelector('#df-41fa33e5-6020-481f-bc64-c19624f2c192 button.colab-df-convert');\n",
              "      buttonEl.style.display =\n",
              "        google.colab.kernel.accessAllowed ? 'block' : 'none';\n",
              "\n",
              "      async function convertToInteractive(key) {\n",
              "        const element = document.querySelector('#df-41fa33e5-6020-481f-bc64-c19624f2c192');\n",
              "        const dataTable =\n",
              "          await google.colab.kernel.invokeFunction('convertToInteractive',\n",
              "                                                    [key], {});\n",
              "        if (!dataTable) return;\n",
              "\n",
              "        const docLinkHtml = 'Like what you see? Visit the ' +\n",
              "          '<a target=\"_blank\" href=https://colab.research.google.com/notebooks/data_table.ipynb>data table notebook</a>'\n",
              "          + ' to learn more about interactive tables.';\n",
              "        element.innerHTML = '';\n",
              "        dataTable['output_type'] = 'display_data';\n",
              "        await google.colab.output.renderOutput(dataTable, element);\n",
              "        const docLink = document.createElement('div');\n",
              "        docLink.innerHTML = docLinkHtml;\n",
              "        element.appendChild(docLink);\n",
              "      }\n",
              "    </script>\n",
              "  </div>\n",
              "\n",
              "\n",
              "<div id=\"df-e8b9f312-701c-4d02-a649-23cb7e289aa3\">\n",
              "  <button class=\"colab-df-quickchart\" onclick=\"quickchart('df-e8b9f312-701c-4d02-a649-23cb7e289aa3')\"\n",
              "            title=\"Suggest charts\"\n",
              "            style=\"display:none;\">\n",
              "\n",
              "<svg xmlns=\"http://www.w3.org/2000/svg\" height=\"24px\"viewBox=\"0 0 24 24\"\n",
              "     width=\"24px\">\n",
              "    <g>\n",
              "        <path d=\"M19 3H5c-1.1 0-2 .9-2 2v14c0 1.1.9 2 2 2h14c1.1 0 2-.9 2-2V5c0-1.1-.9-2-2-2zM9 17H7v-7h2v7zm4 0h-2V7h2v10zm4 0h-2v-4h2v4z\"/>\n",
              "    </g>\n",
              "</svg>\n",
              "  </button>\n",
              "\n",
              "<style>\n",
              "  .colab-df-quickchart {\n",
              "      --bg-color: #E8F0FE;\n",
              "      --fill-color: #1967D2;\n",
              "      --hover-bg-color: #E2EBFA;\n",
              "      --hover-fill-color: #174EA6;\n",
              "      --disabled-fill-color: #AAA;\n",
              "      --disabled-bg-color: #DDD;\n",
              "  }\n",
              "\n",
              "  [theme=dark] .colab-df-quickchart {\n",
              "      --bg-color: #3B4455;\n",
              "      --fill-color: #D2E3FC;\n",
              "      --hover-bg-color: #434B5C;\n",
              "      --hover-fill-color: #FFFFFF;\n",
              "      --disabled-bg-color: #3B4455;\n",
              "      --disabled-fill-color: #666;\n",
              "  }\n",
              "\n",
              "  .colab-df-quickchart {\n",
              "    background-color: var(--bg-color);\n",
              "    border: none;\n",
              "    border-radius: 50%;\n",
              "    cursor: pointer;\n",
              "    display: none;\n",
              "    fill: var(--fill-color);\n",
              "    height: 32px;\n",
              "    padding: 0;\n",
              "    width: 32px;\n",
              "  }\n",
              "\n",
              "  .colab-df-quickchart:hover {\n",
              "    background-color: var(--hover-bg-color);\n",
              "    box-shadow: 0 1px 2px rgba(60, 64, 67, 0.3), 0 1px 3px 1px rgba(60, 64, 67, 0.15);\n",
              "    fill: var(--button-hover-fill-color);\n",
              "  }\n",
              "\n",
              "  .colab-df-quickchart-complete:disabled,\n",
              "  .colab-df-quickchart-complete:disabled:hover {\n",
              "    background-color: var(--disabled-bg-color);\n",
              "    fill: var(--disabled-fill-color);\n",
              "    box-shadow: none;\n",
              "  }\n",
              "\n",
              "  .colab-df-spinner {\n",
              "    border: 2px solid var(--fill-color);\n",
              "    border-color: transparent;\n",
              "    border-bottom-color: var(--fill-color);\n",
              "    animation:\n",
              "      spin 1s steps(1) infinite;\n",
              "  }\n",
              "\n",
              "  @keyframes spin {\n",
              "    0% {\n",
              "      border-color: transparent;\n",
              "      border-bottom-color: var(--fill-color);\n",
              "      border-left-color: var(--fill-color);\n",
              "    }\n",
              "    20% {\n",
              "      border-color: transparent;\n",
              "      border-left-color: var(--fill-color);\n",
              "      border-top-color: var(--fill-color);\n",
              "    }\n",
              "    30% {\n",
              "      border-color: transparent;\n",
              "      border-left-color: var(--fill-color);\n",
              "      border-top-color: var(--fill-color);\n",
              "      border-right-color: var(--fill-color);\n",
              "    }\n",
              "    40% {\n",
              "      border-color: transparent;\n",
              "      border-right-color: var(--fill-color);\n",
              "      border-top-color: var(--fill-color);\n",
              "    }\n",
              "    60% {\n",
              "      border-color: transparent;\n",
              "      border-right-color: var(--fill-color);\n",
              "    }\n",
              "    80% {\n",
              "      border-color: transparent;\n",
              "      border-right-color: var(--fill-color);\n",
              "      border-bottom-color: var(--fill-color);\n",
              "    }\n",
              "    90% {\n",
              "      border-color: transparent;\n",
              "      border-bottom-color: var(--fill-color);\n",
              "    }\n",
              "  }\n",
              "</style>\n",
              "\n",
              "  <script>\n",
              "    async function quickchart(key) {\n",
              "      const quickchartButtonEl =\n",
              "        document.querySelector('#' + key + ' button');\n",
              "      quickchartButtonEl.disabled = true;  // To prevent multiple clicks.\n",
              "      quickchartButtonEl.classList.add('colab-df-spinner');\n",
              "      try {\n",
              "        const charts = await google.colab.kernel.invokeFunction(\n",
              "            'suggestCharts', [key], {});\n",
              "      } catch (error) {\n",
              "        console.error('Error during call to suggestCharts:', error);\n",
              "      }\n",
              "      quickchartButtonEl.classList.remove('colab-df-spinner');\n",
              "      quickchartButtonEl.classList.add('colab-df-quickchart-complete');\n",
              "    }\n",
              "    (() => {\n",
              "      let quickchartButtonEl =\n",
              "        document.querySelector('#df-e8b9f312-701c-4d02-a649-23cb7e289aa3 button');\n",
              "      quickchartButtonEl.style.display =\n",
              "        google.colab.kernel.accessAllowed ? 'block' : 'none';\n",
              "    })();\n",
              "  </script>\n",
              "</div>\n",
              "\n",
              "    </div>\n",
              "  </div>\n"
            ],
            "application/vnd.google.colaboratory.intrinsic+json": {
              "type": "dataframe",
              "variable_name": "df",
              "summary": "{\n  \"name\": \"df\",\n  \"rows\": 1281,\n  \"fields\": [\n    {\n      \"column\": \"WBC\",\n      \"properties\": {\n        \"dtype\": \"number\",\n        \"std\": 3.5644657236981,\n        \"min\": 0.8,\n        \"max\": 45.7,\n        \"num_unique_values\": 278,\n        \"samples\": [\n          7.0,\n          3.92,\n          5.31\n        ],\n        \"semantic_type\": \"\",\n        \"description\": \"\"\n      }\n    },\n    {\n      \"column\": \"LYMp\",\n      \"properties\": {\n        \"dtype\": \"number\",\n        \"std\": 7.03872755168681,\n        \"min\": 6.2,\n        \"max\": 91.4,\n        \"num_unique_values\": 263,\n        \"samples\": [\n          21.1,\n          39.2,\n          34.4\n        ],\n        \"semantic_type\": \"\",\n        \"description\": \"\"\n      }\n    },\n    {\n      \"column\": \"NEUTp\",\n      \"properties\": {\n        \"dtype\": \"number\",\n        \"std\": 147.7462730322558,\n        \"min\": 0.7,\n        \"max\": 5317.0,\n        \"num_unique_values\": 267,\n        \"samples\": [\n          59.5,\n          65.9,\n          70.9\n        ],\n        \"semantic_type\": \"\",\n        \"description\": \"\"\n      }\n    },\n    {\n      \"column\": \"LYMn\",\n      \"properties\": {\n        \"dtype\": \"number\",\n        \"std\": 1.3356889933195526,\n        \"min\": 0.2,\n        \"max\": 41.8,\n        \"num_unique_values\": 51,\n        \"samples\": [\n          4.9,\n          14.0,\n          0.2\n        ],\n        \"semantic_type\": \"\",\n        \"description\": \"\"\n      }\n    },\n    {\n      \"column\": \"NEUTn\",\n      \"properties\": {\n        \"dtype\": \"number\",\n        \"std\": 2.872293679791248,\n        \"min\": 0.5,\n        \"max\": 79.0,\n        \"num_unique_values\": 103,\n        \"samples\": [\n          2.9,\n          5.1,\n          4.8\n        ],\n        \"semantic_type\": \"\",\n        \"description\": \"\"\n      }\n    },\n    {\n      \"column\": \"RBC\",\n      \"properties\": {\n        \"dtype\": \"number\",\n        \"std\": 2.8172003989850576,\n        \"min\": 1.36,\n        \"max\": 90.8,\n        \"num_unique_values\": 272,\n        \"samples\": [\n          5.08,\n          4.43,\n          4.02\n        ],\n        \"semantic_type\": \"\",\n        \"description\": \"\"\n      }\n    },\n    {\n      \"column\": \"HGB\",\n      \"properties\": {\n        \"dtype\": \"number\",\n        \"std\": 3.812897189033727,\n        \"min\": -10.0,\n        \"max\": 87.1,\n        \"num_unique_values\": 116,\n        \"samples\": [\n          15.3,\n          8.8,\n          11.8\n        ],\n        \"semantic_type\": \"\",\n        \"description\": \"\"\n      }\n    },\n    {\n      \"column\": \"HCT\",\n      \"properties\": {\n        \"dtype\": \"number\",\n        \"std\": 104.88610000339358,\n        \"min\": 2.0,\n        \"max\": 3715.0,\n        \"num_unique_values\": 206,\n        \"samples\": [\n          45.2,\n          38.9,\n          40.4\n        ],\n        \"semantic_type\": \"\",\n        \"description\": \"\"\n      }\n    },\n    {\n      \"column\": \"MCV\",\n      \"properties\": {\n        \"dtype\": \"number\",\n        \"std\": 27.177663383275863,\n        \"min\": -79.3,\n        \"max\": 990.0,\n        \"num_unique_values\": 317,\n        \"samples\": [\n          76.7,\n          63.2,\n          85.2\n        ],\n        \"semantic_type\": \"\",\n        \"description\": \"\"\n      }\n    },\n    {\n      \"column\": \"MCH\",\n      \"properties\": {\n        \"dtype\": \"number\",\n        \"std\": 111.17075617529844,\n        \"min\": 10.9,\n        \"max\": 3117.0,\n        \"num_unique_values\": 191,\n        \"samples\": [\n          33.1,\n          26.0,\n          35.2\n        ],\n        \"semantic_type\": \"\",\n        \"description\": \"\"\n      }\n    },\n    {\n      \"column\": \"MCHC\",\n      \"properties\": {\n        \"dtype\": \"number\",\n        \"std\": 3.300351990285641,\n        \"min\": 11.5,\n        \"max\": 92.8,\n        \"num_unique_values\": 126,\n        \"samples\": [\n          33.4,\n          31.1,\n          39.4\n        ],\n        \"semantic_type\": \"\",\n        \"description\": \"\"\n      }\n    },\n    {\n      \"column\": \"PLT\",\n      \"properties\": {\n        \"dtype\": \"number\",\n        \"std\": 93.01933568238567,\n        \"min\": 10.0,\n        \"max\": 660.0,\n        \"num_unique_values\": 291,\n        \"samples\": [\n          168.0,\n          281.0,\n          177.0\n        ],\n        \"semantic_type\": \"\",\n        \"description\": \"\"\n      }\n    },\n    {\n      \"column\": \"PDW\",\n      \"properties\": {\n        \"dtype\": \"number\",\n        \"std\": 3.005078624424339,\n        \"min\": 8.4,\n        \"max\": 97.0,\n        \"num_unique_values\": 104,\n        \"samples\": [\n          9.7,\n          15.8,\n          16.0\n        ],\n        \"semantic_type\": \"\",\n        \"description\": \"\"\n      }\n    },\n    {\n      \"column\": \"PCT\",\n      \"properties\": {\n        \"dtype\": \"number\",\n        \"std\": 0.6853505950424206,\n        \"min\": 0.01,\n        \"max\": 13.6,\n        \"num_unique_values\": 40,\n        \"samples\": [\n          0.1,\n          0.23,\n          0.11\n        ],\n        \"semantic_type\": \"\",\n        \"description\": \"\"\n      }\n    },\n    {\n      \"column\": \"Diagnosis\",\n      \"properties\": {\n        \"dtype\": \"category\",\n        \"num_unique_values\": 9,\n        \"samples\": [\n          \"Leukemia with thrombocytopenia\",\n          \"Iron deficiency anemia\",\n          \"Thrombocytopenia\"\n        ],\n        \"semantic_type\": \"\",\n        \"description\": \"\"\n      }\n    }\n  ]\n}"
            }
          },
          "metadata": {},
          "execution_count": 3
        }
      ]
    },
    {
      "cell_type": "markdown",
      "source": [
        "Data Dictionary:\n",
        "\n",
        "*HGB: The amount of hemoglobin in the blood,\n",
        "crucial for oxygen transport.\n",
        "*PlT: The number of platelets in the blood, involved in blood clotting.\n",
        "*WBC: The count of white blood cells, vital for immune response.\n",
        "*RBC: The count of red blood cells, responsible for oxygen transport.\n",
        "*MCV (Mean Corpuscular Volume): Average volume of a single red blood cell.\n",
        "*MCH (Mean Corpuscular Hemoglobin): Average amount of hemoglobin per red blood cell.\n",
        "*MCHC (Mean Corpuscular Hemoglobin Concentration): Average concentration of hemoglobin in red blood cells.\n",
        "*PDW: a measurement of the variability in platelet size distribution in the blood\n",
        "*PCT: A procalcitonin test can help your health care provider diagnose if you have sepsis from a bacterial infection or if you have a high risk of developing sepsis\n",
        "*Diagnosis: Anemia type based on the CBC parameters"
      ],
      "metadata": {
        "id": "q4tDAq0NaO63"
      }
    },
    {
      "cell_type": "code",
      "source": [
        "# revisando cuantos valores hay por cada clase\n",
        "counts = df[\"Diagnosis\"].value_counts()\n",
        "print (counts)"
      ],
      "metadata": {
        "colab": {
          "base_uri": "https://localhost:8080/"
        },
        "id": "Kq4SDhx1FmNk",
        "outputId": "0520c725-3abb-431c-bc41-aa0ff4064750"
      },
      "execution_count": 4,
      "outputs": [
        {
          "output_type": "stream",
          "name": "stdout",
          "text": [
            "Diagnosis\n",
            "Healthy                           336\n",
            "Normocytic hypochromic anemia     279\n",
            "Normocytic normochromic anemia    269\n",
            "Iron deficiency anemia            189\n",
            "Thrombocytopenia                   73\n",
            "Other microcytic anemia            59\n",
            "Leukemia                           47\n",
            "Macrocytic anemia                  18\n",
            "Leukemia with thrombocytopenia     11\n",
            "Name: count, dtype: int64\n"
          ]
        }
      ]
    },
    {
      "cell_type": "code",
      "source": [
        "df1 = df.copy()\n",
        "\n",
        "# reemplazar la columna gender por números para el clasificador\n",
        "df1[\"Diagnosis\"] = df1[\"Diagnosis\"].replace({\"Healthy\": 0,\n",
        "                   \"Normocytic hypochromic anemia\": 1,\n",
        "                   \"Normocytic normochromic anemia\": 2,\n",
        "                   \"Iron deficiency anemia\": 3, \"Thrombocytopenia\": 4,\n",
        "                   \"Other microcytic anemia\": 5, \"Leukemia\": 6,\n",
        "                   \"Macrocytic anemia\": 7, \"Leukemia with thrombocytopenia\": 8})\n",
        "df1.head()"
      ],
      "metadata": {
        "colab": {
          "base_uri": "https://localhost:8080/",
          "height": 226
        },
        "id": "o3g1-0R8F-In",
        "outputId": "2bd4d992-0e96-488c-d1d9-03c86b6368ba"
      },
      "execution_count": 5,
      "outputs": [
        {
          "output_type": "execute_result",
          "data": {
            "text/plain": [
              "    WBC  LYMp  NEUTp  LYMn  NEUTn   RBC  HGB    HCT   MCV   MCH  MCHC    PLT  \\\n",
              "0  10.0  43.2   50.1   4.3    5.0  2.77  7.3   24.2  87.7  26.3  30.1  189.0   \n",
              "1  10.0  42.4   52.3   4.2    5.3  2.84  7.3   25.0  88.2  25.7  20.2  180.0   \n",
              "2   7.2  30.7   60.7   2.2    4.4  3.97  9.0   30.5  77.0  22.6  29.5  148.0   \n",
              "3   6.0  30.2   63.5   1.8    3.8  4.22  3.8   32.8  77.9  23.2  29.8  143.0   \n",
              "4   4.2  39.1   53.7   1.6    2.3  3.93  0.4  316.0  80.6  23.9  29.7  236.0   \n",
              "\n",
              "    PDW   PCT  Diagnosis  \n",
              "0  12.5  0.17          1  \n",
              "1  12.5  0.16          1  \n",
              "2  14.3  0.14          3  \n",
              "3  11.3  0.12          3  \n",
              "4  12.8  0.22          1  "
            ],
            "text/html": [
              "\n",
              "  <div id=\"df-f746bb0b-adee-4377-a0e1-c4664db2d8e1\" class=\"colab-df-container\">\n",
              "    <div>\n",
              "<style scoped>\n",
              "    .dataframe tbody tr th:only-of-type {\n",
              "        vertical-align: middle;\n",
              "    }\n",
              "\n",
              "    .dataframe tbody tr th {\n",
              "        vertical-align: top;\n",
              "    }\n",
              "\n",
              "    .dataframe thead th {\n",
              "        text-align: right;\n",
              "    }\n",
              "</style>\n",
              "<table border=\"1\" class=\"dataframe\">\n",
              "  <thead>\n",
              "    <tr style=\"text-align: right;\">\n",
              "      <th></th>\n",
              "      <th>WBC</th>\n",
              "      <th>LYMp</th>\n",
              "      <th>NEUTp</th>\n",
              "      <th>LYMn</th>\n",
              "      <th>NEUTn</th>\n",
              "      <th>RBC</th>\n",
              "      <th>HGB</th>\n",
              "      <th>HCT</th>\n",
              "      <th>MCV</th>\n",
              "      <th>MCH</th>\n",
              "      <th>MCHC</th>\n",
              "      <th>PLT</th>\n",
              "      <th>PDW</th>\n",
              "      <th>PCT</th>\n",
              "      <th>Diagnosis</th>\n",
              "    </tr>\n",
              "  </thead>\n",
              "  <tbody>\n",
              "    <tr>\n",
              "      <th>0</th>\n",
              "      <td>10.0</td>\n",
              "      <td>43.2</td>\n",
              "      <td>50.1</td>\n",
              "      <td>4.3</td>\n",
              "      <td>5.0</td>\n",
              "      <td>2.77</td>\n",
              "      <td>7.3</td>\n",
              "      <td>24.2</td>\n",
              "      <td>87.7</td>\n",
              "      <td>26.3</td>\n",
              "      <td>30.1</td>\n",
              "      <td>189.0</td>\n",
              "      <td>12.5</td>\n",
              "      <td>0.17</td>\n",
              "      <td>1</td>\n",
              "    </tr>\n",
              "    <tr>\n",
              "      <th>1</th>\n",
              "      <td>10.0</td>\n",
              "      <td>42.4</td>\n",
              "      <td>52.3</td>\n",
              "      <td>4.2</td>\n",
              "      <td>5.3</td>\n",
              "      <td>2.84</td>\n",
              "      <td>7.3</td>\n",
              "      <td>25.0</td>\n",
              "      <td>88.2</td>\n",
              "      <td>25.7</td>\n",
              "      <td>20.2</td>\n",
              "      <td>180.0</td>\n",
              "      <td>12.5</td>\n",
              "      <td>0.16</td>\n",
              "      <td>1</td>\n",
              "    </tr>\n",
              "    <tr>\n",
              "      <th>2</th>\n",
              "      <td>7.2</td>\n",
              "      <td>30.7</td>\n",
              "      <td>60.7</td>\n",
              "      <td>2.2</td>\n",
              "      <td>4.4</td>\n",
              "      <td>3.97</td>\n",
              "      <td>9.0</td>\n",
              "      <td>30.5</td>\n",
              "      <td>77.0</td>\n",
              "      <td>22.6</td>\n",
              "      <td>29.5</td>\n",
              "      <td>148.0</td>\n",
              "      <td>14.3</td>\n",
              "      <td>0.14</td>\n",
              "      <td>3</td>\n",
              "    </tr>\n",
              "    <tr>\n",
              "      <th>3</th>\n",
              "      <td>6.0</td>\n",
              "      <td>30.2</td>\n",
              "      <td>63.5</td>\n",
              "      <td>1.8</td>\n",
              "      <td>3.8</td>\n",
              "      <td>4.22</td>\n",
              "      <td>3.8</td>\n",
              "      <td>32.8</td>\n",
              "      <td>77.9</td>\n",
              "      <td>23.2</td>\n",
              "      <td>29.8</td>\n",
              "      <td>143.0</td>\n",
              "      <td>11.3</td>\n",
              "      <td>0.12</td>\n",
              "      <td>3</td>\n",
              "    </tr>\n",
              "    <tr>\n",
              "      <th>4</th>\n",
              "      <td>4.2</td>\n",
              "      <td>39.1</td>\n",
              "      <td>53.7</td>\n",
              "      <td>1.6</td>\n",
              "      <td>2.3</td>\n",
              "      <td>3.93</td>\n",
              "      <td>0.4</td>\n",
              "      <td>316.0</td>\n",
              "      <td>80.6</td>\n",
              "      <td>23.9</td>\n",
              "      <td>29.7</td>\n",
              "      <td>236.0</td>\n",
              "      <td>12.8</td>\n",
              "      <td>0.22</td>\n",
              "      <td>1</td>\n",
              "    </tr>\n",
              "  </tbody>\n",
              "</table>\n",
              "</div>\n",
              "    <div class=\"colab-df-buttons\">\n",
              "\n",
              "  <div class=\"colab-df-container\">\n",
              "    <button class=\"colab-df-convert\" onclick=\"convertToInteractive('df-f746bb0b-adee-4377-a0e1-c4664db2d8e1')\"\n",
              "            title=\"Convert this dataframe to an interactive table.\"\n",
              "            style=\"display:none;\">\n",
              "\n",
              "  <svg xmlns=\"http://www.w3.org/2000/svg\" height=\"24px\" viewBox=\"0 -960 960 960\">\n",
              "    <path d=\"M120-120v-720h720v720H120Zm60-500h600v-160H180v160Zm220 220h160v-160H400v160Zm0 220h160v-160H400v160ZM180-400h160v-160H180v160Zm440 0h160v-160H620v160ZM180-180h160v-160H180v160Zm440 0h160v-160H620v160Z\"/>\n",
              "  </svg>\n",
              "    </button>\n",
              "\n",
              "  <style>\n",
              "    .colab-df-container {\n",
              "      display:flex;\n",
              "      gap: 12px;\n",
              "    }\n",
              "\n",
              "    .colab-df-convert {\n",
              "      background-color: #E8F0FE;\n",
              "      border: none;\n",
              "      border-radius: 50%;\n",
              "      cursor: pointer;\n",
              "      display: none;\n",
              "      fill: #1967D2;\n",
              "      height: 32px;\n",
              "      padding: 0 0 0 0;\n",
              "      width: 32px;\n",
              "    }\n",
              "\n",
              "    .colab-df-convert:hover {\n",
              "      background-color: #E2EBFA;\n",
              "      box-shadow: 0px 1px 2px rgba(60, 64, 67, 0.3), 0px 1px 3px 1px rgba(60, 64, 67, 0.15);\n",
              "      fill: #174EA6;\n",
              "    }\n",
              "\n",
              "    .colab-df-buttons div {\n",
              "      margin-bottom: 4px;\n",
              "    }\n",
              "\n",
              "    [theme=dark] .colab-df-convert {\n",
              "      background-color: #3B4455;\n",
              "      fill: #D2E3FC;\n",
              "    }\n",
              "\n",
              "    [theme=dark] .colab-df-convert:hover {\n",
              "      background-color: #434B5C;\n",
              "      box-shadow: 0px 1px 3px 1px rgba(0, 0, 0, 0.15);\n",
              "      filter: drop-shadow(0px 1px 2px rgba(0, 0, 0, 0.3));\n",
              "      fill: #FFFFFF;\n",
              "    }\n",
              "  </style>\n",
              "\n",
              "    <script>\n",
              "      const buttonEl =\n",
              "        document.querySelector('#df-f746bb0b-adee-4377-a0e1-c4664db2d8e1 button.colab-df-convert');\n",
              "      buttonEl.style.display =\n",
              "        google.colab.kernel.accessAllowed ? 'block' : 'none';\n",
              "\n",
              "      async function convertToInteractive(key) {\n",
              "        const element = document.querySelector('#df-f746bb0b-adee-4377-a0e1-c4664db2d8e1');\n",
              "        const dataTable =\n",
              "          await google.colab.kernel.invokeFunction('convertToInteractive',\n",
              "                                                    [key], {});\n",
              "        if (!dataTable) return;\n",
              "\n",
              "        const docLinkHtml = 'Like what you see? Visit the ' +\n",
              "          '<a target=\"_blank\" href=https://colab.research.google.com/notebooks/data_table.ipynb>data table notebook</a>'\n",
              "          + ' to learn more about interactive tables.';\n",
              "        element.innerHTML = '';\n",
              "        dataTable['output_type'] = 'display_data';\n",
              "        await google.colab.output.renderOutput(dataTable, element);\n",
              "        const docLink = document.createElement('div');\n",
              "        docLink.innerHTML = docLinkHtml;\n",
              "        element.appendChild(docLink);\n",
              "      }\n",
              "    </script>\n",
              "  </div>\n",
              "\n",
              "\n",
              "<div id=\"df-62709fa8-d2e6-4f3c-aeb7-fd9cb95fd482\">\n",
              "  <button class=\"colab-df-quickchart\" onclick=\"quickchart('df-62709fa8-d2e6-4f3c-aeb7-fd9cb95fd482')\"\n",
              "            title=\"Suggest charts\"\n",
              "            style=\"display:none;\">\n",
              "\n",
              "<svg xmlns=\"http://www.w3.org/2000/svg\" height=\"24px\"viewBox=\"0 0 24 24\"\n",
              "     width=\"24px\">\n",
              "    <g>\n",
              "        <path d=\"M19 3H5c-1.1 0-2 .9-2 2v14c0 1.1.9 2 2 2h14c1.1 0 2-.9 2-2V5c0-1.1-.9-2-2-2zM9 17H7v-7h2v7zm4 0h-2V7h2v10zm4 0h-2v-4h2v4z\"/>\n",
              "    </g>\n",
              "</svg>\n",
              "  </button>\n",
              "\n",
              "<style>\n",
              "  .colab-df-quickchart {\n",
              "      --bg-color: #E8F0FE;\n",
              "      --fill-color: #1967D2;\n",
              "      --hover-bg-color: #E2EBFA;\n",
              "      --hover-fill-color: #174EA6;\n",
              "      --disabled-fill-color: #AAA;\n",
              "      --disabled-bg-color: #DDD;\n",
              "  }\n",
              "\n",
              "  [theme=dark] .colab-df-quickchart {\n",
              "      --bg-color: #3B4455;\n",
              "      --fill-color: #D2E3FC;\n",
              "      --hover-bg-color: #434B5C;\n",
              "      --hover-fill-color: #FFFFFF;\n",
              "      --disabled-bg-color: #3B4455;\n",
              "      --disabled-fill-color: #666;\n",
              "  }\n",
              "\n",
              "  .colab-df-quickchart {\n",
              "    background-color: var(--bg-color);\n",
              "    border: none;\n",
              "    border-radius: 50%;\n",
              "    cursor: pointer;\n",
              "    display: none;\n",
              "    fill: var(--fill-color);\n",
              "    height: 32px;\n",
              "    padding: 0;\n",
              "    width: 32px;\n",
              "  }\n",
              "\n",
              "  .colab-df-quickchart:hover {\n",
              "    background-color: var(--hover-bg-color);\n",
              "    box-shadow: 0 1px 2px rgba(60, 64, 67, 0.3), 0 1px 3px 1px rgba(60, 64, 67, 0.15);\n",
              "    fill: var(--button-hover-fill-color);\n",
              "  }\n",
              "\n",
              "  .colab-df-quickchart-complete:disabled,\n",
              "  .colab-df-quickchart-complete:disabled:hover {\n",
              "    background-color: var(--disabled-bg-color);\n",
              "    fill: var(--disabled-fill-color);\n",
              "    box-shadow: none;\n",
              "  }\n",
              "\n",
              "  .colab-df-spinner {\n",
              "    border: 2px solid var(--fill-color);\n",
              "    border-color: transparent;\n",
              "    border-bottom-color: var(--fill-color);\n",
              "    animation:\n",
              "      spin 1s steps(1) infinite;\n",
              "  }\n",
              "\n",
              "  @keyframes spin {\n",
              "    0% {\n",
              "      border-color: transparent;\n",
              "      border-bottom-color: var(--fill-color);\n",
              "      border-left-color: var(--fill-color);\n",
              "    }\n",
              "    20% {\n",
              "      border-color: transparent;\n",
              "      border-left-color: var(--fill-color);\n",
              "      border-top-color: var(--fill-color);\n",
              "    }\n",
              "    30% {\n",
              "      border-color: transparent;\n",
              "      border-left-color: var(--fill-color);\n",
              "      border-top-color: var(--fill-color);\n",
              "      border-right-color: var(--fill-color);\n",
              "    }\n",
              "    40% {\n",
              "      border-color: transparent;\n",
              "      border-right-color: var(--fill-color);\n",
              "      border-top-color: var(--fill-color);\n",
              "    }\n",
              "    60% {\n",
              "      border-color: transparent;\n",
              "      border-right-color: var(--fill-color);\n",
              "    }\n",
              "    80% {\n",
              "      border-color: transparent;\n",
              "      border-right-color: var(--fill-color);\n",
              "      border-bottom-color: var(--fill-color);\n",
              "    }\n",
              "    90% {\n",
              "      border-color: transparent;\n",
              "      border-bottom-color: var(--fill-color);\n",
              "    }\n",
              "  }\n",
              "</style>\n",
              "\n",
              "  <script>\n",
              "    async function quickchart(key) {\n",
              "      const quickchartButtonEl =\n",
              "        document.querySelector('#' + key + ' button');\n",
              "      quickchartButtonEl.disabled = true;  // To prevent multiple clicks.\n",
              "      quickchartButtonEl.classList.add('colab-df-spinner');\n",
              "      try {\n",
              "        const charts = await google.colab.kernel.invokeFunction(\n",
              "            'suggestCharts', [key], {});\n",
              "      } catch (error) {\n",
              "        console.error('Error during call to suggestCharts:', error);\n",
              "      }\n",
              "      quickchartButtonEl.classList.remove('colab-df-spinner');\n",
              "      quickchartButtonEl.classList.add('colab-df-quickchart-complete');\n",
              "    }\n",
              "    (() => {\n",
              "      let quickchartButtonEl =\n",
              "        document.querySelector('#df-62709fa8-d2e6-4f3c-aeb7-fd9cb95fd482 button');\n",
              "      quickchartButtonEl.style.display =\n",
              "        google.colab.kernel.accessAllowed ? 'block' : 'none';\n",
              "    })();\n",
              "  </script>\n",
              "</div>\n",
              "\n",
              "    </div>\n",
              "  </div>\n"
            ],
            "application/vnd.google.colaboratory.intrinsic+json": {
              "type": "dataframe",
              "variable_name": "df1",
              "summary": "{\n  \"name\": \"df1\",\n  \"rows\": 1281,\n  \"fields\": [\n    {\n      \"column\": \"WBC\",\n      \"properties\": {\n        \"dtype\": \"number\",\n        \"std\": 3.5644657236981,\n        \"min\": 0.8,\n        \"max\": 45.7,\n        \"num_unique_values\": 278,\n        \"samples\": [\n          7.0,\n          3.92,\n          5.31\n        ],\n        \"semantic_type\": \"\",\n        \"description\": \"\"\n      }\n    },\n    {\n      \"column\": \"LYMp\",\n      \"properties\": {\n        \"dtype\": \"number\",\n        \"std\": 7.03872755168681,\n        \"min\": 6.2,\n        \"max\": 91.4,\n        \"num_unique_values\": 263,\n        \"samples\": [\n          21.1,\n          39.2,\n          34.4\n        ],\n        \"semantic_type\": \"\",\n        \"description\": \"\"\n      }\n    },\n    {\n      \"column\": \"NEUTp\",\n      \"properties\": {\n        \"dtype\": \"number\",\n        \"std\": 147.7462730322558,\n        \"min\": 0.7,\n        \"max\": 5317.0,\n        \"num_unique_values\": 267,\n        \"samples\": [\n          59.5,\n          65.9,\n          70.9\n        ],\n        \"semantic_type\": \"\",\n        \"description\": \"\"\n      }\n    },\n    {\n      \"column\": \"LYMn\",\n      \"properties\": {\n        \"dtype\": \"number\",\n        \"std\": 1.3356889933195526,\n        \"min\": 0.2,\n        \"max\": 41.8,\n        \"num_unique_values\": 51,\n        \"samples\": [\n          4.9,\n          14.0,\n          0.2\n        ],\n        \"semantic_type\": \"\",\n        \"description\": \"\"\n      }\n    },\n    {\n      \"column\": \"NEUTn\",\n      \"properties\": {\n        \"dtype\": \"number\",\n        \"std\": 2.872293679791248,\n        \"min\": 0.5,\n        \"max\": 79.0,\n        \"num_unique_values\": 103,\n        \"samples\": [\n          2.9,\n          5.1,\n          4.8\n        ],\n        \"semantic_type\": \"\",\n        \"description\": \"\"\n      }\n    },\n    {\n      \"column\": \"RBC\",\n      \"properties\": {\n        \"dtype\": \"number\",\n        \"std\": 2.8172003989850576,\n        \"min\": 1.36,\n        \"max\": 90.8,\n        \"num_unique_values\": 272,\n        \"samples\": [\n          5.08,\n          4.43,\n          4.02\n        ],\n        \"semantic_type\": \"\",\n        \"description\": \"\"\n      }\n    },\n    {\n      \"column\": \"HGB\",\n      \"properties\": {\n        \"dtype\": \"number\",\n        \"std\": 3.812897189033727,\n        \"min\": -10.0,\n        \"max\": 87.1,\n        \"num_unique_values\": 116,\n        \"samples\": [\n          15.3,\n          8.8,\n          11.8\n        ],\n        \"semantic_type\": \"\",\n        \"description\": \"\"\n      }\n    },\n    {\n      \"column\": \"HCT\",\n      \"properties\": {\n        \"dtype\": \"number\",\n        \"std\": 104.88610000339358,\n        \"min\": 2.0,\n        \"max\": 3715.0,\n        \"num_unique_values\": 206,\n        \"samples\": [\n          45.2,\n          38.9,\n          40.4\n        ],\n        \"semantic_type\": \"\",\n        \"description\": \"\"\n      }\n    },\n    {\n      \"column\": \"MCV\",\n      \"properties\": {\n        \"dtype\": \"number\",\n        \"std\": 27.177663383275863,\n        \"min\": -79.3,\n        \"max\": 990.0,\n        \"num_unique_values\": 317,\n        \"samples\": [\n          76.7,\n          63.2,\n          85.2\n        ],\n        \"semantic_type\": \"\",\n        \"description\": \"\"\n      }\n    },\n    {\n      \"column\": \"MCH\",\n      \"properties\": {\n        \"dtype\": \"number\",\n        \"std\": 111.17075617529844,\n        \"min\": 10.9,\n        \"max\": 3117.0,\n        \"num_unique_values\": 191,\n        \"samples\": [\n          33.1,\n          26.0,\n          35.2\n        ],\n        \"semantic_type\": \"\",\n        \"description\": \"\"\n      }\n    },\n    {\n      \"column\": \"MCHC\",\n      \"properties\": {\n        \"dtype\": \"number\",\n        \"std\": 3.300351990285641,\n        \"min\": 11.5,\n        \"max\": 92.8,\n        \"num_unique_values\": 126,\n        \"samples\": [\n          33.4,\n          31.1,\n          39.4\n        ],\n        \"semantic_type\": \"\",\n        \"description\": \"\"\n      }\n    },\n    {\n      \"column\": \"PLT\",\n      \"properties\": {\n        \"dtype\": \"number\",\n        \"std\": 93.01933568238567,\n        \"min\": 10.0,\n        \"max\": 660.0,\n        \"num_unique_values\": 291,\n        \"samples\": [\n          168.0,\n          281.0,\n          177.0\n        ],\n        \"semantic_type\": \"\",\n        \"description\": \"\"\n      }\n    },\n    {\n      \"column\": \"PDW\",\n      \"properties\": {\n        \"dtype\": \"number\",\n        \"std\": 3.005078624424339,\n        \"min\": 8.4,\n        \"max\": 97.0,\n        \"num_unique_values\": 104,\n        \"samples\": [\n          9.7,\n          15.8,\n          16.0\n        ],\n        \"semantic_type\": \"\",\n        \"description\": \"\"\n      }\n    },\n    {\n      \"column\": \"PCT\",\n      \"properties\": {\n        \"dtype\": \"number\",\n        \"std\": 0.6853505950424206,\n        \"min\": 0.01,\n        \"max\": 13.6,\n        \"num_unique_values\": 40,\n        \"samples\": [\n          0.1,\n          0.23,\n          0.11\n        ],\n        \"semantic_type\": \"\",\n        \"description\": \"\"\n      }\n    },\n    {\n      \"column\": \"Diagnosis\",\n      \"properties\": {\n        \"dtype\": \"number\",\n        \"std\": 1,\n        \"min\": 0,\n        \"max\": 8,\n        \"num_unique_values\": 9,\n        \"samples\": [\n          8,\n          3,\n          4\n        ],\n        \"semantic_type\": \"\",\n        \"description\": \"\"\n      }\n    }\n  ]\n}"
            }
          },
          "metadata": {},
          "execution_count": 5
        }
      ]
    },
    {
      "cell_type": "code",
      "source": [
        "# revisando cuantos valores hay por cada clase\n",
        "counts = df1[\"Diagnosis\"].value_counts()\n",
        "print (counts)"
      ],
      "metadata": {
        "colab": {
          "base_uri": "https://localhost:8080/"
        },
        "id": "jlnXxw5HIjDW",
        "outputId": "95f29951-2bab-4d07-d0f1-ff4ce2909f32"
      },
      "execution_count": 6,
      "outputs": [
        {
          "output_type": "stream",
          "name": "stdout",
          "text": [
            "Diagnosis\n",
            "0    336\n",
            "1    279\n",
            "2    269\n",
            "3    189\n",
            "4     73\n",
            "5     59\n",
            "6     47\n",
            "7     18\n",
            "8     11\n",
            "Name: count, dtype: int64\n"
          ]
        }
      ]
    },
    {
      "cell_type": "code",
      "source": [
        "#Any missing values?\n",
        "\n",
        "df.isnull().sum()"
      ],
      "metadata": {
        "colab": {
          "base_uri": "https://localhost:8080/"
        },
        "id": "sQ8BLXe_HgQW",
        "outputId": "52ec4c88-cb4d-41b9-a4f9-57449cc89dae"
      },
      "execution_count": 7,
      "outputs": [
        {
          "output_type": "execute_result",
          "data": {
            "text/plain": [
              "WBC          0\n",
              "LYMp         0\n",
              "NEUTp        0\n",
              "LYMn         0\n",
              "NEUTn        0\n",
              "RBC          0\n",
              "HGB          0\n",
              "HCT          0\n",
              "MCV          0\n",
              "MCH          0\n",
              "MCHC         0\n",
              "PLT          0\n",
              "PDW          0\n",
              "PCT          0\n",
              "Diagnosis    0\n",
              "dtype: int64"
            ]
          },
          "metadata": {},
          "execution_count": 7
        }
      ]
    },
    {
      "cell_type": "code",
      "source": [
        "#Checking data types\n",
        "\n",
        "df.info()"
      ],
      "metadata": {
        "colab": {
          "base_uri": "https://localhost:8080/"
        },
        "id": "_Nugf0tCHiTf",
        "outputId": "91ad1a07-1c05-45c9-f0e1-b6f5ff97af2f"
      },
      "execution_count": 8,
      "outputs": [
        {
          "output_type": "stream",
          "name": "stdout",
          "text": [
            "<class 'pandas.core.frame.DataFrame'>\n",
            "RangeIndex: 1281 entries, 0 to 1280\n",
            "Data columns (total 15 columns):\n",
            " #   Column     Non-Null Count  Dtype  \n",
            "---  ------     --------------  -----  \n",
            " 0   WBC        1281 non-null   float64\n",
            " 1   LYMp       1281 non-null   float64\n",
            " 2   NEUTp      1281 non-null   float64\n",
            " 3   LYMn       1281 non-null   float64\n",
            " 4   NEUTn      1281 non-null   float64\n",
            " 5   RBC        1281 non-null   float64\n",
            " 6   HGB        1281 non-null   float64\n",
            " 7   HCT        1281 non-null   float64\n",
            " 8   MCV        1281 non-null   float64\n",
            " 9   MCH        1281 non-null   float64\n",
            " 10  MCHC       1281 non-null   float64\n",
            " 11  PLT        1281 non-null   float64\n",
            " 12  PDW        1281 non-null   float64\n",
            " 13  PCT        1281 non-null   float64\n",
            " 14  Diagnosis  1281 non-null   object \n",
            "dtypes: float64(14), object(1)\n",
            "memory usage: 150.2+ KB\n"
          ]
        }
      ]
    },
    {
      "cell_type": "code",
      "source": [
        "#Any duplicate rows?\n",
        "#df1 = df.copy() se comenta porque antes se hizo la copia\n",
        "\n",
        "n_dup = len(df1) - len(df1.drop_duplicates())\n",
        "\n",
        "print(f\"Number of duplicate rows: {n_dup}\")\n",
        "\n",
        "if n_dup > 0:\n",
        "   # Eliminar filas duplicadas\n",
        "   df = df1.drop_duplicates()\n",
        "   n_dup = len(df1) - len(df1.drop_duplicates())\n",
        "   print(f\"Number of duplicate rows: {n_dup}\")"
      ],
      "metadata": {
        "colab": {
          "base_uri": "https://localhost:8080/"
        },
        "id": "X_gcT7ESIULk",
        "outputId": "ad3d6157-5653-4089-9c97-6ad8da893fc9"
      },
      "execution_count": 9,
      "outputs": [
        {
          "output_type": "stream",
          "name": "stdout",
          "text": [
            "Number of duplicate rows: 49\n",
            "Number of duplicate rows: 49\n"
          ]
        }
      ]
    },
    {
      "cell_type": "code",
      "execution_count": 10,
      "metadata": {
        "id": "I2akBAh7Cm8T",
        "colab": {
          "base_uri": "https://localhost:8080/"
        },
        "outputId": "bb3071bd-fa94-42af-cd78-f3fa023b296f"
      },
      "outputs": [
        {
          "output_type": "execute_result",
          "data": {
            "text/plain": [
              "array([[10.        , 43.2       , 50.1       , ..., 12.5       ,\n",
              "         0.17      ,  1.        ],\n",
              "       [10.        , 42.4       , 52.3       , ..., 12.5       ,\n",
              "         0.16      ,  1.        ],\n",
              "       [ 7.2       , 30.7       , 60.7       , ..., 14.3       ,\n",
              "         0.14      ,  3.        ],\n",
              "       ...,\n",
              "       [ 9.2       , 25.845     , 77.511     , ..., 14.31251157,\n",
              "         0.26028   ,  0.        ],\n",
              "       [ 6.48      , 25.845     , 77.511     , ..., 14.31251157,\n",
              "         0.26028   ,  0.        ],\n",
              "       [ 8.8       , 25.845     , 77.511     , ..., 14.31251157,\n",
              "         0.26028   ,  0.        ]])"
            ]
          },
          "metadata": {},
          "execution_count": 10
        }
      ],
      "source": [
        "dataset = df1.values\n",
        "dataset\n",
        "\n"
      ]
    },
    {
      "cell_type": "code",
      "source": [
        "# Asignando todas las columnas excepto la última a X\n",
        "X = dataset[:, :-1]\n",
        "\n",
        "# Configurar la opción para mostrar números completos\n",
        "np.set_printoptions(suppress=True)\n",
        "\n",
        "# Imprimir el array sin notación científica\n",
        "#print(X)\n",
        "X\n"
      ],
      "metadata": {
        "colab": {
          "base_uri": "https://localhost:8080/"
        },
        "id": "YTu_4W-BKiHD",
        "outputId": "dd151333-30b2-4866-ca43-2e3c7650f6f2"
      },
      "execution_count": 11,
      "outputs": [
        {
          "output_type": "execute_result",
          "data": {
            "text/plain": [
              "array([[ 10.        ,  43.2       ,  50.1       , ..., 189.        ,\n",
              "         12.5       ,   0.17      ],\n",
              "       [ 10.        ,  42.4       ,  52.3       , ..., 180.        ,\n",
              "         12.5       ,   0.16      ],\n",
              "       [  7.2       ,  30.7       ,  60.7       , ..., 148.        ,\n",
              "         14.3       ,   0.14      ],\n",
              "       ...,\n",
              "       [  9.2       ,  25.845     ,  77.511     , ..., 329.        ,\n",
              "         14.31251157,   0.26028   ],\n",
              "       [  6.48      ,  25.845     ,  77.511     , ..., 174.        ,\n",
              "         14.31251157,   0.26028   ],\n",
              "       [  8.8       ,  25.845     ,  77.511     , ..., 279.        ,\n",
              "         14.31251157,   0.26028   ]])"
            ]
          },
          "metadata": {},
          "execution_count": 11
        }
      ]
    },
    {
      "cell_type": "code",
      "source": [
        "# Obteniendo el número de filas\n",
        "num_filas = len(X)\n",
        "\n",
        "# Imprimiendo el número de filas\n",
        "print(f\"X tiene {num_filas} filas.\")"
      ],
      "metadata": {
        "colab": {
          "base_uri": "https://localhost:8080/"
        },
        "id": "phTqdnNrMfd5",
        "outputId": "9b771996-8eec-4535-a1fd-dad20159290e"
      },
      "execution_count": 12,
      "outputs": [
        {
          "output_type": "stream",
          "name": "stdout",
          "text": [
            "X tiene 1281 filas.\n"
          ]
        }
      ]
    },
    {
      "cell_type": "code",
      "execution_count": 13,
      "metadata": {
        "id": "ma8mFQwGCm8T",
        "outputId": "629f7260-54ce-4b6a-8410-a463527cb1ab",
        "colab": {
          "base_uri": "https://localhost:8080/"
        }
      },
      "outputs": [
        {
          "output_type": "execute_result",
          "data": {
            "text/plain": [
              "array([1., 1., 3., ..., 0., 0., 0.])"
            ]
          },
          "metadata": {},
          "execution_count": 13
        }
      ],
      "source": [
        "# Asignando la última columna a y\n",
        "y = dataset[:, -1]\n",
        "y"
      ]
    },
    {
      "cell_type": "code",
      "source": [
        "min_value = np.min(y)\n",
        "max_value = np.max(y)\n",
        "print(\"Valor mínimo en y:\", min_value)\n",
        "print(\"Valor máximo en y:\", max_value)"
      ],
      "metadata": {
        "colab": {
          "base_uri": "https://localhost:8080/"
        },
        "id": "ZGkJZcI9Y1Q6",
        "outputId": "6cb3efe4-9bc5-4ef6-c725-bf622d22e336"
      },
      "execution_count": 14,
      "outputs": [
        {
          "output_type": "stream",
          "name": "stdout",
          "text": [
            "Valor mínimo en y: 0.0\n",
            "Valor máximo en y: 8.0\n"
          ]
        }
      ]
    },
    {
      "cell_type": "code",
      "source": [
        "# Obteniendo el número de filas\n",
        "num_filas = len(y)\n",
        "\n",
        "# Imprimiendo el número de filas\n",
        "print(f\"y tiene {num_filas} filas.\")"
      ],
      "metadata": {
        "colab": {
          "base_uri": "https://localhost:8080/"
        },
        "id": "-E3Sgf5TMrQy",
        "outputId": "7c01b7bd-c954-48ff-c68c-32f162ea2e1a"
      },
      "execution_count": 15,
      "outputs": [
        {
          "output_type": "stream",
          "name": "stdout",
          "text": [
            "y tiene 1281 filas.\n"
          ]
        }
      ]
    },
    {
      "cell_type": "markdown",
      "metadata": {
        "id": "0z-r4-wICm8U"
      },
      "source": [
        "We then have 1281 rows, each of which represents a Anemia Types. Anemia Types has 14 features we can use for our prediction, and each Anemia Types belongs to 1 of 8 types, represented by the number 0 through 7. The task for our neural network is to train with this dataset and then predict the type of Anemia that the neural network has not seen before.\n"
      ]
    },
    {
      "cell_type": "code",
      "execution_count": 16,
      "metadata": {
        "id": "beWud7gTCm8U",
        "outputId": "3598d712-add9-44e6-8baa-24320e628a52",
        "colab": {
          "base_uri": "https://localhost:8080/"
        }
      },
      "outputs": [
        {
          "output_type": "execute_result",
          "data": {
            "text/plain": [
              "array([[  4.5       ,  25.8       ,  64.4       , ..., 128.        ,\n",
              "         12.8       ,   0.12      ],\n",
              "       [  7.4       ,  25.845     ,  77.511     , ..., 280.        ,\n",
              "         13.6       ,   0.26028   ],\n",
              "       [  7.2       ,  25.845     ,  77.511     , ..., 330.        ,\n",
              "         25.        ,   0.26028   ],\n",
              "       ...,\n",
              "       [ 10.31      ,  25.845     ,  77.511     , ..., 179.        ,\n",
              "         14.31251157,   0.26028   ],\n",
              "       [  5.9       ,  25.845     ,  77.511     , ..., 200.        ,\n",
              "         13.3       ,   0.26028   ],\n",
              "       [  9.09      ,  25.845     ,  77.511     , ..., 230.        ,\n",
              "         14.31251157,   0.26028   ]])"
            ]
          },
          "metadata": {},
          "execution_count": 16
        }
      ],
      "source": [
        "# Let's get a train and test set. We'll use 20% of our database (30 flowers) as a test set.\n",
        "X_train, X_test, y_train, y_test = train_test_split(X, y, test_size=0.2, random_state=42)\n",
        "X_train"
      ]
    },
    {
      "cell_type": "markdown",
      "metadata": {
        "id": "in8P3eTECm8U"
      },
      "source": [
        "The first step when using Tensorflow is to initialize the model. The model we saw in previous examples is a \"Sequential\" model, so we will ask Tensorflow to initialize it without any layers at first."
      ]
    },
    {
      "cell_type": "code",
      "execution_count": 17,
      "metadata": {
        "id": "JGXhNhM7Cm8U"
      },
      "outputs": [],
      "source": [
        "# First, we initialize the model.\n",
        "model = tf.keras.models.Sequential()"
      ]
    },
    {
      "cell_type": "markdown",
      "metadata": {
        "id": "kj_wcAuXCm8U"
      },
      "source": [
        "Now, we will add our layers to this empty model. We will first add our input layer, then a couple of hidden layers, and finally our output layer. Notice how we chose to use ReLU functions as our activation function, but we could have just as well chosen one of many others. We choose 10 neurons as our width for no particular reason. Usually, a larger model gives better results, but needs more and more diverse data to work well."
      ]
    },
    {
      "cell_type": "code",
      "execution_count": 18,
      "metadata": {
        "id": "PtC5fKlBCm8V",
        "colab": {
          "base_uri": "https://localhost:8080/"
        },
        "outputId": "81918dcc-ffa3-4a8c-ca75-f51b3d4942bd"
      },
      "outputs": [
        {
          "output_type": "stream",
          "name": "stderr",
          "text": [
            "/usr/local/lib/python3.10/dist-packages/keras/src/layers/core/dense.py:87: UserWarning: Do not pass an `input_shape`/`input_dim` argument to a layer. When using Sequential models, prefer using an `Input(shape)` object as the first layer in the model instead.\n",
            "  super().__init__(activity_regularizer=activity_regularizer, **kwargs)\n"
          ]
        }
      ],
      "source": [
        "# First our input layer. For this layer, and this layer only, we need to specify the size of our input. For our dataset this means the amount of columns in our X.\n",
        "model.add(tf.keras.layers.Dense(10, activation=tf.nn.relu, input_shape=(X.shape[1],)))\n",
        "# Now some hidden layers\n",
        "model.add(tf.keras.layers.Dense(10, activation=tf.nn.relu))\n",
        "model.add(tf.keras.layers.Dense(10, activation=tf.nn.relu))\n",
        "# Finally, our output layer. Since we have 9 possible types, we need 9 output neurons.\n",
        "# For a regression problem, we would have only 1. For an image creation network, we would have as many pixels as the image we wanted to create!\n",
        "model.add(tf.keras.layers.Dense(9))\n",
        "# A final layer with several output neurons gives us logits as results. We can do a final pass with a Softmax layer to turn them into percentages.\n",
        "model.add(tf.keras.layers.Softmax())"
      ]
    },
    {
      "cell_type": "markdown",
      "metadata": {
        "id": "vndLLilzCm8V"
      },
      "source": [
        "Now, we will decide on an _optimizer_. The optimizer is the algorithm which determines how much we move each weight down the slope we found by backpropagation. There are many possible choices, most of which are based on Stochastic Gradient Descent. [One of the most popular ones right now is \"Adam\"](https://machinelearningmastery.com/adam-optimization-algorithm-for-deep-learning/#:~:text=Adam%20is%20an%20optimization%20algorithm,iterative%20based%20in%20training%20data.&text=The%20algorithm%20is%20called%20Adam.), so that's the one we will use. The word \"stochastic\" means random process. That is why neural networks don't always get the same results even if you train them twice on exactly the same data with the same parameters. Making the process random makes it quicker, but less reliable. SGD and its child algorithms are a large part of the reason why training neural networks is now feasible.\n",
        "\n",
        "The __learning rate__ is the amount of space we expect to move down the slope on each cycle of learning. The larger this number, the more we move, but the less precise the movement.\n",
        "\n",
        "<table>\n",
        "  <tr><td>\n",
        "    <img src=\"media/optims.gif\" width=\"70%\"\n",
        "         alt=\"Optimization algorithms visualized over time in 3D space.\">\n",
        "  </td></tr>\n",
        "  <tr><td align=\"center\">\n",
        "   Optimization algorithms visualized over time in 3D space.<br/>(Source: <a href=\"http://cs231n.github.io/neural-networks-3/\">Stanford class CS231n</a>, MIT License, Image credit: <a href=\"https://twitter.com/alecrad\">Alec Radford</a>)\n",
        "  </td></tr>\n",
        "</table>"
      ]
    },
    {
      "cell_type": "code",
      "execution_count": 19,
      "metadata": {
        "id": "VdUZqm68Cm8V"
      },
      "outputs": [],
      "source": [
        "optim = tf.keras.optimizers.Adam(learning_rate=0.01)"
      ]
    },
    {
      "cell_type": "markdown",
      "metadata": {
        "id": "JLLkOZrJCm8V"
      },
      "source": [
        "Finally, we compile our final model and train with our data. Notice how we need to define a loss function, but we can also calculate other additional metrics to keep tabs on how our model is doing. The reason we can't use accuracy as our loss function is because the loss function _must_ be differentiable in order for backpropagation to work.\n",
        "\n",
        "We also define a batch size: This is the amount of example we feed into our model at a time. You usually want this to be a power of 2, due to the way GPUs process data. 32 is a good starting point."
      ]
    },
    {
      "cell_type": "code",
      "source": [
        "print(y_train)\n",
        "min_value = np.min(y_train)\n",
        "max_value = np.max(y_train)\n",
        "print(\"Valor mínimo en y_train:\", min_value)\n",
        "print(\"Valor máximo en y_train:\", max_value)"
      ],
      "metadata": {
        "id": "1MAymW8JTwB9",
        "colab": {
          "base_uri": "https://localhost:8080/"
        },
        "outputId": "d5252953-1f69-4035-ad4d-9392fcd9c047"
      },
      "execution_count": 20,
      "outputs": [
        {
          "output_type": "stream",
          "name": "stdout",
          "text": [
            "[1. 2. 0. ... 2. 5. 1.]\n",
            "Valor mínimo en y_train: 0.0\n",
            "Valor máximo en y_train: 8.0\n"
          ]
        }
      ]
    },
    {
      "cell_type": "code",
      "source": [
        "# Verificar valores únicos\n",
        "unique_labels = np.unique(y_train)\n",
        "print(\"Valores únicos en y_train:\", unique_labels)\n",
        "\n",
        "# Verificar rango\n",
        "min_value = np.min(y_train)\n",
        "max_value = np.max(y_train)\n",
        "print(\"Valor mínimo en y_train:\", min_value)\n",
        "print(\"Valor máximo en y_train:\", max_value)"
      ],
      "metadata": {
        "id": "IK7Y54oqR5SB",
        "colab": {
          "base_uri": "https://localhost:8080/"
        },
        "outputId": "50e03245-8fcf-48b8-9c41-81a0a8eccd27"
      },
      "execution_count": 21,
      "outputs": [
        {
          "output_type": "stream",
          "name": "stdout",
          "text": [
            "Valores únicos en y_train: [0. 1. 2. 3. 4. 5. 6. 7. 8.]\n",
            "Valor mínimo en y_train: 0.0\n",
            "Valor máximo en y_train: 8.0\n"
          ]
        }
      ]
    },
    {
      "cell_type": "code",
      "source": [
        "# Ajustar valores negativos a un valor válido (por ejemplo, 0)\n",
        "#y_train_adjusted = np.where(y_train < 0, 0, y_train)\n",
        "\n",
        "# Verificar valores únicos\n",
        "#unique_labels = np.unique(y_train_adjusted)\n",
        "#print(\"Valores únicos en y_train ajustado:\", unique_labels)\n",
        "\n",
        "# Verificar rango\n",
        "#min_value = np.min(y_train_adjusted)\n",
        "#max_value = np.max(y_train_adjusted)\n",
        "#print(\"Valor mínimo en y_train ajustado:\", min_value)\n",
        "#print(\"Valor máximo en y_train ajustado:\", max_value)"
      ],
      "metadata": {
        "id": "JHfguyb7SwHD"
      },
      "execution_count": 22,
      "outputs": []
    },
    {
      "cell_type": "code",
      "execution_count": 23,
      "metadata": {
        "id": "46do72eqCm8V",
        "colab": {
          "base_uri": "https://localhost:8080/"
        },
        "outputId": "576462ea-835e-431f-d3b8-55338d72a715"
      },
      "outputs": [
        {
          "output_type": "stream",
          "name": "stdout",
          "text": [
            "Epoch 1/20\n",
            "\u001b[1m32/32\u001b[0m \u001b[32m━━━━━━━━━━━━━━━━━━━━\u001b[0m\u001b[37m\u001b[0m \u001b[1m3s\u001b[0m 17ms/step - accuracy: 0.2168 - loss: 14.5164 - val_accuracy: 0.2296 - val_loss: 2.2499\n",
            "Epoch 2/20\n",
            "\u001b[1m32/32\u001b[0m \u001b[32m━━━━━━━━━━━━━━━━━━━━\u001b[0m\u001b[37m\u001b[0m \u001b[1m0s\u001b[0m 4ms/step - accuracy: 0.2706 - loss: 2.5126 - val_accuracy: 0.2451 - val_loss: 1.8378\n",
            "Epoch 3/20\n",
            "\u001b[1m32/32\u001b[0m \u001b[32m━━━━━━━━━━━━━━━━━━━━\u001b[0m\u001b[37m\u001b[0m \u001b[1m0s\u001b[0m 6ms/step - accuracy: 0.3052 - loss: 1.8935 - val_accuracy: 0.3969 - val_loss: 1.5394\n",
            "Epoch 4/20\n",
            "\u001b[1m32/32\u001b[0m \u001b[32m━━━━━━━━━━━━━━━━━━━━\u001b[0m\u001b[37m\u001b[0m \u001b[1m0s\u001b[0m 5ms/step - accuracy: 0.4014 - loss: 1.6354 - val_accuracy: 0.4163 - val_loss: 1.4826\n",
            "Epoch 5/20\n",
            "\u001b[1m32/32\u001b[0m \u001b[32m━━━━━━━━━━━━━━━━━━━━\u001b[0m\u001b[37m\u001b[0m \u001b[1m0s\u001b[0m 5ms/step - accuracy: 0.4243 - loss: 1.5638 - val_accuracy: 0.4708 - val_loss: 1.5038\n",
            "Epoch 6/20\n",
            "\u001b[1m32/32\u001b[0m \u001b[32m━━━━━━━━━━━━━━━━━━━━\u001b[0m\u001b[37m\u001b[0m \u001b[1m0s\u001b[0m 6ms/step - accuracy: 0.4665 - loss: 1.4636 - val_accuracy: 0.4825 - val_loss: 1.5164\n",
            "Epoch 7/20\n",
            "\u001b[1m32/32\u001b[0m \u001b[32m━━━━━━━━━━━━━━━━━━━━\u001b[0m\u001b[37m\u001b[0m \u001b[1m0s\u001b[0m 6ms/step - accuracy: 0.4827 - loss: 1.5218 - val_accuracy: 0.4475 - val_loss: 1.5003\n",
            "Epoch 8/20\n",
            "\u001b[1m32/32\u001b[0m \u001b[32m━━━━━━━━━━━━━━━━━━━━\u001b[0m\u001b[37m\u001b[0m \u001b[1m0s\u001b[0m 5ms/step - accuracy: 0.4500 - loss: 1.4920 - val_accuracy: 0.4475 - val_loss: 1.4999\n",
            "Epoch 9/20\n",
            "\u001b[1m32/32\u001b[0m \u001b[32m━━━━━━━━━━━━━━━━━━━━\u001b[0m\u001b[37m\u001b[0m \u001b[1m0s\u001b[0m 6ms/step - accuracy: 0.4345 - loss: 1.5204 - val_accuracy: 0.4241 - val_loss: 1.5522\n",
            "Epoch 10/20\n",
            "\u001b[1m32/32\u001b[0m \u001b[32m━━━━━━━━━━━━━━━━━━━━\u001b[0m\u001b[37m\u001b[0m \u001b[1m0s\u001b[0m 10ms/step - accuracy: 0.4513 - loss: 1.5079 - val_accuracy: 0.5370 - val_loss: 1.4153\n",
            "Epoch 11/20\n",
            "\u001b[1m32/32\u001b[0m \u001b[32m━━━━━━━━━━━━━━━━━━━━\u001b[0m\u001b[37m\u001b[0m \u001b[1m1s\u001b[0m 9ms/step - accuracy: 0.4702 - loss: 1.5033 - val_accuracy: 0.4008 - val_loss: 1.4565\n",
            "Epoch 12/20\n",
            "\u001b[1m32/32\u001b[0m \u001b[32m━━━━━━━━━━━━━━━━━━━━\u001b[0m\u001b[37m\u001b[0m \u001b[1m1s\u001b[0m 14ms/step - accuracy: 0.4869 - loss: 1.3985 - val_accuracy: 0.5214 - val_loss: 1.3555\n",
            "Epoch 13/20\n",
            "\u001b[1m32/32\u001b[0m \u001b[32m━━━━━━━━━━━━━━━━━━━━\u001b[0m\u001b[37m\u001b[0m \u001b[1m1s\u001b[0m 13ms/step - accuracy: 0.4551 - loss: 1.4843 - val_accuracy: 0.4942 - val_loss: 1.3923\n",
            "Epoch 14/20\n",
            "\u001b[1m32/32\u001b[0m \u001b[32m━━━━━━━━━━━━━━━━━━━━\u001b[0m\u001b[37m\u001b[0m \u001b[1m1s\u001b[0m 16ms/step - accuracy: 0.5117 - loss: 1.3707 - val_accuracy: 0.4903 - val_loss: 1.5502\n",
            "Epoch 15/20\n",
            "\u001b[1m32/32\u001b[0m \u001b[32m━━━━━━━━━━━━━━━━━━━━\u001b[0m\u001b[37m\u001b[0m \u001b[1m0s\u001b[0m 4ms/step - accuracy: 0.5068 - loss: 1.3594 - val_accuracy: 0.5642 - val_loss: 1.3745\n",
            "Epoch 16/20\n",
            "\u001b[1m32/32\u001b[0m \u001b[32m━━━━━━━━━━━━━━━━━━━━\u001b[0m\u001b[37m\u001b[0m \u001b[1m0s\u001b[0m 4ms/step - accuracy: 0.5446 - loss: 1.2901 - val_accuracy: 0.4086 - val_loss: 1.6667\n",
            "Epoch 17/20\n",
            "\u001b[1m32/32\u001b[0m \u001b[32m━━━━━━━━━━━━━━━━━━━━\u001b[0m\u001b[37m\u001b[0m \u001b[1m0s\u001b[0m 3ms/step - accuracy: 0.4913 - loss: 1.4048 - val_accuracy: 0.5486 - val_loss: 1.3481\n",
            "Epoch 18/20\n",
            "\u001b[1m32/32\u001b[0m \u001b[32m━━━━━━━━━━━━━━━━━━━━\u001b[0m\u001b[37m\u001b[0m \u001b[1m0s\u001b[0m 3ms/step - accuracy: 0.5461 - loss: 1.2420 - val_accuracy: 0.4942 - val_loss: 1.4410\n",
            "Epoch 19/20\n",
            "\u001b[1m32/32\u001b[0m \u001b[32m━━━━━━━━━━━━━━━━━━━━\u001b[0m\u001b[37m\u001b[0m \u001b[1m0s\u001b[0m 3ms/step - accuracy: 0.5644 - loss: 1.2575 - val_accuracy: 0.5253 - val_loss: 1.4569\n",
            "Epoch 20/20\n",
            "\u001b[1m32/32\u001b[0m \u001b[32m━━━━━━━━━━━━━━━━━━━━\u001b[0m\u001b[37m\u001b[0m \u001b[1m0s\u001b[0m 2ms/step - accuracy: 0.5813 - loss: 1.2339 - val_accuracy: 0.5681 - val_loss: 1.3098\n"
          ]
        }
      ],
      "source": [
        "model.compile(\n",
        "    loss=tf.keras.losses.SparseCategoricalCrossentropy(from_logits=False),\n",
        "    optimizer=optim,metrics=['accuracy'])\n",
        "history = model.fit(X_train, y_train,\n",
        "        validation_data=(X_test, y_test),\n",
        "        epochs = 20,\n",
        "        batch_size=32)"
      ]
    },
    {
      "cell_type": "markdown",
      "metadata": {
        "id": "ChVeprSYCm8W"
      },
      "source": [
        "Our model is now trained! We can see both the performance it had vs the data it was training on (`loss` and `accuracy`), and its performance vs the test data as it trained (`val_loss` and `val_accuracy`). This history an be easily saved since the `.fit()` method returns the results for each epoch."
      ]
    },
    {
      "cell_type": "code",
      "execution_count": 24,
      "metadata": {
        "id": "K15UrGi3Cm8W",
        "colab": {
          "base_uri": "https://localhost:8080/"
        },
        "outputId": "26e91091-f052-40e6-a437-9ca72821b658"
      },
      "outputs": [
        {
          "output_type": "execute_result",
          "data": {
            "text/plain": [
              "{'accuracy': [0.236328125,\n",
              "  0.2880859375,\n",
              "  0.326171875,\n",
              "  0.4111328125,\n",
              "  0.4287109375,\n",
              "  0.4541015625,\n",
              "  0.4638671875,\n",
              "  0.4453125,\n",
              "  0.4228515625,\n",
              "  0.4609375,\n",
              "  0.49609375,\n",
              "  0.50390625,\n",
              "  0.455078125,\n",
              "  0.51953125,\n",
              "  0.5068359375,\n",
              "  0.490234375,\n",
              "  0.5146484375,\n",
              "  0.5517578125,\n",
              "  0.5615234375,\n",
              "  0.576171875],\n",
              " 'loss': [8.369799613952637,\n",
              "  2.4705874919891357,\n",
              "  1.807314157485962,\n",
              "  1.6516693830490112,\n",
              "  1.5889310836791992,\n",
              "  1.5332766771316528,\n",
              "  1.4874553680419922,\n",
              "  1.5259814262390137,\n",
              "  1.581877589225769,\n",
              "  1.5244355201721191,\n",
              "  1.4460002183914185,\n",
              "  1.4052479267120361,\n",
              "  1.467743158340454,\n",
              "  1.3952351808547974,\n",
              "  1.3654940128326416,\n",
              "  1.4016040563583374,\n",
              "  1.3658684492111206,\n",
              "  1.2700542211532593,\n",
              "  1.269904375076294,\n",
              "  1.2181018590927124],\n",
              " 'val_accuracy': [0.22957198321819305,\n",
              "  0.24513618648052216,\n",
              "  0.3968871533870697,\n",
              "  0.4163424074649811,\n",
              "  0.47081711888313293,\n",
              "  0.48249027132987976,\n",
              "  0.4474708139896393,\n",
              "  0.4474708139896393,\n",
              "  0.42412450909614563,\n",
              "  0.5369649529457092,\n",
              "  0.400778204202652,\n",
              "  0.5214007496833801,\n",
              "  0.4941634237766266,\n",
              "  0.4902723729610443,\n",
              "  0.5642023086547852,\n",
              "  0.40856030583381653,\n",
              "  0.548638105392456,\n",
              "  0.4941634237766266,\n",
              "  0.5252918004989624,\n",
              "  0.5680933594703674],\n",
              " 'val_loss': [2.249877691268921,\n",
              "  1.8378229141235352,\n",
              "  1.5394349098205566,\n",
              "  1.4826020002365112,\n",
              "  1.5037667751312256,\n",
              "  1.5163753032684326,\n",
              "  1.5003482103347778,\n",
              "  1.499922275543213,\n",
              "  1.552228331565857,\n",
              "  1.4153348207473755,\n",
              "  1.4565497636795044,\n",
              "  1.3555352687835693,\n",
              "  1.392258882522583,\n",
              "  1.550223469734192,\n",
              "  1.3745181560516357,\n",
              "  1.6666635274887085,\n",
              "  1.3481333255767822,\n",
              "  1.4409912824630737,\n",
              "  1.4568873643875122,\n",
              "  1.3098013401031494]}"
            ]
          },
          "metadata": {},
          "execution_count": 24
        }
      ],
      "source": [
        "history.history"
      ]
    },
    {
      "cell_type": "code",
      "execution_count": 25,
      "metadata": {
        "id": "F3RHh0X0Cm8W",
        "colab": {
          "base_uri": "https://localhost:8080/",
          "height": 472
        },
        "outputId": "dc7a2b9e-4e55-4628-e455-75aea3cca59b"
      },
      "outputs": [
        {
          "output_type": "display_data",
          "data": {
            "text/plain": [
              "<Figure size 640x480 with 1 Axes>"
            ],
            "image/png": "[encoded data removed]"
          },
          "metadata": {}
        }
      ],
      "source": [
        "# Plot history\n",
        "plt.plot(history.history['loss'], label='Sparse Categorical Crossentropy (training data)')\n",
        "plt.plot(history.history['val_loss'], label='Sparse Categorical Crossentropy (validation data)')\n",
        "plt.title('Training History')\n",
        "plt.ylabel('Loss')\n",
        "plt.xlabel('Epoch #')\n",
        "plt.legend(loc=\"upper left\")\n",
        "plt.show()"
      ]
    },
    {
      "cell_type": "markdown",
      "metadata": {
        "id": "w_Ny3_ZnCm8W"
      },
      "source": [
        "Finally, we can use our model to make predictions! This is as easy as calling the `.predict()` method, with a list of examples to get a prediction out of."
      ]
    },
    {
      "cell_type": "code",
      "execution_count": 26,
      "metadata": {
        "id": "C4aMvXj0Cm8W",
        "colab": {
          "base_uri": "https://localhost:8080/"
        },
        "outputId": "47a2df92-5883-4bbb-aa0e-f477f50de533"
      },
      "outputs": [
        {
          "output_type": "stream",
          "name": "stdout",
          "text": [
            "\u001b[1m1/1\u001b[0m \u001b[32m━━━━━━━━━━━━━━━━━━━━\u001b[0m\u001b[37m\u001b[0m \u001b[1m0s\u001b[0m 61ms/step\n"
          ]
        },
        {
          "output_type": "execute_result",
          "data": {
            "text/plain": [
              "array([[0.2024955 , 0.23702672, 0.105614  , 0.09571119, 0.10692365,\n",
              "        0.05424707, 0.13306566, 0.03743922, 0.02747699]], dtype=float32)"
            ]
          },
          "metadata": {},
          "execution_count": 26
        }
      ],
      "source": [
        "# Let's get the prediction for the first flower in the test set\n",
        "model.predict(X_test[:1])"
      ]
    },
    {
      "cell_type": "markdown",
      "metadata": {
        "id": "yQu9uBqWCm8W"
      },
      "source": [
        "Since we used a Softmax function in our model, the predictions return a list of probabilities which add up to one. Each probability corresponds to how confident our model is that the flower corresponds to a particular species. We can grab the highest of these predictions as our actual species, and compare it to the real one:"
      ]
    },
    {
      "cell_type": "code",
      "execution_count": 27,
      "metadata": {
        "id": "EKEgcvphCm8W",
        "colab": {
          "base_uri": "https://localhost:8080/"
        },
        "outputId": "656a784e-fbab-49b4-8d40-16e462a45c6c"
      },
      "outputs": [
        {
          "output_type": "stream",
          "name": "stdout",
          "text": [
            "\u001b[1m9/9\u001b[0m \u001b[32m━━━━━━━━━━━━━━━━━━━━\u001b[0m\u001b[37m\u001b[0m \u001b[1m0s\u001b[0m 2ms/step \n",
            "We predict: 1. Real Types was: 2.0\n",
            "We predict: 0. Real Types was: 0.0\n",
            "We predict: 1. Real Types was: 2.0\n",
            "We predict: 1. Real Types was: 5.0\n",
            "We predict: 2. Real Types was: 2.0\n",
            "We predict: 0. Real Types was: 0.0\n",
            "We predict: 1. Real Types was: 3.0\n",
            "We predict: 4. Real Types was: 2.0\n",
            "We predict: 1. Real Types was: 1.0\n",
            "We predict: 1. Real Types was: 1.0\n",
            "We predict: 0. Real Types was: 0.0\n",
            "We predict: 0. Real Types was: 6.0\n",
            "We predict: 4. Real Types was: 8.0\n",
            "We predict: 0. Real Types was: 0.0\n",
            "We predict: 0. Real Types was: 1.0\n",
            "We predict: 2. Real Types was: 1.0\n",
            "We predict: 1. Real Types was: 3.0\n",
            "We predict: 4. Real Types was: 3.0\n",
            "We predict: 0. Real Types was: 0.0\n",
            "We predict: 0. Real Types was: 0.0\n",
            "We predict: 2. Real Types was: 2.0\n",
            "We predict: 0. Real Types was: 0.0\n",
            "We predict: 0. Real Types was: 0.0\n",
            "We predict: 1. Real Types was: 4.0\n",
            "We predict: 2. Real Types was: 2.0\n",
            "We predict: 0. Real Types was: 0.0\n",
            "We predict: 1. Real Types was: 5.0\n",
            "We predict: 0. Real Types was: 2.0\n",
            "We predict: 1. Real Types was: 1.0\n",
            "We predict: 0. Real Types was: 0.0\n",
            "We predict: 0. Real Types was: 0.0\n",
            "We predict: 1. Real Types was: 1.0\n",
            "We predict: 2. Real Types was: 2.0\n",
            "We predict: 0. Real Types was: 1.0\n",
            "We predict: 2. Real Types was: 2.0\n",
            "We predict: 0. Real Types was: 0.0\n",
            "We predict: 0. Real Types was: 4.0\n",
            "We predict: 1. Real Types was: 5.0\n",
            "We predict: 0. Real Types was: 4.0\n",
            "We predict: 4. Real Types was: 1.0\n",
            "We predict: 1. Real Types was: 4.0\n",
            "We predict: 0. Real Types was: 0.0\n",
            "We predict: 0. Real Types was: 0.0\n",
            "We predict: 2. Real Types was: 1.0\n",
            "We predict: 2. Real Types was: 3.0\n",
            "We predict: 0. Real Types was: 1.0\n",
            "We predict: 4. Real Types was: 2.0\n",
            "We predict: 0. Real Types was: 2.0\n",
            "We predict: 0. Real Types was: 0.0\n",
            "We predict: 1. Real Types was: 5.0\n",
            "We predict: 1. Real Types was: 5.0\n",
            "We predict: 0. Real Types was: 0.0\n",
            "We predict: 0. Real Types was: 4.0\n",
            "We predict: 1. Real Types was: 3.0\n",
            "We predict: 0. Real Types was: 0.0\n",
            "We predict: 0. Real Types was: 0.0\n",
            "We predict: 0. Real Types was: 4.0\n",
            "We predict: 2. Real Types was: 2.0\n",
            "We predict: 2. Real Types was: 1.0\n",
            "We predict: 4. Real Types was: 4.0\n",
            "We predict: 0. Real Types was: 0.0\n",
            "We predict: 2. Real Types was: 1.0\n",
            "We predict: 0. Real Types was: 1.0\n",
            "We predict: 2. Real Types was: 2.0\n",
            "We predict: 2. Real Types was: 2.0\n",
            "We predict: 0. Real Types was: 0.0\n",
            "We predict: 1. Real Types was: 2.0\n",
            "We predict: 2. Real Types was: 2.0\n",
            "We predict: 1. Real Types was: 2.0\n",
            "We predict: 1. Real Types was: 1.0\n",
            "We predict: 1. Real Types was: 1.0\n",
            "We predict: 1. Real Types was: 1.0\n",
            "We predict: 0. Real Types was: 1.0\n",
            "We predict: 1. Real Types was: 4.0\n",
            "We predict: 3. Real Types was: 3.0\n",
            "We predict: 1. Real Types was: 1.0\n",
            "We predict: 0. Real Types was: 0.0\n",
            "We predict: 0. Real Types was: 5.0\n",
            "We predict: 2. Real Types was: 2.0\n",
            "We predict: 4. Real Types was: 2.0\n",
            "We predict: 3. Real Types was: 3.0\n",
            "We predict: 1. Real Types was: 3.0\n",
            "We predict: 1. Real Types was: 1.0\n",
            "We predict: 0. Real Types was: 0.0\n",
            "We predict: 0. Real Types was: 0.0\n",
            "We predict: 0. Real Types was: 0.0\n",
            "We predict: 0. Real Types was: 6.0\n",
            "We predict: 0. Real Types was: 0.0\n",
            "We predict: 2. Real Types was: 2.0\n",
            "We predict: 2. Real Types was: 5.0\n",
            "We predict: 2. Real Types was: 1.0\n",
            "We predict: 0. Real Types was: 0.0\n",
            "We predict: 1. Real Types was: 5.0\n",
            "We predict: 0. Real Types was: 0.0\n",
            "We predict: 0. Real Types was: 0.0\n",
            "We predict: 4. Real Types was: 3.0\n",
            "We predict: 2. Real Types was: 2.0\n",
            "We predict: 1. Real Types was: 2.0\n",
            "We predict: 0. Real Types was: 1.0\n",
            "We predict: 2. Real Types was: 2.0\n",
            "We predict: 4. Real Types was: 2.0\n",
            "We predict: 3. Real Types was: 3.0\n",
            "We predict: 4. Real Types was: 1.0\n",
            "We predict: 0. Real Types was: 0.0\n",
            "We predict: 4. Real Types was: 4.0\n",
            "We predict: 2. Real Types was: 2.0\n",
            "We predict: 0. Real Types was: 0.0\n",
            "We predict: 3. Real Types was: 3.0\n",
            "We predict: 3. Real Types was: 3.0\n",
            "We predict: 1. Real Types was: 1.0\n",
            "We predict: 0. Real Types was: 0.0\n",
            "We predict: 0. Real Types was: 2.0\n",
            "We predict: 2. Real Types was: 2.0\n",
            "We predict: 0. Real Types was: 0.0\n",
            "We predict: 0. Real Types was: 0.0\n",
            "We predict: 1. Real Types was: 3.0\n",
            "We predict: 0. Real Types was: 2.0\n",
            "We predict: 0. Real Types was: 0.0\n",
            "We predict: 0. Real Types was: 1.0\n",
            "We predict: 1. Real Types was: 3.0\n",
            "We predict: 0. Real Types was: 6.0\n",
            "We predict: 0. Real Types was: 3.0\n",
            "We predict: 0. Real Types was: 0.0\n",
            "We predict: 1. Real Types was: 1.0\n",
            "We predict: 0. Real Types was: 0.0\n",
            "We predict: 1. Real Types was: 5.0\n",
            "We predict: 3. Real Types was: 1.0\n",
            "We predict: 0. Real Types was: 6.0\n",
            "We predict: 0. Real Types was: 0.0\n",
            "We predict: 0. Real Types was: 0.0\n",
            "We predict: 0. Real Types was: 2.0\n",
            "We predict: 1. Real Types was: 1.0\n",
            "We predict: 0. Real Types was: 0.0\n",
            "We predict: 2. Real Types was: 3.0\n",
            "We predict: 1. Real Types was: 1.0\n",
            "We predict: 0. Real Types was: 0.0\n",
            "We predict: 3. Real Types was: 3.0\n",
            "We predict: 3. Real Types was: 3.0\n",
            "We predict: 1. Real Types was: 1.0\n",
            "We predict: 1. Real Types was: 1.0\n",
            "We predict: 2. Real Types was: 0.0\n",
            "We predict: 0. Real Types was: 8.0\n",
            "We predict: 0. Real Types was: 0.0\n",
            "We predict: 1. Real Types was: 1.0\n",
            "We predict: 1. Real Types was: 3.0\n",
            "We predict: 1. Real Types was: 5.0\n",
            "We predict: 0. Real Types was: 0.0\n",
            "We predict: 0. Real Types was: 0.0\n",
            "We predict: 0. Real Types was: 0.0\n",
            "We predict: 0. Real Types was: 4.0\n",
            "We predict: 0. Real Types was: 1.0\n",
            "We predict: 1. Real Types was: 3.0\n",
            "We predict: 1. Real Types was: 1.0\n",
            "We predict: 0. Real Types was: 4.0\n",
            "We predict: 0. Real Types was: 1.0\n",
            "We predict: 1. Real Types was: 4.0\n",
            "We predict: 0. Real Types was: 0.0\n",
            "We predict: 0. Real Types was: 0.0\n",
            "We predict: 0. Real Types was: 0.0\n",
            "We predict: 2. Real Types was: 5.0\n",
            "We predict: 1. Real Types was: 2.0\n",
            "We predict: 2. Real Types was: 7.0\n",
            "We predict: 3. Real Types was: 3.0\n",
            "We predict: 2. Real Types was: 2.0\n",
            "We predict: 1. Real Types was: 4.0\n",
            "We predict: 2. Real Types was: 2.0\n",
            "We predict: 1. Real Types was: 5.0\n",
            "We predict: 0. Real Types was: 0.0\n",
            "We predict: 0. Real Types was: 4.0\n",
            "We predict: 1. Real Types was: 3.0\n",
            "We predict: 2. Real Types was: 2.0\n",
            "We predict: 2. Real Types was: 2.0\n",
            "We predict: 0. Real Types was: 0.0\n",
            "We predict: 0. Real Types was: 1.0\n",
            "We predict: 0. Real Types was: 0.0\n",
            "We predict: 0. Real Types was: 0.0\n",
            "We predict: 0. Real Types was: 0.0\n",
            "We predict: 2. Real Types was: 2.0\n",
            "We predict: 0. Real Types was: 0.0\n",
            "We predict: 3. Real Types was: 3.0\n",
            "We predict: 0. Real Types was: 2.0\n",
            "We predict: 0. Real Types was: 0.0\n",
            "We predict: 0. Real Types was: 0.0\n",
            "We predict: 0. Real Types was: 0.0\n",
            "We predict: 1. Real Types was: 3.0\n",
            "We predict: 0. Real Types was: 1.0\n",
            "We predict: 3. Real Types was: 3.0\n",
            "We predict: 3. Real Types was: 1.0\n",
            "We predict: 1. Real Types was: 1.0\n",
            "We predict: 0. Real Types was: 0.0\n",
            "We predict: 3. Real Types was: 3.0\n",
            "We predict: 1. Real Types was: 1.0\n",
            "We predict: 0. Real Types was: 1.0\n",
            "We predict: 0. Real Types was: 0.0\n",
            "We predict: 0. Real Types was: 0.0\n",
            "We predict: 2. Real Types was: 2.0\n",
            "We predict: 0. Real Types was: 0.0\n",
            "We predict: 0. Real Types was: 0.0\n",
            "We predict: 2. Real Types was: 2.0\n",
            "We predict: 2. Real Types was: 2.0\n",
            "We predict: 1. Real Types was: 8.0\n",
            "We predict: 0. Real Types was: 1.0\n",
            "We predict: 0. Real Types was: 0.0\n",
            "We predict: 0. Real Types was: 0.0\n",
            "We predict: 0. Real Types was: 0.0\n",
            "We predict: 0. Real Types was: 1.0\n",
            "We predict: 0. Real Types was: 0.0\n",
            "We predict: 0. Real Types was: 0.0\n",
            "We predict: 3. Real Types was: 2.0\n",
            "We predict: 0. Real Types was: 0.0\n",
            "We predict: 0. Real Types was: 2.0\n",
            "We predict: 0. Real Types was: 0.0\n",
            "We predict: 0. Real Types was: 0.0\n",
            "We predict: 0. Real Types was: 0.0\n",
            "We predict: 1. Real Types was: 5.0\n",
            "We predict: 0. Real Types was: 0.0\n",
            "We predict: 1. Real Types was: 1.0\n",
            "We predict: 0. Real Types was: 3.0\n",
            "We predict: 1. Real Types was: 1.0\n",
            "We predict: 0. Real Types was: 6.0\n",
            "We predict: 0. Real Types was: 0.0\n",
            "We predict: 0. Real Types was: 0.0\n",
            "We predict: 2. Real Types was: 2.0\n",
            "We predict: 1. Real Types was: 3.0\n",
            "We predict: 3. Real Types was: 3.0\n",
            "We predict: 1. Real Types was: 2.0\n",
            "We predict: 2. Real Types was: 1.0\n",
            "We predict: 1. Real Types was: 1.0\n",
            "We predict: 3. Real Types was: 5.0\n",
            "We predict: 1. Real Types was: 3.0\n",
            "We predict: 0. Real Types was: 0.0\n",
            "We predict: 1. Real Types was: 4.0\n",
            "We predict: 2. Real Types was: 3.0\n",
            "We predict: 2. Real Types was: 2.0\n",
            "We predict: 4. Real Types was: 1.0\n",
            "We predict: 1. Real Types was: 4.0\n",
            "We predict: 0. Real Types was: 0.0\n",
            "We predict: 1. Real Types was: 1.0\n",
            "We predict: 0. Real Types was: 1.0\n",
            "We predict: 2. Real Types was: 2.0\n",
            "We predict: 0. Real Types was: 0.0\n",
            "We predict: 0. Real Types was: 1.0\n",
            "We predict: 0. Real Types was: 1.0\n",
            "We predict: 1. Real Types was: 1.0\n",
            "We predict: 0. Real Types was: 1.0\n",
            "We predict: 1. Real Types was: 2.0\n",
            "We predict: 1. Real Types was: 4.0\n",
            "We predict: 0. Real Types was: 0.0\n",
            "We predict: 0. Real Types was: 0.0\n",
            "We predict: 1. Real Types was: 3.0\n",
            "We predict: 1. Real Types was: 3.0\n",
            "We predict: 0. Real Types was: 1.0\n",
            "We predict: 3. Real Types was: 3.0\n",
            "We predict: 1. Real Types was: 1.0\n",
            "We predict: 0. Real Types was: 0.0\n",
            "We predict: 3. Real Types was: 1.0\n",
            "We predict: 0. Real Types was: 0.0\n"
          ]
        }
      ],
      "source": [
        "predictions = model.predict(X_test)\n",
        "for idx, prediction in enumerate(predictions):\n",
        "    print('We predict: '+str(np.argmax(prediction))+'. Real Types was: '+str(y_test[idx]))"
      ]
    },
    {
      "cell_type": "code",
      "source": [
        "# Matriz de confusión utilizando librerias\n",
        "from sklearn.metrics import confusion_matrix\n",
        "from sklearn.datasets import make_classification\n",
        "from sklearn.model_selection import train_test_split\n",
        "from sklearn.linear_model import LogisticRegression as SklearnLogisticRegression\n",
        "from sklearn.metrics import accuracy_score, precision_score, recall_score, f1_score, roc_auc_score, roc_curve\n",
        "from sklearn.metrics import classification_report, confusion_matrix\n",
        "import matplotlib.pyplot as plt\n",
        "\n",
        "y_pred = model.predict(X_test)\n",
        "y_pred = np.argmax(y_pred, axis=1)\n",
        "\n",
        "# Obtener matriz de confusión utilizando sklearn\n",
        "conf_matrix = confusion_matrix(y_test, y_pred)\n",
        "\n",
        "# Imprimir la matriz de confusión para inspección\n",
        "print(\"Matriz de confusión (sklearn):\")\n",
        "print(conf_matrix)\n",
        "\n",
        "# Imprimir las clases únicas presentes en y_test\n",
        "print(\"Clases únicas en y_test:\", np.unique(y_test))\n",
        "\n",
        "# Imprimir las clases únicas presentes en y_pred\n",
        "print(\"Clases únicas en y_pred:\", np.unique(y_pred))\n",
        "\n",
        "# Calcular métricas de evaluación\n",
        "print(\"Reporte de clasificación:\")\n",
        "print(classification_report(y_test, y_pred))\n",
        "\n",
        "# Visualizar la matriz de confusión\n",
        "conf_matrix = confusion_matrix(y_test, y_pred)\n",
        "plt.figure(figsize=(4, 2))  # Reducir el tamaño de la figura\n",
        "plt.imshow(conf_matrix, interpolation='nearest', cmap=plt.cm.Blues)\n",
        "plt.title(\"Matriz de Confusión\")\n",
        "plt.colorbar()\n",
        "plt.xticks(np.arange(len(np.unique(y_test))), np.unique(y_test))\n",
        "plt.yticks(np.arange(len(np.unique(y_test))), np.unique(y_test))\n",
        "plt.xlabel('Etiqueta Predicha')\n",
        "plt.ylabel('Etiqueta Real')\n",
        "for i in range(len(np.unique(y_test))):\n",
        "    for j in range(len(np.unique(y_test))):\n",
        "        plt.text(j, i, conf_matrix[i, j], ha=\"center\", va=\"center\", color=\"white\")\n",
        "plt.show()\n",
        "\n",
        "# Extract TP, TN, FP, FN from the confusion matrix\n",
        "TP = conf_matrix[1, 1]\n",
        "TN = conf_matrix[0, 0]\n",
        "FP = conf_matrix[0, 1]\n",
        "FN = conf_matrix[1, 0]\n",
        "\n",
        "print()\n",
        "print(\"Cálculo utilizando librerias\")\n",
        "print(\"TP:\", TP)\n",
        "print(\"TN:\", TN)\n",
        "print(\"FP:\", FP)\n",
        "print(\"FN:\", FN)\n",
        "\n",
        "# Calcular precisión, sensibilidad y especificidad utilizando sklearn\n",
        "precision_sklearn = precision_score(y_test, y_pred, average='micro')\n",
        "sensibilidad_sklearn = recall_score(y_test, y_pred, average='micro')  # Recall es lo mismo que sensibilidad\n",
        "# Calcular especificidad utilizando sklearn\n",
        "especificidad_sklearn = TN / (TN + FP) if (TN + FP) > 0 else 0\n",
        "\n",
        "print(\"Precisión (sklearn):\", precision_sklearn)\n",
        "print(\"Sensibilidad (sklearn):\", sensibilidad_sklearn)\n",
        "print(\"Especificidad (sklearn):\", especificidad_sklearn)"
      ],
      "metadata": {
        "id": "PWm8hVeNZsgh",
        "colab": {
          "base_uri": "https://localhost:8080/",
          "height": 1000
        },
        "outputId": "5a47aa31-a290-4db3-eb45-ff2499dd34ea"
      },
      "execution_count": 28,
      "outputs": [
        {
          "output_type": "stream",
          "name": "stdout",
          "text": [
            "\u001b[1m9/9\u001b[0m \u001b[32m━━━━━━━━━━━━━━━━━━━━\u001b[0m\u001b[37m\u001b[0m \u001b[1m0s\u001b[0m 2ms/step \n",
            "Matriz de confusión (sklearn):\n",
            "[[80  0  1  0  0  0  0  0  0]\n",
            " [19 25  6  3  3  0  0  0  0]\n",
            " [ 7  8 26  1  4  0  0  0  0]\n",
            " [ 2 14  3 13  2  0  0  0  0]\n",
            " [ 7  8  0  0  2  0  0  0  0]\n",
            " [ 1 10  2  1  0  0  0  0  0]\n",
            " [ 5  0  0  0  0  0  0  0  0]\n",
            " [ 0  0  1  0  0  0  0  0  0]\n",
            " [ 1  1  0  0  1  0  0  0  0]]\n",
            "Clases únicas en y_test: [0. 1. 2. 3. 4. 5. 6. 7. 8.]\n",
            "Clases únicas en y_pred: [0 1 2 3 4]\n",
            "Reporte de clasificación:\n",
            "              precision    recall  f1-score   support\n",
            "\n",
            "         0.0       0.66      0.99      0.79        81\n",
            "         1.0       0.38      0.45      0.41        56\n",
            "         2.0       0.67      0.57      0.61        46\n",
            "         3.0       0.72      0.38      0.50        34\n",
            "         4.0       0.17      0.12      0.14        17\n",
            "         5.0       0.00      0.00      0.00        14\n",
            "         6.0       0.00      0.00      0.00         5\n",
            "         7.0       0.00      0.00      0.00         1\n",
            "         8.0       0.00      0.00      0.00         3\n",
            "\n",
            "    accuracy                           0.57       257\n",
            "   macro avg       0.29      0.28      0.27       257\n",
            "weighted avg       0.52      0.57      0.52       257\n",
            "\n"
          ]
        },
        {
          "output_type": "stream",
          "name": "stderr",
          "text": [
            "/usr/local/lib/python3.10/dist-packages/sklearn/metrics/_classification.py:1531: UndefinedMetricWarning: Precision is ill-defined and being set to 0.0 in labels with no predicted samples. Use `zero_division` parameter to control this behavior.\n",
            "  _warn_prf(average, modifier, f\"{metric.capitalize()} is\", len(result))\n",
            "/usr/local/lib/python3.10/dist-packages/sklearn/metrics/_classification.py:1531: UndefinedMetricWarning: Precision is ill-defined and being set to 0.0 in labels with no predicted samples. Use `zero_division` parameter to control this behavior.\n",
            "  _warn_prf(average, modifier, f\"{metric.capitalize()} is\", len(result))\n",
            "/usr/local/lib/python3.10/dist-packages/sklearn/metrics/_classification.py:1531: UndefinedMetricWarning: Precision is ill-defined and being set to 0.0 in labels with no predicted samples. Use `zero_division` parameter to control this behavior.\n",
            "  _warn_prf(average, modifier, f\"{metric.capitalize()} is\", len(result))\n"
          ]
        },
        {
          "output_type": "display_data",
          "data": {
            "text/plain": [
              "<Figure size 400x200 with 2 Axes>"
            ],
            "image/png": "[encoded data removed]"
          },
          "metadata": {}
        },
        {
          "output_type": "stream",
          "name": "stdout",
          "text": [
            "\n",
            "Cálculo utilizando librerias\n",
            "TP: 25\n",
            "TN: 80\n",
            "FP: 0\n",
            "FN: 19\n",
            "Precisión (sklearn): 0.5680933852140078\n",
            "Sensibilidad (sklearn): 0.5680933852140078\n",
            "Especificidad (sklearn): 1.0\n"
          ]
        }
      ]
    },
    {
      "cell_type": "code",
      "source": [
        "from sklearn.metrics import roc_curve, roc_auc_score\n",
        "from sklearn.linear_model import LogisticRegression\n",
        "from sklearn.preprocessing import label_binarize\n",
        "import matplotlib.pyplot as plt\n",
        "\n",
        "# Verificar las clases presentes en los datos de entrenamiento y prueba\n",
        "classes = np.unique(y_train)\n",
        "print(\"Clases encontradas:\", classes)\n",
        "\n",
        "# Binarizar las etiquetas\n",
        "y_train_bin = label_binarize(y_train, classes=classes)\n",
        "y_test_bin = label_binarize(y_test, classes=classes)\n",
        "\n",
        "# Entrenar el modelo\n",
        "model = LogisticRegression(multi_class='ovr', max_iter=1000)\n",
        "model.fit(X_train, y_train)\n",
        "\n",
        "# Hacer predicciones\n",
        "y_scores = model.predict_proba(X_test)\n",
        "\n",
        "# Calcular el ROC AUC score para multiclase\n",
        "roc_auc = roc_auc_score(y_test_bin, y_scores, multi_class='ovr')\n",
        "print(\"ROC AUC Score: \", roc_auc)\n",
        "\n",
        "# Dibujar la curva ROC para cada clase\n",
        "fig, ax = plt.subplots(figsize=(8, 6))\n",
        "\n",
        "for i in range(y_test_bin.shape[1]):\n",
        "    fpr, tpr, _ = roc_curve(y_test_bin[:, i], y_scores[:, i])\n",
        "    plt.plot(fpr, tpr, label=f'Clase {i} (área = {roc_auc_score(y_test_bin[:, i], y_scores[:, i]):.2f})')\n",
        "\n",
        "# Dibujar la línea diagonal (clasificación aleatoria)\n",
        "plt.plot([0, 1], [0, 1], 'k--')\n",
        "\n",
        "# Configurar el gráfico\n",
        "plt.xlabel('Tasa de Falsos Positivos')\n",
        "plt.ylabel('Tasa de Verdaderos Positivos')\n",
        "plt.title('Curva ROC Multiclase')\n",
        "plt.legend(loc=\"lower right\")\n",
        "plt.show()\n"
      ],
      "metadata": {
        "id": "72OPZBBIbSpV",
        "colab": {
          "base_uri": "https://localhost:8080/",
          "height": 792
        },
        "outputId": "a03ee8fb-419f-4bbb-92b4-1d39323b065f"
      },
      "execution_count": 29,
      "outputs": [
        {
          "output_type": "stream",
          "name": "stdout",
          "text": [
            "Clases encontradas: [0. 1. 2. 3. 4. 5. 6. 7. 8.]\n"
          ]
        },
        {
          "output_type": "stream",
          "name": "stderr",
          "text": [
            "/usr/local/lib/python3.10/dist-packages/sklearn/linear_model/_logistic.py:1256: FutureWarning: 'multi_class' was deprecated in version 1.5 and will be removed in 1.7. Use OneVsRestClassifier(LogisticRegression(..)) instead. Leave it to its default value to avoid this warning.\n",
            "  warnings.warn(\n",
            "/usr/local/lib/python3.10/dist-packages/sklearn/linear_model/_logistic.py:469: ConvergenceWarning: lbfgs failed to converge (status=1):\n",
            "STOP: TOTAL NO. of ITERATIONS REACHED LIMIT.\n",
            "\n",
            "Increase the number of iterations (max_iter) or scale the data as shown in:\n",
            "    https://scikit-learn.org/stable/modules/preprocessing.html\n",
            "Please also refer to the documentation for alternative solver options:\n",
            "    https://scikit-learn.org/stable/modules/linear_model.html#logistic-regression\n",
            "  n_iter_i = _check_optimize_result(\n"
          ]
        },
        {
          "output_type": "stream",
          "name": "stdout",
          "text": [
            "ROC AUC Score:  0.940712229661131\n"
          ]
        },
        {
          "output_type": "display_data",
          "data": {
            "text/plain": [
              "<Figure size 800x600 with 1 Axes>"
            ],
            "image/png": "[encoded data removed]"
          },
          "metadata": {}
        }
      ]
    },
    {
      "cell_type": "code",
      "source": [
        "#Instalar scikeras si no está instalado\n",
        "!pip install scikeras"
      ],
      "metadata": {
        "colab": {
          "base_uri": "https://localhost:8080/"
        },
        "id": "K1KObGrDpqwV",
        "outputId": "483c4ded-49ad-43f1-a3bd-1a53c268386e"
      },
      "execution_count": 35,
      "outputs": [
        {
          "output_type": "stream",
          "name": "stdout",
          "text": [
            "Requirement already satisfied: scikeras in /usr/local/lib/python3.10/dist-packages (0.13.0)\n",
            "Requirement already satisfied: keras>=3.2.0 in /usr/local/lib/python3.10/dist-packages (from scikeras) (3.4.1)\n",
            "Requirement already satisfied: scikit-learn>=1.4.2 in /usr/local/lib/python3.10/dist-packages (from scikeras) (1.5.1)\n",
            "Requirement already satisfied: absl-py in /usr/local/lib/python3.10/dist-packages (from keras>=3.2.0->scikeras) (1.4.0)\n",
            "Requirement already satisfied: numpy in /usr/local/lib/python3.10/dist-packages (from keras>=3.2.0->scikeras) (1.25.2)\n",
            "Requirement already satisfied: rich in /usr/local/lib/python3.10/dist-packages (from keras>=3.2.0->scikeras) (13.7.1)\n",
            "Requirement already satisfied: namex in /usr/local/lib/python3.10/dist-packages (from keras>=3.2.0->scikeras) (0.0.8)\n",
            "Requirement already satisfied: h5py in /usr/local/lib/python3.10/dist-packages (from keras>=3.2.0->scikeras) (3.9.0)\n",
            "Requirement already satisfied: optree in /usr/local/lib/python3.10/dist-packages (from keras>=3.2.0->scikeras) (0.12.1)\n",
            "Requirement already satisfied: ml-dtypes in /usr/local/lib/python3.10/dist-packages (from keras>=3.2.0->scikeras) (0.2.0)\n",
            "Requirement already satisfied: packaging in /usr/local/lib/python3.10/dist-packages (from keras>=3.2.0->scikeras) (24.1)\n",
            "Requirement already satisfied: scipy>=1.6.0 in /usr/local/lib/python3.10/dist-packages (from scikit-learn>=1.4.2->scikeras) (1.11.4)\n",
            "Requirement already satisfied: joblib>=1.2.0 in /usr/local/lib/python3.10/dist-packages (from scikit-learn>=1.4.2->scikeras) (1.4.2)\n",
            "Requirement already satisfied: threadpoolctl>=3.1.0 in /usr/local/lib/python3.10/dist-packages (from scikit-learn>=1.4.2->scikeras) (3.5.0)\n",
            "Requirement already satisfied: typing-extensions>=4.5.0 in /usr/local/lib/python3.10/dist-packages (from optree->keras>=3.2.0->scikeras) (4.12.2)\n",
            "Requirement already satisfied: markdown-it-py>=2.2.0 in /usr/local/lib/python3.10/dist-packages (from rich->keras>=3.2.0->scikeras) (3.0.0)\n",
            "Requirement already satisfied: pygments<3.0.0,>=2.13.0 in /usr/local/lib/python3.10/dist-packages (from rich->keras>=3.2.0->scikeras) (2.16.1)\n",
            "Requirement already satisfied: mdurl~=0.1 in /usr/local/lib/python3.10/dist-packages (from markdown-it-py>=2.2.0->rich->keras>=3.2.0->scikeras) (0.1.2)\n"
          ]
        }
      ]
    },
    {
      "cell_type": "code",
      "source": [
        "import numpy as np\n",
        "import pandas as pd\n",
        "import tensorflow as tf\n",
        "from sklearn.metrics import confusion_matrix, precision_score, recall_score, accuracy_score, classification_report\n",
        "from sklearn.model_selection import GridSearchCV, train_test_split\n",
        "from scikeras.wrappers import KerasClassifier\n",
        "import matplotlib.pyplot as plt\n",
        "\n",
        "# Cargar y procesar los datos\n",
        "df = pd.read_csv('diagnosed_cbc_data_v4.csv')\n",
        "df[\"Diagnosis\"] = df[\"Diagnosis\"].replace({\"Healthy\": 0,\n",
        "                                           \"Normocytic hypochromic anemia\": 1,\n",
        "                                           \"Normocytic normochromic anemia\": 2,\n",
        "                                           \"Iron deficiency anemia\": 3,\n",
        "                                           \"Thrombocytopenia\": 4,\n",
        "                                           \"Other microcytic anemia\": 5,\n",
        "                                           \"Leukemia\": 6,\n",
        "                                           \"Macrocytic anemia\": 7,\n",
        "                                           \"Leukemia with thrombocytopenia\": 8})\n",
        "\n",
        "# Eliminar filas duplicadas si las hay\n",
        "df = df.drop_duplicates()\n",
        "\n",
        "# Asignar todas las columnas excepto la última a X\n",
        "X = df.iloc[:, :-1].values\n",
        "# Asignar la última columna a y\n",
        "y = df.iloc[:, -1].values\n",
        "\n",
        "# Dividir los datos en conjunto de entrenamiento y prueba\n",
        "X_train, X_test, y_train, y_test = train_test_split(X, y, test_size=0.2, random_state=42)\n",
        "\n",
        "# Definir el modelo de Keras\n",
        "def create_model(optimizer='adam'):\n",
        "    model = tf.keras.models.Sequential([\n",
        "        tf.keras.layers.Input(shape=(X.shape[1],)),\n",
        "        tf.keras.layers.Dense(128, activation='relu'),\n",
        "        tf.keras.layers.Dense(64, activation='relu'),\n",
        "        tf.keras.layers.Dense(32, activation='relu'),\n",
        "        tf.keras.layers.Dense(9, activation='softmax')\n",
        "    ])\n",
        "    model.compile(\n",
        "        loss=tf.keras.losses.SparseCategoricalCrossentropy(from_logits=False),\n",
        "        optimizer=optimizer,\n",
        "        metrics=['accuracy']\n",
        "    )\n",
        "    return model\n",
        "\n",
        "# Función para evaluar el modelo con parámetros dados\n",
        "def evaluate_model(X_train, y_train, X_test, y_test, optimizers, epochs_list, batch_sizes):\n",
        "    model = KerasClassifier(model=create_model, verbose=0)\n",
        "\n",
        "    param_grid = {\n",
        "        'optimizer': optimizers,\n",
        "        'epochs': epochs_list,\n",
        "        'batch_size': batch_sizes\n",
        "    }\n",
        "\n",
        "    grid = GridSearchCV(estimator=model, param_grid=param_grid, n_jobs=-1, cv=3)\n",
        "    grid_result = grid.fit(X_train, y_train)\n",
        "\n",
        "    best_model = grid_result.best_estimator_\n",
        "    y_pred = best_model.predict(X_test)\n",
        "\n",
        "    conf_matrix = confusion_matrix(y_test, y_pred)\n",
        "    accuracy = accuracy_score(y_test, y_pred)\n",
        "    precision = precision_score(y_test, y_pred, average='weighted')\n",
        "    recall = recall_score(y_test, y_pred, average='weighted')\n",
        "\n",
        "    tn = conf_matrix.sum(axis=1) - np.diag(conf_matrix)\n",
        "    fp = conf_matrix.sum(axis=0) - np.diag(conf_matrix)\n",
        "    specificity = tn / (tn + fp)\n",
        "\n",
        "    summary = pd.DataFrame({\n",
        "        'Parameter': ['Optimizer', 'Epochs', 'Batch Size'],\n",
        "        'Value': [grid_result.best_params_['optimizer'], grid_result.best_params_['epochs'], grid_result.best_params_['batch_size']],\n",
        "        'Accuracy': [accuracy, None, None],\n",
        "        'Precision': [precision, None, None],\n",
        "        'Recall (Sensitivity)': [recall, None, None],\n",
        "        'Specificity': [np.mean(specificity), None, None]\n",
        "    })\n",
        "\n",
        "    print(\"\\nMatriz de Confusión:\")\n",
        "    print(conf_matrix)\n",
        "    print(\"\\nReporte de Clasificación:\")\n",
        "    print(classification_report(y_test, y_pred))\n",
        "\n",
        "    return summary\n",
        "\n",
        "# Hiperparámetros a probar\n",
        "optimizers = ['adam', 'rmsprop', 'sgd']\n",
        "epochs_list = [20, 30, 40]\n",
        "batch_sizes = [32, 64, 128]\n",
        "\n",
        "# Evaluar el modelo\n",
        "summary = evaluate_model(X_train, y_train, X_test, y_test, optimizers, epochs_list, batch_sizes)\n",
        "print(summary)"
      ],
      "metadata": {
        "id": "gpPOWBM_x5yJ",
        "colab": {
          "base_uri": "https://localhost:8080/"
        },
        "outputId": "b34bb905-749e-4e87-929c-524030bca8da"
      },
      "execution_count": 43,
      "outputs": [
        {
          "output_type": "stream",
          "name": "stderr",
          "text": [
            "/usr/local/lib/python3.10/dist-packages/joblib/externals/loky/backend/fork_exec.py:38: RuntimeWarning: os.fork() was called. os.fork() is incompatible with multithreaded code, and JAX is multithreaded, so this will likely lead to a deadlock.\n",
            "  pid = os.fork()\n",
            "/usr/local/lib/python3.10/dist-packages/joblib/externals/loky/process_executor.py:752: UserWarning: A worker stopped while some jobs were given to the executor. This can be caused by a too short worker timeout or by a memory leak.\n",
            "  warnings.warn(\n",
            "WARNING:tensorflow:5 out of the last 13 calls to <function TensorFlowTrainer.make_predict_function.<locals>.one_step_on_data_distributed at 0x78eb1f465240> triggered tf.function retracing. Tracing is expensive and the excessive number of tracings could be due to (1) creating @tf.function repeatedly in a loop, (2) passing tensors with different shapes, (3) passing Python objects instead of tensors. For (1), please define your @tf.function outside of the loop. For (2), @tf.function has reduce_retracing=True option that can avoid unnecessary retracing. For (3), please refer to https://www.tensorflow.org/guide/function#controlling_retracing and https://www.tensorflow.org/api_docs/python/tf/function for  more details.\n",
            "WARNING:tensorflow:6 out of the last 16 calls to <function TensorFlowTrainer.make_predict_function.<locals>.one_step_on_data_distributed at 0x78eb1f465240> triggered tf.function retracing. Tracing is expensive and the excessive number of tracings could be due to (1) creating @tf.function repeatedly in a loop, (2) passing tensors with different shapes, (3) passing Python objects instead of tensors. For (1), please define your @tf.function outside of the loop. For (2), @tf.function has reduce_retracing=True option that can avoid unnecessary retracing. For (3), please refer to https://www.tensorflow.org/guide/function#controlling_retracing and https://www.tensorflow.org/api_docs/python/tf/function for  more details.\n"
          ]
        },
        {
          "output_type": "stream",
          "name": "stdout",
          "text": [
            "\n",
            "Matriz de Confusión:\n",
            "[[61  0  0  0  0  0  0  0  0]\n",
            " [25 15  6  4  1  0  1  0  1]\n",
            " [ 9  3 35  1  3  1  1  0  0]\n",
            " [ 1  5  2 25  1  2  1  0  1]\n",
            " [ 3  0  1  0 14  0  0  1  0]\n",
            " [ 0  0  2  1  0  6  0  0  0]\n",
            " [ 3  1  0  0  0  0  3  0  0]\n",
            " [ 0  1  0  0  0  0  0  2  0]\n",
            " [ 1  0  0  0  1  0  0  0  2]]\n",
            "\n",
            "Reporte de Clasificación:\n",
            "              precision    recall  f1-score   support\n",
            "\n",
            "           0       0.59      1.00      0.74        61\n",
            "           1       0.60      0.28      0.38        53\n",
            "           2       0.76      0.66      0.71        53\n",
            "           3       0.81      0.66      0.72        38\n",
            "           4       0.70      0.74      0.72        19\n",
            "           5       0.67      0.67      0.67         9\n",
            "           6       0.50      0.43      0.46         7\n",
            "           7       0.67      0.67      0.67         3\n",
            "           8       0.50      0.50      0.50         4\n",
            "\n",
            "    accuracy                           0.66       247\n",
            "   macro avg       0.64      0.62      0.62       247\n",
            "weighted avg       0.67      0.66      0.64       247\n",
            "\n",
            "    Parameter Value  Accuracy  Precision  Recall (Sensitivity)  Specificity\n",
            "0   Optimizer  adam  0.659919    0.67084              0.659919     0.513616\n",
            "1      Epochs    40       NaN        NaN                   NaN          NaN\n",
            "2  Batch Size    64       NaN        NaN                   NaN          NaN\n"
          ]
        }
      ]
    }
  ],
  "metadata": {
    "kernelspec": {
      "display_name": "testi2",
      "language": "python",
      "name": "testi2"
    },
    "language_info": {
      "codemirror_mode": {
        "name": "ipython",
        "version": 3
      },
      "file_extension": ".py",
      "mimetype": "text/x-python",
      "name": "python",
      "nbconvert_exporter": "python",
      "pygments_lexer": "ipython3",
      "version": "3.11.5"
    },
    "colab": {
      "provenance": []
    }
  },
  "nbformat": 4,
  "nbformat_minor": 0
}