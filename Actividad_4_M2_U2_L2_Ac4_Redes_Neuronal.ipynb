{
  "nbformat": 4,
  "nbformat_minor": 0,
  "metadata": {
    "colab": {
      "provenance": []
    },
    "kernelspec": {
      "name": "python3",
      "display_name": "Python 3"
    },
    "language_info": {
      "name": "python"
    }
  },
  "cells": [
    {
      "cell_type": "code",
      "source": [
        "#Red Neuronal Convolucional aplicadas en\n",
        "#MNIST reconocimiento de dígitos manuscritos\n",
        "\n",
        "import keras\n",
        "import numpy as np\n",
        "import pandas as pd\n",
        "import matplotlib.pyplot as plt"
      ],
      "metadata": {
        "id": "BfHeJb4abiol"
      },
      "execution_count": null,
      "outputs": []
    },
    {
      "cell_type": "code",
      "source": [
        "#Cargar conjunto de datos\n",
        "\n",
        "#Cargar el conjunto de datos MNIST\n",
        "mnist = keras.datasets.mnist\n",
        "\n",
        "#Cargue la división de entrenamiento y prueba del conjunto de datos MNIST\n",
        "(training_images, training_labels), (test_images, test_labels) = mnist.load_data()"
      ],
      "metadata": {
        "colab": {
          "base_uri": "https://localhost:8080/"
        },
        "id": "XnJKk1XKbzcU",
        "outputId": "2de5c447-4063-4e8f-c359-a291f560c506"
      },
      "execution_count": null,
      "outputs": [
        {
          "output_type": "stream",
          "name": "stdout",
          "text": [
            "Downloading data from https://storage.googleapis.com/tensorflow/tf-keras-datasets/mnist.npz\n",
            "11490434/11490434 [==============================] - 0s 0us/step\n"
          ]
        }
      ]
    },
    {
      "cell_type": "code",
      "source": [
        "#Normalizar los valores de pixeles del tren y probar las imágenes\n",
        "training_images  = training_images / 255.0\n",
        "test_images = test_images / 255.0"
      ],
      "metadata": {
        "id": "CFI1AsJzdl76"
      },
      "execution_count": null,
      "outputs": []
    },
    {
      "cell_type": "code",
      "source": [
        "#Construcción del modelo\n",
        "#Construir el modelo de clasificación\n",
        "\n",
        "model = keras.Sequential([\n",
        "    #Agregar convoluciones y max pooling\n",
        "    keras.layers.Conv2D(32, (3,3), activation='relu', input_shape=(28, 28, 1)),\n",
        "    keras.layers.MaxPooling2D(2, 2),\n",
        "    keras.layers.Flatten(),\n",
        "    keras.layers.Dense(128, activation='relu'),\n",
        "    keras.layers.Dense(10, activation='softmax')])\n",
        "\n",
        "model.summary()"
      ],
      "metadata": {
        "colab": {
          "base_uri": "https://localhost:8080/"
        },
        "id": "B7qIUJtFhM6q",
        "outputId": "5bf65718-9232-4881-abc6-a39084c41626"
      },
      "execution_count": null,
      "outputs": [
        {
          "output_type": "stream",
          "name": "stdout",
          "text": [
            "Model: \"sequential_1\"\n",
            "_________________________________________________________________\n",
            " Layer (type)                Output Shape              Param #   \n",
            "=================================================================\n",
            " conv2d_2 (Conv2D)           (None, 26, 26, 32)        320       \n",
            "                                                                 \n",
            " max_pooling2d_2 (MaxPoolin  (None, 13, 13, 32)        0         \n",
            " g2D)                                                            \n",
            "                                                                 \n",
            " flatten_1 (Flatten)         (None, 5408)              0         \n",
            "                                                                 \n",
            " dense_2 (Dense)             (None, 128)               692352    \n",
            "                                                                 \n",
            " dense_3 (Dense)             (None, 10)                1290      \n",
            "                                                                 \n",
            "=================================================================\n",
            "Total params: 693962 (2.65 MB)\n",
            "Trainable params: 693962 (2.65 MB)\n",
            "Non-trainable params: 0 (0.00 Byte)\n",
            "_________________________________________________________________\n"
          ]
        }
      ]
    },
    {
      "cell_type": "code",
      "source": [
        "#Compilar el modelo\n",
        "model.compile(optimizer='adam',\n",
        "              loss='sparse_categorical_crossentropy',\n",
        "              metrics=['accuracy'])"
      ],
      "metadata": {
        "id": "is8XWapsetpK"
      },
      "execution_count": null,
      "outputs": []
    },
    {
      "cell_type": "code",
      "source": [
        "#Entrenar el modelo\n",
        "history = model.fit(training_images, training_labels, epochs=10)\n",
        "\n",
        "#Graficar el historial de entrenamiento\n",
        "pd.DataFrame(history.history).plot(figsize=(8, 5))\n",
        "plt.show()"
      ],
      "metadata": {
        "colab": {
          "base_uri": "https://localhost:8080/",
          "height": 792
        },
        "id": "uDyevk14e-6A",
        "outputId": "22d6bfe7-b3c9-4906-b121-b94aed867dc1"
      },
      "execution_count": null,
      "outputs": [
        {
          "output_type": "stream",
          "name": "stdout",
          "text": [
            "Epoch 1/10\n",
            "1875/1875 [==============================] - 43s 23ms/step - loss: 0.1451 - accuracy: 0.9567\n",
            "Epoch 2/10\n",
            "1875/1875 [==============================] - 41s 22ms/step - loss: 0.0512 - accuracy: 0.9843\n",
            "Epoch 3/10\n",
            "1875/1875 [==============================] - 40s 21ms/step - loss: 0.0314 - accuracy: 0.9903\n",
            "Epoch 4/10\n",
            "1875/1875 [==============================] - 41s 22ms/step - loss: 0.0198 - accuracy: 0.9934\n",
            "Epoch 5/10\n",
            "1875/1875 [==============================] - 40s 22ms/step - loss: 0.0137 - accuracy: 0.9956\n",
            "Epoch 6/10\n",
            "1875/1875 [==============================] - 42s 22ms/step - loss: 0.0093 - accuracy: 0.9971\n",
            "Epoch 7/10\n",
            "1875/1875 [==============================] - 44s 23ms/step - loss: 0.0081 - accuracy: 0.9974\n",
            "Epoch 8/10\n",
            "1875/1875 [==============================] - 42s 22ms/step - loss: 0.0074 - accuracy: 0.9974\n",
            "Epoch 9/10\n",
            "1875/1875 [==============================] - 41s 22ms/step - loss: 0.0043 - accuracy: 0.9986\n",
            "Epoch 10/10\n",
            "1875/1875 [==============================] - 42s 22ms/step - loss: 0.0033 - accuracy: 0.9990\n"
          ]
        },
        {
          "output_type": "display_data",
          "data": {
            "text/plain": [
              "<Figure size 800x500 with 1 Axes>"
            ],
            "image/png": "[encoded data removed]"
          },
          "metadata": {}
        }
      ]
    },
    {
      "cell_type": "code",
      "source": [
        "#Evaluar el modelo en el conjunto de entrenamiento\n",
        "loss, accuracy = model.evaluate(training_images, training_labels)\n",
        "print(\"Pérdida en el conjunto de entrenamiento:\", loss)\n",
        "print(\"Precisión en el conjunto de entrenamiento:\", accuracy)\n",
        "\n",
        "#Evaluar el modelo con datos no vistos\n",
        "loss, accuracy = model.evaluate(test_images, test_labels)\n",
        "print(\"Pérdida en el conjunto de prueba:\", loss)\n",
        "print(\"Precisión en el conjunto de prueba:\", accuracy)\n"
      ],
      "metadata": {
        "colab": {
          "base_uri": "https://localhost:8080/"
        },
        "id": "jQ5jlQJTfbOp",
        "outputId": "d4bdb55b-d373-4724-dd99-94236e2af0eb"
      },
      "execution_count": null,
      "outputs": [
        {
          "output_type": "stream",
          "name": "stdout",
          "text": [
            "1875/1875 [==============================] - 13s 7ms/step - loss: 0.0071 - accuracy: 0.9976\n",
            "Pérdida en el conjunto de entrenamiento: 0.00714054424315691\n",
            "Precisión en el conjunto de entrenamiento: 0.9975500106811523\n",
            "313/313 [==============================] - 2s 6ms/step - loss: 0.0744 - accuracy: 0.9829\n",
            "Pérdida en el conjunto de prueba: 0.07437852770090103\n",
            "Precisión en el conjunto de prueba: 0.9829000234603882\n"
          ]
        }
      ]
    },
    {
      "cell_type": "code",
      "source": [
        "#Predicción\n",
        "index = 1\n",
        "print(f'Label: {test_labels[index]}')\n",
        "classification = model.predict(test_images[index:index+1])\n",
        "print(f'Classification:\\n {classification.reshape(-1,1)}')\n",
        "#plt.imshow(test_images[index])\n",
        "#plt.show()"
      ],
      "metadata": {
        "colab": {
          "base_uri": "https://localhost:8080/"
        },
        "id": "PLIlYer1f_vG",
        "outputId": "bc5b6984-61ae-4731-9c90-74af7a721235"
      },
      "execution_count": null,
      "outputs": [
        {
          "output_type": "stream",
          "name": "stdout",
          "text": [
            "Label: 2\n",
            "1/1 [==============================] - 0s 94ms/step\n",
            "Classification:\n",
            " [[5.23564670e-16]\n",
            " [1.42703327e-09]\n",
            " [1.00000000e+00]\n",
            " [1.79146279e-19]\n",
            " [1.29715394e-25]\n",
            " [5.17609221e-23]\n",
            " [4.96133750e-18]\n",
            " [4.71465484e-20]\n",
            " [5.41630824e-16]\n",
            " [1.03482314e-20]]\n"
          ]
        }
      ]
    },
    {
      "cell_type": "code",
      "source": [
        "#Después de realizar el entrenamiento vamos a ejecutar un código que permite\n",
        "#Visualizar las convoluciones y Pooling\n",
        "\n",
        "#Preparación de los datos\n",
        "print(test_labels[:30])"
      ],
      "metadata": {
        "colab": {
          "base_uri": "https://localhost:8080/"
        },
        "id": "_zxSqLbuje7a",
        "outputId": "3e76a8a7-908e-4f76-f637-6d2f2763f131"
      },
      "execution_count": null,
      "outputs": [
        {
          "output_type": "stream",
          "name": "stdout",
          "text": [
            "[7 2 1 0 4 1 4 9 5 9 0 6 9 0 1 5 9 7 3 4 9 6 6 5 4 0 7 4 0 1]\n"
          ]
        }
      ]
    },
    {
      "cell_type": "code",
      "source": [
        "#Selección de imágenes de interés\n",
        "\n",
        "FIRST_IMAGE=3\n",
        "SECOND_IMAGE=10\n",
        "THIRD_IMAGE=25\n",
        "\n",
        "print(f'Label: {test_labels[FIRST_IMAGE]}')\n",
        "print(f'Label: {test_labels[SECOND_IMAGE]}')\n",
        "print(f'Label: {test_labels[THIRD_IMAGE]}')"
      ],
      "metadata": {
        "colab": {
          "base_uri": "https://localhost:8080/"
        },
        "id": "ZXhAaXUZj8Sm",
        "outputId": "1b94a457-1967-498e-95af-2cdd1f1bde71"
      },
      "execution_count": null,
      "outputs": [
        {
          "output_type": "stream",
          "name": "stdout",
          "text": [
            "Label: 0\n",
            "Label: 0\n",
            "Label: 0\n"
          ]
        }
      ]
    },
    {
      "cell_type": "code",
      "source": [
        "#Visualización de imágenes\n",
        "f, axarr = plt.subplots(3,1)\n",
        "axarr[0].imshow(test_images[FIRST_IMAGE])\n",
        "axarr[1].imshow(test_images[SECOND_IMAGE])\n",
        "axarr[2].imshow(test_images[THIRD_IMAGE])\n"
      ],
      "metadata": {
        "colab": {
          "base_uri": "https://localhost:8080/",
          "height": 450
        },
        "id": "2hZTyhj9kRcr",
        "outputId": "412260a8-70e7-4a77-97d6-47180def78ac"
      },
      "execution_count": null,
      "outputs": [
        {
          "output_type": "execute_result",
          "data": {
            "text/plain": [
              "<matplotlib.image.AxesImage at 0x7fc378ebc160>"
            ]
          },
          "metadata": {},
          "execution_count": 15
        },
        {
          "output_type": "display_data",
          "data": {
            "text/plain": [
              "<Figure size 640x480 with 3 Axes>"
            ],
            "image/png": "[encoded data removed]"
          },
          "metadata": {}
        }
      ]
    },
    {
      "cell_type": "code",
      "source": [
        "#Extracción de activaciones\n",
        "\n",
        "layer = 0\n",
        "filter1 = 0\n",
        "filter2 = 10\n",
        "\n",
        "layer_outputs = [layer.output for layer in model.layers]\n",
        "activation_model = keras.models.Model(inputs=model.input, outputs=layer_outputs)\n",
        "\n"
      ],
      "metadata": {
        "id": "B-9QCI0HktRq"
      },
      "execution_count": null,
      "outputs": []
    },
    {
      "cell_type": "code",
      "source": [
        "#Visualización de convoluciones\n",
        "\n",
        "f, axarr = plt.subplots(3,3)\n",
        "\n",
        "axarr[0,0].set_title('Image Input')\n",
        "axarr[0,0].imshow(test_images[FIRST_IMAGE])\n",
        "f1 = activation_model.predict(test_images[FIRST_IMAGE].reshape(1,28,28))[layer]\n",
        "axarr[0,1].set_title('Layer' + str(layer)+ ', Filter1')\n",
        "axarr[0,1].imshow(f1[0,:,:,filter1])\n",
        "axarr[0,2].set_title('Layer' + str(layer)+ ', Filter2')\n",
        "axarr[0,2].imshow(f1[0,:,:,filter2])\n",
        "\n",
        "axarr[1,0].imshow(test_images[SECOND_IMAGE])\n",
        "f2= activation_model.predict(test_images[SECOND_IMAGE].reshape(1,28,28))[layer]\n",
        "axarr[1,1].imshow(f2[0,:,:,filter1])\n",
        "axarr[1,2].imshow(f2[0,:,:,filter2])\n",
        "\n",
        "axarr[2,0].imshow(test_images[THIRD_IMAGE])\n",
        "f3= activation_model.predict(test_images[THIRD_IMAGE].reshape(1,28,28))[layer]\n",
        "axarr[2,1].imshow(f3[0,:,:,filter1])\n",
        "axarr[2,2].imshow(f3[0,:,:,filter2])\n"
      ],
      "metadata": {
        "colab": {
          "base_uri": "https://localhost:8080/",
          "height": 521
        },
        "id": "-QFQtUXWlO0X",
        "outputId": "a4b3ce34-aaec-49f8-9f2a-39aae15233e9"
      },
      "execution_count": null,
      "outputs": [
        {
          "output_type": "stream",
          "name": "stdout",
          "text": [
            "1/1 [==============================] - 0s 84ms/step\n",
            "1/1 [==============================] - 0s 45ms/step\n",
            "1/1 [==============================] - 0s 33ms/step\n"
          ]
        },
        {
          "output_type": "execute_result",
          "data": {
            "text/plain": [
              "<matplotlib.image.AxesImage at 0x7fc37af2ab60>"
            ]
          },
          "metadata": {},
          "execution_count": 19
        },
        {
          "output_type": "display_data",
          "data": {
            "text/plain": [
              "<Figure size 640x480 with 9 Axes>"
            ],
            "image/png": "[encoded data removed]"
          },
          "metadata": {}
        }
      ]
    },
    {
      "cell_type": "code",
      "source": [
        "#seleccionando elementos etiquetados como 7 tenemos\n",
        "\n",
        "FIRST_IMAGE=2\n",
        "SECOND_IMAGE=5\n",
        "THIRD_IMAGE=14\n",
        "\n",
        "print(f'Label: {test_labels[FIRST_IMAGE]}')\n",
        "print(f'Label: {test_labels[SECOND_IMAGE]}')\n",
        "print(f'Label: {test_labels[THIRD_IMAGE]}')\n",
        "\n",
        "f, axarr = plt.subplots(3,3)\n",
        "\n",
        "axarr[0,0].set_title('Image Input')\n",
        "axarr[0,0].imshow(test_images[FIRST_IMAGE])\n",
        "f1 = activation_model.predict(test_images[FIRST_IMAGE].reshape(1,28,28))[layer]\n",
        "axarr[0,1].set_title('Layer' + str(layer)+ ', Filter1')\n",
        "axarr[0,1].imshow(f1[0,:,:,filter1])\n",
        "axarr[0,2].set_title('Layer' + str(layer)+ ', Filter2')\n",
        "axarr[0,2].imshow(f1[0,:,:,filter2])\n",
        "\n",
        "axarr[1,0].imshow(test_images[SECOND_IMAGE])\n",
        "f2= activation_model.predict(test_images[SECOND_IMAGE].reshape(1,28,28))[layer]\n",
        "axarr[1,1].imshow(f2[0,:,:,filter1])\n",
        "axarr[1,2].imshow(f2[0,:,:,filter2])\n",
        "\n",
        "axarr[2,0].imshow(test_images[THIRD_IMAGE])\n",
        "f3= activation_model.predict(test_images[THIRD_IMAGE].reshape(1,28,28))[layer]\n",
        "axarr[2,1].imshow(f3[0,:,:,filter1])\n",
        "axarr[2,2].imshow(f3[0,:,:,filter2])"
      ],
      "metadata": {
        "colab": {
          "base_uri": "https://localhost:8080/",
          "height": 574
        },
        "id": "LiGXRFw7ocxi",
        "outputId": "fbcdf7c3-b42b-49c1-e2fe-3878ec82b188"
      },
      "execution_count": null,
      "outputs": [
        {
          "output_type": "stream",
          "name": "stdout",
          "text": [
            "Label: 1\n",
            "Label: 1\n",
            "Label: 1\n",
            "1/1 [==============================] - 0s 21ms/step\n",
            "1/1 [==============================] - 0s 21ms/step\n",
            "1/1 [==============================] - 0s 20ms/step\n"
          ]
        },
        {
          "output_type": "execute_result",
          "data": {
            "text/plain": [
              "<matplotlib.image.AxesImage at 0x7fc37b064790>"
            ]
          },
          "metadata": {},
          "execution_count": 23
        },
        {
          "output_type": "display_data",
          "data": {
            "text/plain": [
              "<Figure size 640x480 with 9 Axes>"
            ],
            "image/png": "[encoded data removed]"
          },
          "metadata": {}
        }
      ]
    }
  ]
}