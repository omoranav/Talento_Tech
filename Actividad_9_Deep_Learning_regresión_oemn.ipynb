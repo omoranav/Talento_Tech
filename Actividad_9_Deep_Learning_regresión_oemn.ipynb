{
  "cells": [
    {
      "cell_type": "markdown",
      "metadata": {
        "id": "Z7LE2pYem3zx"
      },
      "source": [
        "# Deep Learning Fundamentals"
      ]
    },
    {
      "cell_type": "code",
      "execution_count": 3,
      "metadata": {
        "id": "rx1CFng6m30L",
        "outputId": "5fc04dc7-a13a-434f-b511-ef6f4f17b8c1",
        "colab": {
          "base_uri": "https://localhost:8080/",
          "height": 206
        }
      },
      "outputs": [
        {
          "output_type": "execute_result",
          "data": {
            "text/plain": [
              "   rownames family  father  mother  midparentHeight  children  childNum  \\\n",
              "0         1    001    78.5    67.0            75.43         4         1   \n",
              "1         2    001    78.5    67.0            75.43         4         2   \n",
              "2         3    001    78.5    67.0            75.43         4         3   \n",
              "3         4    001    78.5    67.0            75.43         4         4   \n",
              "4         5    002    75.5    66.5            73.66         4         1   \n",
              "\n",
              "   gender  childHeight  \n",
              "0    male         73.2  \n",
              "1  female         69.2  \n",
              "2  female         69.0  \n",
              "3  female         69.0  \n",
              "4    male         73.5  "
            ],
            "text/html": [
              "\n",
              "  <div id=\"df-924f0b74-7ddf-4cff-abac-7fbc53003ce1\" class=\"colab-df-container\">\n",
              "    <div>\n",
              "<style scoped>\n",
              "    .dataframe tbody tr th:only-of-type {\n",
              "        vertical-align: middle;\n",
              "    }\n",
              "\n",
              "    .dataframe tbody tr th {\n",
              "        vertical-align: top;\n",
              "    }\n",
              "\n",
              "    .dataframe thead th {\n",
              "        text-align: right;\n",
              "    }\n",
              "</style>\n",
              "<table border=\"1\" class=\"dataframe\">\n",
              "  <thead>\n",
              "    <tr style=\"text-align: right;\">\n",
              "      <th></th>\n",
              "      <th>rownames</th>\n",
              "      <th>family</th>\n",
              "      <th>father</th>\n",
              "      <th>mother</th>\n",
              "      <th>midparentHeight</th>\n",
              "      <th>children</th>\n",
              "      <th>childNum</th>\n",
              "      <th>gender</th>\n",
              "      <th>childHeight</th>\n",
              "    </tr>\n",
              "  </thead>\n",
              "  <tbody>\n",
              "    <tr>\n",
              "      <th>0</th>\n",
              "      <td>1</td>\n",
              "      <td>001</td>\n",
              "      <td>78.5</td>\n",
              "      <td>67.0</td>\n",
              "      <td>75.43</td>\n",
              "      <td>4</td>\n",
              "      <td>1</td>\n",
              "      <td>male</td>\n",
              "      <td>73.2</td>\n",
              "    </tr>\n",
              "    <tr>\n",
              "      <th>1</th>\n",
              "      <td>2</td>\n",
              "      <td>001</td>\n",
              "      <td>78.5</td>\n",
              "      <td>67.0</td>\n",
              "      <td>75.43</td>\n",
              "      <td>4</td>\n",
              "      <td>2</td>\n",
              "      <td>female</td>\n",
              "      <td>69.2</td>\n",
              "    </tr>\n",
              "    <tr>\n",
              "      <th>2</th>\n",
              "      <td>3</td>\n",
              "      <td>001</td>\n",
              "      <td>78.5</td>\n",
              "      <td>67.0</td>\n",
              "      <td>75.43</td>\n",
              "      <td>4</td>\n",
              "      <td>3</td>\n",
              "      <td>female</td>\n",
              "      <td>69.0</td>\n",
              "    </tr>\n",
              "    <tr>\n",
              "      <th>3</th>\n",
              "      <td>4</td>\n",
              "      <td>001</td>\n",
              "      <td>78.5</td>\n",
              "      <td>67.0</td>\n",
              "      <td>75.43</td>\n",
              "      <td>4</td>\n",
              "      <td>4</td>\n",
              "      <td>female</td>\n",
              "      <td>69.0</td>\n",
              "    </tr>\n",
              "    <tr>\n",
              "      <th>4</th>\n",
              "      <td>5</td>\n",
              "      <td>002</td>\n",
              "      <td>75.5</td>\n",
              "      <td>66.5</td>\n",
              "      <td>73.66</td>\n",
              "      <td>4</td>\n",
              "      <td>1</td>\n",
              "      <td>male</td>\n",
              "      <td>73.5</td>\n",
              "    </tr>\n",
              "  </tbody>\n",
              "</table>\n",
              "</div>\n",
              "    <div class=\"colab-df-buttons\">\n",
              "\n",
              "  <div class=\"colab-df-container\">\n",
              "    <button class=\"colab-df-convert\" onclick=\"convertToInteractive('df-924f0b74-7ddf-4cff-abac-7fbc53003ce1')\"\n",
              "            title=\"Convert this dataframe to an interactive table.\"\n",
              "            style=\"display:none;\">\n",
              "\n",
              "  <svg xmlns=\"http://www.w3.org/2000/svg\" height=\"24px\" viewBox=\"0 -960 960 960\">\n",
              "    <path d=\"M120-120v-720h720v720H120Zm60-500h600v-160H180v160Zm220 220h160v-160H400v160Zm0 220h160v-160H400v160ZM180-400h160v-160H180v160Zm440 0h160v-160H620v160ZM180-180h160v-160H180v160Zm440 0h160v-160H620v160Z\"/>\n",
              "  </svg>\n",
              "    </button>\n",
              "\n",
              "  <style>\n",
              "    .colab-df-container {\n",
              "      display:flex;\n",
              "      gap: 12px;\n",
              "    }\n",
              "\n",
              "    .colab-df-convert {\n",
              "      background-color: #E8F0FE;\n",
              "      border: none;\n",
              "      border-radius: 50%;\n",
              "      cursor: pointer;\n",
              "      display: none;\n",
              "      fill: #1967D2;\n",
              "      height: 32px;\n",
              "      padding: 0 0 0 0;\n",
              "      width: 32px;\n",
              "    }\n",
              "\n",
              "    .colab-df-convert:hover {\n",
              "      background-color: #E2EBFA;\n",
              "      box-shadow: 0px 1px 2px rgba(60, 64, 67, 0.3), 0px 1px 3px 1px rgba(60, 64, 67, 0.15);\n",
              "      fill: #174EA6;\n",
              "    }\n",
              "\n",
              "    .colab-df-buttons div {\n",
              "      margin-bottom: 4px;\n",
              "    }\n",
              "\n",
              "    [theme=dark] .colab-df-convert {\n",
              "      background-color: #3B4455;\n",
              "      fill: #D2E3FC;\n",
              "    }\n",
              "\n",
              "    [theme=dark] .colab-df-convert:hover {\n",
              "      background-color: #434B5C;\n",
              "      box-shadow: 0px 1px 3px 1px rgba(0, 0, 0, 0.15);\n",
              "      filter: drop-shadow(0px 1px 2px rgba(0, 0, 0, 0.3));\n",
              "      fill: #FFFFFF;\n",
              "    }\n",
              "  </style>\n",
              "\n",
              "    <script>\n",
              "      const buttonEl =\n",
              "        document.querySelector('#df-924f0b74-7ddf-4cff-abac-7fbc53003ce1 button.colab-df-convert');\n",
              "      buttonEl.style.display =\n",
              "        google.colab.kernel.accessAllowed ? 'block' : 'none';\n",
              "\n",
              "      async function convertToInteractive(key) {\n",
              "        const element = document.querySelector('#df-924f0b74-7ddf-4cff-abac-7fbc53003ce1');\n",
              "        const dataTable =\n",
              "          await google.colab.kernel.invokeFunction('convertToInteractive',\n",
              "                                                    [key], {});\n",
              "        if (!dataTable) return;\n",
              "\n",
              "        const docLinkHtml = 'Like what you see? Visit the ' +\n",
              "          '<a target=\"_blank\" href=https://colab.research.google.com/notebooks/data_table.ipynb>data table notebook</a>'\n",
              "          + ' to learn more about interactive tables.';\n",
              "        element.innerHTML = '';\n",
              "        dataTable['output_type'] = 'display_data';\n",
              "        await google.colab.output.renderOutput(dataTable, element);\n",
              "        const docLink = document.createElement('div');\n",
              "        docLink.innerHTML = docLinkHtml;\n",
              "        element.appendChild(docLink);\n",
              "      }\n",
              "    </script>\n",
              "  </div>\n",
              "\n",
              "\n",
              "<div id=\"df-2b174e98-b903-4f65-9304-ca47a89fc215\">\n",
              "  <button class=\"colab-df-quickchart\" onclick=\"quickchart('df-2b174e98-b903-4f65-9304-ca47a89fc215')\"\n",
              "            title=\"Suggest charts\"\n",
              "            style=\"display:none;\">\n",
              "\n",
              "<svg xmlns=\"http://www.w3.org/2000/svg\" height=\"24px\"viewBox=\"0 0 24 24\"\n",
              "     width=\"24px\">\n",
              "    <g>\n",
              "        <path d=\"M19 3H5c-1.1 0-2 .9-2 2v14c0 1.1.9 2 2 2h14c1.1 0 2-.9 2-2V5c0-1.1-.9-2-2-2zM9 17H7v-7h2v7zm4 0h-2V7h2v10zm4 0h-2v-4h2v4z\"/>\n",
              "    </g>\n",
              "</svg>\n",
              "  </button>\n",
              "\n",
              "<style>\n",
              "  .colab-df-quickchart {\n",
              "      --bg-color: #E8F0FE;\n",
              "      --fill-color: #1967D2;\n",
              "      --hover-bg-color: #E2EBFA;\n",
              "      --hover-fill-color: #174EA6;\n",
              "      --disabled-fill-color: #AAA;\n",
              "      --disabled-bg-color: #DDD;\n",
              "  }\n",
              "\n",
              "  [theme=dark] .colab-df-quickchart {\n",
              "      --bg-color: #3B4455;\n",
              "      --fill-color: #D2E3FC;\n",
              "      --hover-bg-color: #434B5C;\n",
              "      --hover-fill-color: #FFFFFF;\n",
              "      --disabled-bg-color: #3B4455;\n",
              "      --disabled-fill-color: #666;\n",
              "  }\n",
              "\n",
              "  .colab-df-quickchart {\n",
              "    background-color: var(--bg-color);\n",
              "    border: none;\n",
              "    border-radius: 50%;\n",
              "    cursor: pointer;\n",
              "    display: none;\n",
              "    fill: var(--fill-color);\n",
              "    height: 32px;\n",
              "    padding: 0;\n",
              "    width: 32px;\n",
              "  }\n",
              "\n",
              "  .colab-df-quickchart:hover {\n",
              "    background-color: var(--hover-bg-color);\n",
              "    box-shadow: 0 1px 2px rgba(60, 64, 67, 0.3), 0 1px 3px 1px rgba(60, 64, 67, 0.15);\n",
              "    fill: var(--button-hover-fill-color);\n",
              "  }\n",
              "\n",
              "  .colab-df-quickchart-complete:disabled,\n",
              "  .colab-df-quickchart-complete:disabled:hover {\n",
              "    background-color: var(--disabled-bg-color);\n",
              "    fill: var(--disabled-fill-color);\n",
              "    box-shadow: none;\n",
              "  }\n",
              "\n",
              "  .colab-df-spinner {\n",
              "    border: 2px solid var(--fill-color);\n",
              "    border-color: transparent;\n",
              "    border-bottom-color: var(--fill-color);\n",
              "    animation:\n",
              "      spin 1s steps(1) infinite;\n",
              "  }\n",
              "\n",
              "  @keyframes spin {\n",
              "    0% {\n",
              "      border-color: transparent;\n",
              "      border-bottom-color: var(--fill-color);\n",
              "      border-left-color: var(--fill-color);\n",
              "    }\n",
              "    20% {\n",
              "      border-color: transparent;\n",
              "      border-left-color: var(--fill-color);\n",
              "      border-top-color: var(--fill-color);\n",
              "    }\n",
              "    30% {\n",
              "      border-color: transparent;\n",
              "      border-left-color: var(--fill-color);\n",
              "      border-top-color: var(--fill-color);\n",
              "      border-right-color: var(--fill-color);\n",
              "    }\n",
              "    40% {\n",
              "      border-color: transparent;\n",
              "      border-right-color: var(--fill-color);\n",
              "      border-top-color: var(--fill-color);\n",
              "    }\n",
              "    60% {\n",
              "      border-color: transparent;\n",
              "      border-right-color: var(--fill-color);\n",
              "    }\n",
              "    80% {\n",
              "      border-color: transparent;\n",
              "      border-right-color: var(--fill-color);\n",
              "      border-bottom-color: var(--fill-color);\n",
              "    }\n",
              "    90% {\n",
              "      border-color: transparent;\n",
              "      border-bottom-color: var(--fill-color);\n",
              "    }\n",
              "  }\n",
              "</style>\n",
              "\n",
              "  <script>\n",
              "    async function quickchart(key) {\n",
              "      const quickchartButtonEl =\n",
              "        document.querySelector('#' + key + ' button');\n",
              "      quickchartButtonEl.disabled = true;  // To prevent multiple clicks.\n",
              "      quickchartButtonEl.classList.add('colab-df-spinner');\n",
              "      try {\n",
              "        const charts = await google.colab.kernel.invokeFunction(\n",
              "            'suggestCharts', [key], {});\n",
              "      } catch (error) {\n",
              "        console.error('Error during call to suggestCharts:', error);\n",
              "      }\n",
              "      quickchartButtonEl.classList.remove('colab-df-spinner');\n",
              "      quickchartButtonEl.classList.add('colab-df-quickchart-complete');\n",
              "    }\n",
              "    (() => {\n",
              "      let quickchartButtonEl =\n",
              "        document.querySelector('#df-2b174e98-b903-4f65-9304-ca47a89fc215 button');\n",
              "      quickchartButtonEl.style.display =\n",
              "        google.colab.kernel.accessAllowed ? 'block' : 'none';\n",
              "    })();\n",
              "  </script>\n",
              "</div>\n",
              "\n",
              "    </div>\n",
              "  </div>\n"
            ],
            "application/vnd.google.colaboratory.intrinsic+json": {
              "type": "dataframe",
              "variable_name": "df",
              "summary": "{\n  \"name\": \"df\",\n  \"rows\": 934,\n  \"fields\": [\n    {\n      \"column\": \"rownames\",\n      \"properties\": {\n        \"dtype\": \"number\",\n        \"std\": 269,\n        \"min\": 1,\n        \"max\": 934,\n        \"num_unique_values\": 934,\n        \"samples\": [\n          322,\n          71,\n          210\n        ],\n        \"semantic_type\": \"\",\n        \"description\": \"\"\n      }\n    },\n    {\n      \"column\": \"family\",\n      \"properties\": {\n        \"dtype\": \"category\",\n        \"num_unique_values\": 205,\n        \"samples\": [\n          \"016\",\n          \"010\",\n          \"101\"\n        ],\n        \"semantic_type\": \"\",\n        \"description\": \"\"\n      }\n    },\n    {\n      \"column\": \"father\",\n      \"properties\": {\n        \"dtype\": \"number\",\n        \"std\": 2.476479322288005,\n        \"min\": 62.0,\n        \"max\": 78.5,\n        \"num_unique_values\": 35,\n        \"samples\": [\n          67.5,\n          71.2,\n          68.2\n        ],\n        \"semantic_type\": \"\",\n        \"description\": \"\"\n      }\n    },\n    {\n      \"column\": \"mother\",\n      \"properties\": {\n        \"dtype\": \"number\",\n        \"std\": 2.2908862103440972,\n        \"min\": 58.0,\n        \"max\": 70.5,\n        \"num_unique_values\": 29,\n        \"samples\": [\n          66.2,\n          64.7,\n          69.0\n        ],\n        \"semantic_type\": \"\",\n        \"description\": \"\"\n      }\n    },\n    {\n      \"column\": \"midparentHeight\",\n      \"properties\": {\n        \"dtype\": \"number\",\n        \"std\": 1.8023702216066162,\n        \"min\": 64.4,\n        \"max\": 75.43,\n        \"num_unique_values\": 140,\n        \"samples\": [\n          68.87,\n          71.49000000000001,\n          70.87\n        ],\n        \"semantic_type\": \"\",\n        \"description\": \"\"\n      }\n    },\n    {\n      \"column\": \"children\",\n      \"properties\": {\n        \"dtype\": \"number\",\n        \"std\": 2,\n        \"min\": 1,\n        \"max\": 15,\n        \"num_unique_values\": 12,\n        \"samples\": [\n          10,\n          11,\n          4\n        ],\n        \"semantic_type\": \"\",\n        \"description\": \"\"\n      }\n    },\n    {\n      \"column\": \"childNum\",\n      \"properties\": {\n        \"dtype\": \"number\",\n        \"std\": 2,\n        \"min\": 1,\n        \"max\": 15,\n        \"num_unique_values\": 15,\n        \"samples\": [\n          10,\n          12,\n          1\n        ],\n        \"semantic_type\": \"\",\n        \"description\": \"\"\n      }\n    },\n    {\n      \"column\": \"gender\",\n      \"properties\": {\n        \"dtype\": \"category\",\n        \"num_unique_values\": 2,\n        \"samples\": [\n          \"female\",\n          \"male\"\n        ],\n        \"semantic_type\": \"\",\n        \"description\": \"\"\n      }\n    },\n    {\n      \"column\": \"childHeight\",\n      \"properties\": {\n        \"dtype\": \"number\",\n        \"std\": 3.5792512015188347,\n        \"min\": 56.0,\n        \"max\": 79.0,\n        \"num_unique_values\": 67,\n        \"samples\": [\n          65.7,\n          69.5\n        ],\n        \"semantic_type\": \"\",\n        \"description\": \"\"\n      }\n    }\n  ]\n}"
            }
          },
          "metadata": {},
          "execution_count": 3
        }
      ],
      "source": [
        "# Parents heights vs children heights (Galton data) (kaggle.com)\n",
        "#https://www.kaggle.com/datasets/jacopoferretti/parents-heights-vs-children-heights-galton-data?resource=download\n",
        "# El objetivo principal de este estudio fue establecer una relación entre la\n",
        "# altura de los niños y los padres. Galton también quería saber si la selección\n",
        "# del matrimonio indica una relación entre la altura del marido y la de su esposa\n",
        "\n",
        "import pandas as pd\n",
        "\n",
        "df = pd.read_csv('GaltonFamilies.csv')\n",
        "df.head()\n"
      ]
    },
    {
      "cell_type": "code",
      "source": [
        "#Any missing values?\n",
        "\n",
        "df.isnull().sum()"
      ],
      "metadata": {
        "colab": {
          "base_uri": "https://localhost:8080/"
        },
        "id": "StyAi-h63Cz0",
        "outputId": "dd301345-7f39-4376-a9bc-1b22411005bd"
      },
      "execution_count": 4,
      "outputs": [
        {
          "output_type": "execute_result",
          "data": {
            "text/plain": [
              "rownames           0\n",
              "family             0\n",
              "father             0\n",
              "mother             0\n",
              "midparentHeight    0\n",
              "children           0\n",
              "childNum           0\n",
              "gender             0\n",
              "childHeight        0\n",
              "dtype: int64"
            ]
          },
          "metadata": {},
          "execution_count": 4
        }
      ]
    },
    {
      "cell_type": "code",
      "source": [
        "#Checking data types\n",
        "\n",
        "df.info()"
      ],
      "metadata": {
        "colab": {
          "base_uri": "https://localhost:8080/"
        },
        "id": "-mGXKmfQ3WQN",
        "outputId": "2bf51ee1-55f2-4d5b-9f18-95838d37293e"
      },
      "execution_count": 5,
      "outputs": [
        {
          "output_type": "stream",
          "name": "stdout",
          "text": [
            "<class 'pandas.core.frame.DataFrame'>\n",
            "RangeIndex: 934 entries, 0 to 933\n",
            "Data columns (total 9 columns):\n",
            " #   Column           Non-Null Count  Dtype  \n",
            "---  ------           --------------  -----  \n",
            " 0   rownames         934 non-null    int64  \n",
            " 1   family           934 non-null    object \n",
            " 2   father           934 non-null    float64\n",
            " 3   mother           934 non-null    float64\n",
            " 4   midparentHeight  934 non-null    float64\n",
            " 5   children         934 non-null    int64  \n",
            " 6   childNum         934 non-null    int64  \n",
            " 7   gender           934 non-null    object \n",
            " 8   childHeight      934 non-null    float64\n",
            "dtypes: float64(4), int64(3), object(2)\n",
            "memory usage: 65.8+ KB\n"
          ]
        }
      ]
    },
    {
      "cell_type": "code",
      "source": [
        "df1 = df.copy()\n",
        "\n",
        "#Eliminando las columnas rownames y children\n",
        "df1 = df1.drop(columns=['rownames'])\n",
        "df1 = df1.drop(columns=['children'])\n",
        "\n",
        "\n",
        "# Eliminar las columnas family\n",
        "df1 = df1.drop(columns=['family'])\n",
        "\n",
        "# reemplazar la columna gender por números para el clasificador\n",
        "df1[\"gender\"] = df1[\"gender\"].replace({\"male\": 0, \"female\": 1})\n",
        "df1.head()\n"
      ],
      "metadata": {
        "colab": {
          "base_uri": "https://localhost:8080/",
          "height": 206
        },
        "id": "2gXm9ttUuS-s",
        "outputId": "620acafe-6933-4303-a15e-9b48003fcc69"
      },
      "execution_count": 6,
      "outputs": [
        {
          "output_type": "execute_result",
          "data": {
            "text/plain": [
              "   father  mother  midparentHeight  childNum  gender  childHeight\n",
              "0    78.5    67.0            75.43         1       0         73.2\n",
              "1    78.5    67.0            75.43         2       1         69.2\n",
              "2    78.5    67.0            75.43         3       1         69.0\n",
              "3    78.5    67.0            75.43         4       1         69.0\n",
              "4    75.5    66.5            73.66         1       0         73.5"
            ],
            "text/html": [
              "\n",
              "  <div id=\"df-2afc95a2-7456-44ef-9784-84ec9c5dec86\" class=\"colab-df-container\">\n",
              "    <div>\n",
              "<style scoped>\n",
              "    .dataframe tbody tr th:only-of-type {\n",
              "        vertical-align: middle;\n",
              "    }\n",
              "\n",
              "    .dataframe tbody tr th {\n",
              "        vertical-align: top;\n",
              "    }\n",
              "\n",
              "    .dataframe thead th {\n",
              "        text-align: right;\n",
              "    }\n",
              "</style>\n",
              "<table border=\"1\" class=\"dataframe\">\n",
              "  <thead>\n",
              "    <tr style=\"text-align: right;\">\n",
              "      <th></th>\n",
              "      <th>father</th>\n",
              "      <th>mother</th>\n",
              "      <th>midparentHeight</th>\n",
              "      <th>childNum</th>\n",
              "      <th>gender</th>\n",
              "      <th>childHeight</th>\n",
              "    </tr>\n",
              "  </thead>\n",
              "  <tbody>\n",
              "    <tr>\n",
              "      <th>0</th>\n",
              "      <td>78.5</td>\n",
              "      <td>67.0</td>\n",
              "      <td>75.43</td>\n",
              "      <td>1</td>\n",
              "      <td>0</td>\n",
              "      <td>73.2</td>\n",
              "    </tr>\n",
              "    <tr>\n",
              "      <th>1</th>\n",
              "      <td>78.5</td>\n",
              "      <td>67.0</td>\n",
              "      <td>75.43</td>\n",
              "      <td>2</td>\n",
              "      <td>1</td>\n",
              "      <td>69.2</td>\n",
              "    </tr>\n",
              "    <tr>\n",
              "      <th>2</th>\n",
              "      <td>78.5</td>\n",
              "      <td>67.0</td>\n",
              "      <td>75.43</td>\n",
              "      <td>3</td>\n",
              "      <td>1</td>\n",
              "      <td>69.0</td>\n",
              "    </tr>\n",
              "    <tr>\n",
              "      <th>3</th>\n",
              "      <td>78.5</td>\n",
              "      <td>67.0</td>\n",
              "      <td>75.43</td>\n",
              "      <td>4</td>\n",
              "      <td>1</td>\n",
              "      <td>69.0</td>\n",
              "    </tr>\n",
              "    <tr>\n",
              "      <th>4</th>\n",
              "      <td>75.5</td>\n",
              "      <td>66.5</td>\n",
              "      <td>73.66</td>\n",
              "      <td>1</td>\n",
              "      <td>0</td>\n",
              "      <td>73.5</td>\n",
              "    </tr>\n",
              "  </tbody>\n",
              "</table>\n",
              "</div>\n",
              "    <div class=\"colab-df-buttons\">\n",
              "\n",
              "  <div class=\"colab-df-container\">\n",
              "    <button class=\"colab-df-convert\" onclick=\"convertToInteractive('df-2afc95a2-7456-44ef-9784-84ec9c5dec86')\"\n",
              "            title=\"Convert this dataframe to an interactive table.\"\n",
              "            style=\"display:none;\">\n",
              "\n",
              "  <svg xmlns=\"http://www.w3.org/2000/svg\" height=\"24px\" viewBox=\"0 -960 960 960\">\n",
              "    <path d=\"M120-120v-720h720v720H120Zm60-500h600v-160H180v160Zm220 220h160v-160H400v160Zm0 220h160v-160H400v160ZM180-400h160v-160H180v160Zm440 0h160v-160H620v160ZM180-180h160v-160H180v160Zm440 0h160v-160H620v160Z\"/>\n",
              "  </svg>\n",
              "    </button>\n",
              "\n",
              "  <style>\n",
              "    .colab-df-container {\n",
              "      display:flex;\n",
              "      gap: 12px;\n",
              "    }\n",
              "\n",
              "    .colab-df-convert {\n",
              "      background-color: #E8F0FE;\n",
              "      border: none;\n",
              "      border-radius: 50%;\n",
              "      cursor: pointer;\n",
              "      display: none;\n",
              "      fill: #1967D2;\n",
              "      height: 32px;\n",
              "      padding: 0 0 0 0;\n",
              "      width: 32px;\n",
              "    }\n",
              "\n",
              "    .colab-df-convert:hover {\n",
              "      background-color: #E2EBFA;\n",
              "      box-shadow: 0px 1px 2px rgba(60, 64, 67, 0.3), 0px 1px 3px 1px rgba(60, 64, 67, 0.15);\n",
              "      fill: #174EA6;\n",
              "    }\n",
              "\n",
              "    .colab-df-buttons div {\n",
              "      margin-bottom: 4px;\n",
              "    }\n",
              "\n",
              "    [theme=dark] .colab-df-convert {\n",
              "      background-color: #3B4455;\n",
              "      fill: #D2E3FC;\n",
              "    }\n",
              "\n",
              "    [theme=dark] .colab-df-convert:hover {\n",
              "      background-color: #434B5C;\n",
              "      box-shadow: 0px 1px 3px 1px rgba(0, 0, 0, 0.15);\n",
              "      filter: drop-shadow(0px 1px 2px rgba(0, 0, 0, 0.3));\n",
              "      fill: #FFFFFF;\n",
              "    }\n",
              "  </style>\n",
              "\n",
              "    <script>\n",
              "      const buttonEl =\n",
              "        document.querySelector('#df-2afc95a2-7456-44ef-9784-84ec9c5dec86 button.colab-df-convert');\n",
              "      buttonEl.style.display =\n",
              "        google.colab.kernel.accessAllowed ? 'block' : 'none';\n",
              "\n",
              "      async function convertToInteractive(key) {\n",
              "        const element = document.querySelector('#df-2afc95a2-7456-44ef-9784-84ec9c5dec86');\n",
              "        const dataTable =\n",
              "          await google.colab.kernel.invokeFunction('convertToInteractive',\n",
              "                                                    [key], {});\n",
              "        if (!dataTable) return;\n",
              "\n",
              "        const docLinkHtml = 'Like what you see? Visit the ' +\n",
              "          '<a target=\"_blank\" href=https://colab.research.google.com/notebooks/data_table.ipynb>data table notebook</a>'\n",
              "          + ' to learn more about interactive tables.';\n",
              "        element.innerHTML = '';\n",
              "        dataTable['output_type'] = 'display_data';\n",
              "        await google.colab.output.renderOutput(dataTable, element);\n",
              "        const docLink = document.createElement('div');\n",
              "        docLink.innerHTML = docLinkHtml;\n",
              "        element.appendChild(docLink);\n",
              "      }\n",
              "    </script>\n",
              "  </div>\n",
              "\n",
              "\n",
              "<div id=\"df-af26bd5e-2d03-4af4-88c8-e67689d0b47b\">\n",
              "  <button class=\"colab-df-quickchart\" onclick=\"quickchart('df-af26bd5e-2d03-4af4-88c8-e67689d0b47b')\"\n",
              "            title=\"Suggest charts\"\n",
              "            style=\"display:none;\">\n",
              "\n",
              "<svg xmlns=\"http://www.w3.org/2000/svg\" height=\"24px\"viewBox=\"0 0 24 24\"\n",
              "     width=\"24px\">\n",
              "    <g>\n",
              "        <path d=\"M19 3H5c-1.1 0-2 .9-2 2v14c0 1.1.9 2 2 2h14c1.1 0 2-.9 2-2V5c0-1.1-.9-2-2-2zM9 17H7v-7h2v7zm4 0h-2V7h2v10zm4 0h-2v-4h2v4z\"/>\n",
              "    </g>\n",
              "</svg>\n",
              "  </button>\n",
              "\n",
              "<style>\n",
              "  .colab-df-quickchart {\n",
              "      --bg-color: #E8F0FE;\n",
              "      --fill-color: #1967D2;\n",
              "      --hover-bg-color: #E2EBFA;\n",
              "      --hover-fill-color: #174EA6;\n",
              "      --disabled-fill-color: #AAA;\n",
              "      --disabled-bg-color: #DDD;\n",
              "  }\n",
              "\n",
              "  [theme=dark] .colab-df-quickchart {\n",
              "      --bg-color: #3B4455;\n",
              "      --fill-color: #D2E3FC;\n",
              "      --hover-bg-color: #434B5C;\n",
              "      --hover-fill-color: #FFFFFF;\n",
              "      --disabled-bg-color: #3B4455;\n",
              "      --disabled-fill-color: #666;\n",
              "  }\n",
              "\n",
              "  .colab-df-quickchart {\n",
              "    background-color: var(--bg-color);\n",
              "    border: none;\n",
              "    border-radius: 50%;\n",
              "    cursor: pointer;\n",
              "    display: none;\n",
              "    fill: var(--fill-color);\n",
              "    height: 32px;\n",
              "    padding: 0;\n",
              "    width: 32px;\n",
              "  }\n",
              "\n",
              "  .colab-df-quickchart:hover {\n",
              "    background-color: var(--hover-bg-color);\n",
              "    box-shadow: 0 1px 2px rgba(60, 64, 67, 0.3), 0 1px 3px 1px rgba(60, 64, 67, 0.15);\n",
              "    fill: var(--button-hover-fill-color);\n",
              "  }\n",
              "\n",
              "  .colab-df-quickchart-complete:disabled,\n",
              "  .colab-df-quickchart-complete:disabled:hover {\n",
              "    background-color: var(--disabled-bg-color);\n",
              "    fill: var(--disabled-fill-color);\n",
              "    box-shadow: none;\n",
              "  }\n",
              "\n",
              "  .colab-df-spinner {\n",
              "    border: 2px solid var(--fill-color);\n",
              "    border-color: transparent;\n",
              "    border-bottom-color: var(--fill-color);\n",
              "    animation:\n",
              "      spin 1s steps(1) infinite;\n",
              "  }\n",
              "\n",
              "  @keyframes spin {\n",
              "    0% {\n",
              "      border-color: transparent;\n",
              "      border-bottom-color: var(--fill-color);\n",
              "      border-left-color: var(--fill-color);\n",
              "    }\n",
              "    20% {\n",
              "      border-color: transparent;\n",
              "      border-left-color: var(--fill-color);\n",
              "      border-top-color: var(--fill-color);\n",
              "    }\n",
              "    30% {\n",
              "      border-color: transparent;\n",
              "      border-left-color: var(--fill-color);\n",
              "      border-top-color: var(--fill-color);\n",
              "      border-right-color: var(--fill-color);\n",
              "    }\n",
              "    40% {\n",
              "      border-color: transparent;\n",
              "      border-right-color: var(--fill-color);\n",
              "      border-top-color: var(--fill-color);\n",
              "    }\n",
              "    60% {\n",
              "      border-color: transparent;\n",
              "      border-right-color: var(--fill-color);\n",
              "    }\n",
              "    80% {\n",
              "      border-color: transparent;\n",
              "      border-right-color: var(--fill-color);\n",
              "      border-bottom-color: var(--fill-color);\n",
              "    }\n",
              "    90% {\n",
              "      border-color: transparent;\n",
              "      border-bottom-color: var(--fill-color);\n",
              "    }\n",
              "  }\n",
              "</style>\n",
              "\n",
              "  <script>\n",
              "    async function quickchart(key) {\n",
              "      const quickchartButtonEl =\n",
              "        document.querySelector('#' + key + ' button');\n",
              "      quickchartButtonEl.disabled = true;  // To prevent multiple clicks.\n",
              "      quickchartButtonEl.classList.add('colab-df-spinner');\n",
              "      try {\n",
              "        const charts = await google.colab.kernel.invokeFunction(\n",
              "            'suggestCharts', [key], {});\n",
              "      } catch (error) {\n",
              "        console.error('Error during call to suggestCharts:', error);\n",
              "      }\n",
              "      quickchartButtonEl.classList.remove('colab-df-spinner');\n",
              "      quickchartButtonEl.classList.add('colab-df-quickchart-complete');\n",
              "    }\n",
              "    (() => {\n",
              "      let quickchartButtonEl =\n",
              "        document.querySelector('#df-af26bd5e-2d03-4af4-88c8-e67689d0b47b button');\n",
              "      quickchartButtonEl.style.display =\n",
              "        google.colab.kernel.accessAllowed ? 'block' : 'none';\n",
              "    })();\n",
              "  </script>\n",
              "</div>\n",
              "\n",
              "    </div>\n",
              "  </div>\n"
            ],
            "application/vnd.google.colaboratory.intrinsic+json": {
              "type": "dataframe",
              "variable_name": "df1",
              "summary": "{\n  \"name\": \"df1\",\n  \"rows\": 934,\n  \"fields\": [\n    {\n      \"column\": \"father\",\n      \"properties\": {\n        \"dtype\": \"number\",\n        \"std\": 2.476479322288005,\n        \"min\": 62.0,\n        \"max\": 78.5,\n        \"num_unique_values\": 35,\n        \"samples\": [\n          67.5,\n          71.2,\n          68.2\n        ],\n        \"semantic_type\": \"\",\n        \"description\": \"\"\n      }\n    },\n    {\n      \"column\": \"mother\",\n      \"properties\": {\n        \"dtype\": \"number\",\n        \"std\": 2.2908862103440972,\n        \"min\": 58.0,\n        \"max\": 70.5,\n        \"num_unique_values\": 29,\n        \"samples\": [\n          66.2,\n          64.7,\n          69.0\n        ],\n        \"semantic_type\": \"\",\n        \"description\": \"\"\n      }\n    },\n    {\n      \"column\": \"midparentHeight\",\n      \"properties\": {\n        \"dtype\": \"number\",\n        \"std\": 1.8023702216066162,\n        \"min\": 64.4,\n        \"max\": 75.43,\n        \"num_unique_values\": 140,\n        \"samples\": [\n          68.87,\n          71.49000000000001,\n          70.87\n        ],\n        \"semantic_type\": \"\",\n        \"description\": \"\"\n      }\n    },\n    {\n      \"column\": \"childNum\",\n      \"properties\": {\n        \"dtype\": \"number\",\n        \"std\": 2,\n        \"min\": 1,\n        \"max\": 15,\n        \"num_unique_values\": 15,\n        \"samples\": [\n          10,\n          12,\n          1\n        ],\n        \"semantic_type\": \"\",\n        \"description\": \"\"\n      }\n    },\n    {\n      \"column\": \"gender\",\n      \"properties\": {\n        \"dtype\": \"number\",\n        \"std\": 0,\n        \"min\": 0,\n        \"max\": 1,\n        \"num_unique_values\": 2,\n        \"samples\": [\n          1,\n          0\n        ],\n        \"semantic_type\": \"\",\n        \"description\": \"\"\n      }\n    },\n    {\n      \"column\": \"childHeight\",\n      \"properties\": {\n        \"dtype\": \"number\",\n        \"std\": 3.5792512015188347,\n        \"min\": 56.0,\n        \"max\": 79.0,\n        \"num_unique_values\": 67,\n        \"samples\": [\n          65.7,\n          69.5\n        ],\n        \"semantic_type\": \"\",\n        \"description\": \"\"\n      }\n    }\n  ]\n}"
            }
          },
          "metadata": {},
          "execution_count": 6
        }
      ]
    },
    {
      "cell_type": "code",
      "source": [
        "#Any duplicate rows?\n",
        "#df1 = df.copy() se comenta porque antes se hizo la copia\n",
        "\n",
        "n_dup = len(df1) - len(df1.drop_duplicates())\n",
        "\n",
        "print(f\"Number of duplicate rows: {n_dup}\")\n",
        "\n",
        "if n_dup > 0:\n",
        "   # Eliminar filas duplicadas\n",
        "   df = df1.drop_duplicates()\n",
        "   n_dup = len(df1) - len(df1.drop_duplicates())\n",
        "   print(f\"Number of duplicate rows: {n_dup}\")"
      ],
      "metadata": {
        "colab": {
          "base_uri": "https://localhost:8080/"
        },
        "id": "d7c51M8B4QBl",
        "outputId": "741d3222-8189-4f0f-9f1a-aed28fb20faf"
      },
      "execution_count": 7,
      "outputs": [
        {
          "output_type": "stream",
          "name": "stdout",
          "text": [
            "Number of duplicate rows: 23\n",
            "Number of duplicate rows: 23\n"
          ]
        }
      ]
    },
    {
      "cell_type": "code",
      "source": [
        "# revisando cuantos valores hay por cada clase\n",
        "counts = df[\"gender\"].value_counts()\n",
        "print (counts)\n",
        "#plt.pie(counts, labels=list(counts.index), autopct=\"%2.f\" )"
      ],
      "metadata": {
        "colab": {
          "base_uri": "https://localhost:8080/"
        },
        "id": "T2B_s8tQ3clg",
        "outputId": "361e2bdc-a6ba-48cc-a818-3414c48303cd"
      },
      "execution_count": 8,
      "outputs": [
        {
          "output_type": "stream",
          "name": "stdout",
          "text": [
            "gender\n",
            "0    463\n",
            "1    448\n",
            "Name: count, dtype: int64\n"
          ]
        }
      ]
    },
    {
      "cell_type": "code",
      "execution_count": 9,
      "metadata": {
        "id": "h2ZxcuG7m30M",
        "colab": {
          "base_uri": "https://localhost:8080/"
        },
        "outputId": "71542be6-a132-4eec-b73f-374169b5a3c9"
      },
      "outputs": [
        {
          "output_type": "execute_result",
          "data": {
            "text/plain": [
              "array([[78.5 , 67.  , 75.43,  1.  ,  0.  , 73.2 ],\n",
              "       [78.5 , 67.  , 75.43,  2.  ,  1.  , 69.2 ],\n",
              "       [78.5 , 67.  , 75.43,  3.  ,  1.  , 69.  ],\n",
              "       ...,\n",
              "       [62.  , 66.  , 66.64,  3.  ,  1.  , 61.  ],\n",
              "       [62.5 , 63.  , 65.27,  1.  ,  0.  , 66.5 ],\n",
              "       [62.5 , 63.  , 65.27,  2.  ,  1.  , 57.  ]])"
            ]
          },
          "metadata": {},
          "execution_count": 9
        }
      ],
      "source": [
        "dataset = df1.values\n",
        "dataset"
      ]
    },
    {
      "cell_type": "code",
      "execution_count": 10,
      "metadata": {
        "id": "o-g0QHAJm30N",
        "colab": {
          "base_uri": "https://localhost:8080/"
        },
        "outputId": "91634b23-cabd-4bc7-fc8a-4b08b4a56a0c"
      },
      "outputs": [
        {
          "output_type": "execute_result",
          "data": {
            "text/plain": [
              "array([[78.5 , 67.  , 75.43,  1.  ,  0.  ],\n",
              "       [78.5 , 67.  , 75.43,  2.  ,  1.  ],\n",
              "       [78.5 , 67.  , 75.43,  3.  ,  1.  ],\n",
              "       ...,\n",
              "       [62.  , 66.  , 66.64,  3.  ,  1.  ],\n",
              "       [62.5 , 63.  , 65.27,  1.  ,  0.  ],\n",
              "       [62.5 , 63.  , 65.27,  2.  ,  1.  ]])"
            ]
          },
          "metadata": {},
          "execution_count": 10
        }
      ],
      "source": [
        "X = dataset[:,0:5]\n",
        "X"
      ]
    },
    {
      "cell_type": "code",
      "execution_count": 11,
      "metadata": {
        "id": "YS6P-zmem30N",
        "colab": {
          "base_uri": "https://localhost:8080/"
        },
        "outputId": "bc0dd4f9-9137-4f3c-93cd-eabdf3369be4"
      },
      "outputs": [
        {
          "output_type": "execute_result",
          "data": {
            "text/plain": [
              "array([73.2, 69.2, 69. , 69. , 73.5, 72.5, 65.5, 65.5, 71. , 68. , 70.5,\n",
              "       68.5, 67. , 64.5, 63. , 72. , 69. , 68. , 66.5, 62.5, 62.5, 69.5,\n",
              "       76.5, 74. , 73. , 73. , 70.5, 64. , 70.5, 68. , 66. , 66. , 65.5,\n",
              "       74. , 70. , 68. , 67. , 67. , 66. , 63.5, 63. , 65. , 71. , 62. ,\n",
              "       68. , 67. , 71. , 70.5, 66.7, 72. , 70.5, 70.2, 70.2, 69.2, 68.7,\n",
              "       66.5, 64.5, 63.5, 74. , 73. , 71.5, 62.5, 66.5, 62.3, 66. , 64.5,\n",
              "       64. , 62.7, 73.2, 73. , 72.7, 70. , 69. , 68.5, 68. , 66. , 73. ,\n",
              "       68.5, 68. , 73. , 71. , 67. , 74.2, 70.5, 69.5, 66. , 65.5, 65. ,\n",
              "       65. , 65.5, 66. , 63. , 70.5, 70.5, 69. , 65. , 63. , 69. , 67. ,\n",
              "       63. , 73. , 67. , 70.5, 70. , 66.5, 63. , 67.5, 67.2, 66.7, 64. ,\n",
              "       71. , 70. , 70. , 66. , 65. , 65. , 74. , 72. , 69. , 67.5, 63.5,\n",
              "       72. , 71.5, 71.5, 70. , 68. , 65.7, 78. , 74. , 73. , 72. , 67. ,\n",
              "       73.2, 73. , 69. , 67. , 70. , 67. , 67. , 66.5, 70. , 69. , 68.5,\n",
              "       66. , 64.5, 63. , 71. , 67. , 76. , 72. , 71. , 66. , 66. , 70.5,\n",
              "       72. , 72. , 71. , 69. , 66. , 65. , 73. , 65.2, 68.5, 67.7, 68. ,\n",
              "       68. , 62. , 68. , 68. , 67.5, 66.5, 66.5, 66. , 65.5, 65. , 72. ,\n",
              "       71. , 70.5, 67. , 68. , 68. , 68. , 72. , 71. , 70. , 66. , 64.5,\n",
              "       64.5, 62. , 73. , 62. , 67.5, 64.5, 71. , 67. , 66. , 65. , 63.5,\n",
              "       71. , 70. , 70. , 64. , 65. , 65. , 64. , 63. , 63. , 71. , 71. ,\n",
              "       70. , 63.5, 71. , 70. , 64.5, 62.5, 61.5, 72. , 70.5, 70.5, 64.5,\n",
              "       60. , 70. , 64. , 64. , 64. , 62.5, 70.5, 70. , 69. , 69. , 66. ,\n",
              "       64.5, 64. , 62. , 71.5, 69. , 71. , 70. , 69. , 69. , 70. , 68.7,\n",
              "       68. , 66. , 64. , 62. , 75. , 70. , 69. , 66. , 64. , 60. , 67.5,\n",
              "       73. , 72. , 72. , 66.5, 69.2, 67.2, 66.5, 66. , 66. , 64.2, 63.7,\n",
              "       72. , 70.2, 69. , 68.5, 68. , 65. , 61.5, 61. , 61. , 73. , 72. ,\n",
              "       70.5, 65. , 65. , 64.5, 63. , 62. , 67. , 65. , 64.5, 62.5, 62.5,\n",
              "       70. , 70. , 67. , 65. , 65. , 63. , 79. , 75. , 71. , 69. , 67. ,\n",
              "       65.7, 62. , 73. , 72.5, 65. , 69. , 69. , 72. , 70. , 68.7, 66.5,\n",
              "       65.5, 64.7, 64.5, 70.7, 70. , 68. , 67. , 66. , 65. , 67. , 70. ,\n",
              "       68. , 66.7, 65.5, 72. , 70. , 62.5, 61.2, 60.1, 74. , 69.5, 69. ,\n",
              "       68. , 68. , 68. , 65.5, 65. , 60. , 68. , 65. , 64. , 62. , 71. ,\n",
              "       70. , 70. , 70. , 69.5, 68.5, 69. , 65. , 64. , 70. , 67. , 65.5,\n",
              "       63.7, 63.2, 62.5, 62.2, 61. , 70. , 68.5, 65.5, 63.5, 72.5, 69. ,\n",
              "       67. , 64.5, 64. , 71. , 67.5, 67.5, 63.5, 68. , 67. , 63.7, 62. ,\n",
              "       70. , 66.5, 62. , 61. , 72. , 70. , 69.5, 69.5, 68. , 65. , 64. ,\n",
              "       63. , 70.7, 69.7, 69.2, 65.2, 64. , 63.5, 63.2, 72. , 72. , 60. ,\n",
              "       71.2, 67. , 67. , 64.5, 65. , 63. , 65. , 65. , 71.5, 64.5, 63. ,\n",
              "       72. , 66. , 66. , 65. , 63. , 75. , 71. , 70. , 66. , 66. , 65.5,\n",
              "       65. , 65. , 64. , 64. , 64. , 73. , 72. , 71.7, 71.5, 65.5, 65. ,\n",
              "       62.7, 62.5, 71.2, 71. , 70. , 75. , 74. , 72. , 68.5, 70. , 68.5,\n",
              "       68. , 65. , 63. , 62.5, 73. , 71. , 70.5, 70.5, 67. , 66. , 61. ,\n",
              "       70.5, 67.5, 64.5, 64. , 71. , 68.5, 67.5, 66. , 63. , 63. , 71. ,\n",
              "       71. , 70.5, 70.5, 66.5, 65.5, 64.5, 73. , 72. , 69. , 69. , 66.5,\n",
              "       65.5, 65.5, 65. , 64. , 70. , 68.5, 67. , 65. , 64. , 63.5, 61. ,\n",
              "       69.7, 68. , 60. , 65.2, 64.5, 63.7, 60. , 71.7, 66.5, 65. , 63.5,\n",
              "       65.5, 69. , 67.5, 63.5, 72. , 73. , 70. , 70. , 64. , 66. , 62. ,\n",
              "       70.5, 67. , 66. , 65. , 63. , 62. , 61. , 70.5, 63.7, 63. , 62.5,\n",
              "       73. , 72. , 69. , 73. , 71. , 71. , 69. , 63. , 72. , 70. , 67.8,\n",
              "       65.2, 64.7, 64.5, 63.5, 63.5, 62.5, 62. , 61.5, 71. , 70. , 70. ,\n",
              "       69. , 63.5, 62.5, 62.5, 62. , 72. , 68. , 66. , 66. , 70. , 69.5,\n",
              "       69. , 63. , 62. , 68. , 68. , 67.5, 64. , 63. , 63. , 63.5, 62. ,\n",
              "       62. , 70.5, 68. , 62.5, 69. , 66. , 61.7, 60.5, 69.5, 71. , 61.7,\n",
              "       73. , 71. , 67. , 70. , 69. , 69. , 68.7, 68.5, 68.5, 68. , 68. ,\n",
              "       68. , 66.2, 63.2, 67.5, 66. , 66. , 64. , 71.7, 71.5, 70.7, 65.5,\n",
              "       66.5, 65.2, 61.5, 72. , 72. , 68. , 66. , 69.2, 68. , 66. , 66. ,\n",
              "       62. , 61.5, 61. , 60. , 72. , 70.5, 68.7, 68.5, 67.7, 64. , 63.5,\n",
              "       63. , 71. , 68. , 68. , 67. , 65. , 64. , 63. , 63. , 62. , 61. ,\n",
              "       66. , 63. , 65.5, 62. , 71.2, 71.2, 69. , 68.5, 62.5, 62. , 69. ,\n",
              "       67. , 66. , 66. , 66. , 65. , 65. , 65. , 64. , 63. , 70.5, 70. ,\n",
              "       68. , 66. , 66. , 66. , 62. , 61.5, 73.5, 70. , 69.5, 65.5, 67. ,\n",
              "       70. , 68. , 64.5, 64. , 71. , 68. , 66. , 65.5, 65. , 63. , 62. ,\n",
              "       62. , 67. , 67. , 66. , 64. , 63.5, 61. , 68.2, 70. , 70. , 69. ,\n",
              "       67. , 65.5, 64.5, 68.5, 67.7, 61.7, 66.5, 68.5, 68. , 64. , 63.5,\n",
              "       63. , 66.7, 64. , 61. , 61. , 60. , 60. , 60. , 56. , 67.5, 67. ,\n",
              "       66.5, 60. , 69. , 68. , 65. , 64.7, 64. , 64. , 63. , 65. , 65. ,\n",
              "       62. , 61. , 72.7, 72.7, 71.5, 65.5, 63.5, 71. , 73. , 71. , 70.7,\n",
              "       70. , 69. , 68. , 65.5, 62. , 69.7, 67.5, 65.5, 65. , 64.5, 63.5,\n",
              "       70. , 69. , 65.5, 65.5, 63. , 70. , 67.7, 63. , 60. , 65. , 62. ,\n",
              "       62. , 71. , 69. , 64. , 64. , 63. , 63. , 63. , 63. , 63. , 62.5,\n",
              "       62. , 71.5, 70. , 67. , 67. , 71. , 70.2, 69.2, 68.5, 68. , 67. ,\n",
              "       65.5, 63.5, 69. , 68. , 63. , 70. , 69.5, 69. , 68.5, 66. , 67. ,\n",
              "       70.5, 70.5, 67. , 66. , 66. , 62. , 62. , 61.5, 72. , 65. , 65. ,\n",
              "       67. , 64. , 64. , 62. , 60. , 60. , 66. , 65. , 67. , 66.5, 65.5,\n",
              "       72. , 68. , 66. , 65. , 62. , 61. , 68.7, 68.5, 66.5, 64.5, 62.5,\n",
              "       60.5, 60.5, 57.5, 72. , 71. , 67. , 66. , 65. , 70. , 64.5, 62. ,\n",
              "       67.2, 67. , 65. , 65. , 65. , 63. , 70. , 68. , 63.5, 62.5, 62.5,\n",
              "       62.5, 62.5, 70. , 68. , 67. , 65. , 60. , 65. , 68. , 67. , 66.5,\n",
              "       66. , 65.7, 65.5, 65. , 65. , 64. , 63. , 62. , 61. , 60. , 58. ,\n",
              "       57. , 66.5, 66. , 66. , 65. , 63. , 63. , 63. , 63. , 60. , 67. ,\n",
              "       66. , 65. , 65. , 61. , 69. , 68. , 68. , 65. , 65. , 62. , 62. ,\n",
              "       61. , 59. , 70.7, 65.5, 69.2, 69. , 68. , 67.7, 64.5, 60.5, 67. ,\n",
              "       67. , 64. , 64. , 62.5, 60.5, 70. , 63. , 66. , 66. , 63. , 71. ,\n",
              "       71. , 69. , 63.5, 68. , 68. , 67. , 67. , 62. , 71.5, 68. , 65.5,\n",
              "       64. , 62. , 62. , 61. , 70.5, 68. , 67. , 65. , 64. , 64. , 60. ,\n",
              "       64.5, 66. , 60. , 68.5, 63.5, 64. , 62. , 61. , 66.5, 57. ])"
            ]
          },
          "metadata": {},
          "execution_count": 11
        }
      ],
      "source": [
        "Y = dataset[:,5]\n",
        "Y"
      ]
    },
    {
      "cell_type": "code",
      "execution_count": 12,
      "metadata": {
        "id": "UHLO6cX0m30N",
        "colab": {
          "base_uri": "https://localhost:8080/"
        },
        "outputId": "8c5d5d85-eaff-459c-de38-ddd02fd7f36e"
      },
      "outputs": [
        {
          "output_type": "execute_result",
          "data": {
            "text/plain": [
              "array([[1.        , 0.72      , 1.        , 0.        , 0.        ],\n",
              "       [1.        , 0.72      , 1.        , 0.07142857, 1.        ],\n",
              "       [1.        , 0.72      , 1.        , 0.14285714, 1.        ],\n",
              "       ...,\n",
              "       [0.        , 0.64      , 0.2030825 , 0.14285714, 1.        ],\n",
              "       [0.03030303, 0.4       , 0.07887579, 0.        , 0.        ],\n",
              "       [0.03030303, 0.4       , 0.07887579, 0.07142857, 1.        ]])"
            ]
          },
          "metadata": {},
          "execution_count": 12
        }
      ],
      "source": [
        "from sklearn import preprocessing\n",
        "\n",
        "min_max_scaler = preprocessing.MinMaxScaler()\n",
        "X_scale = min_max_scaler.fit_transform(X)\n",
        "X_scale"
      ]
    },
    {
      "cell_type": "code",
      "source": [
        "Y_scale = min_max_scaler.fit_transform(Y.reshape(-1, 1)  )\n",
        "Y_scale"
      ],
      "metadata": {
        "colab": {
          "base_uri": "https://localhost:8080/"
        },
        "id": "fTYlHkOTA9cq",
        "outputId": "43ea9c7b-d241-45d3-daea-fd337691a5e9"
      },
      "execution_count": 13,
      "outputs": [
        {
          "output_type": "execute_result",
          "data": {
            "text/plain": [
              "array([[0.74782609],\n",
              "       [0.57391304],\n",
              "       [0.56521739],\n",
              "       [0.56521739],\n",
              "       [0.76086957],\n",
              "       [0.7173913 ],\n",
              "       [0.41304348],\n",
              "       [0.41304348],\n",
              "       [0.65217391],\n",
              "       [0.52173913],\n",
              "       [0.63043478],\n",
              "       [0.54347826],\n",
              "       [0.47826087],\n",
              "       [0.36956522],\n",
              "       [0.30434783],\n",
              "       [0.69565217],\n",
              "       [0.56521739],\n",
              "       [0.52173913],\n",
              "       [0.45652174],\n",
              "       [0.2826087 ],\n",
              "       [0.2826087 ],\n",
              "       [0.58695652],\n",
              "       [0.89130435],\n",
              "       [0.7826087 ],\n",
              "       [0.73913043],\n",
              "       [0.73913043],\n",
              "       [0.63043478],\n",
              "       [0.34782609],\n",
              "       [0.63043478],\n",
              "       [0.52173913],\n",
              "       [0.43478261],\n",
              "       [0.43478261],\n",
              "       [0.41304348],\n",
              "       [0.7826087 ],\n",
              "       [0.60869565],\n",
              "       [0.52173913],\n",
              "       [0.47826087],\n",
              "       [0.47826087],\n",
              "       [0.43478261],\n",
              "       [0.32608696],\n",
              "       [0.30434783],\n",
              "       [0.39130435],\n",
              "       [0.65217391],\n",
              "       [0.26086957],\n",
              "       [0.52173913],\n",
              "       [0.47826087],\n",
              "       [0.65217391],\n",
              "       [0.63043478],\n",
              "       [0.46521739],\n",
              "       [0.69565217],\n",
              "       [0.63043478],\n",
              "       [0.6173913 ],\n",
              "       [0.6173913 ],\n",
              "       [0.57391304],\n",
              "       [0.55217391],\n",
              "       [0.45652174],\n",
              "       [0.36956522],\n",
              "       [0.32608696],\n",
              "       [0.7826087 ],\n",
              "       [0.73913043],\n",
              "       [0.67391304],\n",
              "       [0.2826087 ],\n",
              "       [0.45652174],\n",
              "       [0.27391304],\n",
              "       [0.43478261],\n",
              "       [0.36956522],\n",
              "       [0.34782609],\n",
              "       [0.29130435],\n",
              "       [0.74782609],\n",
              "       [0.73913043],\n",
              "       [0.72608696],\n",
              "       [0.60869565],\n",
              "       [0.56521739],\n",
              "       [0.54347826],\n",
              "       [0.52173913],\n",
              "       [0.43478261],\n",
              "       [0.73913043],\n",
              "       [0.54347826],\n",
              "       [0.52173913],\n",
              "       [0.73913043],\n",
              "       [0.65217391],\n",
              "       [0.47826087],\n",
              "       [0.79130435],\n",
              "       [0.63043478],\n",
              "       [0.58695652],\n",
              "       [0.43478261],\n",
              "       [0.41304348],\n",
              "       [0.39130435],\n",
              "       [0.39130435],\n",
              "       [0.41304348],\n",
              "       [0.43478261],\n",
              "       [0.30434783],\n",
              "       [0.63043478],\n",
              "       [0.63043478],\n",
              "       [0.56521739],\n",
              "       [0.39130435],\n",
              "       [0.30434783],\n",
              "       [0.56521739],\n",
              "       [0.47826087],\n",
              "       [0.30434783],\n",
              "       [0.73913043],\n",
              "       [0.47826087],\n",
              "       [0.63043478],\n",
              "       [0.60869565],\n",
              "       [0.45652174],\n",
              "       [0.30434783],\n",
              "       [0.5       ],\n",
              "       [0.48695652],\n",
              "       [0.46521739],\n",
              "       [0.34782609],\n",
              "       [0.65217391],\n",
              "       [0.60869565],\n",
              "       [0.60869565],\n",
              "       [0.43478261],\n",
              "       [0.39130435],\n",
              "       [0.39130435],\n",
              "       [0.7826087 ],\n",
              "       [0.69565217],\n",
              "       [0.56521739],\n",
              "       [0.5       ],\n",
              "       [0.32608696],\n",
              "       [0.69565217],\n",
              "       [0.67391304],\n",
              "       [0.67391304],\n",
              "       [0.60869565],\n",
              "       [0.52173913],\n",
              "       [0.42173913],\n",
              "       [0.95652174],\n",
              "       [0.7826087 ],\n",
              "       [0.73913043],\n",
              "       [0.69565217],\n",
              "       [0.47826087],\n",
              "       [0.74782609],\n",
              "       [0.73913043],\n",
              "       [0.56521739],\n",
              "       [0.47826087],\n",
              "       [0.60869565],\n",
              "       [0.47826087],\n",
              "       [0.47826087],\n",
              "       [0.45652174],\n",
              "       [0.60869565],\n",
              "       [0.56521739],\n",
              "       [0.54347826],\n",
              "       [0.43478261],\n",
              "       [0.36956522],\n",
              "       [0.30434783],\n",
              "       [0.65217391],\n",
              "       [0.47826087],\n",
              "       [0.86956522],\n",
              "       [0.69565217],\n",
              "       [0.65217391],\n",
              "       [0.43478261],\n",
              "       [0.43478261],\n",
              "       [0.63043478],\n",
              "       [0.69565217],\n",
              "       [0.69565217],\n",
              "       [0.65217391],\n",
              "       [0.56521739],\n",
              "       [0.43478261],\n",
              "       [0.39130435],\n",
              "       [0.73913043],\n",
              "       [0.4       ],\n",
              "       [0.54347826],\n",
              "       [0.50869565],\n",
              "       [0.52173913],\n",
              "       [0.52173913],\n",
              "       [0.26086957],\n",
              "       [0.52173913],\n",
              "       [0.52173913],\n",
              "       [0.5       ],\n",
              "       [0.45652174],\n",
              "       [0.45652174],\n",
              "       [0.43478261],\n",
              "       [0.41304348],\n",
              "       [0.39130435],\n",
              "       [0.69565217],\n",
              "       [0.65217391],\n",
              "       [0.63043478],\n",
              "       [0.47826087],\n",
              "       [0.52173913],\n",
              "       [0.52173913],\n",
              "       [0.52173913],\n",
              "       [0.69565217],\n",
              "       [0.65217391],\n",
              "       [0.60869565],\n",
              "       [0.43478261],\n",
              "       [0.36956522],\n",
              "       [0.36956522],\n",
              "       [0.26086957],\n",
              "       [0.73913043],\n",
              "       [0.26086957],\n",
              "       [0.5       ],\n",
              "       [0.36956522],\n",
              "       [0.65217391],\n",
              "       [0.47826087],\n",
              "       [0.43478261],\n",
              "       [0.39130435],\n",
              "       [0.32608696],\n",
              "       [0.65217391],\n",
              "       [0.60869565],\n",
              "       [0.60869565],\n",
              "       [0.34782609],\n",
              "       [0.39130435],\n",
              "       [0.39130435],\n",
              "       [0.34782609],\n",
              "       [0.30434783],\n",
              "       [0.30434783],\n",
              "       [0.65217391],\n",
              "       [0.65217391],\n",
              "       [0.60869565],\n",
              "       [0.32608696],\n",
              "       [0.65217391],\n",
              "       [0.60869565],\n",
              "       [0.36956522],\n",
              "       [0.2826087 ],\n",
              "       [0.23913043],\n",
              "       [0.69565217],\n",
              "       [0.63043478],\n",
              "       [0.63043478],\n",
              "       [0.36956522],\n",
              "       [0.17391304],\n",
              "       [0.60869565],\n",
              "       [0.34782609],\n",
              "       [0.34782609],\n",
              "       [0.34782609],\n",
              "       [0.2826087 ],\n",
              "       [0.63043478],\n",
              "       [0.60869565],\n",
              "       [0.56521739],\n",
              "       [0.56521739],\n",
              "       [0.43478261],\n",
              "       [0.36956522],\n",
              "       [0.34782609],\n",
              "       [0.26086957],\n",
              "       [0.67391304],\n",
              "       [0.56521739],\n",
              "       [0.65217391],\n",
              "       [0.60869565],\n",
              "       [0.56521739],\n",
              "       [0.56521739],\n",
              "       [0.60869565],\n",
              "       [0.55217391],\n",
              "       [0.52173913],\n",
              "       [0.43478261],\n",
              "       [0.34782609],\n",
              "       [0.26086957],\n",
              "       [0.82608696],\n",
              "       [0.60869565],\n",
              "       [0.56521739],\n",
              "       [0.43478261],\n",
              "       [0.34782609],\n",
              "       [0.17391304],\n",
              "       [0.5       ],\n",
              "       [0.73913043],\n",
              "       [0.69565217],\n",
              "       [0.69565217],\n",
              "       [0.45652174],\n",
              "       [0.57391304],\n",
              "       [0.48695652],\n",
              "       [0.45652174],\n",
              "       [0.43478261],\n",
              "       [0.43478261],\n",
              "       [0.35652174],\n",
              "       [0.33478261],\n",
              "       [0.69565217],\n",
              "       [0.6173913 ],\n",
              "       [0.56521739],\n",
              "       [0.54347826],\n",
              "       [0.52173913],\n",
              "       [0.39130435],\n",
              "       [0.23913043],\n",
              "       [0.2173913 ],\n",
              "       [0.2173913 ],\n",
              "       [0.73913043],\n",
              "       [0.69565217],\n",
              "       [0.63043478],\n",
              "       [0.39130435],\n",
              "       [0.39130435],\n",
              "       [0.36956522],\n",
              "       [0.30434783],\n",
              "       [0.26086957],\n",
              "       [0.47826087],\n",
              "       [0.39130435],\n",
              "       [0.36956522],\n",
              "       [0.2826087 ],\n",
              "       [0.2826087 ],\n",
              "       [0.60869565],\n",
              "       [0.60869565],\n",
              "       [0.47826087],\n",
              "       [0.39130435],\n",
              "       [0.39130435],\n",
              "       [0.30434783],\n",
              "       [1.        ],\n",
              "       [0.82608696],\n",
              "       [0.65217391],\n",
              "       [0.56521739],\n",
              "       [0.47826087],\n",
              "       [0.42173913],\n",
              "       [0.26086957],\n",
              "       [0.73913043],\n",
              "       [0.7173913 ],\n",
              "       [0.39130435],\n",
              "       [0.56521739],\n",
              "       [0.56521739],\n",
              "       [0.69565217],\n",
              "       [0.60869565],\n",
              "       [0.55217391],\n",
              "       [0.45652174],\n",
              "       [0.41304348],\n",
              "       [0.37826087],\n",
              "       [0.36956522],\n",
              "       [0.63913043],\n",
              "       [0.60869565],\n",
              "       [0.52173913],\n",
              "       [0.47826087],\n",
              "       [0.43478261],\n",
              "       [0.39130435],\n",
              "       [0.47826087],\n",
              "       [0.60869565],\n",
              "       [0.52173913],\n",
              "       [0.46521739],\n",
              "       [0.41304348],\n",
              "       [0.69565217],\n",
              "       [0.60869565],\n",
              "       [0.2826087 ],\n",
              "       [0.22608696],\n",
              "       [0.17826087],\n",
              "       [0.7826087 ],\n",
              "       [0.58695652],\n",
              "       [0.56521739],\n",
              "       [0.52173913],\n",
              "       [0.52173913],\n",
              "       [0.52173913],\n",
              "       [0.41304348],\n",
              "       [0.39130435],\n",
              "       [0.17391304],\n",
              "       [0.52173913],\n",
              "       [0.39130435],\n",
              "       [0.34782609],\n",
              "       [0.26086957],\n",
              "       [0.65217391],\n",
              "       [0.60869565],\n",
              "       [0.60869565],\n",
              "       [0.60869565],\n",
              "       [0.58695652],\n",
              "       [0.54347826],\n",
              "       [0.56521739],\n",
              "       [0.39130435],\n",
              "       [0.34782609],\n",
              "       [0.60869565],\n",
              "       [0.47826087],\n",
              "       [0.41304348],\n",
              "       [0.33478261],\n",
              "       [0.31304348],\n",
              "       [0.2826087 ],\n",
              "       [0.26956522],\n",
              "       [0.2173913 ],\n",
              "       [0.60869565],\n",
              "       [0.54347826],\n",
              "       [0.41304348],\n",
              "       [0.32608696],\n",
              "       [0.7173913 ],\n",
              "       [0.56521739],\n",
              "       [0.47826087],\n",
              "       [0.36956522],\n",
              "       [0.34782609],\n",
              "       [0.65217391],\n",
              "       [0.5       ],\n",
              "       [0.5       ],\n",
              "       [0.32608696],\n",
              "       [0.52173913],\n",
              "       [0.47826087],\n",
              "       [0.33478261],\n",
              "       [0.26086957],\n",
              "       [0.60869565],\n",
              "       [0.45652174],\n",
              "       [0.26086957],\n",
              "       [0.2173913 ],\n",
              "       [0.69565217],\n",
              "       [0.60869565],\n",
              "       [0.58695652],\n",
              "       [0.58695652],\n",
              "       [0.52173913],\n",
              "       [0.39130435],\n",
              "       [0.34782609],\n",
              "       [0.30434783],\n",
              "       [0.63913043],\n",
              "       [0.59565217],\n",
              "       [0.57391304],\n",
              "       [0.4       ],\n",
              "       [0.34782609],\n",
              "       [0.32608696],\n",
              "       [0.31304348],\n",
              "       [0.69565217],\n",
              "       [0.69565217],\n",
              "       [0.17391304],\n",
              "       [0.66086957],\n",
              "       [0.47826087],\n",
              "       [0.47826087],\n",
              "       [0.36956522],\n",
              "       [0.39130435],\n",
              "       [0.30434783],\n",
              "       [0.39130435],\n",
              "       [0.39130435],\n",
              "       [0.67391304],\n",
              "       [0.36956522],\n",
              "       [0.30434783],\n",
              "       [0.69565217],\n",
              "       [0.43478261],\n",
              "       [0.43478261],\n",
              "       [0.39130435],\n",
              "       [0.30434783],\n",
              "       [0.82608696],\n",
              "       [0.65217391],\n",
              "       [0.60869565],\n",
              "       [0.43478261],\n",
              "       [0.43478261],\n",
              "       [0.41304348],\n",
              "       [0.39130435],\n",
              "       [0.39130435],\n",
              "       [0.34782609],\n",
              "       [0.34782609],\n",
              "       [0.34782609],\n",
              "       [0.73913043],\n",
              "       [0.69565217],\n",
              "       [0.6826087 ],\n",
              "       [0.67391304],\n",
              "       [0.41304348],\n",
              "       [0.39130435],\n",
              "       [0.29130435],\n",
              "       [0.2826087 ],\n",
              "       [0.66086957],\n",
              "       [0.65217391],\n",
              "       [0.60869565],\n",
              "       [0.82608696],\n",
              "       [0.7826087 ],\n",
              "       [0.69565217],\n",
              "       [0.54347826],\n",
              "       [0.60869565],\n",
              "       [0.54347826],\n",
              "       [0.52173913],\n",
              "       [0.39130435],\n",
              "       [0.30434783],\n",
              "       [0.2826087 ],\n",
              "       [0.73913043],\n",
              "       [0.65217391],\n",
              "       [0.63043478],\n",
              "       [0.63043478],\n",
              "       [0.47826087],\n",
              "       [0.43478261],\n",
              "       [0.2173913 ],\n",
              "       [0.63043478],\n",
              "       [0.5       ],\n",
              "       [0.36956522],\n",
              "       [0.34782609],\n",
              "       [0.65217391],\n",
              "       [0.54347826],\n",
              "       [0.5       ],\n",
              "       [0.43478261],\n",
              "       [0.30434783],\n",
              "       [0.30434783],\n",
              "       [0.65217391],\n",
              "       [0.65217391],\n",
              "       [0.63043478],\n",
              "       [0.63043478],\n",
              "       [0.45652174],\n",
              "       [0.41304348],\n",
              "       [0.36956522],\n",
              "       [0.73913043],\n",
              "       [0.69565217],\n",
              "       [0.56521739],\n",
              "       [0.56521739],\n",
              "       [0.45652174],\n",
              "       [0.41304348],\n",
              "       [0.41304348],\n",
              "       [0.39130435],\n",
              "       [0.34782609],\n",
              "       [0.60869565],\n",
              "       [0.54347826],\n",
              "       [0.47826087],\n",
              "       [0.39130435],\n",
              "       [0.34782609],\n",
              "       [0.32608696],\n",
              "       [0.2173913 ],\n",
              "       [0.59565217],\n",
              "       [0.52173913],\n",
              "       [0.17391304],\n",
              "       [0.4       ],\n",
              "       [0.36956522],\n",
              "       [0.33478261],\n",
              "       [0.17391304],\n",
              "       [0.6826087 ],\n",
              "       [0.45652174],\n",
              "       [0.39130435],\n",
              "       [0.32608696],\n",
              "       [0.41304348],\n",
              "       [0.56521739],\n",
              "       [0.5       ],\n",
              "       [0.32608696],\n",
              "       [0.69565217],\n",
              "       [0.73913043],\n",
              "       [0.60869565],\n",
              "       [0.60869565],\n",
              "       [0.34782609],\n",
              "       [0.43478261],\n",
              "       [0.26086957],\n",
              "       [0.63043478],\n",
              "       [0.47826087],\n",
              "       [0.43478261],\n",
              "       [0.39130435],\n",
              "       [0.30434783],\n",
              "       [0.26086957],\n",
              "       [0.2173913 ],\n",
              "       [0.63043478],\n",
              "       [0.33478261],\n",
              "       [0.30434783],\n",
              "       [0.2826087 ],\n",
              "       [0.73913043],\n",
              "       [0.69565217],\n",
              "       [0.56521739],\n",
              "       [0.73913043],\n",
              "       [0.65217391],\n",
              "       [0.65217391],\n",
              "       [0.56521739],\n",
              "       [0.30434783],\n",
              "       [0.69565217],\n",
              "       [0.60869565],\n",
              "       [0.51304348],\n",
              "       [0.4       ],\n",
              "       [0.37826087],\n",
              "       [0.36956522],\n",
              "       [0.32608696],\n",
              "       [0.32608696],\n",
              "       [0.2826087 ],\n",
              "       [0.26086957],\n",
              "       [0.23913043],\n",
              "       [0.65217391],\n",
              "       [0.60869565],\n",
              "       [0.60869565],\n",
              "       [0.56521739],\n",
              "       [0.32608696],\n",
              "       [0.2826087 ],\n",
              "       [0.2826087 ],\n",
              "       [0.26086957],\n",
              "       [0.69565217],\n",
              "       [0.52173913],\n",
              "       [0.43478261],\n",
              "       [0.43478261],\n",
              "       [0.60869565],\n",
              "       [0.58695652],\n",
              "       [0.56521739],\n",
              "       [0.30434783],\n",
              "       [0.26086957],\n",
              "       [0.52173913],\n",
              "       [0.52173913],\n",
              "       [0.5       ],\n",
              "       [0.34782609],\n",
              "       [0.30434783],\n",
              "       [0.30434783],\n",
              "       [0.32608696],\n",
              "       [0.26086957],\n",
              "       [0.26086957],\n",
              "       [0.63043478],\n",
              "       [0.52173913],\n",
              "       [0.2826087 ],\n",
              "       [0.56521739],\n",
              "       [0.43478261],\n",
              "       [0.24782609],\n",
              "       [0.19565217],\n",
              "       [0.58695652],\n",
              "       [0.65217391],\n",
              "       [0.24782609],\n",
              "       [0.73913043],\n",
              "       [0.65217391],\n",
              "       [0.47826087],\n",
              "       [0.60869565],\n",
              "       [0.56521739],\n",
              "       [0.56521739],\n",
              "       [0.55217391],\n",
              "       [0.54347826],\n",
              "       [0.54347826],\n",
              "       [0.52173913],\n",
              "       [0.52173913],\n",
              "       [0.52173913],\n",
              "       [0.44347826],\n",
              "       [0.31304348],\n",
              "       [0.5       ],\n",
              "       [0.43478261],\n",
              "       [0.43478261],\n",
              "       [0.34782609],\n",
              "       [0.6826087 ],\n",
              "       [0.67391304],\n",
              "       [0.63913043],\n",
              "       [0.41304348],\n",
              "       [0.45652174],\n",
              "       [0.4       ],\n",
              "       [0.23913043],\n",
              "       [0.69565217],\n",
              "       [0.69565217],\n",
              "       [0.52173913],\n",
              "       [0.43478261],\n",
              "       [0.57391304],\n",
              "       [0.52173913],\n",
              "       [0.43478261],\n",
              "       [0.43478261],\n",
              "       [0.26086957],\n",
              "       [0.23913043],\n",
              "       [0.2173913 ],\n",
              "       [0.17391304],\n",
              "       [0.69565217],\n",
              "       [0.63043478],\n",
              "       [0.55217391],\n",
              "       [0.54347826],\n",
              "       [0.50869565],\n",
              "       [0.34782609],\n",
              "       [0.32608696],\n",
              "       [0.30434783],\n",
              "       [0.65217391],\n",
              "       [0.52173913],\n",
              "       [0.52173913],\n",
              "       [0.47826087],\n",
              "       [0.39130435],\n",
              "       [0.34782609],\n",
              "       [0.30434783],\n",
              "       [0.30434783],\n",
              "       [0.26086957],\n",
              "       [0.2173913 ],\n",
              "       [0.43478261],\n",
              "       [0.30434783],\n",
              "       [0.41304348],\n",
              "       [0.26086957],\n",
              "       [0.66086957],\n",
              "       [0.66086957],\n",
              "       [0.56521739],\n",
              "       [0.54347826],\n",
              "       [0.2826087 ],\n",
              "       [0.26086957],\n",
              "       [0.56521739],\n",
              "       [0.47826087],\n",
              "       [0.43478261],\n",
              "       [0.43478261],\n",
              "       [0.43478261],\n",
              "       [0.39130435],\n",
              "       [0.39130435],\n",
              "       [0.39130435],\n",
              "       [0.34782609],\n",
              "       [0.30434783],\n",
              "       [0.63043478],\n",
              "       [0.60869565],\n",
              "       [0.52173913],\n",
              "       [0.43478261],\n",
              "       [0.43478261],\n",
              "       [0.43478261],\n",
              "       [0.26086957],\n",
              "       [0.23913043],\n",
              "       [0.76086957],\n",
              "       [0.60869565],\n",
              "       [0.58695652],\n",
              "       [0.41304348],\n",
              "       [0.47826087],\n",
              "       [0.60869565],\n",
              "       [0.52173913],\n",
              "       [0.36956522],\n",
              "       [0.34782609],\n",
              "       [0.65217391],\n",
              "       [0.52173913],\n",
              "       [0.43478261],\n",
              "       [0.41304348],\n",
              "       [0.39130435],\n",
              "       [0.30434783],\n",
              "       [0.26086957],\n",
              "       [0.26086957],\n",
              "       [0.47826087],\n",
              "       [0.47826087],\n",
              "       [0.43478261],\n",
              "       [0.34782609],\n",
              "       [0.32608696],\n",
              "       [0.2173913 ],\n",
              "       [0.53043478],\n",
              "       [0.60869565],\n",
              "       [0.60869565],\n",
              "       [0.56521739],\n",
              "       [0.47826087],\n",
              "       [0.41304348],\n",
              "       [0.36956522],\n",
              "       [0.54347826],\n",
              "       [0.50869565],\n",
              "       [0.24782609],\n",
              "       [0.45652174],\n",
              "       [0.54347826],\n",
              "       [0.52173913],\n",
              "       [0.34782609],\n",
              "       [0.32608696],\n",
              "       [0.30434783],\n",
              "       [0.46521739],\n",
              "       [0.34782609],\n",
              "       [0.2173913 ],\n",
              "       [0.2173913 ],\n",
              "       [0.17391304],\n",
              "       [0.17391304],\n",
              "       [0.17391304],\n",
              "       [0.        ],\n",
              "       [0.5       ],\n",
              "       [0.47826087],\n",
              "       [0.45652174],\n",
              "       [0.17391304],\n",
              "       [0.56521739],\n",
              "       [0.52173913],\n",
              "       [0.39130435],\n",
              "       [0.37826087],\n",
              "       [0.34782609],\n",
              "       [0.34782609],\n",
              "       [0.30434783],\n",
              "       [0.39130435],\n",
              "       [0.39130435],\n",
              "       [0.26086957],\n",
              "       [0.2173913 ],\n",
              "       [0.72608696],\n",
              "       [0.72608696],\n",
              "       [0.67391304],\n",
              "       [0.41304348],\n",
              "       [0.32608696],\n",
              "       [0.65217391],\n",
              "       [0.73913043],\n",
              "       [0.65217391],\n",
              "       [0.63913043],\n",
              "       [0.60869565],\n",
              "       [0.56521739],\n",
              "       [0.52173913],\n",
              "       [0.41304348],\n",
              "       [0.26086957],\n",
              "       [0.59565217],\n",
              "       [0.5       ],\n",
              "       [0.41304348],\n",
              "       [0.39130435],\n",
              "       [0.36956522],\n",
              "       [0.32608696],\n",
              "       [0.60869565],\n",
              "       [0.56521739],\n",
              "       [0.41304348],\n",
              "       [0.41304348],\n",
              "       [0.30434783],\n",
              "       [0.60869565],\n",
              "       [0.50869565],\n",
              "       [0.30434783],\n",
              "       [0.17391304],\n",
              "       [0.39130435],\n",
              "       [0.26086957],\n",
              "       [0.26086957],\n",
              "       [0.65217391],\n",
              "       [0.56521739],\n",
              "       [0.34782609],\n",
              "       [0.34782609],\n",
              "       [0.30434783],\n",
              "       [0.30434783],\n",
              "       [0.30434783],\n",
              "       [0.30434783],\n",
              "       [0.30434783],\n",
              "       [0.2826087 ],\n",
              "       [0.26086957],\n",
              "       [0.67391304],\n",
              "       [0.60869565],\n",
              "       [0.47826087],\n",
              "       [0.47826087],\n",
              "       [0.65217391],\n",
              "       [0.6173913 ],\n",
              "       [0.57391304],\n",
              "       [0.54347826],\n",
              "       [0.52173913],\n",
              "       [0.47826087],\n",
              "       [0.41304348],\n",
              "       [0.32608696],\n",
              "       [0.56521739],\n",
              "       [0.52173913],\n",
              "       [0.30434783],\n",
              "       [0.60869565],\n",
              "       [0.58695652],\n",
              "       [0.56521739],\n",
              "       [0.54347826],\n",
              "       [0.43478261],\n",
              "       [0.47826087],\n",
              "       [0.63043478],\n",
              "       [0.63043478],\n",
              "       [0.47826087],\n",
              "       [0.43478261],\n",
              "       [0.43478261],\n",
              "       [0.26086957],\n",
              "       [0.26086957],\n",
              "       [0.23913043],\n",
              "       [0.69565217],\n",
              "       [0.39130435],\n",
              "       [0.39130435],\n",
              "       [0.47826087],\n",
              "       [0.34782609],\n",
              "       [0.34782609],\n",
              "       [0.26086957],\n",
              "       [0.17391304],\n",
              "       [0.17391304],\n",
              "       [0.43478261],\n",
              "       [0.39130435],\n",
              "       [0.47826087],\n",
              "       [0.45652174],\n",
              "       [0.41304348],\n",
              "       [0.69565217],\n",
              "       [0.52173913],\n",
              "       [0.43478261],\n",
              "       [0.39130435],\n",
              "       [0.26086957],\n",
              "       [0.2173913 ],\n",
              "       [0.55217391],\n",
              "       [0.54347826],\n",
              "       [0.45652174],\n",
              "       [0.36956522],\n",
              "       [0.2826087 ],\n",
              "       [0.19565217],\n",
              "       [0.19565217],\n",
              "       [0.06521739],\n",
              "       [0.69565217],\n",
              "       [0.65217391],\n",
              "       [0.47826087],\n",
              "       [0.43478261],\n",
              "       [0.39130435],\n",
              "       [0.60869565],\n",
              "       [0.36956522],\n",
              "       [0.26086957],\n",
              "       [0.48695652],\n",
              "       [0.47826087],\n",
              "       [0.39130435],\n",
              "       [0.39130435],\n",
              "       [0.39130435],\n",
              "       [0.30434783],\n",
              "       [0.60869565],\n",
              "       [0.52173913],\n",
              "       [0.32608696],\n",
              "       [0.2826087 ],\n",
              "       [0.2826087 ],\n",
              "       [0.2826087 ],\n",
              "       [0.2826087 ],\n",
              "       [0.60869565],\n",
              "       [0.52173913],\n",
              "       [0.47826087],\n",
              "       [0.39130435],\n",
              "       [0.17391304],\n",
              "       [0.39130435],\n",
              "       [0.52173913],\n",
              "       [0.47826087],\n",
              "       [0.45652174],\n",
              "       [0.43478261],\n",
              "       [0.42173913],\n",
              "       [0.41304348],\n",
              "       [0.39130435],\n",
              "       [0.39130435],\n",
              "       [0.34782609],\n",
              "       [0.30434783],\n",
              "       [0.26086957],\n",
              "       [0.2173913 ],\n",
              "       [0.17391304],\n",
              "       [0.08695652],\n",
              "       [0.04347826],\n",
              "       [0.45652174],\n",
              "       [0.43478261],\n",
              "       [0.43478261],\n",
              "       [0.39130435],\n",
              "       [0.30434783],\n",
              "       [0.30434783],\n",
              "       [0.30434783],\n",
              "       [0.30434783],\n",
              "       [0.17391304],\n",
              "       [0.47826087],\n",
              "       [0.43478261],\n",
              "       [0.39130435],\n",
              "       [0.39130435],\n",
              "       [0.2173913 ],\n",
              "       [0.56521739],\n",
              "       [0.52173913],\n",
              "       [0.52173913],\n",
              "       [0.39130435],\n",
              "       [0.39130435],\n",
              "       [0.26086957],\n",
              "       [0.26086957],\n",
              "       [0.2173913 ],\n",
              "       [0.13043478],\n",
              "       [0.63913043],\n",
              "       [0.41304348],\n",
              "       [0.57391304],\n",
              "       [0.56521739],\n",
              "       [0.52173913],\n",
              "       [0.50869565],\n",
              "       [0.36956522],\n",
              "       [0.19565217],\n",
              "       [0.47826087],\n",
              "       [0.47826087],\n",
              "       [0.34782609],\n",
              "       [0.34782609],\n",
              "       [0.2826087 ],\n",
              "       [0.19565217],\n",
              "       [0.60869565],\n",
              "       [0.30434783],\n",
              "       [0.43478261],\n",
              "       [0.43478261],\n",
              "       [0.30434783],\n",
              "       [0.65217391],\n",
              "       [0.65217391],\n",
              "       [0.56521739],\n",
              "       [0.32608696],\n",
              "       [0.52173913],\n",
              "       [0.52173913],\n",
              "       [0.47826087],\n",
              "       [0.47826087],\n",
              "       [0.26086957],\n",
              "       [0.67391304],\n",
              "       [0.52173913],\n",
              "       [0.41304348],\n",
              "       [0.34782609],\n",
              "       [0.26086957],\n",
              "       [0.26086957],\n",
              "       [0.2173913 ],\n",
              "       [0.63043478],\n",
              "       [0.52173913],\n",
              "       [0.47826087],\n",
              "       [0.39130435],\n",
              "       [0.34782609],\n",
              "       [0.34782609],\n",
              "       [0.17391304],\n",
              "       [0.36956522],\n",
              "       [0.43478261],\n",
              "       [0.17391304],\n",
              "       [0.54347826],\n",
              "       [0.32608696],\n",
              "       [0.34782609],\n",
              "       [0.26086957],\n",
              "       [0.2173913 ],\n",
              "       [0.45652174],\n",
              "       [0.04347826]])"
            ]
          },
          "metadata": {},
          "execution_count": 13
        }
      ]
    },
    {
      "cell_type": "code",
      "execution_count": 14,
      "metadata": {
        "id": "3CmZHGhom30O"
      },
      "outputs": [],
      "source": [
        "from sklearn.model_selection import train_test_split\n",
        "\n",
        "X_train, X_val_and_test, Y_train, Y_val_and_test = train_test_split(X_scale, Y_scale, test_size=0.3)\n"
      ]
    },
    {
      "cell_type": "code",
      "execution_count": 15,
      "metadata": {
        "id": "ZY5zubxym30O",
        "colab": {
          "base_uri": "https://localhost:8080/"
        },
        "outputId": "0ea48a52-f901-40fa-dd42-2d0d03967644"
      },
      "outputs": [
        {
          "output_type": "stream",
          "name": "stdout",
          "text": [
            "Longitud de Y_test: 140\n",
            "Longitud de Y_val: 140\n",
            "Longitud de Y_train: 653\n"
          ]
        }
      ],
      "source": [
        "X_val, X_test, Y_val, Y_test = train_test_split(X_val_and_test, Y_val_and_test, test_size=0.5)\n",
        "\n",
        "# Eliminar una fila específica (por ejemplo, la primera fila)\n",
        "X_test = np.delete(X_test, 0, axis=0)\n",
        "Y_test = np.delete(Y_test, 0, axis=0)\n",
        "\n",
        "print(\"Longitud de Y_test:\", len(Y_test))\n",
        "print(\"Longitud de Y_val:\", len(Y_val))\n",
        "print(\"Longitud de Y_train:\", len(Y_train))"
      ]
    },
    {
      "cell_type": "code",
      "execution_count": 16,
      "metadata": {
        "tags": [],
        "id": "qEyAlL_6m30P",
        "outputId": "bf89a757-f364-4e05-d70d-72a6f03326e0",
        "colab": {
          "base_uri": "https://localhost:8080/"
        }
      },
      "outputs": [
        {
          "output_type": "stream",
          "name": "stdout",
          "text": [
            "(653, 5) (140, 5) (140, 5) (653, 1) (140, 1) (140, 1)\n"
          ]
        }
      ],
      "source": [
        "print(X_train.shape, X_val.shape, X_test.shape, Y_train.shape, Y_val.shape, Y_test.shape)"
      ]
    },
    {
      "cell_type": "markdown",
      "metadata": {
        "id": "BkS5Cxmgm30P"
      },
      "source": [
        "### Setting up the architecture"
      ]
    },
    {
      "cell_type": "markdown",
      "metadata": {
        "id": "ZntA3zqVm30X"
      },
      "source": [
        "The architecture that we want to implement is this:\n",
        "\n",
        "\n",
        "- Hidden layer 1: 32 neurons, ReLU activation\n",
        "- Hidden layer 2: 32 neurons, ReLU activation\n",
        "- Output Layer: 1 neuron, Sigmoid activation"
      ]
    },
    {
      "cell_type": "code",
      "execution_count": 17,
      "metadata": {
        "tags": [],
        "id": "1sGZDIAnm30Y"
      },
      "outputs": [],
      "source": [
        "from keras.models import Sequential\n",
        "from keras.layers import Dense"
      ]
    },
    {
      "cell_type": "code",
      "source": [
        "#Crear una instancia de MLPCLassifier\n",
        "from sklearn.neural_network import MLPRegressor\n",
        "\n",
        "model = MLPRegressor(hidden_layer_sizes=(32, 32),\n",
        "                     activation='relu',\n",
        "                     solver='adam',\n",
        "                     max_iter=100,\n",
        "                     random_state=42,\n",
        "                     verbose=True)"
      ],
      "metadata": {
        "id": "-_67-eFP3nvU"
      },
      "execution_count": 18,
      "outputs": []
    },
    {
      "cell_type": "code",
      "source": [
        "# Asegurarse de que y_train y y_test tengan la forma correcta\n",
        "Y_train = Y_train.ravel()\n",
        "Y_test = Y_test.ravel()\n",
        "\n",
        "#Entrenar el modelo\n",
        "model.fit(X_train, Y_train)\n",
        "\n",
        "#Realizar predicciones del modelo en el conjunto de prueba\n",
        "Y_pred = model.predict(X_test)\n",
        "#print (Y_test)\n",
        "#print(Y_pred)\n"
      ],
      "metadata": {
        "colab": {
          "base_uri": "https://localhost:8080/"
        },
        "id": "wdXOiGkl4pzq",
        "outputId": "1e776874-20ce-4947-ff89-b41571f41ae5"
      },
      "execution_count": 19,
      "outputs": [
        {
          "output_type": "stream",
          "name": "stdout",
          "text": [
            "Iteration 1, loss = 0.29492613\n",
            "Iteration 2, loss = 0.23099580\n",
            "Iteration 3, loss = 0.17904279\n",
            "Iteration 4, loss = 0.13663661\n",
            "Iteration 5, loss = 0.10365605\n",
            "Iteration 6, loss = 0.07911177\n",
            "Iteration 7, loss = 0.06127727\n",
            "Iteration 8, loss = 0.04839393\n",
            "Iteration 9, loss = 0.03886237\n",
            "Iteration 10, loss = 0.03191815\n",
            "Iteration 11, loss = 0.02609719\n",
            "Iteration 12, loss = 0.02125991\n",
            "Iteration 13, loss = 0.01755544\n",
            "Iteration 14, loss = 0.01432075\n",
            "Iteration 15, loss = 0.01141107\n",
            "Iteration 16, loss = 0.00896861\n",
            "Iteration 17, loss = 0.00710639\n",
            "Iteration 18, loss = 0.00594957\n",
            "Iteration 19, loss = 0.00534351\n",
            "Iteration 20, loss = 0.00501222\n",
            "Iteration 21, loss = 0.00489073\n",
            "Iteration 22, loss = 0.00483489\n",
            "Iteration 23, loss = 0.00478076\n",
            "Iteration 24, loss = 0.00469196\n",
            "Iteration 25, loss = 0.00459452\n",
            "Iteration 26, loss = 0.00450708\n",
            "Iteration 27, loss = 0.00443308\n",
            "Iteration 28, loss = 0.00437224\n",
            "Iteration 29, loss = 0.00433238\n",
            "Iteration 30, loss = 0.00429977\n",
            "Iteration 31, loss = 0.00426583\n",
            "Iteration 32, loss = 0.00423333\n",
            "Training loss did not improve more than tol=0.000100 for 10 consecutive epochs. Stopping.\n"
          ]
        }
      ]
    },
    {
      "cell_type": "code",
      "source": [
        "# Evaluar el modelo\n",
        "\n",
        "# Importar las bibliotecas necesarias\n",
        "import numpy as np\n",
        "import pandas as pd\n",
        "import matplotlib.pyplot as plt\n",
        "from sklearn import datasets\n",
        "from sklearn.metrics import accuracy_score, precision_score, recall_score, f1_score\n",
        "from sklearn.metrics import r2_score, mean_squared_error, mean_absolute_error  # Importar métricas de regresión\n",
        "\n",
        "print(\"Longitud de Y_test:\", len(Y_test))\n",
        "print(\"Longitud de Y_pred:\", len(Y_pred))\n",
        "print(\"Longitud de Y_train:\", len(Y_train))\n",
        "\n",
        "# Asegurarse de que las longitudes sean iguales\n",
        "assert len(Y_test) == len(Y_pred), \"Las longitudes de Y_test y Y_val deben ser iguales\"\n",
        "\n",
        "#Calcula la precisión del modelo\n",
        "#accuracy = accuracy_score(Y_test, Y_pred)\n",
        "#print(\"Precisión del modelo (Accuracy):\", accuracy)\n",
        "\n",
        "# Evaluar el modelo con métricas de regresión\n",
        "r2 = r2_score(Y_test, Y_pred)\n",
        "mse = mean_squared_error(Y_test, Y_pred)\n",
        "rmse = mse ** 0.5\n",
        "mae = mean_absolute_error(Y_test, Y_pred)\n",
        "\n",
        "print('R^2 score = ', r2)\n",
        "print('Mean Squared Error = ', mse)\n",
        "print('Root Mean Squared Error = ', rmse)\n",
        "print('Mean Absolute Error = ', mae)\n",
        "\n",
        "# Calcular los errores (residuales)\n",
        "error = Y_test - Y_val\n",
        "\n",
        "# Mostrar el histograma de los errores\n",
        "plt.figure(figsize=(4, 2))  # Reducir el tamaño de la figura\n",
        "plt.hist(error, bins=20, edgecolor='black')\n",
        "plt.xlabel('Error (Residual)')\n",
        "plt.ylabel('Frecuencia')\n",
        "plt.title('Histograma de los Errores (Residual)')\n",
        "plt.show()\n",
        "\n",
        "# Visualización de las predicciones vs valores reales\n",
        "plt.figure(figsize=(4, 2))  # Reducir el tamaño de la figura\n",
        "plt.scatter(Y_test, Y_pred, alpha=0.5)\n",
        "plt.plot([Y_test.min(), Y_test.max()], [Y_test.min(), Y_test.max()], 'r--', lw=2)\n",
        "plt.xlabel('Valores Reales')\n",
        "plt.ylabel('Predicciones')\n",
        "plt.title('Predicciones vs Valores Reales')\n",
        "plt.show()"
      ],
      "metadata": {
        "colab": {
          "base_uri": "https://localhost:8080/",
          "height": 617
        },
        "id": "exb_AGaH-tEM",
        "outputId": "685d7f3d-139d-4c8b-db21-d811ffb86539"
      },
      "execution_count": 20,
      "outputs": [
        {
          "output_type": "stream",
          "name": "stdout",
          "text": [
            "Longitud de Y_test: 140\n",
            "Longitud de Y_pred: 140\n",
            "Longitud de Y_train: 653\n",
            "R^2 score =  0.6404645164830989\n",
            "Mean Squared Error =  0.007549688949507519\n",
            "Root Mean Squared Error =  0.08688894607202644\n",
            "Mean Absolute Error =  0.07008773226600086\n"
          ]
        },
        {
          "output_type": "display_data",
          "data": {
            "text/plain": [
              "<Figure size 400x200 with 1 Axes>"
            ],
            "image/png": "[encoded data removed]"
          },
          "metadata": {}
        },
        {
          "output_type": "display_data",
          "data": {
            "text/plain": [
              "<Figure size 400x200 with 1 Axes>"
            ],
            "image/png": "[encoded data removed]"
          },
          "metadata": {}
        }
      ]
    },
    {
      "cell_type": "code",
      "source": [
        "#  sequentially (layer by layer)\n",
        "#  ‘Dense’ refers to a fully-connected layer\n",
        "model = Sequential([\n",
        "    Dense(32, activation='relu', input_shape=(5,)),\n",
        "    Dense(32, activation='relu'),\n",
        "    Dense(1, activation='sigmoid'),\n",
        "])\n",
        "\n",
        "# ‘sgd’ refers to stochastic gradient descent\n",
        "# The loss function for outputs that take the values 1 or 0 is called binary cross entropy.\n",
        "# we want to track accuracy on top of the loss function\n",
        "model.compile(optimizer='sgd',\n",
        "#              loss='binary_crossentropy',\n",
        "               loss = 'mean_squared_error', #mse\n",
        "              metrics=['accuracy'])"
      ],
      "metadata": {
        "id": "ydNayCEHCeVE",
        "colab": {
          "base_uri": "https://localhost:8080/"
        },
        "outputId": "a443ea1c-20e6-495d-f03f-4d475bf282b0"
      },
      "execution_count": 21,
      "outputs": [
        {
          "output_type": "stream",
          "name": "stderr",
          "text": [
            "/usr/local/lib/python3.10/dist-packages/keras/src/layers/core/dense.py:87: UserWarning: Do not pass an `input_shape`/`input_dim` argument to a layer. When using Sequential models, prefer using an `Input(shape)` object as the first layer in the model instead.\n",
            "  super().__init__(activity_regularizer=activity_regularizer, **kwargs)\n"
          ]
        }
      ]
    },
    {
      "cell_type": "code",
      "source": [
        "hist = model.fit(X_train, Y_train,\n",
        "          batch_size=32, epochs=120,\n",
        "          validation_data=(X_val, Y_val))"
      ],
      "metadata": {
        "colab": {
          "base_uri": "https://localhost:8080/"
        },
        "id": "7puAOZ6nCuL6",
        "outputId": "b461f18e-48c6-43a1-bc86-471393a7fdfa"
      },
      "execution_count": 22,
      "outputs": [
        {
          "output_type": "stream",
          "name": "stdout",
          "text": [
            "Epoch 1/120\n",
            "\u001b[1m21/21\u001b[0m \u001b[32m━━━━━━━━━━━━━━━━━━━━\u001b[0m\u001b[37m\u001b[0m \u001b[1m1s\u001b[0m 19ms/step - accuracy: 0.0000e+00 - loss: 0.0275 - val_accuracy: 0.0071 - val_loss: 0.0285\n",
            "Epoch 2/120\n",
            "\u001b[1m21/21\u001b[0m \u001b[32m━━━━━━━━━━━━━━━━━━━━\u001b[0m\u001b[37m\u001b[0m \u001b[1m0s\u001b[0m 6ms/step - accuracy: 0.0000e+00 - loss: 0.0271 - val_accuracy: 0.0071 - val_loss: 0.0275\n",
            "Epoch 3/120\n",
            "\u001b[1m21/21\u001b[0m \u001b[32m━━━━━━━━━━━━━━━━━━━━\u001b[0m\u001b[37m\u001b[0m \u001b[1m0s\u001b[0m 5ms/step - accuracy: 9.6004e-04 - loss: 0.0265 - val_accuracy: 0.0071 - val_loss: 0.0267\n",
            "Epoch 4/120\n",
            "\u001b[1m21/21\u001b[0m \u001b[32m━━━━━━━━━━━━━━━━━━━━\u001b[0m\u001b[37m\u001b[0m \u001b[1m0s\u001b[0m 5ms/step - accuracy: 2.1024e-04 - loss: 0.0252 - val_accuracy: 0.0071 - val_loss: 0.0260\n",
            "Epoch 5/120\n",
            "\u001b[1m21/21\u001b[0m \u001b[32m━━━━━━━━━━━━━━━━━━━━\u001b[0m\u001b[37m\u001b[0m \u001b[1m0s\u001b[0m 6ms/step - accuracy: 5.3625e-04 - loss: 0.0242 - val_accuracy: 0.0071 - val_loss: 0.0253\n",
            "Epoch 6/120\n",
            "\u001b[1m21/21\u001b[0m \u001b[32m━━━━━━━━━━━━━━━━━━━━\u001b[0m\u001b[37m\u001b[0m \u001b[1m0s\u001b[0m 6ms/step - accuracy: 2.1024e-04 - loss: 0.0233 - val_accuracy: 0.0071 - val_loss: 0.0247\n",
            "Epoch 7/120\n",
            "\u001b[1m21/21\u001b[0m \u001b[32m━━━━━━━━━━━━━━━━━━━━\u001b[0m\u001b[37m\u001b[0m \u001b[1m0s\u001b[0m 5ms/step - accuracy: 2.8500e-04 - loss: 0.0225 - val_accuracy: 0.0071 - val_loss: 0.0241\n",
            "Epoch 8/120\n",
            "\u001b[1m21/21\u001b[0m \u001b[32m━━━━━━━━━━━━━━━━━━━━\u001b[0m\u001b[37m\u001b[0m \u001b[1m0s\u001b[0m 4ms/step - accuracy: 0.0031 - loss: 0.0225 - val_accuracy: 0.0071 - val_loss: 0.0236\n",
            "Epoch 9/120\n",
            "\u001b[1m21/21\u001b[0m \u001b[32m━━━━━━━━━━━━━━━━━━━━\u001b[0m\u001b[37m\u001b[0m \u001b[1m0s\u001b[0m 3ms/step - accuracy: 0.0014 - loss: 0.0214 - val_accuracy: 0.0071 - val_loss: 0.0232\n",
            "Epoch 10/120\n",
            "\u001b[1m21/21\u001b[0m \u001b[32m━━━━━━━━━━━━━━━━━━━━\u001b[0m\u001b[37m\u001b[0m \u001b[1m0s\u001b[0m 4ms/step - accuracy: 8.4167e-04 - loss: 0.0224 - val_accuracy: 0.0071 - val_loss: 0.0227\n",
            "Epoch 11/120\n",
            "\u001b[1m21/21\u001b[0m \u001b[32m━━━━━━━━━━━━━━━━━━━━\u001b[0m\u001b[37m\u001b[0m \u001b[1m0s\u001b[0m 4ms/step - accuracy: 0.0011 - loss: 0.0220 - val_accuracy: 0.0071 - val_loss: 0.0223\n",
            "Epoch 12/120\n",
            "\u001b[1m21/21\u001b[0m \u001b[32m━━━━━━━━━━━━━━━━━━━━\u001b[0m\u001b[37m\u001b[0m \u001b[1m0s\u001b[0m 4ms/step - accuracy: 0.0026 - loss: 0.0222 - val_accuracy: 0.0071 - val_loss: 0.0219\n",
            "Epoch 13/120\n",
            "\u001b[1m21/21\u001b[0m \u001b[32m━━━━━━━━━━━━━━━━━━━━\u001b[0m\u001b[37m\u001b[0m \u001b[1m0s\u001b[0m 4ms/step - accuracy: 8.4167e-04 - loss: 0.0206 - val_accuracy: 0.0071 - val_loss: 0.0216\n",
            "Epoch 14/120\n",
            "\u001b[1m21/21\u001b[0m \u001b[32m━━━━━━━━━━━━━━━━━━━━\u001b[0m\u001b[37m\u001b[0m \u001b[1m0s\u001b[0m 4ms/step - accuracy: 0.0020 - loss: 0.0207 - val_accuracy: 0.0071 - val_loss: 0.0213\n",
            "Epoch 15/120\n",
            "\u001b[1m21/21\u001b[0m \u001b[32m━━━━━━━━━━━━━━━━━━━━\u001b[0m\u001b[37m\u001b[0m \u001b[1m0s\u001b[0m 3ms/step - accuracy: 8.4167e-04 - loss: 0.0196 - val_accuracy: 0.0071 - val_loss: 0.0209\n",
            "Epoch 16/120\n",
            "\u001b[1m21/21\u001b[0m \u001b[32m━━━━━━━━━━━━━━━━━━━━\u001b[0m\u001b[37m\u001b[0m \u001b[1m0s\u001b[0m 3ms/step - accuracy: 0.0026 - loss: 0.0207 - val_accuracy: 0.0071 - val_loss: 0.0206\n",
            "Epoch 17/120\n",
            "\u001b[1m21/21\u001b[0m \u001b[32m━━━━━━━━━━━━━━━━━━━━\u001b[0m\u001b[37m\u001b[0m \u001b[1m0s\u001b[0m 3ms/step - accuracy: 0.0023 - loss: 0.0198 - val_accuracy: 0.0071 - val_loss: 0.0204\n",
            "Epoch 18/120\n",
            "\u001b[1m21/21\u001b[0m \u001b[32m━━━━━━━━━━━━━━━━━━━━\u001b[0m\u001b[37m\u001b[0m \u001b[1m0s\u001b[0m 3ms/step - accuracy: 2.8500e-04 - loss: 0.0180 - val_accuracy: 0.0071 - val_loss: 0.0201\n",
            "Epoch 19/120\n",
            "\u001b[1m21/21\u001b[0m \u001b[32m━━━━━━━━━━━━━━━━━━━━\u001b[0m\u001b[37m\u001b[0m \u001b[1m0s\u001b[0m 4ms/step - accuracy: 0.0020 - loss: 0.0184 - val_accuracy: 0.0071 - val_loss: 0.0198\n",
            "Epoch 20/120\n",
            "\u001b[1m21/21\u001b[0m \u001b[32m━━━━━━━━━━━━━━━━━━━━\u001b[0m\u001b[37m\u001b[0m \u001b[1m0s\u001b[0m 3ms/step - accuracy: 0.0014 - loss: 0.0188 - val_accuracy: 0.0071 - val_loss: 0.0196\n",
            "Epoch 21/120\n",
            "\u001b[1m21/21\u001b[0m \u001b[32m━━━━━━━━━━━━━━━━━━━━\u001b[0m\u001b[37m\u001b[0m \u001b[1m0s\u001b[0m 4ms/step - accuracy: 0.0023 - loss: 0.0176 - val_accuracy: 0.0071 - val_loss: 0.0193\n",
            "Epoch 22/120\n",
            "\u001b[1m21/21\u001b[0m \u001b[32m━━━━━━━━━━━━━━━━━━━━\u001b[0m\u001b[37m\u001b[0m \u001b[1m0s\u001b[0m 4ms/step - accuracy: 0.0026 - loss: 0.0197 - val_accuracy: 0.0071 - val_loss: 0.0191\n",
            "Epoch 23/120\n",
            "\u001b[1m21/21\u001b[0m \u001b[32m━━━━━━━━━━━━━━━━━━━━\u001b[0m\u001b[37m\u001b[0m \u001b[1m0s\u001b[0m 4ms/step - accuracy: 0.0020 - loss: 0.0181 - val_accuracy: 0.0071 - val_loss: 0.0189\n",
            "Epoch 24/120\n",
            "\u001b[1m21/21\u001b[0m \u001b[32m━━━━━━━━━━━━━━━━━━━━\u001b[0m\u001b[37m\u001b[0m \u001b[1m0s\u001b[0m 5ms/step - accuracy: 0.0020 - loss: 0.0179 - val_accuracy: 0.0071 - val_loss: 0.0187\n",
            "Epoch 25/120\n",
            "\u001b[1m21/21\u001b[0m \u001b[32m━━━━━━━━━━━━━━━━━━━━\u001b[0m\u001b[37m\u001b[0m \u001b[1m0s\u001b[0m 5ms/step - accuracy: 9.6004e-04 - loss: 0.0169 - val_accuracy: 0.0071 - val_loss: 0.0185\n",
            "Epoch 26/120\n",
            "\u001b[1m21/21\u001b[0m \u001b[32m━━━━━━━━━━━━━━━━━━━━\u001b[0m\u001b[37m\u001b[0m \u001b[1m0s\u001b[0m 6ms/step - accuracy: 4.4747e-04 - loss: 0.0163 - val_accuracy: 0.0071 - val_loss: 0.0183\n",
            "Epoch 27/120\n",
            "\u001b[1m21/21\u001b[0m \u001b[32m━━━━━━━━━━━━━━━━━━━━\u001b[0m\u001b[37m\u001b[0m \u001b[1m0s\u001b[0m 5ms/step - accuracy: 9.6004e-04 - loss: 0.0169 - val_accuracy: 0.0071 - val_loss: 0.0181\n",
            "Epoch 28/120\n",
            "\u001b[1m21/21\u001b[0m \u001b[32m━━━━━━━━━━━━━━━━━━━━\u001b[0m\u001b[37m\u001b[0m \u001b[1m0s\u001b[0m 5ms/step - accuracy: 7.3241e-04 - loss: 0.0166 - val_accuracy: 0.0071 - val_loss: 0.0179\n",
            "Epoch 29/120\n",
            "\u001b[1m21/21\u001b[0m \u001b[32m━━━━━━━━━━━━━━━━━━━━\u001b[0m\u001b[37m\u001b[0m \u001b[1m0s\u001b[0m 5ms/step - accuracy: 0.0018 - loss: 0.0162 - val_accuracy: 0.0071 - val_loss: 0.0177\n",
            "Epoch 30/120\n",
            "\u001b[1m21/21\u001b[0m \u001b[32m━━━━━━━━━━━━━━━━━━━━\u001b[0m\u001b[37m\u001b[0m \u001b[1m0s\u001b[0m 4ms/step - accuracy: 2.1024e-04 - loss: 0.0171 - val_accuracy: 0.0071 - val_loss: 0.0175\n",
            "Epoch 31/120\n",
            "\u001b[1m21/21\u001b[0m \u001b[32m━━━━━━━━━━━━━━━━━━━━\u001b[0m\u001b[37m\u001b[0m \u001b[1m0s\u001b[0m 6ms/step - accuracy: 0.0012 - loss: 0.0152 - val_accuracy: 0.0071 - val_loss: 0.0174\n",
            "Epoch 32/120\n",
            "\u001b[1m21/21\u001b[0m \u001b[32m━━━━━━━━━━━━━━━━━━━━\u001b[0m\u001b[37m\u001b[0m \u001b[1m0s\u001b[0m 5ms/step - accuracy: 2.1024e-04 - loss: 0.0154 - val_accuracy: 0.0071 - val_loss: 0.0172\n",
            "Epoch 33/120\n",
            "\u001b[1m21/21\u001b[0m \u001b[32m━━━━━━━━━━━━━━━━━━━━\u001b[0m\u001b[37m\u001b[0m \u001b[1m0s\u001b[0m 5ms/step - accuracy: 0.0011 - loss: 0.0177 - val_accuracy: 0.0071 - val_loss: 0.0171\n",
            "Epoch 34/120\n",
            "\u001b[1m21/21\u001b[0m \u001b[32m━━━━━━━━━━━━━━━━━━━━\u001b[0m\u001b[37m\u001b[0m \u001b[1m0s\u001b[0m 3ms/step - accuracy: 0.0038 - loss: 0.0158 - val_accuracy: 0.0071 - val_loss: 0.0169\n",
            "Epoch 35/120\n",
            "\u001b[1m21/21\u001b[0m \u001b[32m━━━━━━━━━━━━━━━━━━━━\u001b[0m\u001b[37m\u001b[0m \u001b[1m0s\u001b[0m 3ms/step - accuracy: 0.0020 - loss: 0.0159 - val_accuracy: 0.0071 - val_loss: 0.0167\n",
            "Epoch 36/120\n",
            "\u001b[1m21/21\u001b[0m \u001b[32m━━━━━━━━━━━━━━━━━━━━\u001b[0m\u001b[37m\u001b[0m \u001b[1m0s\u001b[0m 4ms/step - accuracy: 0.0031 - loss: 0.0162 - val_accuracy: 0.0071 - val_loss: 0.0166\n",
            "Epoch 37/120\n",
            "\u001b[1m21/21\u001b[0m \u001b[32m━━━━━━━━━━━━━━━━━━━━\u001b[0m\u001b[37m\u001b[0m \u001b[1m0s\u001b[0m 3ms/step - accuracy: 0.0012 - loss: 0.0160 - val_accuracy: 0.0071 - val_loss: 0.0165\n",
            "Epoch 38/120\n",
            "\u001b[1m21/21\u001b[0m \u001b[32m━━━━━━━━━━━━━━━━━━━━\u001b[0m\u001b[37m\u001b[0m \u001b[1m0s\u001b[0m 3ms/step - accuracy: 9.6004e-04 - loss: 0.0143 - val_accuracy: 0.0071 - val_loss: 0.0163\n",
            "Epoch 39/120\n",
            "\u001b[1m21/21\u001b[0m \u001b[32m━━━━━━━━━━━━━━━━━━━━\u001b[0m\u001b[37m\u001b[0m \u001b[1m0s\u001b[0m 4ms/step - accuracy: 0.0052 - loss: 0.0159 - val_accuracy: 0.0071 - val_loss: 0.0162\n",
            "Epoch 40/120\n",
            "\u001b[1m21/21\u001b[0m \u001b[32m━━━━━━━━━━━━━━━━━━━━\u001b[0m\u001b[37m\u001b[0m \u001b[1m0s\u001b[0m 4ms/step - accuracy: 2.8500e-04 - loss: 0.0148 - val_accuracy: 0.0071 - val_loss: 0.0160\n",
            "Epoch 41/120\n",
            "\u001b[1m21/21\u001b[0m \u001b[32m━━━━━━━━━━━━━━━━━━━━\u001b[0m\u001b[37m\u001b[0m \u001b[1m0s\u001b[0m 4ms/step - accuracy: 0.0031 - loss: 0.0144 - val_accuracy: 0.0071 - val_loss: 0.0159\n",
            "Epoch 42/120\n",
            "\u001b[1m21/21\u001b[0m \u001b[32m━━━━━━━━━━━━━━━━━━━━\u001b[0m\u001b[37m\u001b[0m \u001b[1m0s\u001b[0m 4ms/step - accuracy: 3.6392e-04 - loss: 0.0153 - val_accuracy: 0.0071 - val_loss: 0.0158\n",
            "Epoch 43/120\n",
            "\u001b[1m21/21\u001b[0m \u001b[32m━━━━━━━━━━━━━━━━━━━━\u001b[0m\u001b[37m\u001b[0m \u001b[1m0s\u001b[0m 4ms/step - accuracy: 0.0031 - loss: 0.0138 - val_accuracy: 0.0071 - val_loss: 0.0157\n",
            "Epoch 44/120\n",
            "\u001b[1m21/21\u001b[0m \u001b[32m━━━━━━━━━━━━━━━━━━━━\u001b[0m\u001b[37m\u001b[0m \u001b[1m0s\u001b[0m 3ms/step - accuracy: 0.0012 - loss: 0.0146 - val_accuracy: 0.0071 - val_loss: 0.0155\n",
            "Epoch 45/120\n",
            "\u001b[1m21/21\u001b[0m \u001b[32m━━━━━━━━━━━━━━━━━━━━\u001b[0m\u001b[37m\u001b[0m \u001b[1m0s\u001b[0m 4ms/step - accuracy: 0.0038 - loss: 0.0140 - val_accuracy: 0.0071 - val_loss: 0.0154\n",
            "Epoch 46/120\n",
            "\u001b[1m21/21\u001b[0m \u001b[32m━━━━━━━━━━━━━━━━━━━━\u001b[0m\u001b[37m\u001b[0m \u001b[1m0s\u001b[0m 4ms/step - accuracy: 0.0016 - loss: 0.0140 - val_accuracy: 0.0071 - val_loss: 0.0153\n",
            "Epoch 47/120\n",
            "\u001b[1m21/21\u001b[0m \u001b[32m━━━━━━━━━━━━━━━━━━━━\u001b[0m\u001b[37m\u001b[0m \u001b[1m0s\u001b[0m 3ms/step - accuracy: 0.0011 - loss: 0.0146 - val_accuracy: 0.0071 - val_loss: 0.0152\n",
            "Epoch 48/120\n",
            "\u001b[1m21/21\u001b[0m \u001b[32m━━━━━━━━━━━━━━━━━━━━\u001b[0m\u001b[37m\u001b[0m \u001b[1m0s\u001b[0m 4ms/step - accuracy: 0.0026 - loss: 0.0138 - val_accuracy: 0.0071 - val_loss: 0.0151\n",
            "Epoch 49/120\n",
            "\u001b[1m21/21\u001b[0m \u001b[32m━━━━━━━━━━━━━━━━━━━━\u001b[0m\u001b[37m\u001b[0m \u001b[1m0s\u001b[0m 3ms/step - accuracy: 4.4747e-04 - loss: 0.0137 - val_accuracy: 0.0071 - val_loss: 0.0150\n",
            "Epoch 50/120\n",
            "\u001b[1m21/21\u001b[0m \u001b[32m━━━━━━━━━━━━━━━━━━━━\u001b[0m\u001b[37m\u001b[0m \u001b[1m0s\u001b[0m 4ms/step - accuracy: 0.0012 - loss: 0.0150 - val_accuracy: 0.0071 - val_loss: 0.0149\n",
            "Epoch 51/120\n",
            "\u001b[1m21/21\u001b[0m \u001b[32m━━━━━━━━━━━━━━━━━━━━\u001b[0m\u001b[37m\u001b[0m \u001b[1m0s\u001b[0m 3ms/step - accuracy: 0.0012 - loss: 0.0132 - val_accuracy: 0.0071 - val_loss: 0.0147\n",
            "Epoch 52/120\n",
            "\u001b[1m21/21\u001b[0m \u001b[32m━━━━━━━━━━━━━━━━━━━━\u001b[0m\u001b[37m\u001b[0m \u001b[1m0s\u001b[0m 4ms/step - accuracy: 0.0023 - loss: 0.0143 - val_accuracy: 0.0071 - val_loss: 0.0146\n",
            "Epoch 53/120\n",
            "\u001b[1m21/21\u001b[0m \u001b[32m━━━━━━━━━━━━━━━━━━━━\u001b[0m\u001b[37m\u001b[0m \u001b[1m0s\u001b[0m 3ms/step - accuracy: 0.0038 - loss: 0.0147 - val_accuracy: 0.0071 - val_loss: 0.0145\n",
            "Epoch 54/120\n",
            "\u001b[1m21/21\u001b[0m \u001b[32m━━━━━━━━━━━━━━━━━━━━\u001b[0m\u001b[37m\u001b[0m \u001b[1m0s\u001b[0m 3ms/step - accuracy: 0.0020 - loss: 0.0142 - val_accuracy: 0.0071 - val_loss: 0.0144\n",
            "Epoch 55/120\n",
            "\u001b[1m21/21\u001b[0m \u001b[32m━━━━━━━━━━━━━━━━━━━━\u001b[0m\u001b[37m\u001b[0m \u001b[1m0s\u001b[0m 4ms/step - accuracy: 0.0026 - loss: 0.0142 - val_accuracy: 0.0071 - val_loss: 0.0143\n",
            "Epoch 56/120\n",
            "\u001b[1m21/21\u001b[0m \u001b[32m━━━━━━━━━━━━━━━━━━━━\u001b[0m\u001b[37m\u001b[0m \u001b[1m0s\u001b[0m 4ms/step - accuracy: 4.4747e-04 - loss: 0.0133 - val_accuracy: 0.0071 - val_loss: 0.0142\n",
            "Epoch 57/120\n",
            "\u001b[1m21/21\u001b[0m \u001b[32m━━━━━━━━━━━━━━━━━━━━\u001b[0m\u001b[37m\u001b[0m \u001b[1m0s\u001b[0m 4ms/step - accuracy: 2.1024e-04 - loss: 0.0122 - val_accuracy: 0.0071 - val_loss: 0.0142\n",
            "Epoch 58/120\n",
            "\u001b[1m21/21\u001b[0m \u001b[32m━━━━━━━━━━━━━━━━━━━━\u001b[0m\u001b[37m\u001b[0m \u001b[1m0s\u001b[0m 4ms/step - accuracy: 0.0016 - loss: 0.0134 - val_accuracy: 0.0071 - val_loss: 0.0141\n",
            "Epoch 59/120\n",
            "\u001b[1m21/21\u001b[0m \u001b[32m━━━━━━━━━━━━━━━━━━━━\u001b[0m\u001b[37m\u001b[0m \u001b[1m0s\u001b[0m 3ms/step - accuracy: 2.1024e-04 - loss: 0.0132 - val_accuracy: 0.0071 - val_loss: 0.0140\n",
            "Epoch 60/120\n",
            "\u001b[1m21/21\u001b[0m \u001b[32m━━━━━━━━━━━━━━━━━━━━\u001b[0m\u001b[37m\u001b[0m \u001b[1m0s\u001b[0m 3ms/step - accuracy: 3.6392e-04 - loss: 0.0132 - val_accuracy: 0.0071 - val_loss: 0.0139\n",
            "Epoch 61/120\n",
            "\u001b[1m21/21\u001b[0m \u001b[32m━━━━━━━━━━━━━━━━━━━━\u001b[0m\u001b[37m\u001b[0m \u001b[1m0s\u001b[0m 3ms/step - accuracy: 0.0011 - loss: 0.0130 - val_accuracy: 0.0071 - val_loss: 0.0138\n",
            "Epoch 62/120\n",
            "\u001b[1m21/21\u001b[0m \u001b[32m━━━━━━━━━━━━━━━━━━━━\u001b[0m\u001b[37m\u001b[0m \u001b[1m0s\u001b[0m 4ms/step - accuracy: 6.3095e-04 - loss: 0.0127 - val_accuracy: 0.0071 - val_loss: 0.0137\n",
            "Epoch 63/120\n",
            "\u001b[1m21/21\u001b[0m \u001b[32m━━━━━━━━━━━━━━━━━━━━\u001b[0m\u001b[37m\u001b[0m \u001b[1m0s\u001b[0m 3ms/step - accuracy: 0.0026 - loss: 0.0121 - val_accuracy: 0.0071 - val_loss: 0.0136\n",
            "Epoch 64/120\n",
            "\u001b[1m21/21\u001b[0m \u001b[32m━━━━━━━━━━━━━━━━━━━━\u001b[0m\u001b[37m\u001b[0m \u001b[1m0s\u001b[0m 3ms/step - accuracy: 6.3095e-04 - loss: 0.0114 - val_accuracy: 0.0071 - val_loss: 0.0135\n",
            "Epoch 65/120\n",
            "\u001b[1m21/21\u001b[0m \u001b[32m━━━━━━━━━━━━━━━━━━━━\u001b[0m\u001b[37m\u001b[0m \u001b[1m0s\u001b[0m 3ms/step - accuracy: 7.3241e-04 - loss: 0.0123 - val_accuracy: 0.0071 - val_loss: 0.0135\n",
            "Epoch 66/120\n",
            "\u001b[1m21/21\u001b[0m \u001b[32m━━━━━━━━━━━━━━━━━━━━\u001b[0m\u001b[37m\u001b[0m \u001b[1m0s\u001b[0m 3ms/step - accuracy: 6.3095e-04 - loss: 0.0120 - val_accuracy: 0.0071 - val_loss: 0.0134\n",
            "Epoch 67/120\n",
            "\u001b[1m21/21\u001b[0m \u001b[32m━━━━━━━━━━━━━━━━━━━━\u001b[0m\u001b[37m\u001b[0m \u001b[1m0s\u001b[0m 3ms/step - accuracy: 9.6004e-04 - loss: 0.0129 - val_accuracy: 0.0071 - val_loss: 0.0133\n",
            "Epoch 68/120\n",
            "\u001b[1m21/21\u001b[0m \u001b[32m━━━━━━━━━━━━━━━━━━━━\u001b[0m\u001b[37m\u001b[0m \u001b[1m0s\u001b[0m 4ms/step - accuracy: 2.1024e-04 - loss: 0.0115 - val_accuracy: 0.0071 - val_loss: 0.0132\n",
            "Epoch 69/120\n",
            "\u001b[1m21/21\u001b[0m \u001b[32m━━━━━━━━━━━━━━━━━━━━\u001b[0m\u001b[37m\u001b[0m \u001b[1m0s\u001b[0m 3ms/step - accuracy: 2.8500e-04 - loss: 0.0118 - val_accuracy: 0.0071 - val_loss: 0.0132\n",
            "Epoch 70/120\n",
            "\u001b[1m21/21\u001b[0m \u001b[32m━━━━━━━━━━━━━━━━━━━━\u001b[0m\u001b[37m\u001b[0m \u001b[1m0s\u001b[0m 3ms/step - accuracy: 0.0026 - loss: 0.0121 - val_accuracy: 0.0071 - val_loss: 0.0131\n",
            "Epoch 71/120\n",
            "\u001b[1m21/21\u001b[0m \u001b[32m━━━━━━━━━━━━━━━━━━━━\u001b[0m\u001b[37m\u001b[0m \u001b[1m0s\u001b[0m 3ms/step - accuracy: 0.0026 - loss: 0.0120 - val_accuracy: 0.0071 - val_loss: 0.0130\n",
            "Epoch 72/120\n",
            "\u001b[1m21/21\u001b[0m \u001b[32m━━━━━━━━━━━━━━━━━━━━\u001b[0m\u001b[37m\u001b[0m \u001b[1m0s\u001b[0m 4ms/step - accuracy: 0.0018 - loss: 0.0124 - val_accuracy: 0.0071 - val_loss: 0.0129\n",
            "Epoch 73/120\n",
            "\u001b[1m21/21\u001b[0m \u001b[32m━━━━━━━━━━━━━━━━━━━━\u001b[0m\u001b[37m\u001b[0m \u001b[1m0s\u001b[0m 4ms/step - accuracy: 3.6392e-04 - loss: 0.0107 - val_accuracy: 0.0071 - val_loss: 0.0129\n",
            "Epoch 74/120\n",
            "\u001b[1m21/21\u001b[0m \u001b[32m━━━━━━━━━━━━━━━━━━━━\u001b[0m\u001b[37m\u001b[0m \u001b[1m0s\u001b[0m 3ms/step - accuracy: 8.4167e-04 - loss: 0.0118 - val_accuracy: 0.0071 - val_loss: 0.0128\n",
            "Epoch 75/120\n",
            "\u001b[1m21/21\u001b[0m \u001b[32m━━━━━━━━━━━━━━━━━━━━\u001b[0m\u001b[37m\u001b[0m \u001b[1m0s\u001b[0m 4ms/step - accuracy: 0.0011 - loss: 0.0110 - val_accuracy: 0.0071 - val_loss: 0.0127\n",
            "Epoch 76/120\n",
            "\u001b[1m21/21\u001b[0m \u001b[32m━━━━━━━━━━━━━━━━━━━━\u001b[0m\u001b[37m\u001b[0m \u001b[1m0s\u001b[0m 3ms/step - accuracy: 4.4747e-04 - loss: 0.0110 - val_accuracy: 0.0071 - val_loss: 0.0127\n",
            "Epoch 77/120\n",
            "\u001b[1m21/21\u001b[0m \u001b[32m━━━━━━━━━━━━━━━━━━━━\u001b[0m\u001b[37m\u001b[0m \u001b[1m0s\u001b[0m 3ms/step - accuracy: 0.0014 - loss: 0.0123 - val_accuracy: 0.0071 - val_loss: 0.0126\n",
            "Epoch 78/120\n",
            "\u001b[1m21/21\u001b[0m \u001b[32m━━━━━━━━━━━━━━━━━━━━\u001b[0m\u001b[37m\u001b[0m \u001b[1m0s\u001b[0m 3ms/step - accuracy: 0.0018 - loss: 0.0117 - val_accuracy: 0.0071 - val_loss: 0.0125\n",
            "Epoch 79/120\n",
            "\u001b[1m21/21\u001b[0m \u001b[32m━━━━━━━━━━━━━━━━━━━━\u001b[0m\u001b[37m\u001b[0m \u001b[1m0s\u001b[0m 3ms/step - accuracy: 0.0014 - loss: 0.0112 - val_accuracy: 0.0071 - val_loss: 0.0125\n",
            "Epoch 80/120\n",
            "\u001b[1m21/21\u001b[0m \u001b[32m━━━━━━━━━━━━━━━━━━━━\u001b[0m\u001b[37m\u001b[0m \u001b[1m0s\u001b[0m 3ms/step - accuracy: 5.3625e-04 - loss: 0.0117 - val_accuracy: 0.0071 - val_loss: 0.0124\n",
            "Epoch 81/120\n",
            "\u001b[1m21/21\u001b[0m \u001b[32m━━━━━━━━━━━━━━━━━━━━\u001b[0m\u001b[37m\u001b[0m \u001b[1m0s\u001b[0m 3ms/step - accuracy: 0.0020 - loss: 0.0109 - val_accuracy: 0.0071 - val_loss: 0.0124\n",
            "Epoch 82/120\n",
            "\u001b[1m21/21\u001b[0m \u001b[32m━━━━━━━━━━━━━━━━━━━━\u001b[0m\u001b[37m\u001b[0m \u001b[1m0s\u001b[0m 4ms/step - accuracy: 5.3625e-04 - loss: 0.0124 - val_accuracy: 0.0071 - val_loss: 0.0123\n",
            "Epoch 83/120\n",
            "\u001b[1m21/21\u001b[0m \u001b[32m━━━━━━━━━━━━━━━━━━━━\u001b[0m\u001b[37m\u001b[0m \u001b[1m0s\u001b[0m 3ms/step - accuracy: 4.4747e-04 - loss: 0.0117 - val_accuracy: 0.0071 - val_loss: 0.0122\n",
            "Epoch 84/120\n",
            "\u001b[1m21/21\u001b[0m \u001b[32m━━━━━━━━━━━━━━━━━━━━\u001b[0m\u001b[37m\u001b[0m \u001b[1m0s\u001b[0m 4ms/step - accuracy: 0.0031 - loss: 0.0112 - val_accuracy: 0.0071 - val_loss: 0.0122\n",
            "Epoch 85/120\n",
            "\u001b[1m21/21\u001b[0m \u001b[32m━━━━━━━━━━━━━━━━━━━━\u001b[0m\u001b[37m\u001b[0m \u001b[1m0s\u001b[0m 4ms/step - accuracy: 0.0014 - loss: 0.0120 - val_accuracy: 0.0071 - val_loss: 0.0121\n",
            "Epoch 86/120\n",
            "\u001b[1m21/21\u001b[0m \u001b[32m━━━━━━━━━━━━━━━━━━━━\u001b[0m\u001b[37m\u001b[0m \u001b[1m0s\u001b[0m 4ms/step - accuracy: 0.0031 - loss: 0.0106 - val_accuracy: 0.0071 - val_loss: 0.0121\n",
            "Epoch 87/120\n",
            "\u001b[1m21/21\u001b[0m \u001b[32m━━━━━━━━━━━━━━━━━━━━\u001b[0m\u001b[37m\u001b[0m \u001b[1m0s\u001b[0m 4ms/step - accuracy: 0.0014 - loss: 0.0120 - val_accuracy: 0.0071 - val_loss: 0.0120\n",
            "Epoch 88/120\n",
            "\u001b[1m21/21\u001b[0m \u001b[32m━━━━━━━━━━━━━━━━━━━━\u001b[0m\u001b[37m\u001b[0m \u001b[1m0s\u001b[0m 3ms/step - accuracy: 0.0052 - loss: 0.0112 - val_accuracy: 0.0071 - val_loss: 0.0120\n",
            "Epoch 89/120\n",
            "\u001b[1m21/21\u001b[0m \u001b[32m━━━━━━━━━━━━━━━━━━━━\u001b[0m\u001b[37m\u001b[0m \u001b[1m0s\u001b[0m 3ms/step - accuracy: 0.0031 - loss: 0.0120 - val_accuracy: 0.0071 - val_loss: 0.0119\n",
            "Epoch 90/120\n",
            "\u001b[1m21/21\u001b[0m \u001b[32m━━━━━━━━━━━━━━━━━━━━\u001b[0m\u001b[37m\u001b[0m \u001b[1m0s\u001b[0m 3ms/step - accuracy: 8.4167e-04 - loss: 0.0100 - val_accuracy: 0.0071 - val_loss: 0.0119\n",
            "Epoch 91/120\n",
            "\u001b[1m21/21\u001b[0m \u001b[32m━━━━━━━━━━━━━━━━━━━━\u001b[0m\u001b[37m\u001b[0m \u001b[1m0s\u001b[0m 4ms/step - accuracy: 4.4747e-04 - loss: 0.0107 - val_accuracy: 0.0071 - val_loss: 0.0118\n",
            "Epoch 92/120\n",
            "\u001b[1m21/21\u001b[0m \u001b[32m━━━━━━━━━━━━━━━━━━━━\u001b[0m\u001b[37m\u001b[0m \u001b[1m0s\u001b[0m 4ms/step - accuracy: 0.0020 - loss: 0.0117 - val_accuracy: 0.0071 - val_loss: 0.0118\n",
            "Epoch 93/120\n",
            "\u001b[1m21/21\u001b[0m \u001b[32m━━━━━━━━━━━━━━━━━━━━\u001b[0m\u001b[37m\u001b[0m \u001b[1m0s\u001b[0m 3ms/step - accuracy: 0.0018 - loss: 0.0114 - val_accuracy: 0.0071 - val_loss: 0.0117\n",
            "Epoch 94/120\n",
            "\u001b[1m21/21\u001b[0m \u001b[32m━━━━━━━━━━━━━━━━━━━━\u001b[0m\u001b[37m\u001b[0m \u001b[1m0s\u001b[0m 3ms/step - accuracy: 8.4167e-04 - loss: 0.0114 - val_accuracy: 0.0071 - val_loss: 0.0117\n",
            "Epoch 95/120\n",
            "\u001b[1m21/21\u001b[0m \u001b[32m━━━━━━━━━━━━━━━━━━━━\u001b[0m\u001b[37m\u001b[0m \u001b[1m0s\u001b[0m 3ms/step - accuracy: 5.3625e-04 - loss: 0.0121 - val_accuracy: 0.0071 - val_loss: 0.0116\n",
            "Epoch 96/120\n",
            "\u001b[1m21/21\u001b[0m \u001b[32m━━━━━━━━━━━━━━━━━━━━\u001b[0m\u001b[37m\u001b[0m \u001b[1m0s\u001b[0m 4ms/step - accuracy: 3.6392e-04 - loss: 0.0110 - val_accuracy: 0.0071 - val_loss: 0.0116\n",
            "Epoch 97/120\n",
            "\u001b[1m21/21\u001b[0m \u001b[32m━━━━━━━━━━━━━━━━━━━━\u001b[0m\u001b[37m\u001b[0m \u001b[1m0s\u001b[0m 3ms/step - accuracy: 2.8500e-04 - loss: 0.0109 - val_accuracy: 0.0071 - val_loss: 0.0115\n",
            "Epoch 98/120\n",
            "\u001b[1m21/21\u001b[0m \u001b[32m━━━━━━━━━━━━━━━━━━━━\u001b[0m\u001b[37m\u001b[0m \u001b[1m0s\u001b[0m 4ms/step - accuracy: 0.0016 - loss: 0.0097 - val_accuracy: 0.0071 - val_loss: 0.0115\n",
            "Epoch 99/120\n",
            "\u001b[1m21/21\u001b[0m \u001b[32m━━━━━━━━━━━━━━━━━━━━\u001b[0m\u001b[37m\u001b[0m \u001b[1m0s\u001b[0m 4ms/step - accuracy: 0.0020 - loss: 0.0114 - val_accuracy: 0.0071 - val_loss: 0.0115\n",
            "Epoch 100/120\n",
            "\u001b[1m21/21\u001b[0m \u001b[32m━━━━━━━━━━━━━━━━━━━━\u001b[0m\u001b[37m\u001b[0m \u001b[1m0s\u001b[0m 4ms/step - accuracy: 0.0052 - loss: 0.0112 - val_accuracy: 0.0071 - val_loss: 0.0114\n",
            "Epoch 101/120\n",
            "\u001b[1m21/21\u001b[0m \u001b[32m━━━━━━━━━━━━━━━━━━━━\u001b[0m\u001b[37m\u001b[0m \u001b[1m0s\u001b[0m 4ms/step - accuracy: 0.0012 - loss: 0.0103 - val_accuracy: 0.0071 - val_loss: 0.0114\n",
            "Epoch 102/120\n",
            "\u001b[1m21/21\u001b[0m \u001b[32m━━━━━━━━━━━━━━━━━━━━\u001b[0m\u001b[37m\u001b[0m \u001b[1m0s\u001b[0m 3ms/step - accuracy: 1.3922e-04 - loss: 0.0107 - val_accuracy: 0.0071 - val_loss: 0.0113\n",
            "Epoch 103/120\n",
            "\u001b[1m21/21\u001b[0m \u001b[32m━━━━━━━━━━━━━━━━━━━━\u001b[0m\u001b[37m\u001b[0m \u001b[1m0s\u001b[0m 3ms/step - accuracy: 4.4747e-04 - loss: 0.0108 - val_accuracy: 0.0071 - val_loss: 0.0113\n",
            "Epoch 104/120\n",
            "\u001b[1m21/21\u001b[0m \u001b[32m━━━━━━━━━━━━━━━━━━━━\u001b[0m\u001b[37m\u001b[0m \u001b[1m0s\u001b[0m 3ms/step - accuracy: 0.0018 - loss: 0.0115 - val_accuracy: 0.0071 - val_loss: 0.0113\n",
            "Epoch 105/120\n",
            "\u001b[1m21/21\u001b[0m \u001b[32m━━━━━━━━━━━━━━━━━━━━\u001b[0m\u001b[37m\u001b[0m \u001b[1m0s\u001b[0m 3ms/step - accuracy: 7.3241e-04 - loss: 0.0107 - val_accuracy: 0.0071 - val_loss: 0.0112\n",
            "Epoch 106/120\n",
            "\u001b[1m21/21\u001b[0m \u001b[32m━━━━━━━━━━━━━━━━━━━━\u001b[0m\u001b[37m\u001b[0m \u001b[1m0s\u001b[0m 3ms/step - accuracy: 0.0011 - loss: 0.0104 - val_accuracy: 0.0071 - val_loss: 0.0112\n",
            "Epoch 107/120\n",
            "\u001b[1m21/21\u001b[0m \u001b[32m━━━━━━━━━━━━━━━━━━━━\u001b[0m\u001b[37m\u001b[0m \u001b[1m0s\u001b[0m 3ms/step - accuracy: 2.1024e-04 - loss: 0.0106 - val_accuracy: 0.0071 - val_loss: 0.0111\n",
            "Epoch 108/120\n",
            "\u001b[1m21/21\u001b[0m \u001b[32m━━━━━━━━━━━━━━━━━━━━\u001b[0m\u001b[37m\u001b[0m \u001b[1m0s\u001b[0m 6ms/step - accuracy: 0.0012 - loss: 0.0107 - val_accuracy: 0.0071 - val_loss: 0.0111\n",
            "Epoch 109/120\n",
            "\u001b[1m21/21\u001b[0m \u001b[32m━━━━━━━━━━━━━━━━━━━━\u001b[0m\u001b[37m\u001b[0m \u001b[1m0s\u001b[0m 5ms/step - accuracy: 0.0052 - loss: 0.0110 - val_accuracy: 0.0071 - val_loss: 0.0111\n",
            "Epoch 110/120\n",
            "\u001b[1m21/21\u001b[0m \u001b[32m━━━━━━━━━━━━━━━━━━━━\u001b[0m\u001b[37m\u001b[0m \u001b[1m0s\u001b[0m 5ms/step - accuracy: 3.6392e-04 - loss: 0.0104 - val_accuracy: 0.0071 - val_loss: 0.0110\n",
            "Epoch 111/120\n",
            "\u001b[1m21/21\u001b[0m \u001b[32m━━━━━━━━━━━━━━━━━━━━\u001b[0m\u001b[37m\u001b[0m \u001b[1m0s\u001b[0m 5ms/step - accuracy: 0.0018 - loss: 0.0100 - val_accuracy: 0.0071 - val_loss: 0.0110\n",
            "Epoch 112/120\n",
            "\u001b[1m21/21\u001b[0m \u001b[32m━━━━━━━━━━━━━━━━━━━━\u001b[0m\u001b[37m\u001b[0m \u001b[1m0s\u001b[0m 4ms/step - accuracy: 0.0018 - loss: 0.0101 - val_accuracy: 0.0071 - val_loss: 0.0110\n",
            "Epoch 113/120\n",
            "\u001b[1m21/21\u001b[0m \u001b[32m━━━━━━━━━━━━━━━━━━━━\u001b[0m\u001b[37m\u001b[0m \u001b[1m0s\u001b[0m 5ms/step - accuracy: 0.0038 - loss: 0.0100 - val_accuracy: 0.0071 - val_loss: 0.0109\n",
            "Epoch 114/120\n",
            "\u001b[1m21/21\u001b[0m \u001b[32m━━━━━━━━━━━━━━━━━━━━\u001b[0m\u001b[37m\u001b[0m \u001b[1m0s\u001b[0m 4ms/step - accuracy: 6.3095e-04 - loss: 0.0106 - val_accuracy: 0.0071 - val_loss: 0.0109\n",
            "Epoch 115/120\n",
            "\u001b[1m21/21\u001b[0m \u001b[32m━━━━━━━━━━━━━━━━━━━━\u001b[0m\u001b[37m\u001b[0m \u001b[1m0s\u001b[0m 4ms/step - accuracy: 1.3922e-04 - loss: 0.0106 - val_accuracy: 0.0071 - val_loss: 0.0109\n",
            "Epoch 116/120\n",
            "\u001b[1m21/21\u001b[0m \u001b[32m━━━━━━━━━━━━━━━━━━━━\u001b[0m\u001b[37m\u001b[0m \u001b[1m1s\u001b[0m 30ms/step - accuracy: 7.3241e-04 - loss: 0.0104 - val_accuracy: 0.0071 - val_loss: 0.0109\n",
            "Epoch 117/120\n",
            "\u001b[1m21/21\u001b[0m \u001b[32m━━━━━━━━━━━━━━━━━━━━\u001b[0m\u001b[37m\u001b[0m \u001b[1m1s\u001b[0m 4ms/step - accuracy: 2.8500e-04 - loss: 0.0099 - val_accuracy: 0.0071 - val_loss: 0.0108\n",
            "Epoch 118/120\n",
            "\u001b[1m21/21\u001b[0m \u001b[32m━━━━━━━━━━━━━━━━━━━━\u001b[0m\u001b[37m\u001b[0m \u001b[1m0s\u001b[0m 4ms/step - accuracy: 0.0038 - loss: 0.0107 - val_accuracy: 0.0071 - val_loss: 0.0108\n",
            "Epoch 119/120\n",
            "\u001b[1m21/21\u001b[0m \u001b[32m━━━━━━━━━━━━━━━━━━━━\u001b[0m\u001b[37m\u001b[0m \u001b[1m0s\u001b[0m 3ms/step - accuracy: 2.1024e-04 - loss: 0.0101 - val_accuracy: 0.0071 - val_loss: 0.0108\n",
            "Epoch 120/120\n",
            "\u001b[1m21/21\u001b[0m \u001b[32m━━━━━━━━━━━━━━━━━━━━\u001b[0m\u001b[37m\u001b[0m \u001b[1m0s\u001b[0m 3ms/step - accuracy: 1.3922e-04 - loss: 0.0102 - val_accuracy: 0.0071 - val_loss: 0.0107\n"
          ]
        }
      ]
    },
    {
      "cell_type": "code",
      "execution_count": 26,
      "metadata": {
        "tags": [],
        "id": "xOhudYT0m30d"
      },
      "outputs": [],
      "source": [
        "# The reason why we have the index 1 after the model.evaluate function is because the function returns the loss as the first element and the accuracy as the second element.\n",
        "#model.evaluate(X_test, Y_test)[1]"
      ]
    },
    {
      "cell_type": "markdown",
      "metadata": {
        "id": "IQLvUd2qm30e"
      },
      "source": [
        "### Visualizing loss and accuracy\n",
        "\n",
        "A good model is one where the testing and training set errors are very similar, and at their lowest point."
      ]
    },
    {
      "cell_type": "code",
      "execution_count": 27,
      "metadata": {
        "id": "s92OuSNFm30f",
        "outputId": "ae4cb80d-186c-4d14-da47-6de8749c56b9",
        "colab": {
          "base_uri": "https://localhost:8080/",
          "height": 472
        }
      },
      "outputs": [
        {
          "output_type": "display_data",
          "data": {
            "text/plain": [
              "<Figure size 640x480 with 1 Axes>"
            ],
            "image/png": "[encoded data removed]"
          },
          "metadata": {}
        }
      ],
      "source": [
        "import matplotlib.pyplot as plt\n",
        "\n",
        "plt.plot(hist.history['loss'])\n",
        "plt.plot(hist.history['val_loss'])\n",
        "plt.title('Model loss')\n",
        "plt.ylabel('Loss')\n",
        "plt.xlabel('Epoch')\n",
        "plt.legend(['Train', 'Val'], loc='upper right')\n",
        "plt.show()"
      ]
    },
    {
      "cell_type": "code",
      "execution_count": 28,
      "metadata": {
        "id": "KyNJknLJm30f",
        "outputId": "84f36d10-37bc-469f-d0fb-fc97880ff6c4",
        "colab": {
          "base_uri": "https://localhost:8080/",
          "height": 472
        }
      },
      "outputs": [
        {
          "output_type": "display_data",
          "data": {
            "text/plain": [
              "<Figure size 640x480 with 1 Axes>"
            ],
            "image/png": "[encoded data removed]"
          },
          "metadata": {}
        }
      ],
      "source": [
        "plt.plot(hist.history['accuracy'])\n",
        "plt.plot(hist.history['val_accuracy'])\n",
        "plt.title('Model accuracy')\n",
        "plt.ylabel('Accuracy')\n",
        "plt.xlabel('Epoch')\n",
        "plt.legend(['Train', 'Val'], loc='lower right')\n",
        "plt.show()"
      ]
    },
    {
      "cell_type": "markdown",
      "metadata": {
        "id": "5PyUAQO7m30g"
      },
      "source": [
        "### Adding regularization to our network\n",
        "\n",
        "Our model is overfitting. Similarly to simpler machine learning models, we can add **regularization** to our neural network to help correct this. However, the exact types of regularization are somewhat different than the ones used for our usual classification models, and go by different names:\n",
        "\n",
        "- L2 Regularization\n",
        "- Early Stopping\n",
        "- Dropout\n",
        "\n",
        "\n"
      ]
    },
    {
      "cell_type": "code",
      "execution_count": 29,
      "metadata": {
        "id": "2oeNuaoZm30h"
      },
      "outputs": [],
      "source": [
        "model_2 = Sequential([\n",
        "    Dense(1000, activation='relu', input_shape=(5,)),\n",
        "    Dense(1000, activation='relu'),\n",
        "    Dense(1000, activation='relu'),\n",
        "    Dense(1000, activation='relu'),\n",
        "    Dense(1, activation='sigmoid'),\n",
        "])"
      ]
    },
    {
      "cell_type": "code",
      "execution_count": 30,
      "metadata": {
        "id": "mkopZ2ilm30h"
      },
      "outputs": [],
      "source": [
        "model_2.compile(optimizer='adam',\n",
        "              loss = 'mean_squared_error', #mse\n",
        "              #loss='binary_crossentropy',\n",
        "              metrics=['accuracy'])\n"
      ]
    },
    {
      "cell_type": "code",
      "execution_count": 31,
      "metadata": {
        "tags": [],
        "id": "HuDGLRYpm30i",
        "outputId": "66f9c3e5-5c12-472d-873d-aa14aba31f7a",
        "colab": {
          "base_uri": "https://localhost:8080/"
        }
      },
      "outputs": [
        {
          "output_type": "stream",
          "name": "stdout",
          "text": [
            "Epoch 1/100\n",
            "\u001b[1m21/21\u001b[0m \u001b[32m━━━━━━━━━━━━━━━━━━━━\u001b[0m\u001b[37m\u001b[0m \u001b[1m3s\u001b[0m 57ms/step - accuracy: 0.0000e+00 - loss: 0.0156 - val_accuracy: 0.0071 - val_loss: 0.0099\n",
            "Epoch 2/100\n",
            "\u001b[1m21/21\u001b[0m \u001b[32m━━━━━━━━━━━━━━━━━━━━\u001b[0m\u001b[37m\u001b[0m \u001b[1m2s\u001b[0m 48ms/step - accuracy: 6.3095e-04 - loss: 0.0098 - val_accuracy: 0.0071 - val_loss: 0.0086\n",
            "Epoch 3/100\n",
            "\u001b[1m21/21\u001b[0m \u001b[32m━━━━━━━━━━━━━━━━━━━━\u001b[0m\u001b[37m\u001b[0m \u001b[1m1s\u001b[0m 59ms/step - accuracy: 5.3625e-04 - loss: 0.0094 - val_accuracy: 0.0071 - val_loss: 0.0096\n",
            "Epoch 4/100\n",
            "\u001b[1m21/21\u001b[0m \u001b[32m━━━━━━━━━━━━━━━━━━━━\u001b[0m\u001b[37m\u001b[0m \u001b[1m1s\u001b[0m 71ms/step - accuracy: 0.0052 - loss: 0.0089 - val_accuracy: 0.0071 - val_loss: 0.0086\n",
            "Epoch 5/100\n",
            "\u001b[1m21/21\u001b[0m \u001b[32m━━━━━━━━━━━━━━━━━━━━\u001b[0m\u001b[37m\u001b[0m \u001b[1m2s\u001b[0m 47ms/step - accuracy: 0.0011 - loss: 0.0086 - val_accuracy: 0.0071 - val_loss: 0.0077\n",
            "Epoch 6/100\n",
            "\u001b[1m21/21\u001b[0m \u001b[32m━━━━━━━━━━━━━━━━━━━━\u001b[0m\u001b[37m\u001b[0m \u001b[1m1s\u001b[0m 47ms/step - accuracy: 6.3095e-04 - loss: 0.0071 - val_accuracy: 0.0071 - val_loss: 0.0089\n",
            "Epoch 7/100\n",
            "\u001b[1m21/21\u001b[0m \u001b[32m━━━━━━━━━━━━━━━━━━━━\u001b[0m\u001b[37m\u001b[0m \u001b[1m1s\u001b[0m 47ms/step - accuracy: 0.0012 - loss: 0.0075 - val_accuracy: 0.0071 - val_loss: 0.0082\n",
            "Epoch 8/100\n",
            "\u001b[1m21/21\u001b[0m \u001b[32m━━━━━━━━━━━━━━━━━━━━\u001b[0m\u001b[37m\u001b[0m \u001b[1m1s\u001b[0m 50ms/step - accuracy: 0.0012 - loss: 0.0080 - val_accuracy: 0.0071 - val_loss: 0.0084\n",
            "Epoch 9/100\n",
            "\u001b[1m21/21\u001b[0m \u001b[32m━━━━━━━━━━━━━━━━━━━━\u001b[0m\u001b[37m\u001b[0m \u001b[1m1s\u001b[0m 47ms/step - accuracy: 8.4167e-04 - loss: 0.0082 - val_accuracy: 0.0071 - val_loss: 0.0079\n",
            "Epoch 10/100\n",
            "\u001b[1m21/21\u001b[0m \u001b[32m━━━━━━━━━━━━━━━━━━━━\u001b[0m\u001b[37m\u001b[0m \u001b[1m1s\u001b[0m 48ms/step - accuracy: 2.8500e-04 - loss: 0.0083 - val_accuracy: 0.0071 - val_loss: 0.0082\n",
            "Epoch 11/100\n",
            "\u001b[1m21/21\u001b[0m \u001b[32m━━━━━━━━━━━━━━━━━━━━\u001b[0m\u001b[37m\u001b[0m \u001b[1m1s\u001b[0m 47ms/step - accuracy: 0.0031 - loss: 0.0074 - val_accuracy: 0.0071 - val_loss: 0.0081\n",
            "Epoch 12/100\n",
            "\u001b[1m21/21\u001b[0m \u001b[32m━━━━━━━━━━━━━━━━━━━━\u001b[0m\u001b[37m\u001b[0m \u001b[1m1s\u001b[0m 47ms/step - accuracy: 0.0038 - loss: 0.0074 - val_accuracy: 0.0071 - val_loss: 0.0078\n",
            "Epoch 13/100\n",
            "\u001b[1m21/21\u001b[0m \u001b[32m━━━━━━━━━━━━━━━━━━━━\u001b[0m\u001b[37m\u001b[0m \u001b[1m1s\u001b[0m 51ms/step - accuracy: 4.4747e-04 - loss: 0.0071 - val_accuracy: 0.0071 - val_loss: 0.0085\n",
            "Epoch 14/100\n",
            "\u001b[1m21/21\u001b[0m \u001b[32m━━━━━━━━━━━━━━━━━━━━\u001b[0m\u001b[37m\u001b[0m \u001b[1m2s\u001b[0m 75ms/step - accuracy: 9.6004e-04 - loss: 0.0082 - val_accuracy: 0.0071 - val_loss: 0.0082\n",
            "Epoch 15/100\n",
            "\u001b[1m21/21\u001b[0m \u001b[32m━━━━━━━━━━━━━━━━━━━━\u001b[0m\u001b[37m\u001b[0m \u001b[1m2s\u001b[0m 45ms/step - accuracy: 0.0018 - loss: 0.0074 - val_accuracy: 0.0071 - val_loss: 0.0081\n",
            "Epoch 16/100\n",
            "\u001b[1m21/21\u001b[0m \u001b[32m━━━━━━━━━━━━━━━━━━━━\u001b[0m\u001b[37m\u001b[0m \u001b[1m1s\u001b[0m 44ms/step - accuracy: 7.3241e-04 - loss: 0.0076 - val_accuracy: 0.0071 - val_loss: 0.0090\n",
            "Epoch 17/100\n",
            "\u001b[1m21/21\u001b[0m \u001b[32m━━━━━━━━━━━━━━━━━━━━\u001b[0m\u001b[37m\u001b[0m \u001b[1m1s\u001b[0m 47ms/step - accuracy: 7.3241e-04 - loss: 0.0072 - val_accuracy: 0.0071 - val_loss: 0.0080\n",
            "Epoch 18/100\n",
            "\u001b[1m21/21\u001b[0m \u001b[32m━━━━━━━━━━━━━━━━━━━━\u001b[0m\u001b[37m\u001b[0m \u001b[1m1s\u001b[0m 48ms/step - accuracy: 0.0031 - loss: 0.0078 - val_accuracy: 0.0071 - val_loss: 0.0077\n",
            "Epoch 19/100\n",
            "\u001b[1m21/21\u001b[0m \u001b[32m━━━━━━━━━━━━━━━━━━━━\u001b[0m\u001b[37m\u001b[0m \u001b[1m1s\u001b[0m 48ms/step - accuracy: 2.1024e-04 - loss: 0.0070 - val_accuracy: 0.0071 - val_loss: 0.0078\n",
            "Epoch 20/100\n",
            "\u001b[1m21/21\u001b[0m \u001b[32m━━━━━━━━━━━━━━━━━━━━\u001b[0m\u001b[37m\u001b[0m \u001b[1m1s\u001b[0m 50ms/step - accuracy: 7.3241e-04 - loss: 0.0075 - val_accuracy: 0.0071 - val_loss: 0.0077\n",
            "Epoch 21/100\n",
            "\u001b[1m21/21\u001b[0m \u001b[32m━━━━━━━━━━━━━━━━━━━━\u001b[0m\u001b[37m\u001b[0m \u001b[1m1s\u001b[0m 47ms/step - accuracy: 8.4167e-04 - loss: 0.0069 - val_accuracy: 0.0071 - val_loss: 0.0088\n",
            "Epoch 22/100\n",
            "\u001b[1m21/21\u001b[0m \u001b[32m━━━━━━━━━━━━━━━━━━━━\u001b[0m\u001b[37m\u001b[0m \u001b[1m1s\u001b[0m 47ms/step - accuracy: 0.0020 - loss: 0.0073 - val_accuracy: 0.0071 - val_loss: 0.0079\n",
            "Epoch 23/100\n",
            "\u001b[1m21/21\u001b[0m \u001b[32m━━━━━━━━━━━━━━━━━━━━\u001b[0m\u001b[37m\u001b[0m \u001b[1m1s\u001b[0m 53ms/step - accuracy: 0.0018 - loss: 0.0070 - val_accuracy: 0.0071 - val_loss: 0.0079\n",
            "Epoch 24/100\n",
            "\u001b[1m21/21\u001b[0m \u001b[32m━━━━━━━━━━━━━━━━━━━━\u001b[0m\u001b[37m\u001b[0m \u001b[1m1s\u001b[0m 70ms/step - accuracy: 0.0020 - loss: 0.0073 - val_accuracy: 0.0071 - val_loss: 0.0080\n",
            "Epoch 25/100\n",
            "\u001b[1m21/21\u001b[0m \u001b[32m━━━━━━━━━━━━━━━━━━━━\u001b[0m\u001b[37m\u001b[0m \u001b[1m2s\u001b[0m 45ms/step - accuracy: 2.1024e-04 - loss: 0.0069 - val_accuracy: 0.0071 - val_loss: 0.0077\n",
            "Epoch 26/100\n",
            "\u001b[1m21/21\u001b[0m \u001b[32m━━━━━━━━━━━━━━━━━━━━\u001b[0m\u001b[37m\u001b[0m \u001b[1m1s\u001b[0m 47ms/step - accuracy: 5.3625e-04 - loss: 0.0066 - val_accuracy: 0.0071 - val_loss: 0.0084\n",
            "Epoch 27/100\n",
            "\u001b[1m21/21\u001b[0m \u001b[32m━━━━━━━━━━━━━━━━━━━━\u001b[0m\u001b[37m\u001b[0m \u001b[1m1s\u001b[0m 49ms/step - accuracy: 9.6004e-04 - loss: 0.0069 - val_accuracy: 0.0071 - val_loss: 0.0077\n",
            "Epoch 28/100\n",
            "\u001b[1m21/21\u001b[0m \u001b[32m━━━━━━━━━━━━━━━━━━━━\u001b[0m\u001b[37m\u001b[0m \u001b[1m1s\u001b[0m 48ms/step - accuracy: 0.0020 - loss: 0.0080 - val_accuracy: 0.0071 - val_loss: 0.0088\n",
            "Epoch 29/100\n",
            "\u001b[1m21/21\u001b[0m \u001b[32m━━━━━━━━━━━━━━━━━━━━\u001b[0m\u001b[37m\u001b[0m \u001b[1m1s\u001b[0m 47ms/step - accuracy: 2.1024e-04 - loss: 0.0084 - val_accuracy: 0.0071 - val_loss: 0.0079\n",
            "Epoch 30/100\n",
            "\u001b[1m21/21\u001b[0m \u001b[32m━━━━━━━━━━━━━━━━━━━━\u001b[0m\u001b[37m\u001b[0m \u001b[1m2s\u001b[0m 60ms/step - accuracy: 0.0026 - loss: 0.0075 - val_accuracy: 0.0071 - val_loss: 0.0076\n",
            "Epoch 31/100\n",
            "\u001b[1m21/21\u001b[0m \u001b[32m━━━━━━━━━━━━━━━━━━━━\u001b[0m\u001b[37m\u001b[0m \u001b[1m2s\u001b[0m 48ms/step - accuracy: 3.6392e-04 - loss: 0.0070 - val_accuracy: 0.0071 - val_loss: 0.0083\n",
            "Epoch 32/100\n",
            "\u001b[1m21/21\u001b[0m \u001b[32m━━━━━━━━━━━━━━━━━━━━\u001b[0m\u001b[37m\u001b[0m \u001b[1m2s\u001b[0m 71ms/step - accuracy: 7.3241e-04 - loss: 0.0067 - val_accuracy: 0.0071 - val_loss: 0.0074\n",
            "Epoch 33/100\n",
            "\u001b[1m21/21\u001b[0m \u001b[32m━━━━━━━━━━━━━━━━━━━━\u001b[0m\u001b[37m\u001b[0m \u001b[1m2s\u001b[0m 75ms/step - accuracy: 5.3625e-04 - loss: 0.0066 - val_accuracy: 0.0071 - val_loss: 0.0083\n",
            "Epoch 34/100\n",
            "\u001b[1m21/21\u001b[0m \u001b[32m━━━━━━━━━━━━━━━━━━━━\u001b[0m\u001b[37m\u001b[0m \u001b[1m2s\u001b[0m 46ms/step - accuracy: 0.0016 - loss: 0.0068 - val_accuracy: 0.0071 - val_loss: 0.0076\n",
            "Epoch 35/100\n",
            "\u001b[1m21/21\u001b[0m \u001b[32m━━━━━━━━━━━━━━━━━━━━\u001b[0m\u001b[37m\u001b[0m \u001b[1m1s\u001b[0m 46ms/step - accuracy: 0.0020 - loss: 0.0067 - val_accuracy: 0.0071 - val_loss: 0.0076\n",
            "Epoch 36/100\n",
            "\u001b[1m21/21\u001b[0m \u001b[32m━━━━━━━━━━━━━━━━━━━━\u001b[0m\u001b[37m\u001b[0m \u001b[1m1s\u001b[0m 47ms/step - accuracy: 1.3922e-04 - loss: 0.0061 - val_accuracy: 0.0071 - val_loss: 0.0079\n",
            "Epoch 37/100\n",
            "\u001b[1m21/21\u001b[0m \u001b[32m━━━━━━━━━━━━━━━━━━━━\u001b[0m\u001b[37m\u001b[0m \u001b[1m1s\u001b[0m 47ms/step - accuracy: 4.4747e-04 - loss: 0.0067 - val_accuracy: 0.0071 - val_loss: 0.0075\n",
            "Epoch 38/100\n",
            "\u001b[1m21/21\u001b[0m \u001b[32m━━━━━━━━━━━━━━━━━━━━\u001b[0m\u001b[37m\u001b[0m \u001b[1m1s\u001b[0m 49ms/step - accuracy: 5.3625e-04 - loss: 0.0064 - val_accuracy: 0.0071 - val_loss: 0.0074\n",
            "Epoch 39/100\n",
            "\u001b[1m21/21\u001b[0m \u001b[32m━━━━━━━━━━━━━━━━━━━━\u001b[0m\u001b[37m\u001b[0m \u001b[1m1s\u001b[0m 48ms/step - accuracy: 0.0018 - loss: 0.0064 - val_accuracy: 0.0071 - val_loss: 0.0075\n",
            "Epoch 40/100\n",
            "\u001b[1m21/21\u001b[0m \u001b[32m━━━━━━━━━━━━━━━━━━━━\u001b[0m\u001b[37m\u001b[0m \u001b[1m1s\u001b[0m 49ms/step - accuracy: 2.1024e-04 - loss: 0.0064 - val_accuracy: 0.0071 - val_loss: 0.0077\n",
            "Epoch 41/100\n",
            "\u001b[1m21/21\u001b[0m \u001b[32m━━━━━━━━━━━━━━━━━━━━\u001b[0m\u001b[37m\u001b[0m \u001b[1m1s\u001b[0m 50ms/step - accuracy: 2.8500e-04 - loss: 0.0062 - val_accuracy: 0.0071 - val_loss: 0.0077\n",
            "Epoch 42/100\n",
            "\u001b[1m21/21\u001b[0m \u001b[32m━━━━━━━━━━━━━━━━━━━━\u001b[0m\u001b[37m\u001b[0m \u001b[1m1s\u001b[0m 64ms/step - accuracy: 7.3241e-04 - loss: 0.0068 - val_accuracy: 0.0071 - val_loss: 0.0076\n",
            "Epoch 43/100\n",
            "\u001b[1m21/21\u001b[0m \u001b[32m━━━━━━━━━━━━━━━━━━━━\u001b[0m\u001b[37m\u001b[0m \u001b[1m2s\u001b[0m 53ms/step - accuracy: 0.0012 - loss: 0.0068 - val_accuracy: 0.0071 - val_loss: 0.0074\n",
            "Epoch 44/100\n",
            "\u001b[1m21/21\u001b[0m \u001b[32m━━━━━━━━━━━━━━━━━━━━\u001b[0m\u001b[37m\u001b[0m \u001b[1m1s\u001b[0m 49ms/step - accuracy: 3.6392e-04 - loss: 0.0066 - val_accuracy: 0.0071 - val_loss: 0.0080\n",
            "Epoch 45/100\n",
            "\u001b[1m21/21\u001b[0m \u001b[32m━━━━━━━━━━━━━━━━━━━━\u001b[0m\u001b[37m\u001b[0m \u001b[1m1s\u001b[0m 47ms/step - accuracy: 0.0038 - loss: 0.0065 - val_accuracy: 0.0071 - val_loss: 0.0074\n",
            "Epoch 46/100\n",
            "\u001b[1m21/21\u001b[0m \u001b[32m━━━━━━━━━━━━━━━━━━━━\u001b[0m\u001b[37m\u001b[0m \u001b[1m1s\u001b[0m 48ms/step - accuracy: 0.0011 - loss: 0.0061 - val_accuracy: 0.0071 - val_loss: 0.0084\n",
            "Epoch 47/100\n",
            "\u001b[1m21/21\u001b[0m \u001b[32m━━━━━━━━━━━━━━━━━━━━\u001b[0m\u001b[37m\u001b[0m \u001b[1m1s\u001b[0m 49ms/step - accuracy: 0.0026 - loss: 0.0067 - val_accuracy: 0.0071 - val_loss: 0.0076\n",
            "Epoch 48/100\n",
            "\u001b[1m21/21\u001b[0m \u001b[32m━━━━━━━━━━━━━━━━━━━━\u001b[0m\u001b[37m\u001b[0m \u001b[1m1s\u001b[0m 50ms/step - accuracy: 0.0031 - loss: 0.0065 - val_accuracy: 0.0071 - val_loss: 0.0087\n",
            "Epoch 49/100\n",
            "\u001b[1m21/21\u001b[0m \u001b[32m━━━━━━━━━━━━━━━━━━━━\u001b[0m\u001b[37m\u001b[0m \u001b[1m1s\u001b[0m 48ms/step - accuracy: 0.0052 - loss: 0.0068 - val_accuracy: 0.0071 - val_loss: 0.0076\n",
            "Epoch 50/100\n",
            "\u001b[1m21/21\u001b[0m \u001b[32m━━━━━━━━━━━━━━━━━━━━\u001b[0m\u001b[37m\u001b[0m \u001b[1m1s\u001b[0m 49ms/step - accuracy: 0.0038 - loss: 0.0061 - val_accuracy: 0.0071 - val_loss: 0.0079\n",
            "Epoch 51/100\n",
            "\u001b[1m21/21\u001b[0m \u001b[32m━━━━━━━━━━━━━━━━━━━━\u001b[0m\u001b[37m\u001b[0m \u001b[1m1s\u001b[0m 49ms/step - accuracy: 0.0011 - loss: 0.0065 - val_accuracy: 0.0071 - val_loss: 0.0078\n",
            "Epoch 52/100\n",
            "\u001b[1m21/21\u001b[0m \u001b[32m━━━━━━━━━━━━━━━━━━━━\u001b[0m\u001b[37m\u001b[0m \u001b[1m2s\u001b[0m 74ms/step - accuracy: 3.6392e-04 - loss: 0.0070 - val_accuracy: 0.0071 - val_loss: 0.0085\n",
            "Epoch 53/100\n",
            "\u001b[1m21/21\u001b[0m \u001b[32m━━━━━━━━━━━━━━━━━━━━\u001b[0m\u001b[37m\u001b[0m \u001b[1m2s\u001b[0m 70ms/step - accuracy: 5.3625e-04 - loss: 0.0061 - val_accuracy: 0.0071 - val_loss: 0.0083\n",
            "Epoch 54/100\n",
            "\u001b[1m21/21\u001b[0m \u001b[32m━━━━━━━━━━━━━━━━━━━━\u001b[0m\u001b[37m\u001b[0m \u001b[1m2s\u001b[0m 57ms/step - accuracy: 2.8500e-04 - loss: 0.0067 - val_accuracy: 0.0071 - val_loss: 0.0078\n",
            "Epoch 55/100\n",
            "\u001b[1m21/21\u001b[0m \u001b[32m━━━━━━━━━━━━━━━━━━━━\u001b[0m\u001b[37m\u001b[0m \u001b[1m1s\u001b[0m 48ms/step - accuracy: 5.3625e-04 - loss: 0.0068 - val_accuracy: 0.0071 - val_loss: 0.0081\n",
            "Epoch 56/100\n",
            "\u001b[1m21/21\u001b[0m \u001b[32m━━━━━━━━━━━━━━━━━━━━\u001b[0m\u001b[37m\u001b[0m \u001b[1m1s\u001b[0m 49ms/step - accuracy: 0.0052 - loss: 0.0071 - val_accuracy: 0.0071 - val_loss: 0.0081\n",
            "Epoch 57/100\n",
            "\u001b[1m21/21\u001b[0m \u001b[32m━━━━━━━━━━━━━━━━━━━━\u001b[0m\u001b[37m\u001b[0m \u001b[1m2s\u001b[0m 73ms/step - accuracy: 0.0020 - loss: 0.0061 - val_accuracy: 0.0071 - val_loss: 0.0079\n",
            "Epoch 58/100\n",
            "\u001b[1m21/21\u001b[0m \u001b[32m━━━━━━━━━━━━━━━━━━━━\u001b[0m\u001b[37m\u001b[0m \u001b[1m2s\u001b[0m 47ms/step - accuracy: 0.0023 - loss: 0.0064 - val_accuracy: 0.0071 - val_loss: 0.0087\n",
            "Epoch 59/100\n",
            "\u001b[1m21/21\u001b[0m \u001b[32m━━━━━━━━━━━━━━━━━━━━\u001b[0m\u001b[37m\u001b[0m \u001b[1m1s\u001b[0m 48ms/step - accuracy: 0.0018 - loss: 0.0062 - val_accuracy: 0.0071 - val_loss: 0.0082\n",
            "Epoch 60/100\n",
            "\u001b[1m21/21\u001b[0m \u001b[32m━━━━━━━━━━━━━━━━━━━━\u001b[0m\u001b[37m\u001b[0m \u001b[1m2s\u001b[0m 61ms/step - accuracy: 0.0026 - loss: 0.0061 - val_accuracy: 0.0071 - val_loss: 0.0076\n",
            "Epoch 61/100\n",
            "\u001b[1m21/21\u001b[0m \u001b[32m━━━━━━━━━━━━━━━━━━━━\u001b[0m\u001b[37m\u001b[0m \u001b[1m2s\u001b[0m 108ms/step - accuracy: 0.0026 - loss: 0.0057 - val_accuracy: 0.0071 - val_loss: 0.0079\n",
            "Epoch 62/100\n",
            "\u001b[1m21/21\u001b[0m \u001b[32m━━━━━━━━━━━━━━━━━━━━\u001b[0m\u001b[37m\u001b[0m \u001b[1m1s\u001b[0m 63ms/step - accuracy: 0.0014 - loss: 0.0057 - val_accuracy: 0.0071 - val_loss: 0.0087\n",
            "Epoch 63/100\n",
            "\u001b[1m21/21\u001b[0m \u001b[32m━━━━━━━━━━━━━━━━━━━━\u001b[0m\u001b[37m\u001b[0m \u001b[1m1s\u001b[0m 48ms/step - accuracy: 0.0031 - loss: 0.0065 - val_accuracy: 0.0071 - val_loss: 0.0078\n",
            "Epoch 64/100\n",
            "\u001b[1m21/21\u001b[0m \u001b[32m━━━━━━━━━━━━━━━━━━━━\u001b[0m\u001b[37m\u001b[0m \u001b[1m2s\u001b[0m 61ms/step - accuracy: 0.0038 - loss: 0.0059 - val_accuracy: 0.0071 - val_loss: 0.0076\n",
            "Epoch 65/100\n",
            "\u001b[1m21/21\u001b[0m \u001b[32m━━━━━━━━━━━━━━━━━━━━\u001b[0m\u001b[37m\u001b[0m \u001b[1m2s\u001b[0m 55ms/step - accuracy: 9.6004e-04 - loss: 0.0056 - val_accuracy: 0.0071 - val_loss: 0.0082\n",
            "Epoch 66/100\n",
            "\u001b[1m21/21\u001b[0m \u001b[32m━━━━━━━━━━━━━━━━━━━━\u001b[0m\u001b[37m\u001b[0m \u001b[1m1s\u001b[0m 48ms/step - accuracy: 6.3095e-04 - loss: 0.0058 - val_accuracy: 0.0071 - val_loss: 0.0075\n",
            "Epoch 67/100\n",
            "\u001b[1m21/21\u001b[0m \u001b[32m━━━━━━━━━━━━━━━━━━━━\u001b[0m\u001b[37m\u001b[0m \u001b[1m1s\u001b[0m 49ms/step - accuracy: 0.0052 - loss: 0.0064 - val_accuracy: 0.0071 - val_loss: 0.0086\n",
            "Epoch 68/100\n",
            "\u001b[1m21/21\u001b[0m \u001b[32m━━━━━━━━━━━━━━━━━━━━\u001b[0m\u001b[37m\u001b[0m \u001b[1m1s\u001b[0m 48ms/step - accuracy: 7.3241e-04 - loss: 0.0060 - val_accuracy: 0.0071 - val_loss: 0.0080\n",
            "Epoch 69/100\n",
            "\u001b[1m21/21\u001b[0m \u001b[32m━━━━━━━━━━━━━━━━━━━━\u001b[0m\u001b[37m\u001b[0m \u001b[1m1s\u001b[0m 59ms/step - accuracy: 8.4167e-04 - loss: 0.0058 - val_accuracy: 0.0071 - val_loss: 0.0082\n",
            "Epoch 70/100\n",
            "\u001b[1m21/21\u001b[0m \u001b[32m━━━━━━━━━━━━━━━━━━━━\u001b[0m\u001b[37m\u001b[0m \u001b[1m2s\u001b[0m 75ms/step - accuracy: 2.1024e-04 - loss: 0.0063 - val_accuracy: 0.0071 - val_loss: 0.0078\n",
            "Epoch 71/100\n",
            "\u001b[1m21/21\u001b[0m \u001b[32m━━━━━━━━━━━━━━━━━━━━\u001b[0m\u001b[37m\u001b[0m \u001b[1m2s\u001b[0m 50ms/step - accuracy: 0.0026 - loss: 0.0062 - val_accuracy: 0.0071 - val_loss: 0.0080\n",
            "Epoch 72/100\n",
            "\u001b[1m21/21\u001b[0m \u001b[32m━━━━━━━━━━━━━━━━━━━━\u001b[0m\u001b[37m\u001b[0m \u001b[1m1s\u001b[0m 48ms/step - accuracy: 0.0031 - loss: 0.0056 - val_accuracy: 0.0071 - val_loss: 0.0078\n",
            "Epoch 73/100\n",
            "\u001b[1m21/21\u001b[0m \u001b[32m━━━━━━━━━━━━━━━━━━━━\u001b[0m\u001b[37m\u001b[0m \u001b[1m1s\u001b[0m 51ms/step - accuracy: 8.4167e-04 - loss: 0.0066 - val_accuracy: 0.0071 - val_loss: 0.0079\n",
            "Epoch 74/100\n",
            "\u001b[1m21/21\u001b[0m \u001b[32m━━━━━━━━━━━━━━━━━━━━\u001b[0m\u001b[37m\u001b[0m \u001b[1m1s\u001b[0m 47ms/step - accuracy: 3.6392e-04 - loss: 0.0052 - val_accuracy: 0.0071 - val_loss: 0.0078\n",
            "Epoch 75/100\n",
            "\u001b[1m21/21\u001b[0m \u001b[32m━━━━━━━━━━━━━━━━━━━━\u001b[0m\u001b[37m\u001b[0m \u001b[1m1s\u001b[0m 50ms/step - accuracy: 7.3241e-04 - loss: 0.0061 - val_accuracy: 0.0071 - val_loss: 0.0082\n",
            "Epoch 76/100\n",
            "\u001b[1m21/21\u001b[0m \u001b[32m━━━━━━━━━━━━━━━━━━━━\u001b[0m\u001b[37m\u001b[0m \u001b[1m1s\u001b[0m 46ms/step - accuracy: 5.3625e-04 - loss: 0.0057 - val_accuracy: 0.0071 - val_loss: 0.0078\n",
            "Epoch 77/100\n",
            "\u001b[1m21/21\u001b[0m \u001b[32m━━━━━━━━━━━━━━━━━━━━\u001b[0m\u001b[37m\u001b[0m \u001b[1m1s\u001b[0m 47ms/step - accuracy: 7.3241e-04 - loss: 0.0063 - val_accuracy: 0.0071 - val_loss: 0.0082\n",
            "Epoch 78/100\n",
            "\u001b[1m21/21\u001b[0m \u001b[32m━━━━━━━━━━━━━━━━━━━━\u001b[0m\u001b[37m\u001b[0m \u001b[1m1s\u001b[0m 47ms/step - accuracy: 0.0018 - loss: 0.0056 - val_accuracy: 0.0071 - val_loss: 0.0082\n",
            "Epoch 79/100\n",
            "\u001b[1m21/21\u001b[0m \u001b[32m━━━━━━━━━━━━━━━━━━━━\u001b[0m\u001b[37m\u001b[0m \u001b[1m1s\u001b[0m 67ms/step - accuracy: 5.3625e-04 - loss: 0.0073 - val_accuracy: 0.0071 - val_loss: 0.0078\n",
            "Epoch 80/100\n",
            "\u001b[1m21/21\u001b[0m \u001b[32m━━━━━━━━━━━━━━━━━━━━\u001b[0m\u001b[37m\u001b[0m \u001b[1m2s\u001b[0m 76ms/step - accuracy: 0.0026 - loss: 0.0058 - val_accuracy: 0.0071 - val_loss: 0.0081\n",
            "Epoch 81/100\n",
            "\u001b[1m21/21\u001b[0m \u001b[32m━━━━━━━━━━━━━━━━━━━━\u001b[0m\u001b[37m\u001b[0m \u001b[1m1s\u001b[0m 68ms/step - accuracy: 0.0012 - loss: 0.0055 - val_accuracy: 0.0071 - val_loss: 0.0077\n",
            "Epoch 82/100\n",
            "\u001b[1m21/21\u001b[0m \u001b[32m━━━━━━━━━━━━━━━━━━━━\u001b[0m\u001b[37m\u001b[0m \u001b[1m2s\u001b[0m 50ms/step - accuracy: 0.0052 - loss: 0.0058 - val_accuracy: 0.0071 - val_loss: 0.0081\n",
            "Epoch 83/100\n",
            "\u001b[1m21/21\u001b[0m \u001b[32m━━━━━━━━━━━━━━━━━━━━\u001b[0m\u001b[37m\u001b[0m \u001b[1m1s\u001b[0m 47ms/step - accuracy: 5.3625e-04 - loss: 0.0057 - val_accuracy: 0.0071 - val_loss: 0.0080\n",
            "Epoch 84/100\n",
            "\u001b[1m21/21\u001b[0m \u001b[32m━━━━━━━━━━━━━━━━━━━━\u001b[0m\u001b[37m\u001b[0m \u001b[1m1s\u001b[0m 48ms/step - accuracy: 0.0031 - loss: 0.0054 - val_accuracy: 0.0071 - val_loss: 0.0078\n",
            "Epoch 85/100\n",
            "\u001b[1m21/21\u001b[0m \u001b[32m━━━━━━━━━━━━━━━━━━━━\u001b[0m\u001b[37m\u001b[0m \u001b[1m1s\u001b[0m 47ms/step - accuracy: 9.6004e-04 - loss: 0.0057 - val_accuracy: 0.0071 - val_loss: 0.0081\n",
            "Epoch 86/100\n",
            "\u001b[1m21/21\u001b[0m \u001b[32m━━━━━━━━━━━━━━━━━━━━\u001b[0m\u001b[37m\u001b[0m \u001b[1m1s\u001b[0m 47ms/step - accuracy: 0.0018 - loss: 0.0052 - val_accuracy: 0.0071 - val_loss: 0.0083\n",
            "Epoch 87/100\n",
            "\u001b[1m21/21\u001b[0m \u001b[32m━━━━━━━━━━━━━━━━━━━━\u001b[0m\u001b[37m\u001b[0m \u001b[1m1s\u001b[0m 49ms/step - accuracy: 6.3095e-04 - loss: 0.0056 - val_accuracy: 0.0071 - val_loss: 0.0082\n",
            "Epoch 88/100\n",
            "\u001b[1m21/21\u001b[0m \u001b[32m━━━━━━━━━━━━━━━━━━━━\u001b[0m\u001b[37m\u001b[0m \u001b[1m1s\u001b[0m 48ms/step - accuracy: 0.0023 - loss: 0.0054 - val_accuracy: 0.0071 - val_loss: 0.0078\n",
            "Epoch 89/100\n",
            "\u001b[1m21/21\u001b[0m \u001b[32m━━━━━━━━━━━━━━━━━━━━\u001b[0m\u001b[37m\u001b[0m \u001b[1m1s\u001b[0m 58ms/step - accuracy: 0.0011 - loss: 0.0053 - val_accuracy: 0.0071 - val_loss: 0.0081\n",
            "Epoch 90/100\n",
            "\u001b[1m21/21\u001b[0m \u001b[32m━━━━━━━━━━━━━━━━━━━━\u001b[0m\u001b[37m\u001b[0m \u001b[1m2s\u001b[0m 53ms/step - accuracy: 4.4747e-04 - loss: 0.0057 - val_accuracy: 0.0071 - val_loss: 0.0078\n",
            "Epoch 91/100\n",
            "\u001b[1m21/21\u001b[0m \u001b[32m━━━━━━━━━━━━━━━━━━━━\u001b[0m\u001b[37m\u001b[0m \u001b[1m1s\u001b[0m 48ms/step - accuracy: 0.0012 - loss: 0.0055 - val_accuracy: 0.0071 - val_loss: 0.0076\n",
            "Epoch 92/100\n",
            "\u001b[1m21/21\u001b[0m \u001b[32m━━━━━━━━━━━━━━━━━━━━\u001b[0m\u001b[37m\u001b[0m \u001b[1m1s\u001b[0m 46ms/step - accuracy: 0.0014 - loss: 0.0060 - val_accuracy: 0.0071 - val_loss: 0.0079\n",
            "Epoch 93/100\n",
            "\u001b[1m21/21\u001b[0m \u001b[32m━━━━━━━━━━━━━━━━━━━━\u001b[0m\u001b[37m\u001b[0m \u001b[1m1s\u001b[0m 49ms/step - accuracy: 2.1024e-04 - loss: 0.0053 - val_accuracy: 0.0071 - val_loss: 0.0080\n",
            "Epoch 94/100\n",
            "\u001b[1m21/21\u001b[0m \u001b[32m━━━━━━━━━━━━━━━━━━━━\u001b[0m\u001b[37m\u001b[0m \u001b[1m1s\u001b[0m 49ms/step - accuracy: 0.0052 - loss: 0.0053 - val_accuracy: 0.0071 - val_loss: 0.0082\n",
            "Epoch 95/100\n",
            "\u001b[1m21/21\u001b[0m \u001b[32m━━━━━━━━━━━━━━━━━━━━\u001b[0m\u001b[37m\u001b[0m \u001b[1m1s\u001b[0m 51ms/step - accuracy: 0.0018 - loss: 0.0058 - val_accuracy: 0.0071 - val_loss: 0.0084\n",
            "Epoch 96/100\n",
            "\u001b[1m21/21\u001b[0m \u001b[32m━━━━━━━━━━━━━━━━━━━━\u001b[0m\u001b[37m\u001b[0m \u001b[1m1s\u001b[0m 51ms/step - accuracy: 0.0014 - loss: 0.0059 - val_accuracy: 0.0071 - val_loss: 0.0081\n",
            "Epoch 97/100\n",
            "\u001b[1m21/21\u001b[0m \u001b[32m━━━━━━━━━━━━━━━━━━━━\u001b[0m\u001b[37m\u001b[0m \u001b[1m1s\u001b[0m 48ms/step - accuracy: 6.3095e-04 - loss: 0.0057 - val_accuracy: 0.0071 - val_loss: 0.0077\n",
            "Epoch 98/100\n",
            "\u001b[1m21/21\u001b[0m \u001b[32m━━━━━━━━━━━━━━━━━━━━\u001b[0m\u001b[37m\u001b[0m \u001b[1m1s\u001b[0m 47ms/step - accuracy: 2.8500e-04 - loss: 0.0053 - val_accuracy: 0.0071 - val_loss: 0.0084\n",
            "Epoch 99/100\n",
            "\u001b[1m21/21\u001b[0m \u001b[32m━━━━━━━━━━━━━━━━━━━━\u001b[0m\u001b[37m\u001b[0m \u001b[1m2s\u001b[0m 73ms/step - accuracy: 6.3095e-04 - loss: 0.0051 - val_accuracy: 0.0071 - val_loss: 0.0078\n",
            "Epoch 100/100\n",
            "\u001b[1m21/21\u001b[0m \u001b[32m━━━━━━━━━━━━━━━━━━━━\u001b[0m\u001b[37m\u001b[0m \u001b[1m2s\u001b[0m 83ms/step - accuracy: 0.0052 - loss: 0.0052 - val_accuracy: 0.0071 - val_loss: 0.0077\n"
          ]
        }
      ],
      "source": [
        "hist_2 = model_2.fit(X_train, Y_train,\n",
        "          batch_size=32, epochs=100,\n",
        "          validation_data=(X_val, Y_val))"
      ]
    },
    {
      "cell_type": "code",
      "execution_count": 32,
      "metadata": {
        "id": "Sux25Waam30i",
        "outputId": "a0a893f0-8e2e-444c-fed6-2be628c75974",
        "colab": {
          "base_uri": "https://localhost:8080/",
          "height": 472
        }
      },
      "outputs": [
        {
          "output_type": "display_data",
          "data": {
            "text/plain": [
              "<Figure size 640x480 with 1 Axes>"
            ],
            "image/png": "[encoded data removed]"
          },
          "metadata": {}
        }
      ],
      "source": [
        "plt.plot(hist_2.history['loss'])\n",
        "plt.plot(hist_2.history['val_loss'])\n",
        "plt.title('Model loss')\n",
        "plt.ylabel('Loss')\n",
        "plt.xlabel('Epoch')\n",
        "plt.legend(['Train', 'Val'], loc='upper right')\n",
        "plt.show()"
      ]
    },
    {
      "cell_type": "code",
      "execution_count": 33,
      "metadata": {
        "id": "vJH2NXv2m30j",
        "outputId": "a711233c-0dae-4db5-bb9a-af0b40699722",
        "colab": {
          "base_uri": "https://localhost:8080/",
          "height": 472
        }
      },
      "outputs": [
        {
          "output_type": "display_data",
          "data": {
            "text/plain": [
              "<Figure size 640x480 with 1 Axes>"
            ],
            "image/png": "[encoded data removed]"
          },
          "metadata": {}
        }
      ],
      "source": [
        "plt.plot(hist_2.history['accuracy'])\n",
        "plt.plot(hist_2.history['val_accuracy'])\n",
        "plt.title('Model accuracy')\n",
        "plt.ylabel('Accuracy')\n",
        "plt.xlabel('Epoch')\n",
        "plt.legend(['Train', 'Val'], loc='lower right')\n",
        "plt.show()"
      ]
    },
    {
      "cell_type": "code",
      "execution_count": 34,
      "metadata": {
        "id": "jVRhw1oom30j"
      },
      "outputs": [],
      "source": [
        "from keras.layers import Dropout\n",
        "from keras import regularizers"
      ]
    },
    {
      "cell_type": "code",
      "execution_count": 35,
      "metadata": {
        "id": "NTf8TzDOm30j"
      },
      "outputs": [],
      "source": [
        "model_3 = Sequential([\n",
        "    Dense(1000, activation='relu', kernel_regularizer=regularizers.l2(0.01), input_shape=(5,)),\n",
        "    Dropout(0.3),\n",
        "    Dense(1000, activation='relu', kernel_regularizer=regularizers.l2(0.01)),\n",
        "    Dropout(0.3),\n",
        "    Dense(1000, activation='relu', kernel_regularizer=regularizers.l2(0.01)),\n",
        "    Dropout(0.3),\n",
        "    Dense(1000, activation='relu', kernel_regularizer=regularizers.l2(0.01)),\n",
        "    Dropout(0.3),\n",
        "    Dense(1, activation='sigmoid', kernel_regularizer=regularizers.l2(0.01)),\n",
        "])"
      ]
    },
    {
      "cell_type": "code",
      "execution_count": 36,
      "metadata": {
        "id": "A1Bx2DdSm30k"
      },
      "outputs": [],
      "source": [
        "model_3.compile(optimizer='adam',\n",
        "             # loss='binary_crossentropy',\n",
        "               loss = 'mean_squared_error', #mse\n",
        "              metrics=['accuracy'])"
      ]
    },
    {
      "cell_type": "code",
      "execution_count": 37,
      "metadata": {
        "tags": [],
        "id": "IvHl_EZSm30k",
        "outputId": "53480bcb-007a-4b4c-8c44-157e138f1541",
        "colab": {
          "base_uri": "https://localhost:8080/"
        }
      },
      "outputs": [
        {
          "output_type": "stream",
          "name": "stdout",
          "text": [
            "Epoch 1/100\n",
            "\u001b[1m21/21\u001b[0m \u001b[32m━━━━━━━━━━━━━━━━━━━━\u001b[0m\u001b[37m\u001b[0m \u001b[1m4s\u001b[0m 79ms/step - accuracy: 0.0031 - loss: 23.0525 - val_accuracy: 0.0000e+00 - val_loss: 7.7391\n",
            "Epoch 2/100\n",
            "\u001b[1m21/21\u001b[0m \u001b[32m━━━━━━━━━━━━━━━━━━━━\u001b[0m\u001b[37m\u001b[0m \u001b[1m1s\u001b[0m 64ms/step - accuracy: 0.0038 - loss: 5.4710 - val_accuracy: 0.0000e+00 - val_loss: 1.2678\n",
            "Epoch 3/100\n",
            "\u001b[1m21/21\u001b[0m \u001b[32m━━━━━━━━━━━━━━━━━━━━\u001b[0m\u001b[37m\u001b[0m \u001b[1m1s\u001b[0m 66ms/step - accuracy: 0.0016 - loss: 0.8289 - val_accuracy: 0.0000e+00 - val_loss: 0.1397\n",
            "Epoch 4/100\n",
            "\u001b[1m21/21\u001b[0m \u001b[32m━━━━━━━━━━━━━━━━━━━━\u001b[0m\u001b[37m\u001b[0m \u001b[1m3s\u001b[0m 93ms/step - accuracy: 4.4747e-04 - loss: 0.0912 - val_accuracy: 0.0000e+00 - val_loss: 0.0335\n",
            "Epoch 5/100\n",
            "\u001b[1m21/21\u001b[0m \u001b[32m━━━━━━━━━━━━━━━━━━━━\u001b[0m\u001b[37m\u001b[0m \u001b[1m2s\u001b[0m 99ms/step - accuracy: 0.0052 - loss: 0.0298 - val_accuracy: 0.0000e+00 - val_loss: 0.0278\n",
            "Epoch 6/100\n",
            "\u001b[1m21/21\u001b[0m \u001b[32m━━━━━━━━━━━━━━━━━━━━\u001b[0m\u001b[37m\u001b[0m \u001b[1m1s\u001b[0m 64ms/step - accuracy: 0.0016 - loss: 0.0251 - val_accuracy: 0.0000e+00 - val_loss: 0.0268\n",
            "Epoch 7/100\n",
            "\u001b[1m21/21\u001b[0m \u001b[32m━━━━━━━━━━━━━━━━━━━━\u001b[0m\u001b[37m\u001b[0m \u001b[1m1s\u001b[0m 63ms/step - accuracy: 7.3241e-04 - loss: 0.0239 - val_accuracy: 0.0000e+00 - val_loss: 0.0266\n",
            "Epoch 8/100\n",
            "\u001b[1m21/21\u001b[0m \u001b[32m━━━━━━━━━━━━━━━━━━━━\u001b[0m\u001b[37m\u001b[0m \u001b[1m3s\u001b[0m 65ms/step - accuracy: 0.0011 - loss: 0.0249 - val_accuracy: 0.0000e+00 - val_loss: 0.0265\n",
            "Epoch 9/100\n",
            "\u001b[1m21/21\u001b[0m \u001b[32m━━━━━━━━━━━━━━━━━━━━\u001b[0m\u001b[37m\u001b[0m \u001b[1m1s\u001b[0m 62ms/step - accuracy: 0.0020 - loss: 0.0253 - val_accuracy: 0.0000e+00 - val_loss: 0.0265\n",
            "Epoch 10/100\n",
            "\u001b[1m21/21\u001b[0m \u001b[32m━━━━━━━━━━━━━━━━━━━━\u001b[0m\u001b[37m\u001b[0m \u001b[1m1s\u001b[0m 65ms/step - accuracy: 3.6392e-04 - loss: 0.0244 - val_accuracy: 0.0000e+00 - val_loss: 0.0265\n",
            "Epoch 11/100\n",
            "\u001b[1m21/21\u001b[0m \u001b[32m━━━━━━━━━━━━━━━━━━━━\u001b[0m\u001b[37m\u001b[0m \u001b[1m3s\u001b[0m 82ms/step - accuracy: 0.0011 - loss: 0.0232 - val_accuracy: 0.0000e+00 - val_loss: 0.0265\n",
            "Epoch 12/100\n",
            "\u001b[1m21/21\u001b[0m \u001b[32m━━━━━━━━━━━━━━━━━━━━\u001b[0m\u001b[37m\u001b[0m \u001b[1m2s\u001b[0m 98ms/step - accuracy: 2.1024e-04 - loss: 0.0241 - val_accuracy: 0.0000e+00 - val_loss: 0.0265\n",
            "Epoch 13/100\n",
            "\u001b[1m21/21\u001b[0m \u001b[32m━━━━━━━━━━━━━━━━━━━━\u001b[0m\u001b[37m\u001b[0m \u001b[1m2s\u001b[0m 63ms/step - accuracy: 0.0052 - loss: 0.0274 - val_accuracy: 0.0000e+00 - val_loss: 0.0265\n",
            "Epoch 14/100\n",
            "\u001b[1m21/21\u001b[0m \u001b[32m━━━━━━━━━━━━━━━━━━━━\u001b[0m\u001b[37m\u001b[0m \u001b[1m1s\u001b[0m 61ms/step - accuracy: 0.0020 - loss: 0.0255 - val_accuracy: 0.0000e+00 - val_loss: 0.0265\n",
            "Epoch 15/100\n",
            "\u001b[1m21/21\u001b[0m \u001b[32m━━━━━━━━━━━━━━━━━━━━\u001b[0m\u001b[37m\u001b[0m \u001b[1m3s\u001b[0m 64ms/step - accuracy: 2.1024e-04 - loss: 0.0261 - val_accuracy: 0.0000e+00 - val_loss: 0.0265\n",
            "Epoch 16/100\n",
            "\u001b[1m21/21\u001b[0m \u001b[32m━━━━━━━━━━━━━━━━━━━━\u001b[0m\u001b[37m\u001b[0m \u001b[1m1s\u001b[0m 64ms/step - accuracy: 9.6004e-04 - loss: 0.0253 - val_accuracy: 0.0000e+00 - val_loss: 0.0265\n",
            "Epoch 17/100\n",
            "\u001b[1m21/21\u001b[0m \u001b[32m━━━━━━━━━━━━━━━━━━━━\u001b[0m\u001b[37m\u001b[0m \u001b[1m1s\u001b[0m 63ms/step - accuracy: 6.3095e-04 - loss: 0.0232 - val_accuracy: 0.0000e+00 - val_loss: 0.0265\n",
            "Epoch 18/100\n",
            "\u001b[1m21/21\u001b[0m \u001b[32m━━━━━━━━━━━━━━━━━━━━\u001b[0m\u001b[37m\u001b[0m \u001b[1m3s\u001b[0m 92ms/step - accuracy: 8.4167e-04 - loss: 0.0237 - val_accuracy: 0.0000e+00 - val_loss: 0.0265\n",
            "Epoch 19/100\n",
            "\u001b[1m21/21\u001b[0m \u001b[32m━━━━━━━━━━━━━━━━━━━━\u001b[0m\u001b[37m\u001b[0m \u001b[1m2s\u001b[0m 88ms/step - accuracy: 0.0014 - loss: 0.0251 - val_accuracy: 0.0000e+00 - val_loss: 0.0265\n",
            "Epoch 20/100\n",
            "\u001b[1m21/21\u001b[0m \u001b[32m━━━━━━━━━━━━━━━━━━━━\u001b[0m\u001b[37m\u001b[0m \u001b[1m1s\u001b[0m 61ms/step - accuracy: 0.0031 - loss: 0.0241 - val_accuracy: 0.0000e+00 - val_loss: 0.0265\n",
            "Epoch 21/100\n",
            "\u001b[1m21/21\u001b[0m \u001b[32m━━━━━━━━━━━━━━━━━━━━\u001b[0m\u001b[37m\u001b[0m \u001b[1m3s\u001b[0m 66ms/step - accuracy: 0.0012 - loss: 0.0247 - val_accuracy: 0.0000e+00 - val_loss: 0.0264\n",
            "Epoch 22/100\n",
            "\u001b[1m21/21\u001b[0m \u001b[32m━━━━━━━━━━━━━━━━━━━━\u001b[0m\u001b[37m\u001b[0m \u001b[1m1s\u001b[0m 64ms/step - accuracy: 5.3625e-04 - loss: 0.0237 - val_accuracy: 0.0000e+00 - val_loss: 0.0264\n",
            "Epoch 23/100\n",
            "\u001b[1m21/21\u001b[0m \u001b[32m━━━━━━━━━━━━━━━━━━━━\u001b[0m\u001b[37m\u001b[0m \u001b[1m3s\u001b[0m 62ms/step - accuracy: 0.0016 - loss: 0.0259 - val_accuracy: 0.0000e+00 - val_loss: 0.0264\n",
            "Epoch 24/100\n",
            "\u001b[1m21/21\u001b[0m \u001b[32m━━━━━━━━━━━━━━━━━━━━\u001b[0m\u001b[37m\u001b[0m \u001b[1m3s\u001b[0m 85ms/step - accuracy: 5.3625e-04 - loss: 0.0254 - val_accuracy: 0.0000e+00 - val_loss: 0.0264\n",
            "Epoch 25/100\n",
            "\u001b[1m21/21\u001b[0m \u001b[32m━━━━━━━━━━━━━━━━━━━━\u001b[0m\u001b[37m\u001b[0m \u001b[1m2s\u001b[0m 94ms/step - accuracy: 0.0038 - loss: 0.0261 - val_accuracy: 0.0000e+00 - val_loss: 0.0264\n",
            "Epoch 26/100\n",
            "\u001b[1m21/21\u001b[0m \u001b[32m━━━━━━━━━━━━━━━━━━━━\u001b[0m\u001b[37m\u001b[0m \u001b[1m2s\u001b[0m 65ms/step - accuracy: 0.0016 - loss: 0.0248 - val_accuracy: 0.0000e+00 - val_loss: 0.0264\n",
            "Epoch 27/100\n",
            "\u001b[1m21/21\u001b[0m \u001b[32m━━━━━━━━━━━━━━━━━━━━\u001b[0m\u001b[37m\u001b[0m \u001b[1m3s\u001b[0m 64ms/step - accuracy: 0.0020 - loss: 0.0236 - val_accuracy: 0.0000e+00 - val_loss: 0.0264\n",
            "Epoch 28/100\n",
            "\u001b[1m21/21\u001b[0m \u001b[32m━━━━━━━━━━━━━━━━━━━━\u001b[0m\u001b[37m\u001b[0m \u001b[1m1s\u001b[0m 62ms/step - accuracy: 3.6392e-04 - loss: 0.0242 - val_accuracy: 0.0000e+00 - val_loss: 0.0264\n",
            "Epoch 29/100\n",
            "\u001b[1m21/21\u001b[0m \u001b[32m━━━━━━━━━━━━━━━━━━━━\u001b[0m\u001b[37m\u001b[0m \u001b[1m1s\u001b[0m 62ms/step - accuracy: 0.0018 - loss: 0.0241 - val_accuracy: 0.0000e+00 - val_loss: 0.0264\n",
            "Epoch 30/100\n",
            "\u001b[1m21/21\u001b[0m \u001b[32m━━━━━━━━━━━━━━━━━━━━\u001b[0m\u001b[37m\u001b[0m \u001b[1m3s\u001b[0m 92ms/step - accuracy: 0.0012 - loss: 0.0249 - val_accuracy: 0.0000e+00 - val_loss: 0.0264\n",
            "Epoch 31/100\n",
            "\u001b[1m21/21\u001b[0m \u001b[32m━━━━━━━━━━━━━━━━━━━━\u001b[0m\u001b[37m\u001b[0m \u001b[1m2s\u001b[0m 105ms/step - accuracy: 3.6392e-04 - loss: 0.0243 - val_accuracy: 0.0000e+00 - val_loss: 0.0264\n",
            "Epoch 32/100\n",
            "\u001b[1m21/21\u001b[0m \u001b[32m━━━━━━━━━━━━━━━━━━━━\u001b[0m\u001b[37m\u001b[0m \u001b[1m2s\u001b[0m 96ms/step - accuracy: 6.3095e-04 - loss: 0.0244 - val_accuracy: 0.0000e+00 - val_loss: 0.0264\n",
            "Epoch 33/100\n",
            "\u001b[1m21/21\u001b[0m \u001b[32m━━━━━━━━━━━━━━━━━━━━\u001b[0m\u001b[37m\u001b[0m \u001b[1m2s\u001b[0m 63ms/step - accuracy: 5.3625e-04 - loss: 0.0240 - val_accuracy: 0.0000e+00 - val_loss: 0.0264\n",
            "Epoch 34/100\n",
            "\u001b[1m21/21\u001b[0m \u001b[32m━━━━━━━━━━━━━━━━━━━━\u001b[0m\u001b[37m\u001b[0m \u001b[1m3s\u001b[0m 63ms/step - accuracy: 0.0011 - loss: 0.0249 - val_accuracy: 0.0000e+00 - val_loss: 0.0264\n",
            "Epoch 35/100\n",
            "\u001b[1m21/21\u001b[0m \u001b[32m━━━━━━━━━━━━━━━━━━━━\u001b[0m\u001b[37m\u001b[0m \u001b[1m2s\u001b[0m 61ms/step - accuracy: 0.0031 - loss: 0.0243 - val_accuracy: 0.0000e+00 - val_loss: 0.0264\n",
            "Epoch 36/100\n",
            "\u001b[1m21/21\u001b[0m \u001b[32m━━━━━━━━━━━━━━━━━━━━\u001b[0m\u001b[37m\u001b[0m \u001b[1m1s\u001b[0m 61ms/step - accuracy: 5.3625e-04 - loss: 0.0234 - val_accuracy: 0.0000e+00 - val_loss: 0.0264\n",
            "Epoch 37/100\n",
            "\u001b[1m21/21\u001b[0m \u001b[32m━━━━━━━━━━━━━━━━━━━━\u001b[0m\u001b[37m\u001b[0m \u001b[1m1s\u001b[0m 63ms/step - accuracy: 0.0012 - loss: 0.0238 - val_accuracy: 0.0000e+00 - val_loss: 0.0264\n",
            "Epoch 38/100\n",
            "\u001b[1m21/21\u001b[0m \u001b[32m━━━━━━━━━━━━━━━━━━━━\u001b[0m\u001b[37m\u001b[0m \u001b[1m3s\u001b[0m 95ms/step - accuracy: 4.4747e-04 - loss: 0.0249 - val_accuracy: 0.0000e+00 - val_loss: 0.0264\n",
            "Epoch 39/100\n",
            "\u001b[1m21/21\u001b[0m \u001b[32m━━━━━━━━━━━━━━━━━━━━\u001b[0m\u001b[37m\u001b[0m \u001b[1m2s\u001b[0m 74ms/step - accuracy: 0.0020 - loss: 0.0247 - val_accuracy: 0.0000e+00 - val_loss: 0.0264\n",
            "Epoch 40/100\n",
            "\u001b[1m21/21\u001b[0m \u001b[32m━━━━━━━━━━━━━━━━━━━━\u001b[0m\u001b[37m\u001b[0m \u001b[1m1s\u001b[0m 63ms/step - accuracy: 0.0026 - loss: 0.0248 - val_accuracy: 0.0000e+00 - val_loss: 0.0264\n",
            "Epoch 41/100\n",
            "\u001b[1m21/21\u001b[0m \u001b[32m━━━━━━━━━━━━━━━━━━━━\u001b[0m\u001b[37m\u001b[0m \u001b[1m1s\u001b[0m 62ms/step - accuracy: 0.0016 - loss: 0.0249 - val_accuracy: 0.0000e+00 - val_loss: 0.0264\n",
            "Epoch 42/100\n",
            "\u001b[1m21/21\u001b[0m \u001b[32m━━━━━━━━━━━━━━━━━━━━\u001b[0m\u001b[37m\u001b[0m \u001b[1m1s\u001b[0m 64ms/step - accuracy: 0.0038 - loss: 0.0262 - val_accuracy: 0.0000e+00 - val_loss: 0.0264\n",
            "Epoch 43/100\n",
            "\u001b[1m21/21\u001b[0m \u001b[32m━━━━━━━━━━━━━━━━━━━━\u001b[0m\u001b[37m\u001b[0m \u001b[1m3s\u001b[0m 64ms/step - accuracy: 2.1024e-04 - loss: 0.0247 - val_accuracy: 0.0000e+00 - val_loss: 0.0264\n",
            "Epoch 44/100\n",
            "\u001b[1m21/21\u001b[0m \u001b[32m━━━━━━━━━━━━━━━━━━━━\u001b[0m\u001b[37m\u001b[0m \u001b[1m3s\u001b[0m 68ms/step - accuracy: 0.0020 - loss: 0.0231 - val_accuracy: 0.0000e+00 - val_loss: 0.0264\n",
            "Epoch 45/100\n",
            "\u001b[1m21/21\u001b[0m \u001b[32m━━━━━━━━━━━━━━━━━━━━\u001b[0m\u001b[37m\u001b[0m \u001b[1m3s\u001b[0m 99ms/step - accuracy: 0.0012 - loss: 0.0239 - val_accuracy: 0.0000e+00 - val_loss: 0.0264\n",
            "Epoch 46/100\n",
            "\u001b[1m21/21\u001b[0m \u001b[32m━━━━━━━━━━━━━━━━━━━━\u001b[0m\u001b[37m\u001b[0m \u001b[1m2s\u001b[0m 63ms/step - accuracy: 5.3625e-04 - loss: 0.0248 - val_accuracy: 0.0000e+00 - val_loss: 0.0264\n",
            "Epoch 47/100\n",
            "\u001b[1m21/21\u001b[0m \u001b[32m━━━━━━━━━━━━━━━━━━━━\u001b[0m\u001b[37m\u001b[0m \u001b[1m3s\u001b[0m 70ms/step - accuracy: 0.0020 - loss: 0.0257 - val_accuracy: 0.0000e+00 - val_loss: 0.0264\n",
            "Epoch 48/100\n",
            "\u001b[1m21/21\u001b[0m \u001b[32m━━━━━━━━━━━━━━━━━━━━\u001b[0m\u001b[37m\u001b[0m \u001b[1m1s\u001b[0m 62ms/step - accuracy: 4.4747e-04 - loss: 0.0243 - val_accuracy: 0.0000e+00 - val_loss: 0.0264\n",
            "Epoch 49/100\n",
            "\u001b[1m21/21\u001b[0m \u001b[32m━━━━━━━━━━━━━━━━━━━━\u001b[0m\u001b[37m\u001b[0m \u001b[1m1s\u001b[0m 65ms/step - accuracy: 9.6004e-04 - loss: 0.0245 - val_accuracy: 0.0000e+00 - val_loss: 0.0264\n",
            "Epoch 50/100\n",
            "\u001b[1m21/21\u001b[0m \u001b[32m━━━━━━━━━━━━━━━━━━━━\u001b[0m\u001b[37m\u001b[0m \u001b[1m3s\u001b[0m 66ms/step - accuracy: 2.1024e-04 - loss: 0.0238 - val_accuracy: 0.0000e+00 - val_loss: 0.0264\n",
            "Epoch 51/100\n",
            "\u001b[1m21/21\u001b[0m \u001b[32m━━━━━━━━━━━━━━━━━━━━\u001b[0m\u001b[37m\u001b[0m \u001b[1m3s\u001b[0m 97ms/step - accuracy: 0.0012 - loss: 0.0243 - val_accuracy: 0.0000e+00 - val_loss: 0.0264\n",
            "Epoch 52/100\n",
            "\u001b[1m21/21\u001b[0m \u001b[32m━━━━━━━━━━━━━━━━━━━━\u001b[0m\u001b[37m\u001b[0m \u001b[1m1s\u001b[0m 61ms/step - accuracy: 0.0012 - loss: 0.0235 - val_accuracy: 0.0000e+00 - val_loss: 0.0264\n",
            "Epoch 53/100\n",
            "\u001b[1m21/21\u001b[0m \u001b[32m━━━━━━━━━━━━━━━━━━━━\u001b[0m\u001b[37m\u001b[0m \u001b[1m3s\u001b[0m 63ms/step - accuracy: 9.6004e-04 - loss: 0.0258 - val_accuracy: 0.0000e+00 - val_loss: 0.0264\n",
            "Epoch 54/100\n",
            "\u001b[1m21/21\u001b[0m \u001b[32m━━━━━━━━━━━━━━━━━━━━\u001b[0m\u001b[37m\u001b[0m \u001b[1m1s\u001b[0m 61ms/step - accuracy: 0.0020 - loss: 0.0235 - val_accuracy: 0.0000e+00 - val_loss: 0.0264\n",
            "Epoch 55/100\n",
            "\u001b[1m21/21\u001b[0m \u001b[32m━━━━━━━━━━━━━━━━━━━━\u001b[0m\u001b[37m\u001b[0m \u001b[1m3s\u001b[0m 69ms/step - accuracy: 2.1024e-04 - loss: 0.0250 - val_accuracy: 0.0000e+00 - val_loss: 0.0264\n",
            "Epoch 56/100\n",
            "\u001b[1m21/21\u001b[0m \u001b[32m━━━━━━━━━━━━━━━━━━━━\u001b[0m\u001b[37m\u001b[0m \u001b[1m1s\u001b[0m 65ms/step - accuracy: 2.8500e-04 - loss: 0.0244 - val_accuracy: 0.0000e+00 - val_loss: 0.0264\n",
            "Epoch 57/100\n",
            "\u001b[1m21/21\u001b[0m \u001b[32m━━━━━━━━━━━━━━━━━━━━\u001b[0m\u001b[37m\u001b[0m \u001b[1m2s\u001b[0m 85ms/step - accuracy: 0.0012 - loss: 0.0240 - val_accuracy: 0.0000e+00 - val_loss: 0.0264\n",
            "Epoch 58/100\n",
            "\u001b[1m21/21\u001b[0m \u001b[32m━━━━━━━━━━━━━━━━━━━━\u001b[0m\u001b[37m\u001b[0m \u001b[1m3s\u001b[0m 90ms/step - accuracy: 4.4747e-04 - loss: 0.0234 - val_accuracy: 0.0000e+00 - val_loss: 0.0264\n",
            "Epoch 59/100\n",
            "\u001b[1m21/21\u001b[0m \u001b[32m━━━━━━━━━━━━━━━━━━━━\u001b[0m\u001b[37m\u001b[0m \u001b[1m2s\u001b[0m 76ms/step - accuracy: 5.3625e-04 - loss: 0.0253 - val_accuracy: 0.0000e+00 - val_loss: 0.0264\n",
            "Epoch 60/100\n",
            "\u001b[1m21/21\u001b[0m \u001b[32m━━━━━━━━━━━━━━━━━━━━\u001b[0m\u001b[37m\u001b[0m \u001b[1m2s\u001b[0m 68ms/step - accuracy: 9.6004e-04 - loss: 0.0239 - val_accuracy: 0.0000e+00 - val_loss: 0.0264\n",
            "Epoch 61/100\n",
            "\u001b[1m21/21\u001b[0m \u001b[32m━━━━━━━━━━━━━━━━━━━━\u001b[0m\u001b[37m\u001b[0m \u001b[1m1s\u001b[0m 64ms/step - accuracy: 9.6004e-04 - loss: 0.0234 - val_accuracy: 0.0000e+00 - val_loss: 0.0264\n",
            "Epoch 62/100\n",
            "\u001b[1m21/21\u001b[0m \u001b[32m━━━━━━━━━━━━━━━━━━━━\u001b[0m\u001b[37m\u001b[0m \u001b[1m3s\u001b[0m 68ms/step - accuracy: 0.0031 - loss: 0.0259 - val_accuracy: 0.0000e+00 - val_loss: 0.0264\n",
            "Epoch 63/100\n",
            "\u001b[1m21/21\u001b[0m \u001b[32m━━━━━━━━━━━━━━━━━━━━\u001b[0m\u001b[37m\u001b[0m \u001b[1m2s\u001b[0m 71ms/step - accuracy: 3.6392e-04 - loss: 0.0251 - val_accuracy: 0.0000e+00 - val_loss: 0.0264\n",
            "Epoch 64/100\n",
            "\u001b[1m21/21\u001b[0m \u001b[32m━━━━━━━━━━━━━━━━━━━━\u001b[0m\u001b[37m\u001b[0m \u001b[1m3s\u001b[0m 95ms/step - accuracy: 0.0020 - loss: 0.0250 - val_accuracy: 0.0000e+00 - val_loss: 0.0264\n",
            "Epoch 65/100\n",
            "\u001b[1m21/21\u001b[0m \u001b[32m━━━━━━━━━━━━━━━━━━━━\u001b[0m\u001b[37m\u001b[0m \u001b[1m1s\u001b[0m 62ms/step - accuracy: 2.1024e-04 - loss: 0.0246 - val_accuracy: 0.0000e+00 - val_loss: 0.0264\n",
            "Epoch 66/100\n",
            "\u001b[1m21/21\u001b[0m \u001b[32m━━━━━━━━━━━━━━━━━━━━\u001b[0m\u001b[37m\u001b[0m \u001b[1m3s\u001b[0m 66ms/step - accuracy: 0.0052 - loss: 0.0262 - val_accuracy: 0.0000e+00 - val_loss: 0.0264\n",
            "Epoch 67/100\n",
            "\u001b[1m21/21\u001b[0m \u001b[32m━━━━━━━━━━━━━━━━━━━━\u001b[0m\u001b[37m\u001b[0m \u001b[1m3s\u001b[0m 67ms/step - accuracy: 9.6004e-04 - loss: 0.0257 - val_accuracy: 0.0000e+00 - val_loss: 0.0264\n",
            "Epoch 68/100\n",
            "\u001b[1m21/21\u001b[0m \u001b[32m━━━━━━━━━━━━━━━━━━━━\u001b[0m\u001b[37m\u001b[0m \u001b[1m2s\u001b[0m 64ms/step - accuracy: 0.0026 - loss: 0.0255 - val_accuracy: 0.0000e+00 - val_loss: 0.0264\n",
            "Epoch 69/100\n",
            "\u001b[1m21/21\u001b[0m \u001b[32m━━━━━━━━━━━━━━━━━━━━\u001b[0m\u001b[37m\u001b[0m \u001b[1m3s\u001b[0m 106ms/step - accuracy: 0.0014 - loss: 0.0240 - val_accuracy: 0.0000e+00 - val_loss: 0.0264\n",
            "Epoch 70/100\n",
            "\u001b[1m21/21\u001b[0m \u001b[32m━━━━━━━━━━━━━━━━━━━━\u001b[0m\u001b[37m\u001b[0m \u001b[1m2s\u001b[0m 71ms/step - accuracy: 0.0011 - loss: 0.0241 - val_accuracy: 0.0000e+00 - val_loss: 0.0264\n",
            "Epoch 71/100\n",
            "\u001b[1m21/21\u001b[0m \u001b[32m━━━━━━━━━━━━━━━━━━━━\u001b[0m\u001b[37m\u001b[0m \u001b[1m1s\u001b[0m 64ms/step - accuracy: 0.0020 - loss: 0.0256 - val_accuracy: 0.0000e+00 - val_loss: 0.0264\n",
            "Epoch 72/100\n",
            "\u001b[1m21/21\u001b[0m \u001b[32m━━━━━━━━━━━━━━━━━━━━\u001b[0m\u001b[37m\u001b[0m \u001b[1m3s\u001b[0m 64ms/step - accuracy: 0.0011 - loss: 0.0241 - val_accuracy: 0.0000e+00 - val_loss: 0.0264\n",
            "Epoch 73/100\n",
            "\u001b[1m21/21\u001b[0m \u001b[32m━━━━━━━━━━━━━━━━━━━━\u001b[0m\u001b[37m\u001b[0m \u001b[1m3s\u001b[0m 72ms/step - accuracy: 5.3625e-04 - loss: 0.0248 - val_accuracy: 0.0000e+00 - val_loss: 0.0264\n",
            "Epoch 74/100\n",
            "\u001b[1m21/21\u001b[0m \u001b[32m━━━━━━━━━━━━━━━━━━━━\u001b[0m\u001b[37m\u001b[0m \u001b[1m1s\u001b[0m 67ms/step - accuracy: 0.0018 - loss: 0.0251 - val_accuracy: 0.0000e+00 - val_loss: 0.0264\n",
            "Epoch 75/100\n",
            "\u001b[1m21/21\u001b[0m \u001b[32m━━━━━━━━━━━━━━━━━━━━\u001b[0m\u001b[37m\u001b[0m \u001b[1m3s\u001b[0m 104ms/step - accuracy: 0.0014 - loss: 0.0234 - val_accuracy: 0.0000e+00 - val_loss: 0.0264\n",
            "Epoch 76/100\n",
            "\u001b[1m21/21\u001b[0m \u001b[32m━━━━━━━━━━━━━━━━━━━━\u001b[0m\u001b[37m\u001b[0m \u001b[1m2s\u001b[0m 64ms/step - accuracy: 0.0012 - loss: 0.0233 - val_accuracy: 0.0000e+00 - val_loss: 0.0264\n",
            "Epoch 77/100\n",
            "\u001b[1m21/21\u001b[0m \u001b[32m━━━━━━━━━━━━━━━━━━━━\u001b[0m\u001b[37m\u001b[0m \u001b[1m1s\u001b[0m 65ms/step - accuracy: 0.0020 - loss: 0.0239 - val_accuracy: 0.0000e+00 - val_loss: 0.0264\n",
            "Epoch 78/100\n",
            "\u001b[1m21/21\u001b[0m \u001b[32m━━━━━━━━━━━━━━━━━━━━\u001b[0m\u001b[37m\u001b[0m \u001b[1m3s\u001b[0m 65ms/step - accuracy: 0.0031 - loss: 0.0253 - val_accuracy: 0.0000e+00 - val_loss: 0.0264\n",
            "Epoch 79/100\n",
            "\u001b[1m21/21\u001b[0m \u001b[32m━━━━━━━━━━━━━━━━━━━━\u001b[0m\u001b[37m\u001b[0m \u001b[1m3s\u001b[0m 75ms/step - accuracy: 0.0026 - loss: 0.0239 - val_accuracy: 0.0000e+00 - val_loss: 0.0264\n",
            "Epoch 80/100\n",
            "\u001b[1m21/21\u001b[0m \u001b[32m━━━━━━━━━━━━━━━━━━━━\u001b[0m\u001b[37m\u001b[0m \u001b[1m1s\u001b[0m 63ms/step - accuracy: 0.0026 - loss: 0.0251 - val_accuracy: 0.0000e+00 - val_loss: 0.0264\n",
            "Epoch 81/100\n",
            "\u001b[1m21/21\u001b[0m \u001b[32m━━━━━━━━━━━━━━━━━━━━\u001b[0m\u001b[37m\u001b[0m \u001b[1m3s\u001b[0m 93ms/step - accuracy: 7.3241e-04 - loss: 0.0249 - val_accuracy: 0.0000e+00 - val_loss: 0.0264\n",
            "Epoch 82/100\n",
            "\u001b[1m21/21\u001b[0m \u001b[32m━━━━━━━━━━━━━━━━━━━━\u001b[0m\u001b[37m\u001b[0m \u001b[1m2s\u001b[0m 62ms/step - accuracy: 0.0014 - loss: 0.0249 - val_accuracy: 0.0000e+00 - val_loss: 0.0264\n",
            "Epoch 83/100\n",
            "\u001b[1m21/21\u001b[0m \u001b[32m━━━━━━━━━━━━━━━━━━━━\u001b[0m\u001b[37m\u001b[0m \u001b[1m3s\u001b[0m 78ms/step - accuracy: 8.4167e-04 - loss: 0.0249 - val_accuracy: 0.0000e+00 - val_loss: 0.0264\n",
            "Epoch 84/100\n",
            "\u001b[1m21/21\u001b[0m \u001b[32m━━━━━━━━━━━━━━━━━━━━\u001b[0m\u001b[37m\u001b[0m \u001b[1m2s\u001b[0m 63ms/step - accuracy: 2.1024e-04 - loss: 0.0230 - val_accuracy: 0.0000e+00 - val_loss: 0.0264\n",
            "Epoch 85/100\n",
            "\u001b[1m21/21\u001b[0m \u001b[32m━━━━━━━━━━━━━━━━━━━━\u001b[0m\u001b[37m\u001b[0m \u001b[1m3s\u001b[0m 72ms/step - accuracy: 0.0023 - loss: 0.0239 - val_accuracy: 0.0000e+00 - val_loss: 0.0264\n",
            "Epoch 86/100\n",
            "\u001b[1m21/21\u001b[0m \u001b[32m━━━━━━━━━━━━━━━━━━━━\u001b[0m\u001b[37m\u001b[0m \u001b[1m3s\u001b[0m 93ms/step - accuracy: 7.3241e-04 - loss: 0.0222 - val_accuracy: 0.0000e+00 - val_loss: 0.0264\n",
            "Epoch 87/100\n",
            "\u001b[1m21/21\u001b[0m \u001b[32m━━━━━━━━━━━━━━━━━━━━\u001b[0m\u001b[37m\u001b[0m \u001b[1m2s\u001b[0m 85ms/step - accuracy: 0.0011 - loss: 0.0242 - val_accuracy: 0.0000e+00 - val_loss: 0.0264\n",
            "Epoch 88/100\n",
            "\u001b[1m21/21\u001b[0m \u001b[32m━━━━━━━━━━━━━━━━━━━━\u001b[0m\u001b[37m\u001b[0m \u001b[1m1s\u001b[0m 66ms/step - accuracy: 2.1024e-04 - loss: 0.0231 - val_accuracy: 0.0000e+00 - val_loss: 0.0264\n",
            "Epoch 89/100\n",
            "\u001b[1m21/21\u001b[0m \u001b[32m━━━━━━━━━━━━━━━━━━━━\u001b[0m\u001b[37m\u001b[0m \u001b[1m1s\u001b[0m 66ms/step - accuracy: 0.0023 - loss: 0.0247 - val_accuracy: 0.0000e+00 - val_loss: 0.0264\n",
            "Epoch 90/100\n",
            "\u001b[1m21/21\u001b[0m \u001b[32m━━━━━━━━━━━━━━━━━━━━\u001b[0m\u001b[37m\u001b[0m \u001b[1m3s\u001b[0m 74ms/step - accuracy: 0.0011 - loss: 0.0246 - val_accuracy: 0.0000e+00 - val_loss: 0.0264\n",
            "Epoch 91/100\n",
            "\u001b[1m21/21\u001b[0m \u001b[32m━━━━━━━━━━━━━━━━━━━━\u001b[0m\u001b[37m\u001b[0m \u001b[1m1s\u001b[0m 66ms/step - accuracy: 0.0020 - loss: 0.0259 - val_accuracy: 0.0000e+00 - val_loss: 0.0264\n",
            "Epoch 92/100\n",
            "\u001b[1m21/21\u001b[0m \u001b[32m━━━━━━━━━━━━━━━━━━━━\u001b[0m\u001b[37m\u001b[0m \u001b[1m1s\u001b[0m 68ms/step - accuracy: 0.0038 - loss: 0.0242 - val_accuracy: 0.0000e+00 - val_loss: 0.0264\n",
            "Epoch 93/100\n",
            "\u001b[1m21/21\u001b[0m \u001b[32m━━━━━━━━━━━━━━━━━━━━\u001b[0m\u001b[37m\u001b[0m \u001b[1m3s\u001b[0m 95ms/step - accuracy: 2.1024e-04 - loss: 0.0236 - val_accuracy: 0.0000e+00 - val_loss: 0.0264\n",
            "Epoch 94/100\n",
            "\u001b[1m21/21\u001b[0m \u001b[32m━━━━━━━━━━━━━━━━━━━━\u001b[0m\u001b[37m\u001b[0m \u001b[1m2s\u001b[0m 70ms/step - accuracy: 0.0011 - loss: 0.0258 - val_accuracy: 0.0000e+00 - val_loss: 0.0264\n",
            "Epoch 95/100\n",
            "\u001b[1m21/21\u001b[0m \u001b[32m━━━━━━━━━━━━━━━━━━━━\u001b[0m\u001b[37m\u001b[0m \u001b[1m1s\u001b[0m 63ms/step - accuracy: 0.0026 - loss: 0.0239 - val_accuracy: 0.0000e+00 - val_loss: 0.0264\n",
            "Epoch 96/100\n",
            "\u001b[1m21/21\u001b[0m \u001b[32m━━━━━━━━━━━━━━━━━━━━\u001b[0m\u001b[37m\u001b[0m \u001b[1m1s\u001b[0m 64ms/step - accuracy: 2.1024e-04 - loss: 0.0235 - val_accuracy: 0.0000e+00 - val_loss: 0.0264\n",
            "Epoch 97/100\n",
            "\u001b[1m21/21\u001b[0m \u001b[32m━━━━━━━━━━━━━━━━━━━━\u001b[0m\u001b[37m\u001b[0m \u001b[1m3s\u001b[0m 71ms/step - accuracy: 1.3922e-04 - loss: 0.0249 - val_accuracy: 0.0000e+00 - val_loss: 0.0264\n",
            "Epoch 98/100\n",
            "\u001b[1m21/21\u001b[0m \u001b[32m━━━━━━━━━━━━━━━━━━━━\u001b[0m\u001b[37m\u001b[0m \u001b[1m2s\u001b[0m 67ms/step - accuracy: 2.8500e-04 - loss: 0.0242 - val_accuracy: 0.0000e+00 - val_loss: 0.0264\n",
            "Epoch 99/100\n",
            "\u001b[1m21/21\u001b[0m \u001b[32m━━━━━━━━━━━━━━━━━━━━\u001b[0m\u001b[37m\u001b[0m \u001b[1m2s\u001b[0m 75ms/step - accuracy: 0.0038 - loss: 0.0246 - val_accuracy: 0.0000e+00 - val_loss: 0.0264\n",
            "Epoch 100/100\n",
            "\u001b[1m21/21\u001b[0m \u001b[32m━━━━━━━━━━━━━━━━━━━━\u001b[0m\u001b[37m\u001b[0m \u001b[1m3s\u001b[0m 87ms/step - accuracy: 5.3625e-04 - loss: 0.0265 - val_accuracy: 0.0000e+00 - val_loss: 0.0264\n"
          ]
        }
      ],
      "source": [
        "hist_3 = model_3.fit(X_train, Y_train,\n",
        "          batch_size=32, epochs=100,\n",
        "          validation_data=(X_val, Y_val))"
      ]
    },
    {
      "cell_type": "code",
      "execution_count": 38,
      "metadata": {
        "id": "gvty5c3qm30l",
        "outputId": "67a18372-4fce-4f00-d565-421ba5260b66",
        "colab": {
          "base_uri": "https://localhost:8080/",
          "height": 472
        }
      },
      "outputs": [
        {
          "output_type": "display_data",
          "data": {
            "text/plain": [
              "<Figure size 640x480 with 1 Axes>"
            ],
            "image/png": "[encoded data removed]"
          },
          "metadata": {}
        }
      ],
      "source": [
        "plt.plot(hist_3.history['loss'])\n",
        "plt.plot(hist_3.history['val_loss'])\n",
        "plt.title('Model loss')\n",
        "plt.ylabel('Loss')\n",
        "plt.xlabel('Epoch')\n",
        "plt.legend(['Train', 'Val'], loc='upper right')\n",
        "plt.ylim(top=1.2, bottom=0)\n",
        "plt.show()"
      ]
    },
    {
      "cell_type": "code",
      "execution_count": 39,
      "metadata": {
        "id": "X8HWHvfpm30l",
        "outputId": "6e17dbbb-0aa8-4949-fca1-00dfb862296f",
        "colab": {
          "base_uri": "https://localhost:8080/",
          "height": 472
        }
      },
      "outputs": [
        {
          "output_type": "display_data",
          "data": {
            "text/plain": [
              "<Figure size 640x480 with 1 Axes>"
            ],
            "image/png": "[encoded data removed]"
          },
          "metadata": {}
        }
      ],
      "source": [
        "plt.plot(hist_3.history['accuracy'])\n",
        "plt.plot(hist_3.history['val_accuracy'])\n",
        "plt.title('Model accuracy')\n",
        "plt.ylabel('Accuracy')\n",
        "plt.xlabel('Epoch')\n",
        "plt.legend(['Train', 'Val'], loc='lower right')\n",
        "plt.show()"
      ]
    },
    {
      "cell_type": "code",
      "source": [
        "\n",
        "# Evaluar el modelo con métricas de regresión\n",
        "r2 = r2_score(Y_test, Y_val)\n",
        "mse = mean_squared_error(Y_test, Y_val)\n",
        "rmse = mean_squared_error(Y_test, Y_val)**0.5\n",
        "mae = mean_absolute_error(Y_test, Y_val)\n",
        "\n",
        "print('R^2 score = ', r2)\n",
        "print('Mean Squared Error = ', mse)\n",
        "print('Root Mean Squared Error = ', rmse)\n",
        "print('Mean Absolute Error = ', mae)\n",
        "\n",
        "# Calcular los errores (residuales)\n",
        "error = Y_test - Y_val\n",
        "\n",
        "# Mostrar el histograma de los errores\n",
        "plt.figure(figsize=(4, 2))  # Reducir el tamaño de la figura\n",
        "plt.hist(error, bins=20, edgecolor='black')\n",
        "plt.xlabel('Error (Residual)')\n",
        "plt.ylabel('Frecuencia')\n",
        "plt.title('Histograma de los Errores (Residual)')\n",
        "plt.show()\n",
        "\n",
        "# Visualización de las predicciones vs valores reales\n",
        "plt.figure(figsize=(4, 2))  # Reducir el tamaño de la figura\n",
        "plt.scatter(Y_test, Y_val, alpha=0.5)\n",
        "plt.plot([Y_test.min(), Y_test.max()], [Y_test.min(), Y_test.max()], 'r--', lw=2)\n",
        "plt.xlabel('Valores Reales')\n",
        "plt.ylabel('Predicciones')\n",
        "plt.title('Predicciones vs Valores Reales')\n",
        "plt.show()"
      ],
      "metadata": {
        "colab": {
          "base_uri": "https://localhost:8080/",
          "height": 564
        },
        "id": "Z0uLAYsLYnNI",
        "outputId": "62bbb721-13b0-44e9-e049-eab86c426d0f"
      },
      "execution_count": 40,
      "outputs": [
        {
          "output_type": "stream",
          "name": "stdout",
          "text": [
            "R^2 score =  -0.8172319759162625\n",
            "Mean Squared Error =  0.03815906022144206\n",
            "Root Mean Squared Error =  0.19534344171597381\n",
            "Mean Absolute Error =  0.15732919254658384\n"
          ]
        },
        {
          "output_type": "display_data",
          "data": {
            "text/plain": [
              "<Figure size 400x200 with 1 Axes>"
            ],
            "image/png": "[encoded data removed]"
          },
          "metadata": {}
        },
        {
          "output_type": "display_data",
          "data": {
            "text/plain": [
              "<Figure size 400x200 with 1 Axes>"
            ],
            "image/png": "[encoded data removed]"
          },
          "metadata": {}
        }
      ]
    },
    {
      "cell_type": "code",
      "source": [
        "#Instalar scikeras si no está instalado\n",
        "!pip install scikeras"
      ],
      "metadata": {
        "colab": {
          "base_uri": "https://localhost:8080/"
        },
        "id": "XBZLOUBCzpol",
        "outputId": "40120b8d-fd46-4b22-fd19-9720cfa483c2"
      },
      "execution_count": 41,
      "outputs": [
        {
          "output_type": "stream",
          "name": "stdout",
          "text": [
            "Requirement already satisfied: scikeras in /usr/local/lib/python3.10/dist-packages (0.13.0)\n",
            "Requirement already satisfied: keras>=3.2.0 in /usr/local/lib/python3.10/dist-packages (from scikeras) (3.4.1)\n",
            "Requirement already satisfied: scikit-learn>=1.4.2 in /usr/local/lib/python3.10/dist-packages (from scikeras) (1.5.1)\n",
            "Requirement already satisfied: absl-py in /usr/local/lib/python3.10/dist-packages (from keras>=3.2.0->scikeras) (1.4.0)\n",
            "Requirement already satisfied: numpy in /usr/local/lib/python3.10/dist-packages (from keras>=3.2.0->scikeras) (1.25.2)\n",
            "Requirement already satisfied: rich in /usr/local/lib/python3.10/dist-packages (from keras>=3.2.0->scikeras) (13.7.1)\n",
            "Requirement already satisfied: namex in /usr/local/lib/python3.10/dist-packages (from keras>=3.2.0->scikeras) (0.0.8)\n",
            "Requirement already satisfied: h5py in /usr/local/lib/python3.10/dist-packages (from keras>=3.2.0->scikeras) (3.9.0)\n",
            "Requirement already satisfied: optree in /usr/local/lib/python3.10/dist-packages (from keras>=3.2.0->scikeras) (0.12.1)\n",
            "Requirement already satisfied: ml-dtypes in /usr/local/lib/python3.10/dist-packages (from keras>=3.2.0->scikeras) (0.2.0)\n",
            "Requirement already satisfied: packaging in /usr/local/lib/python3.10/dist-packages (from keras>=3.2.0->scikeras) (24.1)\n",
            "Requirement already satisfied: scipy>=1.6.0 in /usr/local/lib/python3.10/dist-packages (from scikit-learn>=1.4.2->scikeras) (1.11.4)\n",
            "Requirement already satisfied: joblib>=1.2.0 in /usr/local/lib/python3.10/dist-packages (from scikit-learn>=1.4.2->scikeras) (1.4.2)\n",
            "Requirement already satisfied: threadpoolctl>=3.1.0 in /usr/local/lib/python3.10/dist-packages (from scikit-learn>=1.4.2->scikeras) (3.5.0)\n",
            "Requirement already satisfied: typing-extensions>=4.5.0 in /usr/local/lib/python3.10/dist-packages (from optree->keras>=3.2.0->scikeras) (4.12.2)\n",
            "Requirement already satisfied: markdown-it-py>=2.2.0 in /usr/local/lib/python3.10/dist-packages (from rich->keras>=3.2.0->scikeras) (3.0.0)\n",
            "Requirement already satisfied: pygments<3.0.0,>=2.13.0 in /usr/local/lib/python3.10/dist-packages (from rich->keras>=3.2.0->scikeras) (2.16.1)\n",
            "Requirement already satisfied: mdurl~=0.1 in /usr/local/lib/python3.10/dist-packages (from markdown-it-py>=2.2.0->rich->keras>=3.2.0->scikeras) (0.1.2)\n"
          ]
        }
      ]
    },
    {
      "cell_type": "code",
      "source": [
        "# Importar las bibliotecas necesarias\n",
        "import numpy as np\n",
        "import pandas as pd\n",
        "import tensorflow as tf\n",
        "from sklearn.preprocessing import MinMaxScaler\n",
        "from sklearn.model_selection import train_test_split\n",
        "from sklearn.model_selection import GridSearchCV\n",
        "from scikeras.wrappers import KerasRegressor\n",
        "import matplotlib.pyplot as plt\n",
        "from sklearn import datasets\n",
        "from sklearn.metrics import r2_score, mean_squared_error, mean_absolute_error  # Importar métricas de regresión\n",
        "\n",
        "# Cargar y procesar los datos (ejemplo)\n",
        "df = pd.read_csv('GaltonFamilies.csv')\n",
        "\n",
        "#Any missing values?\n",
        "df.isnull().sum()\n",
        "\n",
        "#Checking data types\n",
        "#df.info()\n",
        "\n",
        "# Preprocesamiento de datos (ejemplo)\n",
        "df1 = df.copy()\n",
        "df1 = df1.drop(columns=['rownames', 'children', 'family'])\n",
        "df1[\"gender\"] = df1[\"gender\"].replace({\"male\": 0, \"female\": 1})\n",
        "#df1.head()\n",
        "\n",
        "#Any duplicate rows?\n",
        "#df1 = df.copy() se comenta porque antes se hizo la copia\n",
        "#n_dup = len(df1) - len(df1.drop_duplicates())\n",
        "#print(f\"Number of duplicate rows: {n_dup}\")\n",
        "\n",
        "if n_dup > 0:\n",
        "   # Eliminar filas duplicadas\n",
        "   df2 = df1.drop_duplicates()\n",
        "   n_dup = len(df1) - len(df1.drop_duplicates())\n",
        "   print(f\"Number of duplicate rows: {n_dup}\")\n",
        "\n",
        "# revisando cuantos valores hay por cada clase\n",
        "counts = df2[\"gender\"].value_counts()\n",
        "print (counts)\n",
        "#plt.pie(counts, labels=list(counts.index), autopct=\"%2.f\" )\n",
        "\n",
        "# Escalar datos\n",
        "dataset = df2.values\n",
        "X = dataset[:,0:5]\n",
        "Y = dataset[:, 5]\n",
        "min_max_scaler = preprocessing.MinMaxScaler()\n",
        "X_scale = min_max_scaler.fit_transform(X)\n",
        "Y_scale = min_max_scaler.fit_transform(Y.reshape(-1, 1)  )\n",
        "\n",
        "# Dividir los datos en conjunto de entrenamiento y prueba\n",
        "X_train, X_val_and_test, Y_train, Y_val_and_test = train_test_split(X_scale, Y_scale, test_size=0.3)\n",
        "X_val, X_test, Y_val, Y_test = train_test_split(X_val_and_test, Y_val_and_test, test_size=0.5)\n",
        "\n",
        "# Eliminar una fila específica (por ejemplo, la primera fila)\n",
        "X_test = np.delete(X_test, 0, axis=0)\n",
        "Y_test = np.delete(Y_test, 0, axis=0)\n",
        "\n",
        "print(\"Longitud de Y_test:\", len(Y_test))\n",
        "print(\"Longitud de Y_val:\", len(Y_val))\n",
        "print(\"Longitud de Y_train:\", len(Y_train))\n",
        "print(f\"Longitud de X_train: {len(X_train)}\")\n",
        "print(f\"Longitud de y_train: {len(y_train)}\")\n",
        "print(f\"Longitud de X_test: {len(X_test)}\")\n",
        "print(f\"Longitud de y_test: {len(y_test)}\")\n",
        "\n",
        "# Ejemplo de verificación de dimensiones antes de GridSearchCV\n",
        "print(f\"Dimensiones de X_train: {X_val.shape}\")\n",
        "print(f\"Dimensiones de y_train: {Y_val.shape}\")\n",
        "print(f\"Dimensiones de X_test: {X_test.shape}\")\n",
        "print(f\"Dimensiones de y_test: {Y_test.shape}\")\n",
        "print()\n",
        "\n",
        "model = MLPRegressor(hidden_layer_sizes=(32, 32),\n",
        "                     activation='relu',\n",
        "                     solver='adam',\n",
        "                     max_iter=100,\n",
        "                     random_state=42,\n",
        "                     verbose=True)\n",
        "\n",
        "# Asegurarse de que y_train y y_test tengan la forma correcta\n",
        "Y_train = Y_train.ravel()\n",
        "Y_test = Y_test.ravel()\n",
        "\n",
        "#Entrenar el modelo\n",
        "model.fit(X_train, Y_train)\n",
        "\n",
        "#Realizar predicciones del modelo en el conjunto de prueba\n",
        "Y_pred = model.predict(X_test)\n",
        "\n",
        "# Evaluar el modelo\n",
        "\n",
        "\n",
        "\n",
        "print(\"Longitud de Y_test:\", len(Y_test))\n",
        "print(\"Longitud de Y_pred:\", len(Y_pred))\n",
        "print(\"Longitud de Y_train:\", len(Y_train))\n",
        "\n",
        "# Asegurarse de que las longitudes sean iguales\n",
        "assert len(Y_test) == len(Y_pred), \"Las longitudes de Y_test y Y_val deben ser iguales\"\n",
        "\n",
        "#Calcula la precisión del modelo\n",
        "#accuracy = accuracy_score(Y_test, Y_pred)\n",
        "#print(\"Precisión del modelo (Accuracy):\", accuracy)\n",
        "\n",
        "# Evaluar el modelo con métricas de regresión\n",
        "r2 = r2_score(Y_test, Y_pred)\n",
        "mse = mean_squared_error(Y_test, Y_pred)\n",
        "rmse = mse ** 0.5\n",
        "mae = mean_absolute_error(Y_test, Y_pred)\n",
        "\n",
        "print('R^2 score = ', r2)\n",
        "print('Mean Squared Error = ', mse)\n",
        "print('Root Mean Squared Error = ', rmse)\n",
        "print('Mean Absolute Error = ', mae)\n",
        "\n",
        "# Calcular los errores (residuales)\n",
        "error = Y_test - Y_val\n",
        "\n",
        "# Mostrar el histograma de los errores\n",
        "plt.figure(figsize=(4, 2))  # Reducir el tamaño de la figura\n",
        "plt.hist(error, bins=20, edgecolor='black')\n",
        "plt.xlabel('Error (Residual)')\n",
        "plt.ylabel('Frecuencia')\n",
        "plt.title('Histograma de los Errores (Residual)')\n",
        "plt.show()\n",
        "\n",
        "# Visualización de las predicciones vs valores reales\n",
        "plt.figure(figsize=(4, 2))  # Reducir el tamaño de la figura\n",
        "plt.scatter(Y_test, Y_pred, alpha=0.5)\n",
        "plt.plot([Y_test.min(), Y_test.max()], [Y_test.min(), Y_test.max()], 'r--', lw=2)\n",
        "plt.xlabel('Valores Reales')\n",
        "plt.ylabel('Predicciones')\n",
        "plt.title('Predicciones vs Valores Reales')\n",
        "plt.show()"
      ],
      "metadata": {
        "colab": {
          "base_uri": "https://localhost:8080/",
          "height": 1000
        },
        "id": "H9lGCpWp7xAa",
        "outputId": "1e93da1a-73d9-4e20-8aa9-db1c39c2eef1"
      },
      "execution_count": 61,
      "outputs": [
        {
          "output_type": "stream",
          "name": "stdout",
          "text": [
            "Number of duplicate rows: 23\n",
            "gender\n",
            "0    463\n",
            "1    448\n",
            "Name: count, dtype: int64\n",
            "Longitud de Y_test: 136\n",
            "Longitud de Y_val: 137\n",
            "Longitud de Y_train: 637\n",
            "Longitud de X_train: 637\n",
            "Longitud de y_train: 728\n",
            "Longitud de X_test: 136\n",
            "Longitud de y_test: 183\n",
            "Dimensiones de X_train: (137, 5)\n",
            "Dimensiones de y_train: (137, 1)\n",
            "Dimensiones de X_test: (136, 5)\n",
            "Dimensiones de y_test: (136, 1)\n",
            "\n",
            "Iteration 1, loss = 0.29951759\n",
            "Iteration 2, loss = 0.23507102\n",
            "Iteration 3, loss = 0.18215844\n",
            "Iteration 4, loss = 0.13916260\n",
            "Iteration 5, loss = 0.10525446\n",
            "Iteration 6, loss = 0.08017230\n",
            "Iteration 7, loss = 0.06205998\n",
            "Iteration 8, loss = 0.04859653\n",
            "Iteration 9, loss = 0.03945227\n",
            "Iteration 10, loss = 0.03247764\n",
            "Iteration 11, loss = 0.02693809\n",
            "Iteration 12, loss = 0.02239273\n",
            "Iteration 13, loss = 0.01831456\n",
            "Iteration 14, loss = 0.01513934\n",
            "Iteration 15, loss = 0.01244406\n",
            "Iteration 16, loss = 0.00997058\n",
            "Iteration 17, loss = 0.00796841\n",
            "Iteration 18, loss = 0.00647169\n",
            "Iteration 19, loss = 0.00556092\n",
            "Iteration 20, loss = 0.00504583\n",
            "Iteration 21, loss = 0.00484520\n",
            "Iteration 22, loss = 0.00475623\n",
            "Iteration 23, loss = 0.00471619\n",
            "Iteration 24, loss = 0.00465040\n",
            "Iteration 25, loss = 0.00454961\n",
            "Iteration 26, loss = 0.00446024\n",
            "Iteration 27, loss = 0.00437715\n",
            "Iteration 28, loss = 0.00431994\n",
            "Iteration 29, loss = 0.00427413\n",
            "Iteration 30, loss = 0.00423675\n",
            "Iteration 31, loss = 0.00421248\n",
            "Iteration 32, loss = 0.00418089\n",
            "Iteration 33, loss = 0.00415493\n",
            "Iteration 34, loss = 0.00413196\n",
            "Iteration 35, loss = 0.00410376\n",
            "Iteration 36, loss = 0.00407423\n",
            "Training loss did not improve more than tol=0.000100 for 10 consecutive epochs. Stopping.\n",
            "Longitud de Y_test: 136\n",
            "Longitud de Y_pred: 136\n",
            "Longitud de Y_train: 637\n",
            "R^2 score =  0.6912745249478651\n",
            "Mean Squared Error =  0.007822993400607122\n",
            "Root Mean Squared Error =  0.08844768736720662\n",
            "Mean Absolute Error =  0.07215243558778275\n"
          ]
        },
        {
          "output_type": "display_data",
          "data": {
            "text/plain": [
              "<Figure size 400x200 with 1 Axes>"
            ],
            "image/png": "[encoded data removed]"
          },
          "metadata": {}
        },
        {
          "output_type": "display_data",
          "data": {
            "text/plain": [
              "<Figure size 400x200 with 1 Axes>"
            ],
            "image/png": "[encoded data removed]"
          },
          "metadata": {}
        }
      ]
    },
    {
      "cell_type": "code",
      "source": [
        "import numpy as np\n",
        "import pandas as pd\n",
        "import tensorflow as tf\n",
        "from sklearn.preprocessing import MinMaxScaler\n",
        "from sklearn.model_selection import train_test_split\n",
        "from sklearn.metrics import r2_score, mean_squared_error\n",
        "from tensorflow.keras.models import Sequential\n",
        "from tensorflow.keras.layers import Dense\n",
        "from tensorflow.keras.optimizers import Adam, RMSprop, SGD\n",
        "\n",
        "# Cargar y procesar los datos (ejemplo)\n",
        "df = pd.read_csv('GaltonFamilies.csv')\n",
        "\n",
        "# Preprocesamiento de datos\n",
        "df1 = df.copy()\n",
        "df1 = df1.drop(columns=['rownames', 'children', 'family'])\n",
        "df1[\"gender\"] = df1[\"gender\"].replace({\"male\": 0, \"female\": 1})\n",
        "\n",
        "# Eliminar filas duplicadas si las hubiera\n",
        "df1 = df1.drop_duplicates()\n",
        "\n",
        "# Escalar datos\n",
        "dataset = df1.values\n",
        "X = dataset[:, 0:5]\n",
        "Y = dataset[:, 5].astype(float)  # Asegurar que Y sea tipo float\n",
        "\n",
        "scaler = MinMaxScaler()\n",
        "X_scale = scaler.fit_transform(X)\n",
        "Y_scale = scaler.fit_transform(Y.reshape(-1, 1)).flatten()  # Flatten para asegurar una dimensión correcta\n",
        "\n",
        "# Dividir los datos en conjunto de entrenamiento y prueba\n",
        "X_train, X_test, Y_train, Y_test = train_test_split(X_scale, Y_scale, test_size=0.2, random_state=42)\n",
        "\n",
        "# Definir una función para crear el modelo\n",
        "def create_model(optimizer='adam', hidden_layer_sizes=(32, 32), activation='relu'):\n",
        "    model = Sequential()\n",
        "    model.add(Dense(hidden_layer_sizes[0], activation=activation, input_shape=(X_train.shape[1],)))\n",
        "    for units in hidden_layer_sizes[1:]:\n",
        "        model.add(Dense(units, activation=activation))\n",
        "    model.add(Dense(1))  # Capa de salida para regresión lineal\n",
        "    model.compile(optimizer=optimizer, loss='mean_squared_error', metrics=['accuracy'])\n",
        "    return model\n",
        "\n",
        "# Función para evaluar el modelo con diferentes configuraciones\n",
        "def evaluate_model(X_train, Y_train, X_test, Y_test, optimizer, hidden_layer_sizes, activation, epochs):\n",
        "    model = create_model(optimizer=optimizer, hidden_layer_sizes=hidden_layer_sizes, activation=activation)\n",
        "    model.fit(X_train, Y_train, epochs=epochs, verbose=0)\n",
        "    Y_pred = model.predict(X_test).flatten()\n",
        "\n",
        "    # Calcular métricas de evaluación\n",
        "    accuracy = model.evaluate(X_test, Y_test)[1]\n",
        "    r2 = r2_score(Y_test, Y_pred)\n",
        "    mse = mean_squared_error(Y_test, Y_pred)\n",
        "\n",
        "    return optimizer, hidden_layer_sizes, activation, epochs, accuracy, r2, mse\n",
        "\n",
        "# Definir configuraciones a probar\n",
        "optimizers = ['adam', 'rmsprop', 'sgd']\n",
        "hidden_layer_sizes = [(32,), (64,), (32, 32), (64, 32)]\n",
        "activations = ['relu', 'sigmoid']\n",
        "epochs = [20, 30, 40]\n",
        "\n",
        "# Lista para almacenar resultados\n",
        "results = []\n",
        "\n",
        "# Iterar sobre todas las combinaciones de parámetros\n",
        "for opt in optimizers:\n",
        "    for hl_sizes in hidden_layer_sizes:\n",
        "        for act in activations:\n",
        "            for ep in epochs:\n",
        "                result = evaluate_model(X_train, Y_train, X_test, Y_test, opt, hl_sizes, act, ep)\n",
        "                results.append(result)\n",
        "\n",
        "# Crear un DataFrame para visualizar los resultados\n",
        "results_df = pd.DataFrame(results, columns=['Optimizer', 'Hidden Layer Sizes', 'Activation', 'Epochs', 'Accuracy', 'R2 Score', 'MSE'])\n",
        "results_df.sort_values(by='MSE', ascending=True, inplace=True)  # Ordenar por MSE ascendente o la métrica que prefieras\n",
        "\n",
        "# Mostrar tabla resumen\n",
        "print(\"Tabla Resumen de Resultados:\")\n",
        "print(results_df.head(10))  # Mostrar los 10 mejores resultados\n",
        "\n",
        "# Guardar los resultados en un archivo CSV si deseas\n",
        "results_df.to_csv('results_summary.csv', index=False)"
      ],
      "metadata": {
        "colab": {
          "base_uri": "https://localhost:8080/"
        },
        "id": "jzj9HE9RS1eY",
        "outputId": "7b1f8709-f581-4cb8-aadd-4a1bfaa5e127"
      },
      "execution_count": 62,
      "outputs": [
        {
          "output_type": "stream",
          "name": "stderr",
          "text": [
            "/usr/local/lib/python3.10/dist-packages/keras/src/layers/core/dense.py:87: UserWarning: Do not pass an `input_shape`/`input_dim` argument to a layer. When using Sequential models, prefer using an `Input(shape)` object as the first layer in the model instead.\n",
            "  super().__init__(activity_regularizer=activity_regularizer, **kwargs)\n"
          ]
        },
        {
          "output_type": "stream",
          "name": "stdout",
          "text": [
            "\u001b[1m6/6\u001b[0m \u001b[32m━━━━━━━━━━━━━━━━━━━━\u001b[0m\u001b[37m\u001b[0m \u001b[1m0s\u001b[0m 7ms/step \n",
            "\u001b[1m6/6\u001b[0m \u001b[32m━━━━━━━━━━━━━━━━━━━━\u001b[0m\u001b[37m\u001b[0m \u001b[1m0s\u001b[0m 2ms/step - accuracy: 0.0025 - loss: 0.0089      \n"
          ]
        },
        {
          "output_type": "stream",
          "name": "stderr",
          "text": [
            "/usr/local/lib/python3.10/dist-packages/keras/src/layers/core/dense.py:87: UserWarning: Do not pass an `input_shape`/`input_dim` argument to a layer. When using Sequential models, prefer using an `Input(shape)` object as the first layer in the model instead.\n",
            "  super().__init__(activity_regularizer=activity_regularizer, **kwargs)\n"
          ]
        },
        {
          "output_type": "stream",
          "name": "stdout",
          "text": [
            "\u001b[1m6/6\u001b[0m \u001b[32m━━━━━━━━━━━━━━━━━━━━\u001b[0m\u001b[37m\u001b[0m \u001b[1m0s\u001b[0m 9ms/step \n",
            "\u001b[1m6/6\u001b[0m \u001b[32m━━━━━━━━━━━━━━━━━━━━\u001b[0m\u001b[37m\u001b[0m \u001b[1m0s\u001b[0m 3ms/step - accuracy: 0.0025 - loss: 0.0095      \n"
          ]
        },
        {
          "output_type": "stream",
          "name": "stderr",
          "text": [
            "/usr/local/lib/python3.10/dist-packages/keras/src/layers/core/dense.py:87: UserWarning: Do not pass an `input_shape`/`input_dim` argument to a layer. When using Sequential models, prefer using an `Input(shape)` object as the first layer in the model instead.\n",
            "  super().__init__(activity_regularizer=activity_regularizer, **kwargs)\n"
          ]
        },
        {
          "output_type": "stream",
          "name": "stdout",
          "text": [
            "\u001b[1m6/6\u001b[0m \u001b[32m━━━━━━━━━━━━━━━━━━━━\u001b[0m\u001b[37m\u001b[0m \u001b[1m0s\u001b[0m 7ms/step \n",
            "\u001b[1m6/6\u001b[0m \u001b[32m━━━━━━━━━━━━━━━━━━━━\u001b[0m\u001b[37m\u001b[0m \u001b[1m0s\u001b[0m 2ms/step - accuracy: 0.0025 - loss: 0.0092      \n"
          ]
        },
        {
          "output_type": "stream",
          "name": "stderr",
          "text": [
            "/usr/local/lib/python3.10/dist-packages/keras/src/layers/core/dense.py:87: UserWarning: Do not pass an `input_shape`/`input_dim` argument to a layer. When using Sequential models, prefer using an `Input(shape)` object as the first layer in the model instead.\n",
            "  super().__init__(activity_regularizer=activity_regularizer, **kwargs)\n"
          ]
        },
        {
          "output_type": "stream",
          "name": "stdout",
          "text": [
            "\u001b[1m6/6\u001b[0m \u001b[32m━━━━━━━━━━━━━━━━━━━━\u001b[0m\u001b[37m\u001b[0m \u001b[1m0s\u001b[0m 7ms/step \n",
            "\u001b[1m6/6\u001b[0m \u001b[32m━━━━━━━━━━━━━━━━━━━━\u001b[0m\u001b[37m\u001b[0m \u001b[1m0s\u001b[0m 3ms/step - accuracy: 0.0025 - loss: 0.0094      \n"
          ]
        },
        {
          "output_type": "stream",
          "name": "stderr",
          "text": [
            "/usr/local/lib/python3.10/dist-packages/keras/src/layers/core/dense.py:87: UserWarning: Do not pass an `input_shape`/`input_dim` argument to a layer. When using Sequential models, prefer using an `Input(shape)` object as the first layer in the model instead.\n",
            "  super().__init__(activity_regularizer=activity_regularizer, **kwargs)\n"
          ]
        },
        {
          "output_type": "stream",
          "name": "stdout",
          "text": [
            "\u001b[1m6/6\u001b[0m \u001b[32m━━━━━━━━━━━━━━━━━━━━\u001b[0m\u001b[37m\u001b[0m \u001b[1m0s\u001b[0m 7ms/step \n",
            "\u001b[1m6/6\u001b[0m \u001b[32m━━━━━━━━━━━━━━━━━━━━\u001b[0m\u001b[37m\u001b[0m \u001b[1m0s\u001b[0m 2ms/step - accuracy: 0.0025 - loss: 0.0095      \n"
          ]
        },
        {
          "output_type": "stream",
          "name": "stderr",
          "text": [
            "/usr/local/lib/python3.10/dist-packages/keras/src/layers/core/dense.py:87: UserWarning: Do not pass an `input_shape`/`input_dim` argument to a layer. When using Sequential models, prefer using an `Input(shape)` object as the first layer in the model instead.\n",
            "  super().__init__(activity_regularizer=activity_regularizer, **kwargs)\n"
          ]
        },
        {
          "output_type": "stream",
          "name": "stdout",
          "text": [
            "\u001b[1m6/6\u001b[0m \u001b[32m━━━━━━━━━━━━━━━━━━━━\u001b[0m\u001b[37m\u001b[0m \u001b[1m0s\u001b[0m 7ms/step \n",
            "\u001b[1m6/6\u001b[0m \u001b[32m━━━━━━━━━━━━━━━━━━━━\u001b[0m\u001b[37m\u001b[0m \u001b[1m0s\u001b[0m 2ms/step - accuracy: 0.0025 - loss: 0.0094      \n"
          ]
        },
        {
          "output_type": "stream",
          "name": "stderr",
          "text": [
            "/usr/local/lib/python3.10/dist-packages/keras/src/layers/core/dense.py:87: UserWarning: Do not pass an `input_shape`/`input_dim` argument to a layer. When using Sequential models, prefer using an `Input(shape)` object as the first layer in the model instead.\n",
            "  super().__init__(activity_regularizer=activity_regularizer, **kwargs)\n"
          ]
        },
        {
          "output_type": "stream",
          "name": "stdout",
          "text": [
            "\u001b[1m6/6\u001b[0m \u001b[32m━━━━━━━━━━━━━━━━━━━━\u001b[0m\u001b[37m\u001b[0m \u001b[1m0s\u001b[0m 8ms/step \n",
            "\u001b[1m6/6\u001b[0m \u001b[32m━━━━━━━━━━━━━━━━━━━━\u001b[0m\u001b[37m\u001b[0m \u001b[1m0s\u001b[0m 2ms/step - accuracy: 0.0025 - loss: 0.0088      \n"
          ]
        },
        {
          "output_type": "stream",
          "name": "stderr",
          "text": [
            "/usr/local/lib/python3.10/dist-packages/keras/src/layers/core/dense.py:87: UserWarning: Do not pass an `input_shape`/`input_dim` argument to a layer. When using Sequential models, prefer using an `Input(shape)` object as the first layer in the model instead.\n",
            "  super().__init__(activity_regularizer=activity_regularizer, **kwargs)\n"
          ]
        },
        {
          "output_type": "stream",
          "name": "stdout",
          "text": [
            "\u001b[1m6/6\u001b[0m \u001b[32m━━━━━━━━━━━━━━━━━━━━\u001b[0m\u001b[37m\u001b[0m \u001b[1m0s\u001b[0m 7ms/step \n",
            "\u001b[1m6/6\u001b[0m \u001b[32m━━━━━━━━━━━━━━━━━━━━\u001b[0m\u001b[37m\u001b[0m \u001b[1m0s\u001b[0m 2ms/step - accuracy: 0.0025 - loss: 0.0101      \n"
          ]
        },
        {
          "output_type": "stream",
          "name": "stderr",
          "text": [
            "/usr/local/lib/python3.10/dist-packages/keras/src/layers/core/dense.py:87: UserWarning: Do not pass an `input_shape`/`input_dim` argument to a layer. When using Sequential models, prefer using an `Input(shape)` object as the first layer in the model instead.\n",
            "  super().__init__(activity_regularizer=activity_regularizer, **kwargs)\n"
          ]
        },
        {
          "output_type": "stream",
          "name": "stdout",
          "text": [
            "\u001b[1m6/6\u001b[0m \u001b[32m━━━━━━━━━━━━━━━━━━━━\u001b[0m\u001b[37m\u001b[0m \u001b[1m0s\u001b[0m 12ms/step\n",
            "\u001b[1m6/6\u001b[0m \u001b[32m━━━━━━━━━━━━━━━━━━━━\u001b[0m\u001b[37m\u001b[0m \u001b[1m0s\u001b[0m 4ms/step - accuracy: 0.0025 - loss: 0.0094      \n"
          ]
        },
        {
          "output_type": "stream",
          "name": "stderr",
          "text": [
            "/usr/local/lib/python3.10/dist-packages/keras/src/layers/core/dense.py:87: UserWarning: Do not pass an `input_shape`/`input_dim` argument to a layer. When using Sequential models, prefer using an `Input(shape)` object as the first layer in the model instead.\n",
            "  super().__init__(activity_regularizer=activity_regularizer, **kwargs)\n"
          ]
        },
        {
          "output_type": "stream",
          "name": "stdout",
          "text": [
            "\u001b[1m6/6\u001b[0m \u001b[32m━━━━━━━━━━━━━━━━━━━━\u001b[0m\u001b[37m\u001b[0m \u001b[1m0s\u001b[0m 7ms/step \n",
            "\u001b[1m6/6\u001b[0m \u001b[32m━━━━━━━━━━━━━━━━━━━━\u001b[0m\u001b[37m\u001b[0m \u001b[1m0s\u001b[0m 2ms/step - accuracy: 0.0025 - loss: 0.0101      \n"
          ]
        },
        {
          "output_type": "stream",
          "name": "stderr",
          "text": [
            "/usr/local/lib/python3.10/dist-packages/keras/src/layers/core/dense.py:87: UserWarning: Do not pass an `input_shape`/`input_dim` argument to a layer. When using Sequential models, prefer using an `Input(shape)` object as the first layer in the model instead.\n",
            "  super().__init__(activity_regularizer=activity_regularizer, **kwargs)\n"
          ]
        },
        {
          "output_type": "stream",
          "name": "stdout",
          "text": [
            "\u001b[1m6/6\u001b[0m \u001b[32m━━━━━━━━━━━━━━━━━━━━\u001b[0m\u001b[37m\u001b[0m \u001b[1m0s\u001b[0m 7ms/step \n",
            "\u001b[1m6/6\u001b[0m \u001b[32m━━━━━━━━━━━━━━━━━━━━\u001b[0m\u001b[37m\u001b[0m \u001b[1m0s\u001b[0m 2ms/step - accuracy: 0.0025 - loss: 0.0096      \n"
          ]
        },
        {
          "output_type": "stream",
          "name": "stderr",
          "text": [
            "/usr/local/lib/python3.10/dist-packages/keras/src/layers/core/dense.py:87: UserWarning: Do not pass an `input_shape`/`input_dim` argument to a layer. When using Sequential models, prefer using an `Input(shape)` object as the first layer in the model instead.\n",
            "  super().__init__(activity_regularizer=activity_regularizer, **kwargs)\n"
          ]
        },
        {
          "output_type": "stream",
          "name": "stdout",
          "text": [
            "\u001b[1m6/6\u001b[0m \u001b[32m━━━━━━━━━━━━━━━━━━━━\u001b[0m\u001b[37m\u001b[0m \u001b[1m0s\u001b[0m 7ms/step \n",
            "\u001b[1m6/6\u001b[0m \u001b[32m━━━━━━━━━━━━━━━━━━━━\u001b[0m\u001b[37m\u001b[0m \u001b[1m0s\u001b[0m 2ms/step - accuracy: 0.0025 - loss: 0.0096      \n"
          ]
        },
        {
          "output_type": "stream",
          "name": "stderr",
          "text": [
            "/usr/local/lib/python3.10/dist-packages/keras/src/layers/core/dense.py:87: UserWarning: Do not pass an `input_shape`/`input_dim` argument to a layer. When using Sequential models, prefer using an `Input(shape)` object as the first layer in the model instead.\n",
            "  super().__init__(activity_regularizer=activity_regularizer, **kwargs)\n"
          ]
        },
        {
          "output_type": "stream",
          "name": "stdout",
          "text": [
            "\u001b[1m6/6\u001b[0m \u001b[32m━━━━━━━━━━━━━━━━━━━━\u001b[0m\u001b[37m\u001b[0m \u001b[1m0s\u001b[0m 9ms/step \n",
            "\u001b[1m6/6\u001b[0m \u001b[32m━━━━━━━━━━━━━━━━━━━━\u001b[0m\u001b[37m\u001b[0m \u001b[1m0s\u001b[0m 3ms/step - accuracy: 0.0025 - loss: 0.0097      \n"
          ]
        },
        {
          "output_type": "stream",
          "name": "stderr",
          "text": [
            "/usr/local/lib/python3.10/dist-packages/keras/src/layers/core/dense.py:87: UserWarning: Do not pass an `input_shape`/`input_dim` argument to a layer. When using Sequential models, prefer using an `Input(shape)` object as the first layer in the model instead.\n",
            "  super().__init__(activity_regularizer=activity_regularizer, **kwargs)\n"
          ]
        },
        {
          "output_type": "stream",
          "name": "stdout",
          "text": [
            "\u001b[1m6/6\u001b[0m \u001b[32m━━━━━━━━━━━━━━━━━━━━\u001b[0m\u001b[37m\u001b[0m \u001b[1m0s\u001b[0m 9ms/step \n",
            "\u001b[1m6/6\u001b[0m \u001b[32m━━━━━━━━━━━━━━━━━━━━\u001b[0m\u001b[37m\u001b[0m \u001b[1m0s\u001b[0m 3ms/step - accuracy: 0.0025 - loss: 0.0092      \n"
          ]
        },
        {
          "output_type": "stream",
          "name": "stderr",
          "text": [
            "/usr/local/lib/python3.10/dist-packages/keras/src/layers/core/dense.py:87: UserWarning: Do not pass an `input_shape`/`input_dim` argument to a layer. When using Sequential models, prefer using an `Input(shape)` object as the first layer in the model instead.\n",
            "  super().__init__(activity_regularizer=activity_regularizer, **kwargs)\n"
          ]
        },
        {
          "output_type": "stream",
          "name": "stdout",
          "text": [
            "\u001b[1m6/6\u001b[0m \u001b[32m━━━━━━━━━━━━━━━━━━━━\u001b[0m\u001b[37m\u001b[0m \u001b[1m0s\u001b[0m 9ms/step \n",
            "\u001b[1m6/6\u001b[0m \u001b[32m━━━━━━━━━━━━━━━━━━━━\u001b[0m\u001b[37m\u001b[0m \u001b[1m0s\u001b[0m 3ms/step - accuracy: 0.0025 - loss: 0.0090      \n"
          ]
        },
        {
          "output_type": "stream",
          "name": "stderr",
          "text": [
            "/usr/local/lib/python3.10/dist-packages/keras/src/layers/core/dense.py:87: UserWarning: Do not pass an `input_shape`/`input_dim` argument to a layer. When using Sequential models, prefer using an `Input(shape)` object as the first layer in the model instead.\n",
            "  super().__init__(activity_regularizer=activity_regularizer, **kwargs)\n"
          ]
        },
        {
          "output_type": "stream",
          "name": "stdout",
          "text": [
            "\u001b[1m6/6\u001b[0m \u001b[32m━━━━━━━━━━━━━━━━━━━━\u001b[0m\u001b[37m\u001b[0m \u001b[1m0s\u001b[0m 14ms/step\n",
            "\u001b[1m6/6\u001b[0m \u001b[32m━━━━━━━━━━━━━━━━━━━━\u001b[0m\u001b[37m\u001b[0m \u001b[1m0s\u001b[0m 3ms/step - accuracy: 0.0025 - loss: 0.0097      \n"
          ]
        },
        {
          "output_type": "stream",
          "name": "stderr",
          "text": [
            "/usr/local/lib/python3.10/dist-packages/keras/src/layers/core/dense.py:87: UserWarning: Do not pass an `input_shape`/`input_dim` argument to a layer. When using Sequential models, prefer using an `Input(shape)` object as the first layer in the model instead.\n",
            "  super().__init__(activity_regularizer=activity_regularizer, **kwargs)\n"
          ]
        },
        {
          "output_type": "stream",
          "name": "stdout",
          "text": [
            "\u001b[1m6/6\u001b[0m \u001b[32m━━━━━━━━━━━━━━━━━━━━\u001b[0m\u001b[37m\u001b[0m \u001b[1m0s\u001b[0m 9ms/step \n",
            "\u001b[1m6/6\u001b[0m \u001b[32m━━━━━━━━━━━━━━━━━━━━\u001b[0m\u001b[37m\u001b[0m \u001b[1m0s\u001b[0m 3ms/step - accuracy: 0.0025 - loss: 0.0103      \n"
          ]
        },
        {
          "output_type": "stream",
          "name": "stderr",
          "text": [
            "/usr/local/lib/python3.10/dist-packages/keras/src/layers/core/dense.py:87: UserWarning: Do not pass an `input_shape`/`input_dim` argument to a layer. When using Sequential models, prefer using an `Input(shape)` object as the first layer in the model instead.\n",
            "  super().__init__(activity_regularizer=activity_regularizer, **kwargs)\n"
          ]
        },
        {
          "output_type": "stream",
          "name": "stdout",
          "text": [
            "\u001b[1m6/6\u001b[0m \u001b[32m━━━━━━━━━━━━━━━━━━━━\u001b[0m\u001b[37m\u001b[0m \u001b[1m0s\u001b[0m 11ms/step\n",
            "\u001b[1m6/6\u001b[0m \u001b[32m━━━━━━━━━━━━━━━━━━━━\u001b[0m\u001b[37m\u001b[0m \u001b[1m0s\u001b[0m 3ms/step - accuracy: 0.0025 - loss: 0.0098      \n"
          ]
        },
        {
          "output_type": "stream",
          "name": "stderr",
          "text": [
            "/usr/local/lib/python3.10/dist-packages/keras/src/layers/core/dense.py:87: UserWarning: Do not pass an `input_shape`/`input_dim` argument to a layer. When using Sequential models, prefer using an `Input(shape)` object as the first layer in the model instead.\n",
            "  super().__init__(activity_regularizer=activity_regularizer, **kwargs)\n"
          ]
        },
        {
          "output_type": "stream",
          "name": "stdout",
          "text": [
            "\u001b[1m6/6\u001b[0m \u001b[32m━━━━━━━━━━━━━━━━━━━━\u001b[0m\u001b[37m\u001b[0m \u001b[1m0s\u001b[0m 15ms/step\n",
            "\u001b[1m6/6\u001b[0m \u001b[32m━━━━━━━━━━━━━━━━━━━━\u001b[0m\u001b[37m\u001b[0m \u001b[1m0s\u001b[0m 4ms/step - accuracy: 0.0025 - loss: 0.0092      \n"
          ]
        },
        {
          "output_type": "stream",
          "name": "stderr",
          "text": [
            "/usr/local/lib/python3.10/dist-packages/keras/src/layers/core/dense.py:87: UserWarning: Do not pass an `input_shape`/`input_dim` argument to a layer. When using Sequential models, prefer using an `Input(shape)` object as the first layer in the model instead.\n",
            "  super().__init__(activity_regularizer=activity_regularizer, **kwargs)\n"
          ]
        },
        {
          "output_type": "stream",
          "name": "stdout",
          "text": [
            "\u001b[1m6/6\u001b[0m \u001b[32m━━━━━━━━━━━━━━━━━━━━\u001b[0m\u001b[37m\u001b[0m \u001b[1m0s\u001b[0m 9ms/step \n",
            "\u001b[1m6/6\u001b[0m \u001b[32m━━━━━━━━━━━━━━━━━━━━\u001b[0m\u001b[37m\u001b[0m \u001b[1m0s\u001b[0m 2ms/step - accuracy: 0.0025 - loss: 0.0092      \n"
          ]
        },
        {
          "output_type": "stream",
          "name": "stderr",
          "text": [
            "/usr/local/lib/python3.10/dist-packages/keras/src/layers/core/dense.py:87: UserWarning: Do not pass an `input_shape`/`input_dim` argument to a layer. When using Sequential models, prefer using an `Input(shape)` object as the first layer in the model instead.\n",
            "  super().__init__(activity_regularizer=activity_regularizer, **kwargs)\n"
          ]
        },
        {
          "output_type": "stream",
          "name": "stdout",
          "text": [
            "\u001b[1m6/6\u001b[0m \u001b[32m━━━━━━━━━━━━━━━━━━━━\u001b[0m\u001b[37m\u001b[0m \u001b[1m0s\u001b[0m 9ms/step \n",
            "\u001b[1m6/6\u001b[0m \u001b[32m━━━━━━━━━━━━━━━━━━━━\u001b[0m\u001b[37m\u001b[0m \u001b[1m0s\u001b[0m 3ms/step - accuracy: 0.0025 - loss: 0.0100      \n"
          ]
        },
        {
          "output_type": "stream",
          "name": "stderr",
          "text": [
            "/usr/local/lib/python3.10/dist-packages/keras/src/layers/core/dense.py:87: UserWarning: Do not pass an `input_shape`/`input_dim` argument to a layer. When using Sequential models, prefer using an `Input(shape)` object as the first layer in the model instead.\n",
            "  super().__init__(activity_regularizer=activity_regularizer, **kwargs)\n"
          ]
        },
        {
          "output_type": "stream",
          "name": "stdout",
          "text": [
            "\u001b[1m6/6\u001b[0m \u001b[32m━━━━━━━━━━━━━━━━━━━━\u001b[0m\u001b[37m\u001b[0m \u001b[1m0s\u001b[0m 10ms/step\n",
            "\u001b[1m6/6\u001b[0m \u001b[32m━━━━━━━━━━━━━━━━━━━━\u001b[0m\u001b[37m\u001b[0m \u001b[1m0s\u001b[0m 4ms/step - accuracy: 0.0025 - loss: 0.0110      \n"
          ]
        },
        {
          "output_type": "stream",
          "name": "stderr",
          "text": [
            "/usr/local/lib/python3.10/dist-packages/keras/src/layers/core/dense.py:87: UserWarning: Do not pass an `input_shape`/`input_dim` argument to a layer. When using Sequential models, prefer using an `Input(shape)` object as the first layer in the model instead.\n",
            "  super().__init__(activity_regularizer=activity_regularizer, **kwargs)\n"
          ]
        },
        {
          "output_type": "stream",
          "name": "stdout",
          "text": [
            "\u001b[1m6/6\u001b[0m \u001b[32m━━━━━━━━━━━━━━━━━━━━\u001b[0m\u001b[37m\u001b[0m \u001b[1m0s\u001b[0m 10ms/step\n",
            "\u001b[1m6/6\u001b[0m \u001b[32m━━━━━━━━━━━━━━━━━━━━\u001b[0m\u001b[37m\u001b[0m \u001b[1m0s\u001b[0m 3ms/step - accuracy: 0.0025 - loss: 0.0115      \n"
          ]
        },
        {
          "output_type": "stream",
          "name": "stderr",
          "text": [
            "/usr/local/lib/python3.10/dist-packages/keras/src/layers/core/dense.py:87: UserWarning: Do not pass an `input_shape`/`input_dim` argument to a layer. When using Sequential models, prefer using an `Input(shape)` object as the first layer in the model instead.\n",
            "  super().__init__(activity_regularizer=activity_regularizer, **kwargs)\n"
          ]
        },
        {
          "output_type": "stream",
          "name": "stdout",
          "text": [
            "\u001b[1m6/6\u001b[0m \u001b[32m━━━━━━━━━━━━━━━━━━━━\u001b[0m\u001b[37m\u001b[0m \u001b[1m0s\u001b[0m 9ms/step \n",
            "\u001b[1m6/6\u001b[0m \u001b[32m━━━━━━━━━━━━━━━━━━━━\u001b[0m\u001b[37m\u001b[0m \u001b[1m0s\u001b[0m 3ms/step - accuracy: 0.0025 - loss: 0.0094      \n"
          ]
        },
        {
          "output_type": "stream",
          "name": "stderr",
          "text": [
            "/usr/local/lib/python3.10/dist-packages/keras/src/layers/core/dense.py:87: UserWarning: Do not pass an `input_shape`/`input_dim` argument to a layer. When using Sequential models, prefer using an `Input(shape)` object as the first layer in the model instead.\n",
            "  super().__init__(activity_regularizer=activity_regularizer, **kwargs)\n"
          ]
        },
        {
          "output_type": "stream",
          "name": "stdout",
          "text": [
            "\u001b[1m6/6\u001b[0m \u001b[32m━━━━━━━━━━━━━━━━━━━━\u001b[0m\u001b[37m\u001b[0m \u001b[1m0s\u001b[0m 7ms/step \n",
            "\u001b[1m6/6\u001b[0m \u001b[32m━━━━━━━━━━━━━━━━━━━━\u001b[0m\u001b[37m\u001b[0m \u001b[1m0s\u001b[0m 2ms/step - accuracy: 0.0025 - loss: 0.0098      \n"
          ]
        },
        {
          "output_type": "stream",
          "name": "stderr",
          "text": [
            "/usr/local/lib/python3.10/dist-packages/keras/src/layers/core/dense.py:87: UserWarning: Do not pass an `input_shape`/`input_dim` argument to a layer. When using Sequential models, prefer using an `Input(shape)` object as the first layer in the model instead.\n",
            "  super().__init__(activity_regularizer=activity_regularizer, **kwargs)\n"
          ]
        },
        {
          "output_type": "stream",
          "name": "stdout",
          "text": [
            "\u001b[1m6/6\u001b[0m \u001b[32m━━━━━━━━━━━━━━━━━━━━\u001b[0m\u001b[37m\u001b[0m \u001b[1m0s\u001b[0m 8ms/step \n",
            "\u001b[1m6/6\u001b[0m \u001b[32m━━━━━━━━━━━━━━━━━━━━\u001b[0m\u001b[37m\u001b[0m \u001b[1m0s\u001b[0m 3ms/step - accuracy: 0.0025 - loss: 0.0094      \n"
          ]
        },
        {
          "output_type": "stream",
          "name": "stderr",
          "text": [
            "/usr/local/lib/python3.10/dist-packages/keras/src/layers/core/dense.py:87: UserWarning: Do not pass an `input_shape`/`input_dim` argument to a layer. When using Sequential models, prefer using an `Input(shape)` object as the first layer in the model instead.\n",
            "  super().__init__(activity_regularizer=activity_regularizer, **kwargs)\n"
          ]
        },
        {
          "output_type": "stream",
          "name": "stdout",
          "text": [
            "\u001b[1m6/6\u001b[0m \u001b[32m━━━━━━━━━━━━━━━━━━━━\u001b[0m\u001b[37m\u001b[0m \u001b[1m0s\u001b[0m 7ms/step \n",
            "\u001b[1m6/6\u001b[0m \u001b[32m━━━━━━━━━━━━━━━━━━━━\u001b[0m\u001b[37m\u001b[0m \u001b[1m0s\u001b[0m 2ms/step - accuracy: 0.0025 - loss: 0.0095      \n"
          ]
        },
        {
          "output_type": "stream",
          "name": "stderr",
          "text": [
            "/usr/local/lib/python3.10/dist-packages/keras/src/layers/core/dense.py:87: UserWarning: Do not pass an `input_shape`/`input_dim` argument to a layer. When using Sequential models, prefer using an `Input(shape)` object as the first layer in the model instead.\n",
            "  super().__init__(activity_regularizer=activity_regularizer, **kwargs)\n"
          ]
        },
        {
          "output_type": "stream",
          "name": "stdout",
          "text": [
            "\u001b[1m6/6\u001b[0m \u001b[32m━━━━━━━━━━━━━━━━━━━━\u001b[0m\u001b[37m\u001b[0m \u001b[1m0s\u001b[0m 8ms/step \n",
            "\u001b[1m6/6\u001b[0m \u001b[32m━━━━━━━━━━━━━━━━━━━━\u001b[0m\u001b[37m\u001b[0m \u001b[1m0s\u001b[0m 2ms/step - accuracy: 0.0025 - loss: 0.0096      \n"
          ]
        },
        {
          "output_type": "stream",
          "name": "stderr",
          "text": [
            "/usr/local/lib/python3.10/dist-packages/keras/src/layers/core/dense.py:87: UserWarning: Do not pass an `input_shape`/`input_dim` argument to a layer. When using Sequential models, prefer using an `Input(shape)` object as the first layer in the model instead.\n",
            "  super().__init__(activity_regularizer=activity_regularizer, **kwargs)\n"
          ]
        },
        {
          "output_type": "stream",
          "name": "stdout",
          "text": [
            "\u001b[1m6/6\u001b[0m \u001b[32m━━━━━━━━━━━━━━━━━━━━\u001b[0m\u001b[37m\u001b[0m \u001b[1m0s\u001b[0m 9ms/step \n",
            "\u001b[1m6/6\u001b[0m \u001b[32m━━━━━━━━━━━━━━━━━━━━\u001b[0m\u001b[37m\u001b[0m \u001b[1m0s\u001b[0m 2ms/step - accuracy: 0.0025 - loss: 0.0095      \n"
          ]
        },
        {
          "output_type": "stream",
          "name": "stderr",
          "text": [
            "/usr/local/lib/python3.10/dist-packages/keras/src/layers/core/dense.py:87: UserWarning: Do not pass an `input_shape`/`input_dim` argument to a layer. When using Sequential models, prefer using an `Input(shape)` object as the first layer in the model instead.\n",
            "  super().__init__(activity_regularizer=activity_regularizer, **kwargs)\n"
          ]
        },
        {
          "output_type": "stream",
          "name": "stdout",
          "text": [
            "\u001b[1m6/6\u001b[0m \u001b[32m━━━━━━━━━━━━━━━━━━━━\u001b[0m\u001b[37m\u001b[0m \u001b[1m0s\u001b[0m 8ms/step \n",
            "\u001b[1m6/6\u001b[0m \u001b[32m━━━━━━━━━━━━━━━━━━━━\u001b[0m\u001b[37m\u001b[0m \u001b[1m0s\u001b[0m 3ms/step - accuracy: 0.0025 - loss: 0.0099      \n"
          ]
        },
        {
          "output_type": "stream",
          "name": "stderr",
          "text": [
            "/usr/local/lib/python3.10/dist-packages/keras/src/layers/core/dense.py:87: UserWarning: Do not pass an `input_shape`/`input_dim` argument to a layer. When using Sequential models, prefer using an `Input(shape)` object as the first layer in the model instead.\n",
            "  super().__init__(activity_regularizer=activity_regularizer, **kwargs)\n"
          ]
        },
        {
          "output_type": "stream",
          "name": "stdout",
          "text": [
            "\u001b[1m6/6\u001b[0m \u001b[32m━━━━━━━━━━━━━━━━━━━━\u001b[0m\u001b[37m\u001b[0m \u001b[1m0s\u001b[0m 7ms/step \n",
            "\u001b[1m6/6\u001b[0m \u001b[32m━━━━━━━━━━━━━━━━━━━━\u001b[0m\u001b[37m\u001b[0m \u001b[1m0s\u001b[0m 2ms/step - accuracy: 0.0025 - loss: 0.0100      \n"
          ]
        },
        {
          "output_type": "stream",
          "name": "stderr",
          "text": [
            "/usr/local/lib/python3.10/dist-packages/keras/src/layers/core/dense.py:87: UserWarning: Do not pass an `input_shape`/`input_dim` argument to a layer. When using Sequential models, prefer using an `Input(shape)` object as the first layer in the model instead.\n",
            "  super().__init__(activity_regularizer=activity_regularizer, **kwargs)\n"
          ]
        },
        {
          "output_type": "stream",
          "name": "stdout",
          "text": [
            "\u001b[1m6/6\u001b[0m \u001b[32m━━━━━━━━━━━━━━━━━━━━\u001b[0m\u001b[37m\u001b[0m \u001b[1m0s\u001b[0m 7ms/step \n",
            "\u001b[1m6/6\u001b[0m \u001b[32m━━━━━━━━━━━━━━━━━━━━\u001b[0m\u001b[37m\u001b[0m \u001b[1m0s\u001b[0m 3ms/step - accuracy: 0.0025 - loss: 0.0092      \n"
          ]
        },
        {
          "output_type": "stream",
          "name": "stderr",
          "text": [
            "/usr/local/lib/python3.10/dist-packages/keras/src/layers/core/dense.py:87: UserWarning: Do not pass an `input_shape`/`input_dim` argument to a layer. When using Sequential models, prefer using an `Input(shape)` object as the first layer in the model instead.\n",
            "  super().__init__(activity_regularizer=activity_regularizer, **kwargs)\n"
          ]
        },
        {
          "output_type": "stream",
          "name": "stdout",
          "text": [
            "\u001b[1m6/6\u001b[0m \u001b[32m━━━━━━━━━━━━━━━━━━━━\u001b[0m\u001b[37m\u001b[0m \u001b[1m0s\u001b[0m 7ms/step \n",
            "\u001b[1m6/6\u001b[0m \u001b[32m━━━━━━━━━━━━━━━━━━━━\u001b[0m\u001b[37m\u001b[0m \u001b[1m0s\u001b[0m 3ms/step - accuracy: 0.0025 - loss: 0.0093      \n"
          ]
        },
        {
          "output_type": "stream",
          "name": "stderr",
          "text": [
            "/usr/local/lib/python3.10/dist-packages/keras/src/layers/core/dense.py:87: UserWarning: Do not pass an `input_shape`/`input_dim` argument to a layer. When using Sequential models, prefer using an `Input(shape)` object as the first layer in the model instead.\n",
            "  super().__init__(activity_regularizer=activity_regularizer, **kwargs)\n"
          ]
        },
        {
          "output_type": "stream",
          "name": "stdout",
          "text": [
            "\u001b[1m6/6\u001b[0m \u001b[32m━━━━━━━━━━━━━━━━━━━━\u001b[0m\u001b[37m\u001b[0m \u001b[1m0s\u001b[0m 7ms/step \n",
            "\u001b[1m6/6\u001b[0m \u001b[32m━━━━━━━━━━━━━━━━━━━━\u001b[0m\u001b[37m\u001b[0m \u001b[1m0s\u001b[0m 2ms/step - accuracy: 0.0025 - loss: 0.0116      \n"
          ]
        },
        {
          "output_type": "stream",
          "name": "stderr",
          "text": [
            "/usr/local/lib/python3.10/dist-packages/keras/src/layers/core/dense.py:87: UserWarning: Do not pass an `input_shape`/`input_dim` argument to a layer. When using Sequential models, prefer using an `Input(shape)` object as the first layer in the model instead.\n",
            "  super().__init__(activity_regularizer=activity_regularizer, **kwargs)\n"
          ]
        },
        {
          "output_type": "stream",
          "name": "stdout",
          "text": [
            "\u001b[1m6/6\u001b[0m \u001b[32m━━━━━━━━━━━━━━━━━━━━\u001b[0m\u001b[37m\u001b[0m \u001b[1m0s\u001b[0m 7ms/step \n",
            "\u001b[1m6/6\u001b[0m \u001b[32m━━━━━━━━━━━━━━━━━━━━\u001b[0m\u001b[37m\u001b[0m \u001b[1m0s\u001b[0m 3ms/step - accuracy: 0.0025 - loss: 0.0094      \n"
          ]
        },
        {
          "output_type": "stream",
          "name": "stderr",
          "text": [
            "/usr/local/lib/python3.10/dist-packages/keras/src/layers/core/dense.py:87: UserWarning: Do not pass an `input_shape`/`input_dim` argument to a layer. When using Sequential models, prefer using an `Input(shape)` object as the first layer in the model instead.\n",
            "  super().__init__(activity_regularizer=activity_regularizer, **kwargs)\n"
          ]
        },
        {
          "output_type": "stream",
          "name": "stdout",
          "text": [
            "\u001b[1m6/6\u001b[0m \u001b[32m━━━━━━━━━━━━━━━━━━━━\u001b[0m\u001b[37m\u001b[0m \u001b[1m0s\u001b[0m 7ms/step \n",
            "\u001b[1m6/6\u001b[0m \u001b[32m━━━━━━━━━━━━━━━━━━━━\u001b[0m\u001b[37m\u001b[0m \u001b[1m0s\u001b[0m 2ms/step - accuracy: 0.0025 - loss: 0.0115      \n"
          ]
        },
        {
          "output_type": "stream",
          "name": "stderr",
          "text": [
            "/usr/local/lib/python3.10/dist-packages/keras/src/layers/core/dense.py:87: UserWarning: Do not pass an `input_shape`/`input_dim` argument to a layer. When using Sequential models, prefer using an `Input(shape)` object as the first layer in the model instead.\n",
            "  super().__init__(activity_regularizer=activity_regularizer, **kwargs)\n"
          ]
        },
        {
          "output_type": "stream",
          "name": "stdout",
          "text": [
            "\u001b[1m6/6\u001b[0m \u001b[32m━━━━━━━━━━━━━━━━━━━━\u001b[0m\u001b[37m\u001b[0m \u001b[1m0s\u001b[0m 11ms/step\n",
            "\u001b[1m6/6\u001b[0m \u001b[32m━━━━━━━━━━━━━━━━━━━━\u001b[0m\u001b[37m\u001b[0m \u001b[1m0s\u001b[0m 3ms/step - accuracy: 0.0025 - loss: 0.0104      \n"
          ]
        },
        {
          "output_type": "stream",
          "name": "stderr",
          "text": [
            "/usr/local/lib/python3.10/dist-packages/keras/src/layers/core/dense.py:87: UserWarning: Do not pass an `input_shape`/`input_dim` argument to a layer. When using Sequential models, prefer using an `Input(shape)` object as the first layer in the model instead.\n",
            "  super().__init__(activity_regularizer=activity_regularizer, **kwargs)\n"
          ]
        },
        {
          "output_type": "stream",
          "name": "stdout",
          "text": [
            "\u001b[1m6/6\u001b[0m \u001b[32m━━━━━━━━━━━━━━━━━━━━\u001b[0m\u001b[37m\u001b[0m \u001b[1m0s\u001b[0m 9ms/step \n",
            "\u001b[1m6/6\u001b[0m \u001b[32m━━━━━━━━━━━━━━━━━━━━\u001b[0m\u001b[37m\u001b[0m \u001b[1m0s\u001b[0m 3ms/step - accuracy: 0.0025 - loss: 0.0094      \n"
          ]
        },
        {
          "output_type": "stream",
          "name": "stderr",
          "text": [
            "/usr/local/lib/python3.10/dist-packages/keras/src/layers/core/dense.py:87: UserWarning: Do not pass an `input_shape`/`input_dim` argument to a layer. When using Sequential models, prefer using an `Input(shape)` object as the first layer in the model instead.\n",
            "  super().__init__(activity_regularizer=activity_regularizer, **kwargs)\n"
          ]
        },
        {
          "output_type": "stream",
          "name": "stdout",
          "text": [
            "\u001b[1m6/6\u001b[0m \u001b[32m━━━━━━━━━━━━━━━━━━━━\u001b[0m\u001b[37m\u001b[0m \u001b[1m0s\u001b[0m 9ms/step \n",
            "\u001b[1m6/6\u001b[0m \u001b[32m━━━━━━━━━━━━━━━━━━━━\u001b[0m\u001b[37m\u001b[0m \u001b[1m0s\u001b[0m 3ms/step - accuracy: 0.0025 - loss: 0.0091      \n"
          ]
        },
        {
          "output_type": "stream",
          "name": "stderr",
          "text": [
            "/usr/local/lib/python3.10/dist-packages/keras/src/layers/core/dense.py:87: UserWarning: Do not pass an `input_shape`/`input_dim` argument to a layer. When using Sequential models, prefer using an `Input(shape)` object as the first layer in the model instead.\n",
            "  super().__init__(activity_regularizer=activity_regularizer, **kwargs)\n"
          ]
        },
        {
          "output_type": "stream",
          "name": "stdout",
          "text": [
            "\u001b[1m6/6\u001b[0m \u001b[32m━━━━━━━━━━━━━━━━━━━━\u001b[0m\u001b[37m\u001b[0m \u001b[1m0s\u001b[0m 11ms/step\n",
            "\u001b[1m6/6\u001b[0m \u001b[32m━━━━━━━━━━━━━━━━━━━━\u001b[0m\u001b[37m\u001b[0m \u001b[1m0s\u001b[0m 3ms/step - accuracy: 0.0025 - loss: 0.0116      \n"
          ]
        },
        {
          "output_type": "stream",
          "name": "stderr",
          "text": [
            "/usr/local/lib/python3.10/dist-packages/keras/src/layers/core/dense.py:87: UserWarning: Do not pass an `input_shape`/`input_dim` argument to a layer. When using Sequential models, prefer using an `Input(shape)` object as the first layer in the model instead.\n",
            "  super().__init__(activity_regularizer=activity_regularizer, **kwargs)\n"
          ]
        },
        {
          "output_type": "stream",
          "name": "stdout",
          "text": [
            "\u001b[1m6/6\u001b[0m \u001b[32m━━━━━━━━━━━━━━━━━━━━\u001b[0m\u001b[37m\u001b[0m \u001b[1m0s\u001b[0m 9ms/step \n",
            "\u001b[1m6/6\u001b[0m \u001b[32m━━━━━━━━━━━━━━━━━━━━\u001b[0m\u001b[37m\u001b[0m \u001b[1m0s\u001b[0m 2ms/step - accuracy: 0.0025 - loss: 0.0100      \n"
          ]
        },
        {
          "output_type": "stream",
          "name": "stderr",
          "text": [
            "/usr/local/lib/python3.10/dist-packages/keras/src/layers/core/dense.py:87: UserWarning: Do not pass an `input_shape`/`input_dim` argument to a layer. When using Sequential models, prefer using an `Input(shape)` object as the first layer in the model instead.\n",
            "  super().__init__(activity_regularizer=activity_regularizer, **kwargs)\n"
          ]
        },
        {
          "output_type": "stream",
          "name": "stdout",
          "text": [
            "\u001b[1m6/6\u001b[0m \u001b[32m━━━━━━━━━━━━━━━━━━━━\u001b[0m\u001b[37m\u001b[0m \u001b[1m0s\u001b[0m 12ms/step\n",
            "\u001b[1m6/6\u001b[0m \u001b[32m━━━━━━━━━━━━━━━━━━━━\u001b[0m\u001b[37m\u001b[0m \u001b[1m0s\u001b[0m 3ms/step - accuracy: 0.0025 - loss: 0.0110      \n"
          ]
        },
        {
          "output_type": "stream",
          "name": "stderr",
          "text": [
            "/usr/local/lib/python3.10/dist-packages/keras/src/layers/core/dense.py:87: UserWarning: Do not pass an `input_shape`/`input_dim` argument to a layer. When using Sequential models, prefer using an `Input(shape)` object as the first layer in the model instead.\n",
            "  super().__init__(activity_regularizer=activity_regularizer, **kwargs)\n"
          ]
        },
        {
          "output_type": "stream",
          "name": "stdout",
          "text": [
            "\u001b[1m6/6\u001b[0m \u001b[32m━━━━━━━━━━━━━━━━━━━━\u001b[0m\u001b[37m\u001b[0m \u001b[1m0s\u001b[0m 9ms/step \n",
            "\u001b[1m6/6\u001b[0m \u001b[32m━━━━━━━━━━━━━━━━━━━━\u001b[0m\u001b[37m\u001b[0m \u001b[1m0s\u001b[0m 3ms/step - accuracy: 0.0025 - loss: 0.0098      \n"
          ]
        },
        {
          "output_type": "stream",
          "name": "stderr",
          "text": [
            "/usr/local/lib/python3.10/dist-packages/keras/src/layers/core/dense.py:87: UserWarning: Do not pass an `input_shape`/`input_dim` argument to a layer. When using Sequential models, prefer using an `Input(shape)` object as the first layer in the model instead.\n",
            "  super().__init__(activity_regularizer=activity_regularizer, **kwargs)\n"
          ]
        },
        {
          "output_type": "stream",
          "name": "stdout",
          "text": [
            "\u001b[1m6/6\u001b[0m \u001b[32m━━━━━━━━━━━━━━━━━━━━\u001b[0m\u001b[37m\u001b[0m \u001b[1m0s\u001b[0m 9ms/step \n",
            "\u001b[1m6/6\u001b[0m \u001b[32m━━━━━━━━━━━━━━━━━━━━\u001b[0m\u001b[37m\u001b[0m \u001b[1m0s\u001b[0m 5ms/step - accuracy: 0.0025 - loss: 0.0091      \n"
          ]
        },
        {
          "output_type": "stream",
          "name": "stderr",
          "text": [
            "/usr/local/lib/python3.10/dist-packages/keras/src/layers/core/dense.py:87: UserWarning: Do not pass an `input_shape`/`input_dim` argument to a layer. When using Sequential models, prefer using an `Input(shape)` object as the first layer in the model instead.\n",
            "  super().__init__(activity_regularizer=activity_regularizer, **kwargs)\n"
          ]
        },
        {
          "output_type": "stream",
          "name": "stdout",
          "text": [
            "\u001b[1m6/6\u001b[0m \u001b[32m━━━━━━━━━━━━━━━━━━━━\u001b[0m\u001b[37m\u001b[0m \u001b[1m0s\u001b[0m 9ms/step \n",
            "\u001b[1m6/6\u001b[0m \u001b[32m━━━━━━━━━━━━━━━━━━━━\u001b[0m\u001b[37m\u001b[0m \u001b[1m0s\u001b[0m 3ms/step - accuracy: 0.0025 - loss: 0.0093      \n"
          ]
        },
        {
          "output_type": "stream",
          "name": "stderr",
          "text": [
            "/usr/local/lib/python3.10/dist-packages/keras/src/layers/core/dense.py:87: UserWarning: Do not pass an `input_shape`/`input_dim` argument to a layer. When using Sequential models, prefer using an `Input(shape)` object as the first layer in the model instead.\n",
            "  super().__init__(activity_regularizer=activity_regularizer, **kwargs)\n"
          ]
        },
        {
          "output_type": "stream",
          "name": "stdout",
          "text": [
            "\u001b[1m6/6\u001b[0m \u001b[32m━━━━━━━━━━━━━━━━━━━━\u001b[0m\u001b[37m\u001b[0m \u001b[1m0s\u001b[0m 9ms/step \n",
            "\u001b[1m6/6\u001b[0m \u001b[32m━━━━━━━━━━━━━━━━━━━━\u001b[0m\u001b[37m\u001b[0m \u001b[1m0s\u001b[0m 3ms/step - accuracy: 0.0025 - loss: 0.0177      \n"
          ]
        },
        {
          "output_type": "stream",
          "name": "stderr",
          "text": [
            "/usr/local/lib/python3.10/dist-packages/keras/src/layers/core/dense.py:87: UserWarning: Do not pass an `input_shape`/`input_dim` argument to a layer. When using Sequential models, prefer using an `Input(shape)` object as the first layer in the model instead.\n",
            "  super().__init__(activity_regularizer=activity_regularizer, **kwargs)\n"
          ]
        },
        {
          "output_type": "stream",
          "name": "stdout",
          "text": [
            "\u001b[1m6/6\u001b[0m \u001b[32m━━━━━━━━━━━━━━━━━━━━\u001b[0m\u001b[37m\u001b[0m \u001b[1m0s\u001b[0m 9ms/step \n",
            "\u001b[1m6/6\u001b[0m \u001b[32m━━━━━━━━━━━━━━━━━━━━\u001b[0m\u001b[37m\u001b[0m \u001b[1m0s\u001b[0m 3ms/step - accuracy: 0.0025 - loss: 0.0098      \n"
          ]
        },
        {
          "output_type": "stream",
          "name": "stderr",
          "text": [
            "/usr/local/lib/python3.10/dist-packages/keras/src/layers/core/dense.py:87: UserWarning: Do not pass an `input_shape`/`input_dim` argument to a layer. When using Sequential models, prefer using an `Input(shape)` object as the first layer in the model instead.\n",
            "  super().__init__(activity_regularizer=activity_regularizer, **kwargs)\n"
          ]
        },
        {
          "output_type": "stream",
          "name": "stdout",
          "text": [
            "\u001b[1m6/6\u001b[0m \u001b[32m━━━━━━━━━━━━━━━━━━━━\u001b[0m\u001b[37m\u001b[0m \u001b[1m0s\u001b[0m 18ms/step\n",
            "\u001b[1m6/6\u001b[0m \u001b[32m━━━━━━━━━━━━━━━━━━━━\u001b[0m\u001b[37m\u001b[0m \u001b[1m0s\u001b[0m 3ms/step - accuracy: 0.0025 - loss: 0.0107      \n"
          ]
        },
        {
          "output_type": "stream",
          "name": "stderr",
          "text": [
            "/usr/local/lib/python3.10/dist-packages/keras/src/layers/core/dense.py:87: UserWarning: Do not pass an `input_shape`/`input_dim` argument to a layer. When using Sequential models, prefer using an `Input(shape)` object as the first layer in the model instead.\n",
            "  super().__init__(activity_regularizer=activity_regularizer, **kwargs)\n"
          ]
        },
        {
          "output_type": "stream",
          "name": "stdout",
          "text": [
            "\u001b[1m6/6\u001b[0m \u001b[32m━━━━━━━━━━━━━━━━━━━━\u001b[0m\u001b[37m\u001b[0m \u001b[1m0s\u001b[0m 7ms/step \n",
            "\u001b[1m6/6\u001b[0m \u001b[32m━━━━━━━━━━━━━━━━━━━━\u001b[0m\u001b[37m\u001b[0m \u001b[1m0s\u001b[0m 3ms/step - accuracy: 0.0025 - loss: 0.0115      \n"
          ]
        },
        {
          "output_type": "stream",
          "name": "stderr",
          "text": [
            "/usr/local/lib/python3.10/dist-packages/keras/src/layers/core/dense.py:87: UserWarning: Do not pass an `input_shape`/`input_dim` argument to a layer. When using Sequential models, prefer using an `Input(shape)` object as the first layer in the model instead.\n",
            "  super().__init__(activity_regularizer=activity_regularizer, **kwargs)\n"
          ]
        },
        {
          "output_type": "stream",
          "name": "stdout",
          "text": [
            "\u001b[1m6/6\u001b[0m \u001b[32m━━━━━━━━━━━━━━━━━━━━\u001b[0m\u001b[37m\u001b[0m \u001b[1m0s\u001b[0m 7ms/step \n",
            "\u001b[1m6/6\u001b[0m \u001b[32m━━━━━━━━━━━━━━━━━━━━\u001b[0m\u001b[37m\u001b[0m \u001b[1m0s\u001b[0m 3ms/step - accuracy: 0.0025 - loss: 0.0105      \n"
          ]
        },
        {
          "output_type": "stream",
          "name": "stderr",
          "text": [
            "/usr/local/lib/python3.10/dist-packages/keras/src/layers/core/dense.py:87: UserWarning: Do not pass an `input_shape`/`input_dim` argument to a layer. When using Sequential models, prefer using an `Input(shape)` object as the first layer in the model instead.\n",
            "  super().__init__(activity_regularizer=activity_regularizer, **kwargs)\n"
          ]
        },
        {
          "output_type": "stream",
          "name": "stdout",
          "text": [
            "\u001b[1m6/6\u001b[0m \u001b[32m━━━━━━━━━━━━━━━━━━━━\u001b[0m\u001b[37m\u001b[0m \u001b[1m0s\u001b[0m 7ms/step \n",
            "\u001b[1m6/6\u001b[0m \u001b[32m━━━━━━━━━━━━━━━━━━━━\u001b[0m\u001b[37m\u001b[0m \u001b[1m0s\u001b[0m 2ms/step - accuracy: 0.0025 - loss: 0.0096      \n"
          ]
        },
        {
          "output_type": "stream",
          "name": "stderr",
          "text": [
            "/usr/local/lib/python3.10/dist-packages/keras/src/layers/core/dense.py:87: UserWarning: Do not pass an `input_shape`/`input_dim` argument to a layer. When using Sequential models, prefer using an `Input(shape)` object as the first layer in the model instead.\n",
            "  super().__init__(activity_regularizer=activity_regularizer, **kwargs)\n"
          ]
        },
        {
          "output_type": "stream",
          "name": "stdout",
          "text": [
            "\u001b[1m6/6\u001b[0m \u001b[32m━━━━━━━━━━━━━━━━━━━━\u001b[0m\u001b[37m\u001b[0m \u001b[1m0s\u001b[0m 7ms/step \n",
            "\u001b[1m6/6\u001b[0m \u001b[32m━━━━━━━━━━━━━━━━━━━━\u001b[0m\u001b[37m\u001b[0m \u001b[1m0s\u001b[0m 3ms/step - accuracy: 0.0025 - loss: 0.0134      \n"
          ]
        },
        {
          "output_type": "stream",
          "name": "stderr",
          "text": [
            "/usr/local/lib/python3.10/dist-packages/keras/src/layers/core/dense.py:87: UserWarning: Do not pass an `input_shape`/`input_dim` argument to a layer. When using Sequential models, prefer using an `Input(shape)` object as the first layer in the model instead.\n",
            "  super().__init__(activity_regularizer=activity_regularizer, **kwargs)\n"
          ]
        },
        {
          "output_type": "stream",
          "name": "stdout",
          "text": [
            "\u001b[1m6/6\u001b[0m \u001b[32m━━━━━━━━━━━━━━━━━━━━\u001b[0m\u001b[37m\u001b[0m \u001b[1m0s\u001b[0m 9ms/step \n",
            "\u001b[1m6/6\u001b[0m \u001b[32m━━━━━━━━━━━━━━━━━━━━\u001b[0m\u001b[37m\u001b[0m \u001b[1m0s\u001b[0m 4ms/step - accuracy: 0.0025 - loss: 0.0125      \n"
          ]
        },
        {
          "output_type": "stream",
          "name": "stderr",
          "text": [
            "/usr/local/lib/python3.10/dist-packages/keras/src/layers/core/dense.py:87: UserWarning: Do not pass an `input_shape`/`input_dim` argument to a layer. When using Sequential models, prefer using an `Input(shape)` object as the first layer in the model instead.\n",
            "  super().__init__(activity_regularizer=activity_regularizer, **kwargs)\n"
          ]
        },
        {
          "output_type": "stream",
          "name": "stdout",
          "text": [
            "\u001b[1m6/6\u001b[0m \u001b[32m━━━━━━━━━━━━━━━━━━━━\u001b[0m\u001b[37m\u001b[0m \u001b[1m0s\u001b[0m 9ms/step \n",
            "\u001b[1m6/6\u001b[0m \u001b[32m━━━━━━━━━━━━━━━━━━━━\u001b[0m\u001b[37m\u001b[0m \u001b[1m0s\u001b[0m 3ms/step - accuracy: 0.0025 - loss: 0.0103      \n"
          ]
        },
        {
          "output_type": "stream",
          "name": "stderr",
          "text": [
            "/usr/local/lib/python3.10/dist-packages/keras/src/layers/core/dense.py:87: UserWarning: Do not pass an `input_shape`/`input_dim` argument to a layer. When using Sequential models, prefer using an `Input(shape)` object as the first layer in the model instead.\n",
            "  super().__init__(activity_regularizer=activity_regularizer, **kwargs)\n"
          ]
        },
        {
          "output_type": "stream",
          "name": "stdout",
          "text": [
            "\u001b[1m6/6\u001b[0m \u001b[32m━━━━━━━━━━━━━━━━━━━━\u001b[0m\u001b[37m\u001b[0m \u001b[1m0s\u001b[0m 7ms/step \n",
            "\u001b[1m6/6\u001b[0m \u001b[32m━━━━━━━━━━━━━━━━━━━━\u001b[0m\u001b[37m\u001b[0m \u001b[1m0s\u001b[0m 2ms/step - accuracy: 0.0025 - loss: 0.0094      \n"
          ]
        },
        {
          "output_type": "stream",
          "name": "stderr",
          "text": [
            "/usr/local/lib/python3.10/dist-packages/keras/src/layers/core/dense.py:87: UserWarning: Do not pass an `input_shape`/`input_dim` argument to a layer. When using Sequential models, prefer using an `Input(shape)` object as the first layer in the model instead.\n",
            "  super().__init__(activity_regularizer=activity_regularizer, **kwargs)\n"
          ]
        },
        {
          "output_type": "stream",
          "name": "stdout",
          "text": [
            "\u001b[1m6/6\u001b[0m \u001b[32m━━━━━━━━━━━━━━━━━━━━\u001b[0m\u001b[37m\u001b[0m \u001b[1m0s\u001b[0m 8ms/step \n",
            "\u001b[1m6/6\u001b[0m \u001b[32m━━━━━━━━━━━━━━━━━━━━\u001b[0m\u001b[37m\u001b[0m \u001b[1m0s\u001b[0m 3ms/step - accuracy: 0.0025 - loss: 0.0091      \n"
          ]
        },
        {
          "output_type": "stream",
          "name": "stderr",
          "text": [
            "/usr/local/lib/python3.10/dist-packages/keras/src/layers/core/dense.py:87: UserWarning: Do not pass an `input_shape`/`input_dim` argument to a layer. When using Sequential models, prefer using an `Input(shape)` object as the first layer in the model instead.\n",
            "  super().__init__(activity_regularizer=activity_regularizer, **kwargs)\n"
          ]
        },
        {
          "output_type": "stream",
          "name": "stdout",
          "text": [
            "\u001b[1m6/6\u001b[0m \u001b[32m━━━━━━━━━━━━━━━━━━━━\u001b[0m\u001b[37m\u001b[0m \u001b[1m0s\u001b[0m 12ms/step\n",
            "\u001b[1m6/6\u001b[0m \u001b[32m━━━━━━━━━━━━━━━━━━━━\u001b[0m\u001b[37m\u001b[0m \u001b[1m0s\u001b[0m 5ms/step - accuracy: 0.0025 - loss: 0.0095      \n"
          ]
        },
        {
          "output_type": "stream",
          "name": "stderr",
          "text": [
            "/usr/local/lib/python3.10/dist-packages/keras/src/layers/core/dense.py:87: UserWarning: Do not pass an `input_shape`/`input_dim` argument to a layer. When using Sequential models, prefer using an `Input(shape)` object as the first layer in the model instead.\n",
            "  super().__init__(activity_regularizer=activity_regularizer, **kwargs)\n"
          ]
        },
        {
          "output_type": "stream",
          "name": "stdout",
          "text": [
            "\u001b[1m6/6\u001b[0m \u001b[32m━━━━━━━━━━━━━━━━━━━━\u001b[0m\u001b[37m\u001b[0m \u001b[1m0s\u001b[0m 8ms/step \n",
            "\u001b[1m6/6\u001b[0m \u001b[32m━━━━━━━━━━━━━━━━━━━━\u001b[0m\u001b[37m\u001b[0m \u001b[1m0s\u001b[0m 3ms/step - accuracy: 0.0025 - loss: 0.0148      \n"
          ]
        },
        {
          "output_type": "stream",
          "name": "stderr",
          "text": [
            "/usr/local/lib/python3.10/dist-packages/keras/src/layers/core/dense.py:87: UserWarning: Do not pass an `input_shape`/`input_dim` argument to a layer. When using Sequential models, prefer using an `Input(shape)` object as the first layer in the model instead.\n",
            "  super().__init__(activity_regularizer=activity_regularizer, **kwargs)\n"
          ]
        },
        {
          "output_type": "stream",
          "name": "stdout",
          "text": [
            "\u001b[1m6/6\u001b[0m \u001b[32m━━━━━━━━━━━━━━━━━━━━\u001b[0m\u001b[37m\u001b[0m \u001b[1m0s\u001b[0m 8ms/step \n",
            "\u001b[1m6/6\u001b[0m \u001b[32m━━━━━━━━━━━━━━━━━━━━\u001b[0m\u001b[37m\u001b[0m \u001b[1m0s\u001b[0m 2ms/step - accuracy: 0.0025 - loss: 0.0140      \n"
          ]
        },
        {
          "output_type": "stream",
          "name": "stderr",
          "text": [
            "/usr/local/lib/python3.10/dist-packages/keras/src/layers/core/dense.py:87: UserWarning: Do not pass an `input_shape`/`input_dim` argument to a layer. When using Sequential models, prefer using an `Input(shape)` object as the first layer in the model instead.\n",
            "  super().__init__(activity_regularizer=activity_regularizer, **kwargs)\n"
          ]
        },
        {
          "output_type": "stream",
          "name": "stdout",
          "text": [
            "\u001b[1m6/6\u001b[0m \u001b[32m━━━━━━━━━━━━━━━━━━━━\u001b[0m\u001b[37m\u001b[0m \u001b[1m0s\u001b[0m 8ms/step \n",
            "\u001b[1m6/6\u001b[0m \u001b[32m━━━━━━━━━━━━━━━━━━━━\u001b[0m\u001b[37m\u001b[0m \u001b[1m0s\u001b[0m 3ms/step - accuracy: 0.0025 - loss: 0.0105      \n"
          ]
        },
        {
          "output_type": "stream",
          "name": "stderr",
          "text": [
            "/usr/local/lib/python3.10/dist-packages/keras/src/layers/core/dense.py:87: UserWarning: Do not pass an `input_shape`/`input_dim` argument to a layer. When using Sequential models, prefer using an `Input(shape)` object as the first layer in the model instead.\n",
            "  super().__init__(activity_regularizer=activity_regularizer, **kwargs)\n"
          ]
        },
        {
          "output_type": "stream",
          "name": "stdout",
          "text": [
            "\u001b[1m6/6\u001b[0m \u001b[32m━━━━━━━━━━━━━━━━━━━━\u001b[0m\u001b[37m\u001b[0m \u001b[1m0s\u001b[0m 16ms/step\n",
            "\u001b[1m6/6\u001b[0m \u001b[32m━━━━━━━━━━━━━━━━━━━━\u001b[0m\u001b[37m\u001b[0m \u001b[1m0s\u001b[0m 4ms/step - accuracy: 0.0025 - loss: 0.0089      \n"
          ]
        },
        {
          "output_type": "stream",
          "name": "stderr",
          "text": [
            "/usr/local/lib/python3.10/dist-packages/keras/src/layers/core/dense.py:87: UserWarning: Do not pass an `input_shape`/`input_dim` argument to a layer. When using Sequential models, prefer using an `Input(shape)` object as the first layer in the model instead.\n",
            "  super().__init__(activity_regularizer=activity_regularizer, **kwargs)\n"
          ]
        },
        {
          "output_type": "stream",
          "name": "stdout",
          "text": [
            "\u001b[1m6/6\u001b[0m \u001b[32m━━━━━━━━━━━━━━━━━━━━\u001b[0m\u001b[37m\u001b[0m \u001b[1m0s\u001b[0m 9ms/step \n",
            "\u001b[1m6/6\u001b[0m \u001b[32m━━━━━━━━━━━━━━━━━━━━\u001b[0m\u001b[37m\u001b[0m \u001b[1m0s\u001b[0m 3ms/step - accuracy: 0.0025 - loss: 0.0096      \n"
          ]
        },
        {
          "output_type": "stream",
          "name": "stderr",
          "text": [
            "/usr/local/lib/python3.10/dist-packages/keras/src/layers/core/dense.py:87: UserWarning: Do not pass an `input_shape`/`input_dim` argument to a layer. When using Sequential models, prefer using an `Input(shape)` object as the first layer in the model instead.\n",
            "  super().__init__(activity_regularizer=activity_regularizer, **kwargs)\n"
          ]
        },
        {
          "output_type": "stream",
          "name": "stdout",
          "text": [
            "\u001b[1m6/6\u001b[0m \u001b[32m━━━━━━━━━━━━━━━━━━━━\u001b[0m\u001b[37m\u001b[0m \u001b[1m0s\u001b[0m 9ms/step \n",
            "\u001b[1m6/6\u001b[0m \u001b[32m━━━━━━━━━━━━━━━━━━━━\u001b[0m\u001b[37m\u001b[0m \u001b[1m0s\u001b[0m 3ms/step - accuracy: 0.0025 - loss: 0.0097      \n"
          ]
        },
        {
          "output_type": "stream",
          "name": "stderr",
          "text": [
            "/usr/local/lib/python3.10/dist-packages/keras/src/layers/core/dense.py:87: UserWarning: Do not pass an `input_shape`/`input_dim` argument to a layer. When using Sequential models, prefer using an `Input(shape)` object as the first layer in the model instead.\n",
            "  super().__init__(activity_regularizer=activity_regularizer, **kwargs)\n"
          ]
        },
        {
          "output_type": "stream",
          "name": "stdout",
          "text": [
            "\u001b[1m6/6\u001b[0m \u001b[32m━━━━━━━━━━━━━━━━━━━━\u001b[0m\u001b[37m\u001b[0m \u001b[1m0s\u001b[0m 9ms/step \n",
            "\u001b[1m6/6\u001b[0m \u001b[32m━━━━━━━━━━━━━━━━━━━━\u001b[0m\u001b[37m\u001b[0m \u001b[1m0s\u001b[0m 3ms/step - accuracy: 0.0000e+00 - loss: 0.0209  \n"
          ]
        },
        {
          "output_type": "stream",
          "name": "stderr",
          "text": [
            "/usr/local/lib/python3.10/dist-packages/keras/src/layers/core/dense.py:87: UserWarning: Do not pass an `input_shape`/`input_dim` argument to a layer. When using Sequential models, prefer using an `Input(shape)` object as the first layer in the model instead.\n",
            "  super().__init__(activity_regularizer=activity_regularizer, **kwargs)\n"
          ]
        },
        {
          "output_type": "stream",
          "name": "stdout",
          "text": [
            "\u001b[1m6/6\u001b[0m \u001b[32m━━━━━━━━━━━━━━━━━━━━\u001b[0m\u001b[37m\u001b[0m \u001b[1m0s\u001b[0m 15ms/step\n",
            "\u001b[1m6/6\u001b[0m \u001b[32m━━━━━━━━━━━━━━━━━━━━\u001b[0m\u001b[37m\u001b[0m \u001b[1m0s\u001b[0m 3ms/step - accuracy: 0.0000e+00 - loss: 0.0200  \n"
          ]
        },
        {
          "output_type": "stream",
          "name": "stderr",
          "text": [
            "/usr/local/lib/python3.10/dist-packages/keras/src/layers/core/dense.py:87: UserWarning: Do not pass an `input_shape`/`input_dim` argument to a layer. When using Sequential models, prefer using an `Input(shape)` object as the first layer in the model instead.\n",
            "  super().__init__(activity_regularizer=activity_regularizer, **kwargs)\n"
          ]
        },
        {
          "output_type": "stream",
          "name": "stdout",
          "text": [
            "\u001b[1m6/6\u001b[0m \u001b[32m━━━━━━━━━━━━━━━━━━━━\u001b[0m\u001b[37m\u001b[0m \u001b[1m0s\u001b[0m 9ms/step \n",
            "\u001b[1m6/6\u001b[0m \u001b[32m━━━━━━━━━━━━━━━━━━━━\u001b[0m\u001b[37m\u001b[0m \u001b[1m0s\u001b[0m 4ms/step - accuracy: 0.0000e+00 - loss: 0.0199  \n"
          ]
        },
        {
          "output_type": "stream",
          "name": "stderr",
          "text": [
            "/usr/local/lib/python3.10/dist-packages/keras/src/layers/core/dense.py:87: UserWarning: Do not pass an `input_shape`/`input_dim` argument to a layer. When using Sequential models, prefer using an `Input(shape)` object as the first layer in the model instead.\n",
            "  super().__init__(activity_regularizer=activity_regularizer, **kwargs)\n"
          ]
        },
        {
          "output_type": "stream",
          "name": "stdout",
          "text": [
            "\u001b[1m6/6\u001b[0m \u001b[32m━━━━━━━━━━━━━━━━━━━━\u001b[0m\u001b[37m\u001b[0m \u001b[1m0s\u001b[0m 9ms/step \n",
            "\u001b[1m6/6\u001b[0m \u001b[32m━━━━━━━━━━━━━━━━━━━━\u001b[0m\u001b[37m\u001b[0m \u001b[1m0s\u001b[0m 3ms/step - accuracy: 0.0025 - loss: 0.0093      \n"
          ]
        },
        {
          "output_type": "stream",
          "name": "stderr",
          "text": [
            "/usr/local/lib/python3.10/dist-packages/keras/src/layers/core/dense.py:87: UserWarning: Do not pass an `input_shape`/`input_dim` argument to a layer. When using Sequential models, prefer using an `Input(shape)` object as the first layer in the model instead.\n",
            "  super().__init__(activity_regularizer=activity_regularizer, **kwargs)\n"
          ]
        },
        {
          "output_type": "stream",
          "name": "stdout",
          "text": [
            "\u001b[1m6/6\u001b[0m \u001b[32m━━━━━━━━━━━━━━━━━━━━\u001b[0m\u001b[37m\u001b[0m \u001b[1m0s\u001b[0m 9ms/step \n",
            "\u001b[1m6/6\u001b[0m \u001b[32m━━━━━━━━━━━━━━━━━━━━\u001b[0m\u001b[37m\u001b[0m \u001b[1m0s\u001b[0m 3ms/step - accuracy: 0.0025 - loss: 0.0091      \n"
          ]
        },
        {
          "output_type": "stream",
          "name": "stderr",
          "text": [
            "/usr/local/lib/python3.10/dist-packages/keras/src/layers/core/dense.py:87: UserWarning: Do not pass an `input_shape`/`input_dim` argument to a layer. When using Sequential models, prefer using an `Input(shape)` object as the first layer in the model instead.\n",
            "  super().__init__(activity_regularizer=activity_regularizer, **kwargs)\n"
          ]
        },
        {
          "output_type": "stream",
          "name": "stdout",
          "text": [
            "\u001b[1m6/6\u001b[0m \u001b[32m━━━━━━━━━━━━━━━━━━━━\u001b[0m\u001b[37m\u001b[0m \u001b[1m0s\u001b[0m 9ms/step \n",
            "\u001b[1m6/6\u001b[0m \u001b[32m━━━━━━━━━━━━━━━━━━━━\u001b[0m\u001b[37m\u001b[0m \u001b[1m0s\u001b[0m 5ms/step - accuracy: 0.0025 - loss: 0.0093      \n"
          ]
        },
        {
          "output_type": "stream",
          "name": "stderr",
          "text": [
            "/usr/local/lib/python3.10/dist-packages/keras/src/layers/core/dense.py:87: UserWarning: Do not pass an `input_shape`/`input_dim` argument to a layer. When using Sequential models, prefer using an `Input(shape)` object as the first layer in the model instead.\n",
            "  super().__init__(activity_regularizer=activity_regularizer, **kwargs)\n"
          ]
        },
        {
          "output_type": "stream",
          "name": "stdout",
          "text": [
            "\u001b[1m6/6\u001b[0m \u001b[32m━━━━━━━━━━━━━━━━━━━━\u001b[0m\u001b[37m\u001b[0m \u001b[1m0s\u001b[0m 9ms/step \n",
            "\u001b[1m6/6\u001b[0m \u001b[32m━━━━━━━━━━━━━━━━━━━━\u001b[0m\u001b[37m\u001b[0m \u001b[1m0s\u001b[0m 3ms/step - accuracy: 0.0000e+00 - loss: 0.0196  \n"
          ]
        },
        {
          "output_type": "stream",
          "name": "stderr",
          "text": [
            "/usr/local/lib/python3.10/dist-packages/keras/src/layers/core/dense.py:87: UserWarning: Do not pass an `input_shape`/`input_dim` argument to a layer. When using Sequential models, prefer using an `Input(shape)` object as the first layer in the model instead.\n",
            "  super().__init__(activity_regularizer=activity_regularizer, **kwargs)\n"
          ]
        },
        {
          "output_type": "stream",
          "name": "stdout",
          "text": [
            "\u001b[1m6/6\u001b[0m \u001b[32m━━━━━━━━━━━━━━━━━━━━\u001b[0m\u001b[37m\u001b[0m \u001b[1m0s\u001b[0m 9ms/step \n",
            "\u001b[1m6/6\u001b[0m \u001b[32m━━━━━━━━━━━━━━━━━━━━\u001b[0m\u001b[37m\u001b[0m \u001b[1m0s\u001b[0m 3ms/step - accuracy: 0.0000e+00 - loss: 0.0185  \n"
          ]
        },
        {
          "output_type": "stream",
          "name": "stderr",
          "text": [
            "/usr/local/lib/python3.10/dist-packages/keras/src/layers/core/dense.py:87: UserWarning: Do not pass an `input_shape`/`input_dim` argument to a layer. When using Sequential models, prefer using an `Input(shape)` object as the first layer in the model instead.\n",
            "  super().__init__(activity_regularizer=activity_regularizer, **kwargs)\n"
          ]
        },
        {
          "output_type": "stream",
          "name": "stdout",
          "text": [
            "\u001b[1m6/6\u001b[0m \u001b[32m━━━━━━━━━━━━━━━━━━━━\u001b[0m\u001b[37m\u001b[0m \u001b[1m0s\u001b[0m 9ms/step \n",
            "\u001b[1m6/6\u001b[0m \u001b[32m━━━━━━━━━━━━━━━━━━━━\u001b[0m\u001b[37m\u001b[0m \u001b[1m0s\u001b[0m 3ms/step - accuracy: 0.0000e+00 - loss: 0.0207  \n",
            "Tabla Resumen de Resultados:\n",
            "   Optimizer Hidden Layer Sizes Activation  Epochs  Accuracy  R2 Score  \\\n",
            "0       adam              (32,)       relu      20  0.005464  0.643365   \n",
            "6       adam              (64,)       relu      20  0.005464  0.639634   \n",
            "31   rmsprop              (64,)       relu      30  0.005464  0.637946   \n",
            "38   rmsprop           (32, 32)       relu      40  0.005464  0.636312   \n",
            "14      adam           (32, 32)       relu      40  0.005464  0.632987   \n",
            "19      adam           (64, 32)       relu      30  0.005464  0.632798   \n",
            "3       adam              (32,)    sigmoid      20  0.005464  0.631490   \n",
            "5       adam              (32,)    sigmoid      40  0.005464  0.631242   \n",
            "13      adam           (32, 32)       relu      30  0.005464  0.629575   \n",
            "28   rmsprop              (32,)    sigmoid      30  0.005464  0.629123   \n",
            "\n",
            "         MSE  \n",
            "0   0.008299  \n",
            "6   0.008386  \n",
            "31  0.008425  \n",
            "38  0.008463  \n",
            "14  0.008541  \n",
            "19  0.008545  \n",
            "3   0.008575  \n",
            "5   0.008581  \n",
            "13  0.008620  \n",
            "28  0.008631  \n"
          ]
        }
      ]
    }
  ],
  "metadata": {
    "kernelspec": {
      "display_name": "testi2",
      "language": "python",
      "name": "testi2"
    },
    "language_info": {
      "codemirror_mode": {
        "name": "ipython",
        "version": 3
      },
      "file_extension": ".py",
      "mimetype": "text/x-python",
      "name": "python",
      "nbconvert_exporter": "python",
      "pygments_lexer": "ipython3",
      "version": "3.11.5"
    },
    "colab": {
      "provenance": []
    }
  },
  "nbformat": 4,
  "nbformat_minor": 0
}